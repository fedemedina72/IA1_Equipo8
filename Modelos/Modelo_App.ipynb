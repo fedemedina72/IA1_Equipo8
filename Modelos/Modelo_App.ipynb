{
  "cells": [
    {
      "cell_type": "code",
      "execution_count": null,
      "metadata": {
        "id": "pBJpmczamLWs"
      },
      "outputs": [],
      "source": [
        "import pandas as pd\n",
        "import numpy as np\n",
        "from lightgbm import LGBMClassifier\n",
        "\n",
        "# Evaluación\n",
        "from sklearn.model_selection import train_test_split"
      ]
    },
    {
      "cell_type": "code",
      "execution_count": null,
      "metadata": {
        "id": "ikvECLu6ua34"
      },
      "outputs": [],
      "source": [
        "# Base de datos de entrenamiento\n",
        "df = pd.read_csv('Train.csv')\n",
        "test = pd.read_csv('Test.csv')\n",
        "\n",
        "# Sest de entrenamiento y validación\n",
        "X_train, X_val, y_train, y_val = train_test_split(df.drop(\"Survived\", axis = 1),\n",
        "                                                  df.Survived, test_size=0.34, random_state=42)\n",
        "\n",
        "y_test = np.array(test.Survived)\n",
        "X_test = test.drop('Survived', axis = 1)"
      ]
    },
    {
      "cell_type": "code",
      "execution_count": null,
      "metadata": {
        "id": "0ktZNkgmmjfN"
      },
      "outputs": [],
      "source": [
        "# Base de datos de entrenamiento\n",
        "df = pd.read_csv('/content/Train.csv')\n",
        "test = pd.read_csv('/content/Test.csv')\n",
        "\n",
        "# Sest de entrenamiento y validación\n",
        "X_train, X_val, y_train, y_val = train_test_split(df.drop(\"Survived\", axis = 1),\n",
        "                                                  df.Survived, test_size=0.34, random_state=42)\n",
        "\n",
        "y_test = np.array(test.Survived)\n",
        "X_test = test.drop('Survived', axis = 1)"
      ]
    },
    {
      "cell_type": "code",
      "execution_count": null,
      "metadata": {
        "id": "t8oc6mX3m1pt"
      },
      "outputs": [],
      "source": [
        "model = LGBMClassifier(n_estimators=60, max_depth=3, num_leaves=int(np.ceil(2**3*0.6)),\n",
        "                               boosting_type='gbdt', learning_rate=0.51, force_row_wise=True, verbose = -1)\n",
        "model.fit(X_train, y_train) # entrenamiento\n",
        "\n",
        "# Predicciones\n",
        "y_pred = model.predict(X_test)"
      ]
    },
    {
      "cell_type": "markdown",
      "metadata": {
        "id": "Z8QbKLKSpZPr"
      },
      "source": [
        "## Conexión"
      ]
    },
    {
      "cell_type": "code",
      "execution_count": null,
      "metadata": {
        "colab": {
          "base_uri": "https://localhost:8080/"
        },
        "id": "IJXwQwpHpa_1",
        "outputId": "29b88243-7edd-4a01-af9b-222e83a286ec"
      },
      "outputs": [
        {
          "name": "stdout",
          "output_type": "stream",
          "text": [
            "Collecting flask-ngrok\n",
            "  Downloading flask_ngrok-0.0.25-py3-none-any.whl (3.1 kB)\n",
            "Requirement already satisfied: Flask>=0.8 in /usr/local/lib/python3.10/dist-packages (from flask-ngrok) (2.2.5)\n",
            "Requirement already satisfied: requests in /usr/local/lib/python3.10/dist-packages (from flask-ngrok) (2.31.0)\n",
            "Requirement already satisfied: Werkzeug>=2.2.2 in /usr/local/lib/python3.10/dist-packages (from Flask>=0.8->flask-ngrok) (2.3.7)\n",
            "Requirement already satisfied: Jinja2>=3.0 in /usr/local/lib/python3.10/dist-packages (from Flask>=0.8->flask-ngrok) (3.1.2)\n",
            "Requirement already satisfied: itsdangerous>=2.0 in /usr/local/lib/python3.10/dist-packages (from Flask>=0.8->flask-ngrok) (2.1.2)\n",
            "Requirement already satisfied: click>=8.0 in /usr/local/lib/python3.10/dist-packages (from Flask>=0.8->flask-ngrok) (8.1.7)\n",
            "Requirement already satisfied: charset-normalizer<4,>=2 in /usr/local/lib/python3.10/dist-packages (from requests->flask-ngrok) (3.2.0)\n",
            "Requirement already satisfied: idna<4,>=2.5 in /usr/local/lib/python3.10/dist-packages (from requests->flask-ngrok) (3.4)\n",
            "Requirement already satisfied: urllib3<3,>=1.21.1 in /usr/local/lib/python3.10/dist-packages (from requests->flask-ngrok) (2.0.4)\n",
            "Requirement already satisfied: certifi>=2017.4.17 in /usr/local/lib/python3.10/dist-packages (from requests->flask-ngrok) (2023.7.22)\n",
            "Requirement already satisfied: MarkupSafe>=2.0 in /usr/local/lib/python3.10/dist-packages (from Jinja2>=3.0->Flask>=0.8->flask-ngrok) (2.1.3)\n",
            "Installing collected packages: flask-ngrok\n",
            "Successfully installed flask-ngrok-0.0.25\n"
          ]
        }
      ],
      "source": [
        "!pip install flask-ngrok"
      ]
    },
    {
      "cell_type": "code",
      "execution_count": null,
      "metadata": {
        "id": "HewrCbdlp1gz"
      },
      "outputs": [],
      "source": [
        "# Ejemplo para poner en el link, No survived\n",
        "# /3/0/23.0/0/0/9.22/0/0"
      ]
    },
    {
      "cell_type": "code",
      "execution_count": null,
      "metadata": {
        "colab": {
          "base_uri": "https://localhost:8080/"
        },
        "id": "0cvoXzP4rFfb",
        "outputId": "32639d41-cfd2-458e-9979-868d82625fd9"
      },
      "outputs": [
        {
          "name": "stdout",
          "output_type": "stream",
          "text": [
            "/drive/ngrok-ssh\n",
            "--2023-09-10 02:06:20--  https://bin.equinox.io/c/4VmDzA7iaHb/ngrok-stable-linux-amd64.zip\n",
            "Resolving bin.equinox.io (bin.equinox.io)... 18.205.222.128, 52.202.168.65, 54.161.241.46, ...\n",
            "Connecting to bin.equinox.io (bin.equinox.io)|18.205.222.128|:443... connected.\n",
            "HTTP request sent, awaiting response... 200 OK\n",
            "Length: 13921656 (13M) [application/octet-stream]\n",
            "Saving to: ‘ngrok-stable-linux-amd64.zip’\n",
            "\n",
            "ngrok-stable-linux- 100%[===================>]  13.28M  55.8MB/s    in 0.2s    \n",
            "\n",
            "2023-09-10 02:06:20 (55.8 MB/s) - ‘ngrok-stable-linux-amd64.zip’ saved [13921656/13921656]\n",
            "\n",
            "Archive:  ngrok-stable-linux-amd64.zip\n",
            "  inflating: ngrok                   \n",
            "Authtoken saved to configuration file: /root/.ngrok2/ngrok.yml\n"
          ]
        }
      ],
      "source": [
        "'''\n",
        "Lo saqué de este link por si algo no llega a funcionar\n",
        "https://colab.research.google.com/github/shawwn/colab-tricks/blob/master/ngrok-tricks.ipynb#scrollTo=UvBwXHZ5jQ1w\n",
        "\n",
        "'''\n",
        "!mkdir -p /drive/ngrok-ssh\n",
        "%cd /drive/ngrok-ssh\n",
        "!wget https://bin.equinox.io/c/4VmDzA7iaHb/ngrok-stable-linux-amd64.zip -O ngrok-stable-linux-amd64.zip\n",
        "!unzip -u ngrok-stable-linux-amd64.zip\n",
        "!cp /drive/ngrok-ssh/ngrok /ngrok\n",
        "!chmod +x /ngrok\n",
        "\n",
        "!/ngrok authtoken 2VAmn2cRfkpdZZ6RbibQhnr25sw_xaRCUdoufQ9Gjkc59PPR # La cosa larga del final es el authtoken"
      ]
    },
    {
      "cell_type": "code",
      "execution_count": null,
      "metadata": {
        "colab": {
          "background_save": true,
          "base_uri": "https://localhost:8080/"
        },
        "id": "ibgKkFUTpjKA",
        "outputId": "47b706ac-c1b5-4225-8fc0-52f5665a87c3"
      },
      "outputs": [
        {
          "name": "stdout",
          "output_type": "stream",
          "text": [
            " * Serving Flask app '__main__'\n",
            " * Debug mode: off\n"
          ]
        },
        {
          "name": "stderr",
          "output_type": "stream",
          "text": [
            "INFO:werkzeug:\u001b[31m\u001b[1mWARNING: This is a development server. Do not use it in a production deployment. Use a production WSGI server instead.\u001b[0m\n",
            " * Running on http://127.0.0.1:5000\n",
            "INFO:werkzeug:\u001b[33mPress CTRL+C to quit\u001b[0m\n"
          ]
        },
        {
          "name": "stdout",
          "output_type": "stream",
          "text": [
            " * Running on http://8d7c-35-243-225-74.ngrok-free.app\n",
            " * Traffic stats available on http://127.0.0.1:4040\n"
          ]
        },
        {
          "name": "stderr",
          "output_type": "stream",
          "text": [
            "INFO:werkzeug:127.0.0.1 - - [10/Sep/2023 02:10:16] \"GET /3/0/23.0/0/0/9.22/0/0 HTTP/1.1\" 200 -\n",
            "INFO:werkzeug:127.0.0.1 - - [10/Sep/2023 02:10:18] \"GET /3/0/23.0/0/0/9.22/0/0 HTTP/1.1\" 200 -\n",
            "INFO:werkzeug:127.0.0.1 - - [10/Sep/2023 02:10:18] \"GET /3/0/23.0/0/0/9.22/0/0 HTTP/1.1\" 200 -\n",
            "INFO:werkzeug:127.0.0.1 - - [10/Sep/2023 02:10:35] \"\u001b[33mGET / HTTP/1.1\u001b[0m\" 404 -\n",
            "INFO:werkzeug:127.0.0.1 - - [10/Sep/2023 02:10:35] \"\u001b[33mGET /favicon.ico HTTP/1.1\u001b[0m\" 404 -\n",
            "INFO:werkzeug:127.0.0.1 - - [10/Sep/2023 02:10:44] \"GET /3/0/23.0/0/0/9.22/0/0 HTTP/1.1\" 200 -\n",
            "INFO:werkzeug:127.0.0.1 - - [10/Sep/2023 02:11:40] \"GET /3/0/23.0/0/0/9.22/0/0 HTTP/1.1\" 200 -\n",
            "INFO:werkzeug:127.0.0.1 - - [10/Sep/2023 02:13:36] \"GET /3/0/23.0/0/0/9.22/0/0 HTTP/1.1\" 200 -\n",
            "INFO:werkzeug:127.0.0.1 - - [10/Sep/2023 02:17:22] \"GET /3/0/23.0/0/0/9.22/0/0 HTTP/1.1\" 200 -\n",
            "INFO:werkzeug:127.0.0.1 - - [10/Sep/2023 02:18:26] \"GET /3/0/23.0/0/0/9.22/0/0 HTTP/1.1\" 200 -\n",
            "INFO:werkzeug:127.0.0.1 - - [10/Sep/2023 02:18:42] \"GET /3/0/23.0/0/0/9.22/0/0 HTTP/1.1\" 200 -\n",
            "INFO:werkzeug:127.0.0.1 - - [10/Sep/2023 02:19:43] \"GET /3/0/23.0/0/0/9.22/0/0 HTTP/1.1\" 200 -\n",
            "INFO:werkzeug:127.0.0.1 - - [10/Sep/2023 02:20:15] \"GET /3/0/23.0/0/0/9.22/0/0 HTTP/1.1\" 200 -\n",
            "INFO:werkzeug:127.0.0.1 - - [10/Sep/2023 02:21:22] \"\u001b[33mGET / HTTP/1.1\u001b[0m\" 404 -\n",
            "INFO:werkzeug:127.0.0.1 - - [10/Sep/2023 02:22:38] \"\u001b[33mGET / HTTP/1.1\u001b[0m\" 404 -\n",
            "INFO:werkzeug:127.0.0.1 - - [10/Sep/2023 02:22:50] \"\u001b[33mGET / HTTP/1.1\u001b[0m\" 404 -\n",
            "INFO:werkzeug:127.0.0.1 - - [10/Sep/2023 02:22:55] \"\u001b[33mGET / HTTP/1.1\u001b[0m\" 404 -\n",
            "INFO:werkzeug:127.0.0.1 - - [10/Sep/2023 02:24:07] \"\u001b[33mGET / HTTP/1.1\u001b[0m\" 404 -\n",
            "INFO:werkzeug:127.0.0.1 - - [10/Sep/2023 02:24:21] \"\u001b[33mGET /1/1/1/1/1/1/1/1 HTTP/1.1\u001b[0m\" 404 -\n",
            "INFO:werkzeug:127.0.0.1 - - [10/Sep/2023 02:24:23] \"\u001b[33mGET /1/1/1/1/1/1/1/1 HTTP/1.1\u001b[0m\" 404 -\n",
            "INFO:werkzeug:127.0.0.1 - - [10/Sep/2023 02:24:32] \"GET /1/1/1.0/1/1/1.0/1/1 HTTP/1.1\" 200 -\n",
            "INFO:werkzeug:127.0.0.1 - - [10/Sep/2023 02:27:59] \"GET /1/1/1.0/1/1/1.0/1/1 HTTP/1.1\" 200 -\n"
          ]
        }
      ],
      "source": [
        "'''\n",
        "Se copia el 2do URL de Running on\n",
        "'''\n",
        "from flask_ngrok import run_with_ngrok\n",
        "from flask import Flask, jsonify\n",
        "app = Flask(__name__)\n",
        "run_with_ngrok(app)\n",
        "@app.route(\"/<int:Pclass>/<int:Sex>/<float:Age>/<int:SibSp>/<int:Parch>/<float:Fare>/<int:Embarked>/<int:Title>\")\n",
        "\n",
        "def pred(Pclass, Sex, Age, SibSp, Parch, Fare, Embarked, Title):\n",
        "  p = [Pclass, Sex, Age, SibSp, Parch, Fare, Embarked, Title]\n",
        "  pred = model.predict([p])\n",
        "  if pred == [1]:\n",
        "    result = {'result':'Survived'}\n",
        "  else:\n",
        "    result = {'result':'No Survived'}\n",
        "  return result\n",
        "app.run()"
      ]
    }
  ],
  "metadata": {
    "colab": {
      "provenance": []
    },
    "kernelspec": {
      "display_name": "Python 3",
      "name": "python3"
    },
    "language_info": {
      "name": "python"
    }
  },
  "nbformat": 4,
  "nbformat_minor": 0
}