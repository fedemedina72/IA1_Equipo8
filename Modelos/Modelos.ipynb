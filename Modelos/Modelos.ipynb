{
  "cells": [
    {
      "cell_type": "markdown",
      "metadata": {
        "id": "XUwW5bQ6dAJQ"
      },
      "source": [
        "# Selección, configuración y entrenamiento del modelo\n",
        "En el entregable se implementarán diversos modelos de clasificación para el dataset de [*Titanic - Machine Learning from Disaster*](https://www.kaggle.com/competitions/titanic/submissions), obtenido de la plataforma Kaggle"
      ]
    },
    {
      "cell_type": "markdown",
      "metadata": {
        "id": "NrmnY-wORKB6"
      },
      "source": [
        "# Librerías"
      ]
    },
    {
      "cell_type": "code",
      "execution_count": null,
      "metadata": {
        "id": "oWCs5RvtFt_r"
      },
      "outputs": [],
      "source": [
        "!pip install pycaret"
      ]
    },
    {
      "cell_type": "code",
      "execution_count": null,
      "metadata": {
        "id": "YJ_qI3MVF1xa"
      },
      "outputs": [],
      "source": [
        "import pandas as pd\n",
        "import numpy as np\n",
        "import warnings\n",
        "warnings.filterwarnings(\"ignore\")\n",
        "\n",
        "# Modelos\n",
        "from lightgbm import LGBMClassifier\n",
        "import pycaret\n",
        "from pycaret.regression import *\n",
        "from pycaret.clustering import *\n",
        "from pycaret.classification import *\n",
        "\n",
        "# Evaluación\n",
        "from sklearn.metrics import accuracy_score\n",
        "from sklearn.metrics import precision_score\n",
        "from sklearn.metrics import recall_score\n",
        "from sklearn.metrics import f1_score\n",
        "\n",
        "# Gráficas\n",
        "import matplotlib.pyplot as plt\n",
        "from sklearn.metrics import confusion_matrix, ConfusionMatrixDisplay"
      ]
    },
    {
      "cell_type": "markdown",
      "metadata": {
        "id": "8ANWro84S9Ng"
      },
      "source": [
        "# Bases de datos"
      ]
    },
    {
      "cell_type": "code",
      "execution_count": null,
      "metadata": {
        "id": "1NTEonZkF6eq"
      },
      "outputs": [],
      "source": [
        "# Base de datos de entrenamiento\n",
        "train = pd.read_csv('Train_limpia.csv')\n",
        "train.drop('Unnamed: 0', axis = 1, inplace = True)\n",
        "\n",
        "# Sest de entrenamiento\n",
        "x_train = train.drop(\"Survived\", axis = 1)\n",
        "y_train = train[\"Survived\"]\n",
        "\n",
        "train.drop('Survived', axis = 1, inplace = True)"
      ]
    },
    {
      "cell_type": "code",
      "execution_count": null,
      "metadata": {
        "id": "44lClhdLR5pt"
      },
      "outputs": [],
      "source": [
        "# Base de datos para prueba sin clasificaciones\n",
        "test = pd.read_csv('Test_limpia.csv')\n",
        "\n",
        "# Instancia con valor nulo de edad\n",
        "r, _ = np.where(test.isna())\n",
        "test = test.dropna(axis=0,how = \"any\")"
      ]
    },
    {
      "cell_type": "code",
      "execution_count": null,
      "metadata": {
        "colab": {
          "base_uri": "https://localhost:8080/"
        },
        "id": "1zXDyMC0bNNb",
        "outputId": "9d5f096c-0335-4838-9026-c9b23fa91162"
      },
      "outputs": [
        {
          "name": "stdout",
          "output_type": "stream",
          "text": [
            "<class 'pandas.core.frame.DataFrame'>\n",
            "Int64Index: 417 entries, 0 to 417\n",
            "Data columns (total 2 columns):\n",
            " #   Column       Non-Null Count  Dtype\n",
            "---  ------       --------------  -----\n",
            " 0   PassengerId  417 non-null    int64\n",
            " 1   Survived     417 non-null    int64\n",
            "dtypes: int64(2)\n",
            "memory usage: 9.8 KB\n"
          ]
        }
      ],
      "source": [
        "# Clasificaciones de la base de datos de prueba\n",
        "y_test = pd.read_csv('submission_test.csv')\n",
        "y_test = y_test.drop(r[0]) # valor nulo de edad\n",
        "y_test.info()\n",
        "y_test = np.array(y_test.Survived)"
      ]
    },
    {
      "cell_type": "markdown",
      "metadata": {
        "id": "kUkANXEARTO9"
      },
      "source": [
        "# Pycaret"
      ]
    },
    {
      "cell_type": "markdown",
      "metadata": {
        "id": "nQ_GnWa9pW0X"
      },
      "source": [
        "En esta sección se hará uso de la librería de Pycaret para tener una visualización general de los resultados dependiendo de los diferentes modelos de clasificación. A partir de estos resultados, se hará la selección de modelos y experimentación para la mejora de las métricas. Cabe recalcar que estos modelos son entrenados y evaluados con el dataset de entrenamiento, por lo que se tienen menos datos para esto y los hiperparámetros encontrados puedan tener valores muy elevados que pueden llevar a un overfitting."
      ]
    },
    {
      "cell_type": "markdown",
      "metadata": {
        "id": "LsSdtgglRMlq"
      },
      "source": [
        "## Pycaret todas variables"
      ]
    },
    {
      "cell_type": "markdown",
      "metadata": {
        "id": "ZkpfgOm_p6MU"
      },
      "source": [
        "Nuestra variable objetivo es Survived y es binaria, en total se tienen 9 características y 889 instancias, donde el 70% se destinó al  training set y 30% para el set de prueba."
      ]
    },
    {
      "cell_type": "code",
      "execution_count": null,
      "metadata": {
        "colab": {
          "base_uri": "https://localhost:8080/",
          "height": 638
        },
        "id": "AtdDU1uhGdQg",
        "outputId": "ab792685-12d2-413a-af2c-b68be4e1a73b"
      },
      "outputs": [
        {
          "data": {
            "text/html": [
              "<style type=\"text/css\">\n",
              "#T_0f6b0_row8_col1 {\n",
              "  background-color: lightgreen;\n",
              "}\n",
              "</style>\n",
              "<table id=\"T_0f6b0\" class=\"dataframe\">\n",
              "  <thead>\n",
              "    <tr>\n",
              "      <th class=\"blank level0\" >&nbsp;</th>\n",
              "      <th id=\"T_0f6b0_level0_col0\" class=\"col_heading level0 col0\" >Description</th>\n",
              "      <th id=\"T_0f6b0_level0_col1\" class=\"col_heading level0 col1\" >Value</th>\n",
              "    </tr>\n",
              "  </thead>\n",
              "  <tbody>\n",
              "    <tr>\n",
              "      <th id=\"T_0f6b0_level0_row0\" class=\"row_heading level0 row0\" >0</th>\n",
              "      <td id=\"T_0f6b0_row0_col0\" class=\"data row0 col0\" >Session id</td>\n",
              "      <td id=\"T_0f6b0_row0_col1\" class=\"data row0 col1\" >123</td>\n",
              "    </tr>\n",
              "    <tr>\n",
              "      <th id=\"T_0f6b0_level0_row1\" class=\"row_heading level0 row1\" >1</th>\n",
              "      <td id=\"T_0f6b0_row1_col0\" class=\"data row1 col0\" >Target</td>\n",
              "      <td id=\"T_0f6b0_row1_col1\" class=\"data row1 col1\" >Survived</td>\n",
              "    </tr>\n",
              "    <tr>\n",
              "      <th id=\"T_0f6b0_level0_row2\" class=\"row_heading level0 row2\" >2</th>\n",
              "      <td id=\"T_0f6b0_row2_col0\" class=\"data row2 col0\" >Target type</td>\n",
              "      <td id=\"T_0f6b0_row2_col1\" class=\"data row2 col1\" >Binary</td>\n",
              "    </tr>\n",
              "    <tr>\n",
              "      <th id=\"T_0f6b0_level0_row3\" class=\"row_heading level0 row3\" >3</th>\n",
              "      <td id=\"T_0f6b0_row3_col0\" class=\"data row3 col0\" >Original data shape</td>\n",
              "      <td id=\"T_0f6b0_row3_col1\" class=\"data row3 col1\" >(889, 9)</td>\n",
              "    </tr>\n",
              "    <tr>\n",
              "      <th id=\"T_0f6b0_level0_row4\" class=\"row_heading level0 row4\" >4</th>\n",
              "      <td id=\"T_0f6b0_row4_col0\" class=\"data row4 col0\" >Transformed data shape</td>\n",
              "      <td id=\"T_0f6b0_row4_col1\" class=\"data row4 col1\" >(889, 9)</td>\n",
              "    </tr>\n",
              "    <tr>\n",
              "      <th id=\"T_0f6b0_level0_row5\" class=\"row_heading level0 row5\" >5</th>\n",
              "      <td id=\"T_0f6b0_row5_col0\" class=\"data row5 col0\" >Transformed train set shape</td>\n",
              "      <td id=\"T_0f6b0_row5_col1\" class=\"data row5 col1\" >(622, 9)</td>\n",
              "    </tr>\n",
              "    <tr>\n",
              "      <th id=\"T_0f6b0_level0_row6\" class=\"row_heading level0 row6\" >6</th>\n",
              "      <td id=\"T_0f6b0_row6_col0\" class=\"data row6 col0\" >Transformed test set shape</td>\n",
              "      <td id=\"T_0f6b0_row6_col1\" class=\"data row6 col1\" >(267, 9)</td>\n",
              "    </tr>\n",
              "    <tr>\n",
              "      <th id=\"T_0f6b0_level0_row7\" class=\"row_heading level0 row7\" >7</th>\n",
              "      <td id=\"T_0f6b0_row7_col0\" class=\"data row7 col0\" >Numeric features</td>\n",
              "      <td id=\"T_0f6b0_row7_col1\" class=\"data row7 col1\" >8</td>\n",
              "    </tr>\n",
              "    <tr>\n",
              "      <th id=\"T_0f6b0_level0_row8\" class=\"row_heading level0 row8\" >8</th>\n",
              "      <td id=\"T_0f6b0_row8_col0\" class=\"data row8 col0\" >Preprocess</td>\n",
              "      <td id=\"T_0f6b0_row8_col1\" class=\"data row8 col1\" >True</td>\n",
              "    </tr>\n",
              "    <tr>\n",
              "      <th id=\"T_0f6b0_level0_row9\" class=\"row_heading level0 row9\" >9</th>\n",
              "      <td id=\"T_0f6b0_row9_col0\" class=\"data row9 col0\" >Imputation type</td>\n",
              "      <td id=\"T_0f6b0_row9_col1\" class=\"data row9 col1\" >simple</td>\n",
              "    </tr>\n",
              "    <tr>\n",
              "      <th id=\"T_0f6b0_level0_row10\" class=\"row_heading level0 row10\" >10</th>\n",
              "      <td id=\"T_0f6b0_row10_col0\" class=\"data row10 col0\" >Numeric imputation</td>\n",
              "      <td id=\"T_0f6b0_row10_col1\" class=\"data row10 col1\" >mean</td>\n",
              "    </tr>\n",
              "    <tr>\n",
              "      <th id=\"T_0f6b0_level0_row11\" class=\"row_heading level0 row11\" >11</th>\n",
              "      <td id=\"T_0f6b0_row11_col0\" class=\"data row11 col0\" >Categorical imputation</td>\n",
              "      <td id=\"T_0f6b0_row11_col1\" class=\"data row11 col1\" >mode</td>\n",
              "    </tr>\n",
              "    <tr>\n",
              "      <th id=\"T_0f6b0_level0_row12\" class=\"row_heading level0 row12\" >12</th>\n",
              "      <td id=\"T_0f6b0_row12_col0\" class=\"data row12 col0\" >Fold Generator</td>\n",
              "      <td id=\"T_0f6b0_row12_col1\" class=\"data row12 col1\" >StratifiedKFold</td>\n",
              "    </tr>\n",
              "    <tr>\n",
              "      <th id=\"T_0f6b0_level0_row13\" class=\"row_heading level0 row13\" >13</th>\n",
              "      <td id=\"T_0f6b0_row13_col0\" class=\"data row13 col0\" >Fold Number</td>\n",
              "      <td id=\"T_0f6b0_row13_col1\" class=\"data row13 col1\" >10</td>\n",
              "    </tr>\n",
              "    <tr>\n",
              "      <th id=\"T_0f6b0_level0_row14\" class=\"row_heading level0 row14\" >14</th>\n",
              "      <td id=\"T_0f6b0_row14_col0\" class=\"data row14 col0\" >CPU Jobs</td>\n",
              "      <td id=\"T_0f6b0_row14_col1\" class=\"data row14 col1\" >-1</td>\n",
              "    </tr>\n",
              "    <tr>\n",
              "      <th id=\"T_0f6b0_level0_row15\" class=\"row_heading level0 row15\" >15</th>\n",
              "      <td id=\"T_0f6b0_row15_col0\" class=\"data row15 col0\" >Use GPU</td>\n",
              "      <td id=\"T_0f6b0_row15_col1\" class=\"data row15 col1\" >False</td>\n",
              "    </tr>\n",
              "    <tr>\n",
              "      <th id=\"T_0f6b0_level0_row16\" class=\"row_heading level0 row16\" >16</th>\n",
              "      <td id=\"T_0f6b0_row16_col0\" class=\"data row16 col0\" >Log Experiment</td>\n",
              "      <td id=\"T_0f6b0_row16_col1\" class=\"data row16 col1\" >False</td>\n",
              "    </tr>\n",
              "    <tr>\n",
              "      <th id=\"T_0f6b0_level0_row17\" class=\"row_heading level0 row17\" >17</th>\n",
              "      <td id=\"T_0f6b0_row17_col0\" class=\"data row17 col0\" >Experiment Name</td>\n",
              "      <td id=\"T_0f6b0_row17_col1\" class=\"data row17 col1\" >clf-default-name</td>\n",
              "    </tr>\n",
              "    <tr>\n",
              "      <th id=\"T_0f6b0_level0_row18\" class=\"row_heading level0 row18\" >18</th>\n",
              "      <td id=\"T_0f6b0_row18_col0\" class=\"data row18 col0\" >USI</td>\n",
              "      <td id=\"T_0f6b0_row18_col1\" class=\"data row18 col1\" >9a6d</td>\n",
              "    </tr>\n",
              "  </tbody>\n",
              "</table>\n"
            ],
            "text/plain": [
              "<pandas.io.formats.style.Styler at 0x7f32cac12b00>"
            ]
          },
          "metadata": {},
          "output_type": "display_data"
        }
      ],
      "source": [
        "# Iniciar setup, se ingresa la base de datos de entrenamiento\n",
        "s = setup(df, target = 'Survived', session_id = 123)"
      ]
    },
    {
      "cell_type": "markdown",
      "metadata": {
        "id": "VIJyYNhHqgmZ"
      },
      "source": [
        "En la siguiente tabla se observan los modelos de clasificación con mejor rendimiento en distintas métricas. Los primeros 3 pertenecen al grupo de modelos *Gradient Boosting* y el 4to es el *random forest*, estos modelos están basados en *decision trees*, sin embargo, la forma de integración es diferente en cada uno."
      ]
    },
    {
      "cell_type": "code",
      "execution_count": null,
      "metadata": {
        "colab": {
          "base_uri": "https://localhost:8080/",
          "height": 514,
          "referenced_widgets": [
            "818e8b14a66c4c2db3eba4710a5f9812",
            "22f6b9a88ebe4a48a0ba4eaaaea242fc",
            "16987919166b4df9b79b1ae931243db3",
            "6114d2bf70b149eeb74940da62cab56d",
            "3f83c739ecf04df593425f177306633b",
            "99e3179a7d9d4d3c98c42258bb81cd37",
            "c29ce574fda44bfb868e658f5b702b3d",
            "e5d7146cad0e46909bf4983564e99180",
            "146fa5f4f5fa4977a155958a70f32569",
            "67d1a79f9a3c458b9fae6d4f8ed345e9",
            "465bfde9bd354672ba0a69af506b79e6"
          ]
        },
        "id": "S1nOOR0SHAVf",
        "outputId": "84efde34-0d13-4c5c-fc94-268f3c06f30c"
      },
      "outputs": [
        {
          "data": {
            "text/html": [],
            "text/plain": [
              "<IPython.core.display.HTML object>"
            ]
          },
          "metadata": {},
          "output_type": "display_data"
        },
        {
          "data": {
            "text/html": [
              "<style type=\"text/css\">\n",
              "#T_0dff9 th {\n",
              "  text-align: left;\n",
              "}\n",
              "#T_0dff9_row0_col0, #T_0dff9_row0_col2, #T_0dff9_row0_col3, #T_0dff9_row1_col0, #T_0dff9_row1_col1, #T_0dff9_row1_col2, #T_0dff9_row1_col3, #T_0dff9_row1_col4, #T_0dff9_row1_col5, #T_0dff9_row1_col6, #T_0dff9_row1_col7, #T_0dff9_row2_col0, #T_0dff9_row2_col1, #T_0dff9_row2_col3, #T_0dff9_row2_col4, #T_0dff9_row2_col5, #T_0dff9_row2_col6, #T_0dff9_row2_col7, #T_0dff9_row3_col0, #T_0dff9_row3_col1, #T_0dff9_row3_col2, #T_0dff9_row3_col3, #T_0dff9_row3_col4, #T_0dff9_row3_col5, #T_0dff9_row3_col6, #T_0dff9_row3_col7, #T_0dff9_row4_col0, #T_0dff9_row4_col1, #T_0dff9_row4_col2, #T_0dff9_row4_col3, #T_0dff9_row4_col4, #T_0dff9_row4_col5, #T_0dff9_row4_col6, #T_0dff9_row4_col7, #T_0dff9_row5_col0, #T_0dff9_row5_col1, #T_0dff9_row5_col2, #T_0dff9_row5_col3, #T_0dff9_row5_col4, #T_0dff9_row5_col5, #T_0dff9_row5_col6, #T_0dff9_row5_col7, #T_0dff9_row6_col0, #T_0dff9_row6_col1, #T_0dff9_row6_col2, #T_0dff9_row6_col3, #T_0dff9_row6_col4, #T_0dff9_row6_col5, #T_0dff9_row6_col6, #T_0dff9_row6_col7, #T_0dff9_row7_col0, #T_0dff9_row7_col1, #T_0dff9_row7_col2, #T_0dff9_row7_col3, #T_0dff9_row7_col4, #T_0dff9_row7_col5, #T_0dff9_row7_col6, #T_0dff9_row7_col7, #T_0dff9_row8_col0, #T_0dff9_row8_col1, #T_0dff9_row8_col2, #T_0dff9_row8_col3, #T_0dff9_row8_col4, #T_0dff9_row8_col5, #T_0dff9_row8_col6, #T_0dff9_row8_col7, #T_0dff9_row9_col0, #T_0dff9_row9_col1, #T_0dff9_row9_col2, #T_0dff9_row9_col3, #T_0dff9_row9_col4, #T_0dff9_row9_col5, #T_0dff9_row9_col6, #T_0dff9_row9_col7, #T_0dff9_row10_col0, #T_0dff9_row10_col1, #T_0dff9_row10_col2, #T_0dff9_row10_col3, #T_0dff9_row10_col4, #T_0dff9_row10_col5, #T_0dff9_row10_col6, #T_0dff9_row10_col7, #T_0dff9_row11_col0, #T_0dff9_row11_col1, #T_0dff9_row11_col2, #T_0dff9_row11_col3, #T_0dff9_row11_col4, #T_0dff9_row11_col5, #T_0dff9_row11_col6, #T_0dff9_row11_col7, #T_0dff9_row12_col0, #T_0dff9_row12_col1, #T_0dff9_row12_col2, #T_0dff9_row12_col3, #T_0dff9_row12_col4, #T_0dff9_row12_col5, #T_0dff9_row12_col6, #T_0dff9_row12_col7, #T_0dff9_row13_col0, #T_0dff9_row13_col1, #T_0dff9_row13_col2, #T_0dff9_row13_col4, #T_0dff9_row13_col5, #T_0dff9_row13_col6, #T_0dff9_row13_col7, #T_0dff9_row14_col0, #T_0dff9_row14_col1, #T_0dff9_row14_col2, #T_0dff9_row14_col3, #T_0dff9_row14_col4, #T_0dff9_row14_col5, #T_0dff9_row14_col6, #T_0dff9_row14_col7 {\n",
              "  text-align: left;\n",
              "}\n",
              "#T_0dff9_row0_col1, #T_0dff9_row0_col4, #T_0dff9_row0_col5, #T_0dff9_row0_col6, #T_0dff9_row0_col7, #T_0dff9_row2_col2, #T_0dff9_row13_col3 {\n",
              "  text-align: left;\n",
              "  background-color: yellow;\n",
              "}\n",
              "#T_0dff9_row0_col8, #T_0dff9_row1_col8, #T_0dff9_row2_col8, #T_0dff9_row3_col8, #T_0dff9_row4_col8, #T_0dff9_row5_col8, #T_0dff9_row6_col8, #T_0dff9_row7_col8, #T_0dff9_row9_col8, #T_0dff9_row10_col8, #T_0dff9_row11_col8, #T_0dff9_row12_col8, #T_0dff9_row13_col8, #T_0dff9_row14_col8 {\n",
              "  text-align: left;\n",
              "  background-color: lightgrey;\n",
              "}\n",
              "#T_0dff9_row8_col8 {\n",
              "  text-align: left;\n",
              "  background-color: yellow;\n",
              "  background-color: lightgrey;\n",
              "}\n",
              "</style>\n",
              "<table id=\"T_0dff9\" class=\"dataframe\">\n",
              "  <thead>\n",
              "    <tr>\n",
              "      <th class=\"blank level0\" >&nbsp;</th>\n",
              "      <th id=\"T_0dff9_level0_col0\" class=\"col_heading level0 col0\" >Model</th>\n",
              "      <th id=\"T_0dff9_level0_col1\" class=\"col_heading level0 col1\" >Accuracy</th>\n",
              "      <th id=\"T_0dff9_level0_col2\" class=\"col_heading level0 col2\" >AUC</th>\n",
              "      <th id=\"T_0dff9_level0_col3\" class=\"col_heading level0 col3\" >Recall</th>\n",
              "      <th id=\"T_0dff9_level0_col4\" class=\"col_heading level0 col4\" >Prec.</th>\n",
              "      <th id=\"T_0dff9_level0_col5\" class=\"col_heading level0 col5\" >F1</th>\n",
              "      <th id=\"T_0dff9_level0_col6\" class=\"col_heading level0 col6\" >Kappa</th>\n",
              "      <th id=\"T_0dff9_level0_col7\" class=\"col_heading level0 col7\" >MCC</th>\n",
              "      <th id=\"T_0dff9_level0_col8\" class=\"col_heading level0 col8\" >TT (Sec)</th>\n",
              "    </tr>\n",
              "  </thead>\n",
              "  <tbody>\n",
              "    <tr>\n",
              "      <th id=\"T_0dff9_level0_row0\" class=\"row_heading level0 row0\" >lightgbm</th>\n",
              "      <td id=\"T_0dff9_row0_col0\" class=\"data row0 col0\" >Light Gradient Boosting Machine</td>\n",
              "      <td id=\"T_0dff9_row0_col1\" class=\"data row0 col1\" >0.8296</td>\n",
              "      <td id=\"T_0dff9_row0_col2\" class=\"data row0 col2\" >0.8514</td>\n",
              "      <td id=\"T_0dff9_row0_col3\" class=\"data row0 col3\" >0.7361</td>\n",
              "      <td id=\"T_0dff9_row0_col4\" class=\"data row0 col4\" >0.8087</td>\n",
              "      <td id=\"T_0dff9_row0_col5\" class=\"data row0 col5\" >0.7641</td>\n",
              "      <td id=\"T_0dff9_row0_col6\" class=\"data row0 col6\" >0.6321</td>\n",
              "      <td id=\"T_0dff9_row0_col7\" class=\"data row0 col7\" >0.6395</td>\n",
              "      <td id=\"T_0dff9_row0_col8\" class=\"data row0 col8\" >0.1330</td>\n",
              "    </tr>\n",
              "    <tr>\n",
              "      <th id=\"T_0dff9_level0_row1\" class=\"row_heading level0 row1\" >xgboost</th>\n",
              "      <td id=\"T_0dff9_row1_col0\" class=\"data row1 col0\" >Extreme Gradient Boosting</td>\n",
              "      <td id=\"T_0dff9_row1_col1\" class=\"data row1 col1\" >0.8248</td>\n",
              "      <td id=\"T_0dff9_row1_col2\" class=\"data row1 col2\" >0.8403</td>\n",
              "      <td id=\"T_0dff9_row1_col3\" class=\"data row1 col3\" >0.7404</td>\n",
              "      <td id=\"T_0dff9_row1_col4\" class=\"data row1 col4\" >0.7915</td>\n",
              "      <td id=\"T_0dff9_row1_col5\" class=\"data row1 col5\" >0.7611</td>\n",
              "      <td id=\"T_0dff9_row1_col6\" class=\"data row1 col6\" >0.6237</td>\n",
              "      <td id=\"T_0dff9_row1_col7\" class=\"data row1 col7\" >0.6283</td>\n",
              "      <td id=\"T_0dff9_row1_col8\" class=\"data row1 col8\" >0.1090</td>\n",
              "    </tr>\n",
              "    <tr>\n",
              "      <th id=\"T_0dff9_level0_row2\" class=\"row_heading level0 row2\" >gbc</th>\n",
              "      <td id=\"T_0dff9_row2_col0\" class=\"data row2 col0\" >Gradient Boosting Classifier</td>\n",
              "      <td id=\"T_0dff9_row2_col1\" class=\"data row2 col1\" >0.8102</td>\n",
              "      <td id=\"T_0dff9_row2_col2\" class=\"data row2 col2\" >0.8606</td>\n",
              "      <td id=\"T_0dff9_row2_col3\" class=\"data row2 col3\" >0.6938</td>\n",
              "      <td id=\"T_0dff9_row2_col4\" class=\"data row2 col4\" >0.7911</td>\n",
              "      <td id=\"T_0dff9_row2_col5\" class=\"data row2 col5\" >0.7345</td>\n",
              "      <td id=\"T_0dff9_row2_col6\" class=\"data row2 col6\" >0.5887</td>\n",
              "      <td id=\"T_0dff9_row2_col7\" class=\"data row2 col7\" >0.5955</td>\n",
              "      <td id=\"T_0dff9_row2_col8\" class=\"data row2 col8\" >0.1670</td>\n",
              "    </tr>\n",
              "    <tr>\n",
              "      <th id=\"T_0dff9_level0_row3\" class=\"row_heading level0 row3\" >rf</th>\n",
              "      <td id=\"T_0dff9_row3_col0\" class=\"data row3 col0\" >Random Forest Classifier</td>\n",
              "      <td id=\"T_0dff9_row3_col1\" class=\"data row3 col1\" >0.8007</td>\n",
              "      <td id=\"T_0dff9_row3_col2\" class=\"data row3 col2\" >0.8340</td>\n",
              "      <td id=\"T_0dff9_row3_col3\" class=\"data row3 col3\" >0.7277</td>\n",
              "      <td id=\"T_0dff9_row3_col4\" class=\"data row3 col4\" >0.7492</td>\n",
              "      <td id=\"T_0dff9_row3_col5\" class=\"data row3 col5\" >0.7357</td>\n",
              "      <td id=\"T_0dff9_row3_col6\" class=\"data row3 col6\" >0.5761</td>\n",
              "      <td id=\"T_0dff9_row3_col7\" class=\"data row3 col7\" >0.5787</td>\n",
              "      <td id=\"T_0dff9_row3_col8\" class=\"data row3 col8\" >0.2630</td>\n",
              "    </tr>\n",
              "    <tr>\n",
              "      <th id=\"T_0dff9_level0_row4\" class=\"row_heading level0 row4\" >ada</th>\n",
              "      <td id=\"T_0dff9_row4_col0\" class=\"data row4 col0\" >Ada Boost Classifier</td>\n",
              "      <td id=\"T_0dff9_row4_col1\" class=\"data row4 col1\" >0.7894</td>\n",
              "      <td id=\"T_0dff9_row4_col2\" class=\"data row4 col2\" >0.8421</td>\n",
              "      <td id=\"T_0dff9_row4_col3\" class=\"data row4 col3\" >0.7190</td>\n",
              "      <td id=\"T_0dff9_row4_col4\" class=\"data row4 col4\" >0.7293</td>\n",
              "      <td id=\"T_0dff9_row4_col5\" class=\"data row4 col5\" >0.7194</td>\n",
              "      <td id=\"T_0dff9_row4_col6\" class=\"data row4 col6\" >0.5515</td>\n",
              "      <td id=\"T_0dff9_row4_col7\" class=\"data row4 col7\" >0.5566</td>\n",
              "      <td id=\"T_0dff9_row4_col8\" class=\"data row4 col8\" >0.1670</td>\n",
              "    </tr>\n",
              "    <tr>\n",
              "      <th id=\"T_0dff9_level0_row5\" class=\"row_heading level0 row5\" >lr</th>\n",
              "      <td id=\"T_0dff9_row5_col0\" class=\"data row5 col0\" >Logistic Regression</td>\n",
              "      <td id=\"T_0dff9_row5_col1\" class=\"data row5 col1\" >0.7878</td>\n",
              "      <td id=\"T_0dff9_row5_col2\" class=\"data row5 col2\" >0.8422</td>\n",
              "      <td id=\"T_0dff9_row5_col3\" class=\"data row5 col3\" >0.6766</td>\n",
              "      <td id=\"T_0dff9_row5_col4\" class=\"data row5 col4\" >0.7484</td>\n",
              "      <td id=\"T_0dff9_row5_col5\" class=\"data row5 col5\" >0.7051</td>\n",
              "      <td id=\"T_0dff9_row5_col6\" class=\"data row5 col6\" >0.5413</td>\n",
              "      <td id=\"T_0dff9_row5_col7\" class=\"data row5 col7\" >0.5476</td>\n",
              "      <td id=\"T_0dff9_row5_col8\" class=\"data row5 col8\" >0.5760</td>\n",
              "    </tr>\n",
              "    <tr>\n",
              "      <th id=\"T_0dff9_level0_row6\" class=\"row_heading level0 row6\" >dt</th>\n",
              "      <td id=\"T_0dff9_row6_col0\" class=\"data row6 col0\" >Decision Tree Classifier</td>\n",
              "      <td id=\"T_0dff9_row6_col1\" class=\"data row6 col1\" >0.7878</td>\n",
              "      <td id=\"T_0dff9_row6_col2\" class=\"data row6 col2\" >0.7722</td>\n",
              "      <td id=\"T_0dff9_row6_col3\" class=\"data row6 col3\" >0.7150</td>\n",
              "      <td id=\"T_0dff9_row6_col4\" class=\"data row6 col4\" >0.7315</td>\n",
              "      <td id=\"T_0dff9_row6_col5\" class=\"data row6 col5\" >0.7187</td>\n",
              "      <td id=\"T_0dff9_row6_col6\" class=\"data row6 col6\" >0.5491</td>\n",
              "      <td id=\"T_0dff9_row6_col7\" class=\"data row6 col7\" >0.5532</td>\n",
              "      <td id=\"T_0dff9_row6_col8\" class=\"data row6 col8\" >0.1540</td>\n",
              "    </tr>\n",
              "    <tr>\n",
              "      <th id=\"T_0dff9_level0_row7\" class=\"row_heading level0 row7\" >et</th>\n",
              "      <td id=\"T_0dff9_row7_col0\" class=\"data row7 col0\" >Extra Trees Classifier</td>\n",
              "      <td id=\"T_0dff9_row7_col1\" class=\"data row7 col1\" >0.7878</td>\n",
              "      <td id=\"T_0dff9_row7_col2\" class=\"data row7 col2\" >0.8252</td>\n",
              "      <td id=\"T_0dff9_row7_col3\" class=\"data row7 col3\" >0.6984</td>\n",
              "      <td id=\"T_0dff9_row7_col4\" class=\"data row7 col4\" >0.7338</td>\n",
              "      <td id=\"T_0dff9_row7_col5\" class=\"data row7 col5\" >0.7129</td>\n",
              "      <td id=\"T_0dff9_row7_col6\" class=\"data row7 col6\" >0.5454</td>\n",
              "      <td id=\"T_0dff9_row7_col7\" class=\"data row7 col7\" >0.5481</td>\n",
              "      <td id=\"T_0dff9_row7_col8\" class=\"data row7 col8\" >0.4560</td>\n",
              "    </tr>\n",
              "    <tr>\n",
              "      <th id=\"T_0dff9_level0_row8\" class=\"row_heading level0 row8\" >ridge</th>\n",
              "      <td id=\"T_0dff9_row8_col0\" class=\"data row8 col0\" >Ridge Classifier</td>\n",
              "      <td id=\"T_0dff9_row8_col1\" class=\"data row8 col1\" >0.7829</td>\n",
              "      <td id=\"T_0dff9_row8_col2\" class=\"data row8 col2\" >0.0000</td>\n",
              "      <td id=\"T_0dff9_row8_col3\" class=\"data row8 col3\" >0.6685</td>\n",
              "      <td id=\"T_0dff9_row8_col4\" class=\"data row8 col4\" >0.7398</td>\n",
              "      <td id=\"T_0dff9_row8_col5\" class=\"data row8 col5\" >0.6983</td>\n",
              "      <td id=\"T_0dff9_row8_col6\" class=\"data row8 col6\" >0.5305</td>\n",
              "      <td id=\"T_0dff9_row8_col7\" class=\"data row8 col7\" >0.5353</td>\n",
              "      <td id=\"T_0dff9_row8_col8\" class=\"data row8 col8\" >0.0790</td>\n",
              "    </tr>\n",
              "    <tr>\n",
              "      <th id=\"T_0dff9_level0_row9\" class=\"row_heading level0 row9\" >lda</th>\n",
              "      <td id=\"T_0dff9_row9_col0\" class=\"data row9 col0\" >Linear Discriminant Analysis</td>\n",
              "      <td id=\"T_0dff9_row9_col1\" class=\"data row9 col1\" >0.7829</td>\n",
              "      <td id=\"T_0dff9_row9_col2\" class=\"data row9 col2\" >0.8436</td>\n",
              "      <td id=\"T_0dff9_row9_col3\" class=\"data row9 col3\" >0.6726</td>\n",
              "      <td id=\"T_0dff9_row9_col4\" class=\"data row9 col4\" >0.7377</td>\n",
              "      <td id=\"T_0dff9_row9_col5\" class=\"data row9 col5\" >0.7004</td>\n",
              "      <td id=\"T_0dff9_row9_col6\" class=\"data row9 col6\" >0.5316</td>\n",
              "      <td id=\"T_0dff9_row9_col7\" class=\"data row9 col7\" >0.5356</td>\n",
              "      <td id=\"T_0dff9_row9_col8\" class=\"data row9 col8\" >0.0880</td>\n",
              "    </tr>\n",
              "    <tr>\n",
              "      <th id=\"T_0dff9_level0_row10\" class=\"row_heading level0 row10\" >knn</th>\n",
              "      <td id=\"T_0dff9_row10_col0\" class=\"data row10 col0\" >K Neighbors Classifier</td>\n",
              "      <td id=\"T_0dff9_row10_col1\" class=\"data row10 col1\" >0.7812</td>\n",
              "      <td id=\"T_0dff9_row10_col2\" class=\"data row10 col2\" >0.8156</td>\n",
              "      <td id=\"T_0dff9_row10_col3\" class=\"data row10 col3\" >0.6855</td>\n",
              "      <td id=\"T_0dff9_row10_col4\" class=\"data row10 col4\" >0.7348</td>\n",
              "      <td id=\"T_0dff9_row10_col5\" class=\"data row10 col5\" >0.7049</td>\n",
              "      <td id=\"T_0dff9_row10_col6\" class=\"data row10 col6\" >0.5318</td>\n",
              "      <td id=\"T_0dff9_row10_col7\" class=\"data row10 col7\" >0.5368</td>\n",
              "      <td id=\"T_0dff9_row10_col8\" class=\"data row10 col8\" >0.1020</td>\n",
              "    </tr>\n",
              "    <tr>\n",
              "      <th id=\"T_0dff9_level0_row11\" class=\"row_heading level0 row11\" >qda</th>\n",
              "      <td id=\"T_0dff9_row11_col0\" class=\"data row11 col0\" >Quadratic Discriminant Analysis</td>\n",
              "      <td id=\"T_0dff9_row11_col1\" class=\"data row11 col1\" >0.7573</td>\n",
              "      <td id=\"T_0dff9_row11_col2\" class=\"data row11 col2\" >0.7870</td>\n",
              "      <td id=\"T_0dff9_row11_col3\" class=\"data row11 col3\" >0.7147</td>\n",
              "      <td id=\"T_0dff9_row11_col4\" class=\"data row11 col4\" >0.6827</td>\n",
              "      <td id=\"T_0dff9_row11_col5\" class=\"data row11 col5\" >0.6908</td>\n",
              "      <td id=\"T_0dff9_row11_col6\" class=\"data row11 col6\" >0.4928</td>\n",
              "      <td id=\"T_0dff9_row11_col7\" class=\"data row11 col7\" >0.5010</td>\n",
              "      <td id=\"T_0dff9_row11_col8\" class=\"data row11 col8\" >0.0850</td>\n",
              "    </tr>\n",
              "    <tr>\n",
              "      <th id=\"T_0dff9_level0_row12\" class=\"row_heading level0 row12\" >nb</th>\n",
              "      <td id=\"T_0dff9_row12_col0\" class=\"data row12 col0\" >Naive Bayes</td>\n",
              "      <td id=\"T_0dff9_row12_col1\" class=\"data row12 col1\" >0.7540</td>\n",
              "      <td id=\"T_0dff9_row12_col2\" class=\"data row12 col2\" >0.8225</td>\n",
              "      <td id=\"T_0dff9_row12_col3\" class=\"data row12 col3\" >0.7270</td>\n",
              "      <td id=\"T_0dff9_row12_col4\" class=\"data row12 col4\" >0.6665</td>\n",
              "      <td id=\"T_0dff9_row12_col5\" class=\"data row12 col5\" >0.6909</td>\n",
              "      <td id=\"T_0dff9_row12_col6\" class=\"data row12 col6\" >0.4883</td>\n",
              "      <td id=\"T_0dff9_row12_col7\" class=\"data row12 col7\" >0.4942</td>\n",
              "      <td id=\"T_0dff9_row12_col8\" class=\"data row12 col8\" >0.1500</td>\n",
              "    </tr>\n",
              "    <tr>\n",
              "      <th id=\"T_0dff9_level0_row13\" class=\"row_heading level0 row13\" >svm</th>\n",
              "      <td id=\"T_0dff9_row13_col0\" class=\"data row13 col0\" >SVM - Linear Kernel</td>\n",
              "      <td id=\"T_0dff9_row13_col1\" class=\"data row13 col1\" >0.6668</td>\n",
              "      <td id=\"T_0dff9_row13_col2\" class=\"data row13 col2\" >0.0000</td>\n",
              "      <td id=\"T_0dff9_row13_col3\" class=\"data row13 col3\" >0.7502</td>\n",
              "      <td id=\"T_0dff9_row13_col4\" class=\"data row13 col4\" >0.6254</td>\n",
              "      <td id=\"T_0dff9_row13_col5\" class=\"data row13 col5\" >0.6187</td>\n",
              "      <td id=\"T_0dff9_row13_col6\" class=\"data row13 col6\" >0.3478</td>\n",
              "      <td id=\"T_0dff9_row13_col7\" class=\"data row13 col7\" >0.3934</td>\n",
              "      <td id=\"T_0dff9_row13_col8\" class=\"data row13 col8\" >0.1310</td>\n",
              "    </tr>\n",
              "    <tr>\n",
              "      <th id=\"T_0dff9_level0_row14\" class=\"row_heading level0 row14\" >dummy</th>\n",
              "      <td id=\"T_0dff9_row14_col0\" class=\"data row14 col0\" >Dummy Classifier</td>\n",
              "      <td id=\"T_0dff9_row14_col1\" class=\"data row14 col1\" >0.6174</td>\n",
              "      <td id=\"T_0dff9_row14_col2\" class=\"data row14 col2\" >0.5000</td>\n",
              "      <td id=\"T_0dff9_row14_col3\" class=\"data row14 col3\" >0.0000</td>\n",
              "      <td id=\"T_0dff9_row14_col4\" class=\"data row14 col4\" >0.0000</td>\n",
              "      <td id=\"T_0dff9_row14_col5\" class=\"data row14 col5\" >0.0000</td>\n",
              "      <td id=\"T_0dff9_row14_col6\" class=\"data row14 col6\" >0.0000</td>\n",
              "      <td id=\"T_0dff9_row14_col7\" class=\"data row14 col7\" >0.0000</td>\n",
              "      <td id=\"T_0dff9_row14_col8\" class=\"data row14 col8\" >0.1340</td>\n",
              "    </tr>\n",
              "  </tbody>\n",
              "</table>\n"
            ],
            "text/plain": [
              "<pandas.io.formats.style.Styler at 0x7f32cafca560>"
            ]
          },
          "metadata": {},
          "output_type": "display_data"
        },
        {
          "data": {
            "application/vnd.jupyter.widget-view+json": {
              "model_id": "818e8b14a66c4c2db3eba4710a5f9812",
              "version_major": 2,
              "version_minor": 0
            },
            "text/plain": [
              "Processing:   0%|          | 0/65 [00:00<?, ?it/s]"
            ]
          },
          "metadata": {
            "application/vnd.jupyter.widget-view+json": {
              "colab": {
                "custom_widget_manager": {
                  "url": "https://ssl.gstatic.com/colaboratory-static/widgets/colab-cdn-widget-manager/b3e629b1971e1542/manager.min.js"
                }
              }
            }
          },
          "output_type": "display_data"
        },
        {
          "data": {
            "text/html": [],
            "text/plain": [
              "<IPython.core.display.HTML object>"
            ]
          },
          "metadata": {},
          "output_type": "display_data"
        }
      ],
      "source": [
        "# Training y selección de modelos\n",
        "best = compare_models()"
      ]
    },
    {
      "cell_type": "markdown",
      "metadata": {
        "id": "tDsf3LZcuegT"
      },
      "source": [
        "En este apartado se muestran distintas gráficas e información del mejor modelo, en este caso *Light Gradient Boosting Machine*."
      ]
    },
    {
      "cell_type": "code",
      "execution_count": null,
      "metadata": {
        "colab": {
          "base_uri": "https://localhost:8080/",
          "height": 248,
          "referenced_widgets": [
            "039fc795e2b4457c90ea7283254f9090",
            "2306765f805048e2916e438c13da3039",
            "20138997b1004b30859f77cbeb4d5b74",
            "3c76602903a246dfa6f838a23793dedf",
            "72f488ea67714b2ebb637fea4f72361e",
            "64f1388f4e0c490085d04fb88e9e324b",
            "d7f858080c24449c858d0be01d465788"
          ]
        },
        "id": "CMnbr8VyHfCs",
        "outputId": "048592bd-29fa-463c-de4f-b45848335706"
      },
      "outputs": [
        {
          "data": {
            "application/vnd.jupyter.widget-view+json": {
              "model_id": "039fc795e2b4457c90ea7283254f9090",
              "version_major": 2,
              "version_minor": 0
            },
            "text/plain": [
              "interactive(children=(ToggleButtons(description='Plot Type:', icons=('',), options=(('Pipeline Plot', 'pipelin…"
            ]
          },
          "metadata": {
            "application/vnd.jupyter.widget-view+json": {
              "colab": {
                "custom_widget_manager": {
                  "url": "https://ssl.gstatic.com/colaboratory-static/widgets/colab-cdn-widget-manager/b3e629b1971e1542/manager.min.js"
                }
              }
            }
          },
          "output_type": "display_data"
        }
      ],
      "source": [
        "evaluate_model(best)"
      ]
    },
    {
      "cell_type": "markdown",
      "metadata": {
        "id": "rduKq_KrH6DG"
      },
      "source": [
        "## Pycaret sin SibSp y Parch"
      ]
    },
    {
      "cell_type": "markdown",
      "metadata": {
        "id": "UEe4u0zqWJR9"
      },
      "source": [
        "Debido al análisis de la importancia de las variables en la sección anterior, se decidió hacer un análisis sin las variables de SibSP y Parch, ya que son las que tienen valores menores.\n",
        "\n",
        "Pudimos observar que los modelos sobresalientes son los mismos y que sus métricas no se alteran significativamente. Por lo que se decidió no eliminar estas características y considerar su eliminación en cada modelo individualmente en caso de ser necesario."
      ]
    },
    {
      "cell_type": "code",
      "execution_count": null,
      "metadata": {
        "colab": {
          "base_uri": "https://localhost:8080/",
          "height": 638
        },
        "id": "hRyydep6H6N2",
        "outputId": "777b15cf-c4d8-4a19-dbfb-0eb1795d5e1c"
      },
      "outputs": [
        {
          "data": {
            "text/html": [
              "<style type=\"text/css\">\n",
              "#T_a01bc_row8_col1 {\n",
              "  background-color: lightgreen;\n",
              "}\n",
              "</style>\n",
              "<table id=\"T_a01bc\" class=\"dataframe\">\n",
              "  <thead>\n",
              "    <tr>\n",
              "      <th class=\"blank level0\" >&nbsp;</th>\n",
              "      <th id=\"T_a01bc_level0_col0\" class=\"col_heading level0 col0\" >Description</th>\n",
              "      <th id=\"T_a01bc_level0_col1\" class=\"col_heading level0 col1\" >Value</th>\n",
              "    </tr>\n",
              "  </thead>\n",
              "  <tbody>\n",
              "    <tr>\n",
              "      <th id=\"T_a01bc_level0_row0\" class=\"row_heading level0 row0\" >0</th>\n",
              "      <td id=\"T_a01bc_row0_col0\" class=\"data row0 col0\" >Session id</td>\n",
              "      <td id=\"T_a01bc_row0_col1\" class=\"data row0 col1\" >123</td>\n",
              "    </tr>\n",
              "    <tr>\n",
              "      <th id=\"T_a01bc_level0_row1\" class=\"row_heading level0 row1\" >1</th>\n",
              "      <td id=\"T_a01bc_row1_col0\" class=\"data row1 col0\" >Target</td>\n",
              "      <td id=\"T_a01bc_row1_col1\" class=\"data row1 col1\" >Survived</td>\n",
              "    </tr>\n",
              "    <tr>\n",
              "      <th id=\"T_a01bc_level0_row2\" class=\"row_heading level0 row2\" >2</th>\n",
              "      <td id=\"T_a01bc_row2_col0\" class=\"data row2 col0\" >Target type</td>\n",
              "      <td id=\"T_a01bc_row2_col1\" class=\"data row2 col1\" >Binary</td>\n",
              "    </tr>\n",
              "    <tr>\n",
              "      <th id=\"T_a01bc_level0_row3\" class=\"row_heading level0 row3\" >3</th>\n",
              "      <td id=\"T_a01bc_row3_col0\" class=\"data row3 col0\" >Original data shape</td>\n",
              "      <td id=\"T_a01bc_row3_col1\" class=\"data row3 col1\" >(889, 7)</td>\n",
              "    </tr>\n",
              "    <tr>\n",
              "      <th id=\"T_a01bc_level0_row4\" class=\"row_heading level0 row4\" >4</th>\n",
              "      <td id=\"T_a01bc_row4_col0\" class=\"data row4 col0\" >Transformed data shape</td>\n",
              "      <td id=\"T_a01bc_row4_col1\" class=\"data row4 col1\" >(889, 7)</td>\n",
              "    </tr>\n",
              "    <tr>\n",
              "      <th id=\"T_a01bc_level0_row5\" class=\"row_heading level0 row5\" >5</th>\n",
              "      <td id=\"T_a01bc_row5_col0\" class=\"data row5 col0\" >Transformed train set shape</td>\n",
              "      <td id=\"T_a01bc_row5_col1\" class=\"data row5 col1\" >(622, 7)</td>\n",
              "    </tr>\n",
              "    <tr>\n",
              "      <th id=\"T_a01bc_level0_row6\" class=\"row_heading level0 row6\" >6</th>\n",
              "      <td id=\"T_a01bc_row6_col0\" class=\"data row6 col0\" >Transformed test set shape</td>\n",
              "      <td id=\"T_a01bc_row6_col1\" class=\"data row6 col1\" >(267, 7)</td>\n",
              "    </tr>\n",
              "    <tr>\n",
              "      <th id=\"T_a01bc_level0_row7\" class=\"row_heading level0 row7\" >7</th>\n",
              "      <td id=\"T_a01bc_row7_col0\" class=\"data row7 col0\" >Numeric features</td>\n",
              "      <td id=\"T_a01bc_row7_col1\" class=\"data row7 col1\" >6</td>\n",
              "    </tr>\n",
              "    <tr>\n",
              "      <th id=\"T_a01bc_level0_row8\" class=\"row_heading level0 row8\" >8</th>\n",
              "      <td id=\"T_a01bc_row8_col0\" class=\"data row8 col0\" >Preprocess</td>\n",
              "      <td id=\"T_a01bc_row8_col1\" class=\"data row8 col1\" >True</td>\n",
              "    </tr>\n",
              "    <tr>\n",
              "      <th id=\"T_a01bc_level0_row9\" class=\"row_heading level0 row9\" >9</th>\n",
              "      <td id=\"T_a01bc_row9_col0\" class=\"data row9 col0\" >Imputation type</td>\n",
              "      <td id=\"T_a01bc_row9_col1\" class=\"data row9 col1\" >simple</td>\n",
              "    </tr>\n",
              "    <tr>\n",
              "      <th id=\"T_a01bc_level0_row10\" class=\"row_heading level0 row10\" >10</th>\n",
              "      <td id=\"T_a01bc_row10_col0\" class=\"data row10 col0\" >Numeric imputation</td>\n",
              "      <td id=\"T_a01bc_row10_col1\" class=\"data row10 col1\" >mean</td>\n",
              "    </tr>\n",
              "    <tr>\n",
              "      <th id=\"T_a01bc_level0_row11\" class=\"row_heading level0 row11\" >11</th>\n",
              "      <td id=\"T_a01bc_row11_col0\" class=\"data row11 col0\" >Categorical imputation</td>\n",
              "      <td id=\"T_a01bc_row11_col1\" class=\"data row11 col1\" >mode</td>\n",
              "    </tr>\n",
              "    <tr>\n",
              "      <th id=\"T_a01bc_level0_row12\" class=\"row_heading level0 row12\" >12</th>\n",
              "      <td id=\"T_a01bc_row12_col0\" class=\"data row12 col0\" >Fold Generator</td>\n",
              "      <td id=\"T_a01bc_row12_col1\" class=\"data row12 col1\" >StratifiedKFold</td>\n",
              "    </tr>\n",
              "    <tr>\n",
              "      <th id=\"T_a01bc_level0_row13\" class=\"row_heading level0 row13\" >13</th>\n",
              "      <td id=\"T_a01bc_row13_col0\" class=\"data row13 col0\" >Fold Number</td>\n",
              "      <td id=\"T_a01bc_row13_col1\" class=\"data row13 col1\" >10</td>\n",
              "    </tr>\n",
              "    <tr>\n",
              "      <th id=\"T_a01bc_level0_row14\" class=\"row_heading level0 row14\" >14</th>\n",
              "      <td id=\"T_a01bc_row14_col0\" class=\"data row14 col0\" >CPU Jobs</td>\n",
              "      <td id=\"T_a01bc_row14_col1\" class=\"data row14 col1\" >-1</td>\n",
              "    </tr>\n",
              "    <tr>\n",
              "      <th id=\"T_a01bc_level0_row15\" class=\"row_heading level0 row15\" >15</th>\n",
              "      <td id=\"T_a01bc_row15_col0\" class=\"data row15 col0\" >Use GPU</td>\n",
              "      <td id=\"T_a01bc_row15_col1\" class=\"data row15 col1\" >False</td>\n",
              "    </tr>\n",
              "    <tr>\n",
              "      <th id=\"T_a01bc_level0_row16\" class=\"row_heading level0 row16\" >16</th>\n",
              "      <td id=\"T_a01bc_row16_col0\" class=\"data row16 col0\" >Log Experiment</td>\n",
              "      <td id=\"T_a01bc_row16_col1\" class=\"data row16 col1\" >False</td>\n",
              "    </tr>\n",
              "    <tr>\n",
              "      <th id=\"T_a01bc_level0_row17\" class=\"row_heading level0 row17\" >17</th>\n",
              "      <td id=\"T_a01bc_row17_col0\" class=\"data row17 col0\" >Experiment Name</td>\n",
              "      <td id=\"T_a01bc_row17_col1\" class=\"data row17 col1\" >clf-default-name</td>\n",
              "    </tr>\n",
              "    <tr>\n",
              "      <th id=\"T_a01bc_level0_row18\" class=\"row_heading level0 row18\" >18</th>\n",
              "      <td id=\"T_a01bc_row18_col0\" class=\"data row18 col0\" >USI</td>\n",
              "      <td id=\"T_a01bc_row18_col1\" class=\"data row18 col1\" >959c</td>\n",
              "    </tr>\n",
              "  </tbody>\n",
              "</table>\n"
            ],
            "text/plain": [
              "<pandas.io.formats.style.Styler at 0x7f32c8cf2fb0>"
            ]
          },
          "metadata": {},
          "output_type": "display_data"
        }
      ],
      "source": [
        "s = setup(df.drop(['SibSp', 'Parch'], axis = 1), target = 'Survived', session_id = 123)"
      ]
    },
    {
      "cell_type": "code",
      "execution_count": null,
      "metadata": {
        "colab": {
          "base_uri": "https://localhost:8080/",
          "height": 514,
          "referenced_widgets": [
            "9f4a26fa5d294d1f873b61cdffdf274f",
            "6d079b252e0d421a81112bbd38ede155",
            "2b7dcbcb27c54e0ba12d76a7c0b37c82",
            "6e8005de76b142c891b3d04fac498ce0",
            "594bc9c0553d4210b87bf9573df016d7",
            "40868cfbdbd24d37b940245bd25a6a89",
            "d1aa1323da2f47caa2ca82ff6d5d9a9e",
            "1321045bb7464b3f887fafe69653fad9",
            "168b2a1163844b0e9d9c0271e7e860c5",
            "8ba28949b0094ed3bcfa3a4562c21971",
            "6ff9dfe0435742c28cf873841f61912f"
          ]
        },
        "id": "IJgmOlUbH-GI",
        "outputId": "d88969f3-39d6-43be-d14f-4718a32f52c0"
      },
      "outputs": [
        {
          "data": {
            "text/html": [],
            "text/plain": [
              "<IPython.core.display.HTML object>"
            ]
          },
          "metadata": {},
          "output_type": "display_data"
        },
        {
          "data": {
            "text/html": [
              "<style type=\"text/css\">\n",
              "#T_68554 th {\n",
              "  text-align: left;\n",
              "}\n",
              "#T_68554_row0_col0, #T_68554_row0_col2, #T_68554_row0_col3, #T_68554_row1_col0, #T_68554_row1_col1, #T_68554_row1_col2, #T_68554_row1_col4, #T_68554_row1_col5, #T_68554_row1_col6, #T_68554_row1_col7, #T_68554_row2_col0, #T_68554_row2_col1, #T_68554_row2_col2, #T_68554_row2_col3, #T_68554_row2_col4, #T_68554_row2_col5, #T_68554_row2_col6, #T_68554_row2_col7, #T_68554_row3_col0, #T_68554_row3_col1, #T_68554_row3_col3, #T_68554_row3_col4, #T_68554_row3_col5, #T_68554_row3_col6, #T_68554_row3_col7, #T_68554_row4_col0, #T_68554_row4_col1, #T_68554_row4_col2, #T_68554_row4_col3, #T_68554_row4_col4, #T_68554_row4_col5, #T_68554_row4_col6, #T_68554_row4_col7, #T_68554_row5_col0, #T_68554_row5_col1, #T_68554_row5_col2, #T_68554_row5_col3, #T_68554_row5_col4, #T_68554_row5_col5, #T_68554_row5_col6, #T_68554_row5_col7, #T_68554_row6_col0, #T_68554_row6_col1, #T_68554_row6_col2, #T_68554_row6_col3, #T_68554_row6_col4, #T_68554_row6_col5, #T_68554_row6_col6, #T_68554_row6_col7, #T_68554_row7_col0, #T_68554_row7_col1, #T_68554_row7_col2, #T_68554_row7_col3, #T_68554_row7_col4, #T_68554_row7_col5, #T_68554_row7_col6, #T_68554_row7_col7, #T_68554_row8_col0, #T_68554_row8_col1, #T_68554_row8_col2, #T_68554_row8_col3, #T_68554_row8_col4, #T_68554_row8_col5, #T_68554_row8_col6, #T_68554_row8_col7, #T_68554_row9_col0, #T_68554_row9_col1, #T_68554_row9_col2, #T_68554_row9_col3, #T_68554_row9_col4, #T_68554_row9_col5, #T_68554_row9_col6, #T_68554_row9_col7, #T_68554_row10_col0, #T_68554_row10_col1, #T_68554_row10_col2, #T_68554_row10_col3, #T_68554_row10_col4, #T_68554_row10_col5, #T_68554_row10_col6, #T_68554_row10_col7, #T_68554_row11_col0, #T_68554_row11_col1, #T_68554_row11_col2, #T_68554_row11_col3, #T_68554_row11_col4, #T_68554_row11_col5, #T_68554_row11_col6, #T_68554_row11_col7, #T_68554_row12_col0, #T_68554_row12_col1, #T_68554_row12_col2, #T_68554_row12_col3, #T_68554_row12_col4, #T_68554_row12_col5, #T_68554_row12_col6, #T_68554_row12_col7, #T_68554_row13_col0, #T_68554_row13_col1, #T_68554_row13_col2, #T_68554_row13_col3, #T_68554_row13_col4, #T_68554_row13_col5, #T_68554_row13_col6, #T_68554_row13_col7, #T_68554_row14_col0, #T_68554_row14_col1, #T_68554_row14_col2, #T_68554_row14_col3, #T_68554_row14_col4, #T_68554_row14_col5, #T_68554_row14_col6, #T_68554_row14_col7 {\n",
              "  text-align: left;\n",
              "}\n",
              "#T_68554_row0_col1, #T_68554_row0_col4, #T_68554_row0_col5, #T_68554_row0_col6, #T_68554_row0_col7, #T_68554_row1_col3, #T_68554_row3_col2 {\n",
              "  text-align: left;\n",
              "  background-color: yellow;\n",
              "}\n",
              "#T_68554_row0_col8, #T_68554_row1_col8, #T_68554_row2_col8, #T_68554_row3_col8, #T_68554_row4_col8, #T_68554_row5_col8, #T_68554_row6_col8, #T_68554_row7_col8, #T_68554_row8_col8, #T_68554_row9_col8, #T_68554_row10_col8, #T_68554_row11_col8, #T_68554_row12_col8, #T_68554_row13_col8 {\n",
              "  text-align: left;\n",
              "  background-color: lightgrey;\n",
              "}\n",
              "#T_68554_row14_col8 {\n",
              "  text-align: left;\n",
              "  background-color: yellow;\n",
              "  background-color: lightgrey;\n",
              "}\n",
              "</style>\n",
              "<table id=\"T_68554\" class=\"dataframe\">\n",
              "  <thead>\n",
              "    <tr>\n",
              "      <th class=\"blank level0\" >&nbsp;</th>\n",
              "      <th id=\"T_68554_level0_col0\" class=\"col_heading level0 col0\" >Model</th>\n",
              "      <th id=\"T_68554_level0_col1\" class=\"col_heading level0 col1\" >Accuracy</th>\n",
              "      <th id=\"T_68554_level0_col2\" class=\"col_heading level0 col2\" >AUC</th>\n",
              "      <th id=\"T_68554_level0_col3\" class=\"col_heading level0 col3\" >Recall</th>\n",
              "      <th id=\"T_68554_level0_col4\" class=\"col_heading level0 col4\" >Prec.</th>\n",
              "      <th id=\"T_68554_level0_col5\" class=\"col_heading level0 col5\" >F1</th>\n",
              "      <th id=\"T_68554_level0_col6\" class=\"col_heading level0 col6\" >Kappa</th>\n",
              "      <th id=\"T_68554_level0_col7\" class=\"col_heading level0 col7\" >MCC</th>\n",
              "      <th id=\"T_68554_level0_col8\" class=\"col_heading level0 col8\" >TT (Sec)</th>\n",
              "    </tr>\n",
              "  </thead>\n",
              "  <tbody>\n",
              "    <tr>\n",
              "      <th id=\"T_68554_level0_row0\" class=\"row_heading level0 row0\" >lightgbm</th>\n",
              "      <td id=\"T_68554_row0_col0\" class=\"data row0 col0\" >Light Gradient Boosting Machine</td>\n",
              "      <td id=\"T_68554_row0_col1\" class=\"data row0 col1\" >0.8344</td>\n",
              "      <td id=\"T_68554_row0_col2\" class=\"data row0 col2\" >0.8554</td>\n",
              "      <td id=\"T_68554_row0_col3\" class=\"data row0 col3\" >0.7444</td>\n",
              "      <td id=\"T_68554_row0_col4\" class=\"data row0 col4\" >0.8131</td>\n",
              "      <td id=\"T_68554_row0_col5\" class=\"data row0 col5\" >0.7728</td>\n",
              "      <td id=\"T_68554_row0_col6\" class=\"data row0 col6\" >0.6435</td>\n",
              "      <td id=\"T_68554_row0_col7\" class=\"data row0 col7\" >0.6491</td>\n",
              "      <td id=\"T_68554_row0_col8\" class=\"data row0 col8\" >0.1550</td>\n",
              "    </tr>\n",
              "    <tr>\n",
              "      <th id=\"T_68554_level0_row1\" class=\"row_heading level0 row1\" >xgboost</th>\n",
              "      <td id=\"T_68554_row1_col0\" class=\"data row1 col0\" >Extreme Gradient Boosting</td>\n",
              "      <td id=\"T_68554_row1_col1\" class=\"data row1 col1\" >0.8264</td>\n",
              "      <td id=\"T_68554_row1_col2\" class=\"data row1 col2\" >0.8416</td>\n",
              "      <td id=\"T_68554_row1_col3\" class=\"data row1 col3\" >0.7447</td>\n",
              "      <td id=\"T_68554_row1_col4\" class=\"data row1 col4\" >0.7932</td>\n",
              "      <td id=\"T_68554_row1_col5\" class=\"data row1 col5\" >0.7634</td>\n",
              "      <td id=\"T_68554_row1_col6\" class=\"data row1 col6\" >0.6273</td>\n",
              "      <td id=\"T_68554_row1_col7\" class=\"data row1 col7\" >0.6326</td>\n",
              "      <td id=\"T_68554_row1_col8\" class=\"data row1 col8\" >0.1540</td>\n",
              "    </tr>\n",
              "    <tr>\n",
              "      <th id=\"T_68554_level0_row2\" class=\"row_heading level0 row2\" >rf</th>\n",
              "      <td id=\"T_68554_row2_col0\" class=\"data row2 col0\" >Random Forest Classifier</td>\n",
              "      <td id=\"T_68554_row2_col1\" class=\"data row2 col1\" >0.8135</td>\n",
              "      <td id=\"T_68554_row2_col2\" class=\"data row2 col2\" >0.8394</td>\n",
              "      <td id=\"T_68554_row2_col3\" class=\"data row2 col3\" >0.7406</td>\n",
              "      <td id=\"T_68554_row2_col4\" class=\"data row2 col4\" >0.7672</td>\n",
              "      <td id=\"T_68554_row2_col5\" class=\"data row2 col5\" >0.7507</td>\n",
              "      <td id=\"T_68554_row2_col6\" class=\"data row2 col6\" >0.6024</td>\n",
              "      <td id=\"T_68554_row2_col7\" class=\"data row2 col7\" >0.6055</td>\n",
              "      <td id=\"T_68554_row2_col8\" class=\"data row2 col8\" >0.2700</td>\n",
              "    </tr>\n",
              "    <tr>\n",
              "      <th id=\"T_68554_level0_row3\" class=\"row_heading level0 row3\" >gbc</th>\n",
              "      <td id=\"T_68554_row3_col0\" class=\"data row3 col0\" >Gradient Boosting Classifier</td>\n",
              "      <td id=\"T_68554_row3_col1\" class=\"data row3 col1\" >0.8103</td>\n",
              "      <td id=\"T_68554_row3_col2\" class=\"data row3 col2\" >0.8634</td>\n",
              "      <td id=\"T_68554_row3_col3\" class=\"data row3 col3\" >0.6899</td>\n",
              "      <td id=\"T_68554_row3_col4\" class=\"data row3 col4\" >0.7923</td>\n",
              "      <td id=\"T_68554_row3_col5\" class=\"data row3 col5\" >0.7327</td>\n",
              "      <td id=\"T_68554_row3_col6\" class=\"data row3 col6\" >0.5878</td>\n",
              "      <td id=\"T_68554_row3_col7\" class=\"data row3 col7\" >0.5950</td>\n",
              "      <td id=\"T_68554_row3_col8\" class=\"data row3 col8\" >0.1650</td>\n",
              "    </tr>\n",
              "    <tr>\n",
              "      <th id=\"T_68554_level0_row4\" class=\"row_heading level0 row4\" >qda</th>\n",
              "      <td id=\"T_68554_row4_col0\" class=\"data row4 col0\" >Quadratic Discriminant Analysis</td>\n",
              "      <td id=\"T_68554_row4_col1\" class=\"data row4 col1\" >0.7957</td>\n",
              "      <td id=\"T_68554_row4_col2\" class=\"data row4 col2\" >0.8318</td>\n",
              "      <td id=\"T_68554_row4_col3\" class=\"data row4 col3\" >0.7058</td>\n",
              "      <td id=\"T_68554_row4_col4\" class=\"data row4 col4\" >0.7489</td>\n",
              "      <td id=\"T_68554_row4_col5\" class=\"data row4 col5\" >0.7231</td>\n",
              "      <td id=\"T_68554_row4_col6\" class=\"data row4 col6\" >0.5620</td>\n",
              "      <td id=\"T_68554_row4_col7\" class=\"data row4 col7\" >0.5662</td>\n",
              "      <td id=\"T_68554_row4_col8\" class=\"data row4 col8\" >0.0860</td>\n",
              "    </tr>\n",
              "    <tr>\n",
              "      <th id=\"T_68554_level0_row5\" class=\"row_heading level0 row5\" >et</th>\n",
              "      <td id=\"T_68554_row5_col0\" class=\"data row5 col0\" >Extra Trees Classifier</td>\n",
              "      <td id=\"T_68554_row5_col1\" class=\"data row5 col1\" >0.7942</td>\n",
              "      <td id=\"T_68554_row5_col2\" class=\"data row5 col2\" >0.8309</td>\n",
              "      <td id=\"T_68554_row5_col3\" class=\"data row5 col3\" >0.7150</td>\n",
              "      <td id=\"T_68554_row5_col4\" class=\"data row5 col4\" >0.7373</td>\n",
              "      <td id=\"T_68554_row5_col5\" class=\"data row5 col5\" >0.7244</td>\n",
              "      <td id=\"T_68554_row5_col6\" class=\"data row5 col6\" >0.5606</td>\n",
              "      <td id=\"T_68554_row5_col7\" class=\"data row5 col7\" >0.5622</td>\n",
              "      <td id=\"T_68554_row5_col8\" class=\"data row5 col8\" >0.3760</td>\n",
              "    </tr>\n",
              "    <tr>\n",
              "      <th id=\"T_68554_level0_row6\" class=\"row_heading level0 row6\" >ada</th>\n",
              "      <td id=\"T_68554_row6_col0\" class=\"data row6 col0\" >Ada Boost Classifier</td>\n",
              "      <td id=\"T_68554_row6_col1\" class=\"data row6 col1\" >0.7910</td>\n",
              "      <td id=\"T_68554_row6_col2\" class=\"data row6 col2\" >0.8470</td>\n",
              "      <td id=\"T_68554_row6_col3\" class=\"data row6 col3\" >0.7188</td>\n",
              "      <td id=\"T_68554_row6_col4\" class=\"data row6 col4\" >0.7327</td>\n",
              "      <td id=\"T_68554_row6_col5\" class=\"data row6 col5\" >0.7212</td>\n",
              "      <td id=\"T_68554_row6_col6\" class=\"data row6 col6\" >0.5547</td>\n",
              "      <td id=\"T_68554_row6_col7\" class=\"data row6 col7\" >0.5594</td>\n",
              "      <td id=\"T_68554_row6_col8\" class=\"data row6 col8\" >0.1630</td>\n",
              "    </tr>\n",
              "    <tr>\n",
              "      <th id=\"T_68554_level0_row7\" class=\"row_heading level0 row7\" >lda</th>\n",
              "      <td id=\"T_68554_row7_col0\" class=\"data row7 col0\" >Linear Discriminant Analysis</td>\n",
              "      <td id=\"T_68554_row7_col1\" class=\"data row7 col1\" >0.7910</td>\n",
              "      <td id=\"T_68554_row7_col2\" class=\"data row7 col2\" >0.8427</td>\n",
              "      <td id=\"T_68554_row7_col3\" class=\"data row7 col3\" >0.6726</td>\n",
              "      <td id=\"T_68554_row7_col4\" class=\"data row7 col4\" >0.7550</td>\n",
              "      <td id=\"T_68554_row7_col5\" class=\"data row7 col5\" >0.7077</td>\n",
              "      <td id=\"T_68554_row7_col6\" class=\"data row7 col6\" >0.5468</td>\n",
              "      <td id=\"T_68554_row7_col7\" class=\"data row7 col7\" >0.5519</td>\n",
              "      <td id=\"T_68554_row7_col8\" class=\"data row7 col8\" >0.0850</td>\n",
              "    </tr>\n",
              "    <tr>\n",
              "      <th id=\"T_68554_level0_row8\" class=\"row_heading level0 row8\" >ridge</th>\n",
              "      <td id=\"T_68554_row8_col0\" class=\"data row8 col0\" >Ridge Classifier</td>\n",
              "      <td id=\"T_68554_row8_col1\" class=\"data row8 col1\" >0.7893</td>\n",
              "      <td id=\"T_68554_row8_col2\" class=\"data row8 col2\" >0.0000</td>\n",
              "      <td id=\"T_68554_row8_col3\" class=\"data row8 col3\" >0.6641</td>\n",
              "      <td id=\"T_68554_row8_col4\" class=\"data row8 col4\" >0.7560</td>\n",
              "      <td id=\"T_68554_row8_col5\" class=\"data row8 col5\" >0.7030</td>\n",
              "      <td id=\"T_68554_row8_col6\" class=\"data row8 col6\" >0.5420</td>\n",
              "      <td id=\"T_68554_row8_col7\" class=\"data row8 col7\" >0.5477</td>\n",
              "      <td id=\"T_68554_row8_col8\" class=\"data row8 col8\" >0.1240</td>\n",
              "    </tr>\n",
              "    <tr>\n",
              "      <th id=\"T_68554_level0_row9\" class=\"row_heading level0 row9\" >dt</th>\n",
              "      <td id=\"T_68554_row9_col0\" class=\"data row9 col0\" >Decision Tree Classifier</td>\n",
              "      <td id=\"T_68554_row9_col1\" class=\"data row9 col1\" >0.7878</td>\n",
              "      <td id=\"T_68554_row9_col2\" class=\"data row9 col2\" >0.7754</td>\n",
              "      <td id=\"T_68554_row9_col3\" class=\"data row9 col3\" >0.7275</td>\n",
              "      <td id=\"T_68554_row9_col4\" class=\"data row9 col4\" >0.7249</td>\n",
              "      <td id=\"T_68554_row9_col5\" class=\"data row9 col5\" >0.7231</td>\n",
              "      <td id=\"T_68554_row9_col6\" class=\"data row9 col6\" >0.5515</td>\n",
              "      <td id=\"T_68554_row9_col7\" class=\"data row9 col7\" >0.5546</td>\n",
              "      <td id=\"T_68554_row9_col8\" class=\"data row9 col8\" >0.1570</td>\n",
              "    </tr>\n",
              "    <tr>\n",
              "      <th id=\"T_68554_level0_row10\" class=\"row_heading level0 row10\" >lr</th>\n",
              "      <td id=\"T_68554_row10_col0\" class=\"data row10 col0\" >Logistic Regression</td>\n",
              "      <td id=\"T_68554_row10_col1\" class=\"data row10 col1\" >0.7829</td>\n",
              "      <td id=\"T_68554_row10_col2\" class=\"data row10 col2\" >0.8422</td>\n",
              "      <td id=\"T_68554_row10_col3\" class=\"data row10 col3\" >0.6639</td>\n",
              "      <td id=\"T_68554_row10_col4\" class=\"data row10 col4\" >0.7442</td>\n",
              "      <td id=\"T_68554_row10_col5\" class=\"data row10 col5\" >0.6962</td>\n",
              "      <td id=\"T_68554_row10_col6\" class=\"data row10 col6\" >0.5294</td>\n",
              "      <td id=\"T_68554_row10_col7\" class=\"data row10 col7\" >0.5359</td>\n",
              "      <td id=\"T_68554_row10_col8\" class=\"data row10 col8\" >0.1000</td>\n",
              "    </tr>\n",
              "    <tr>\n",
              "      <th id=\"T_68554_level0_row11\" class=\"row_heading level0 row11\" >knn</th>\n",
              "      <td id=\"T_68554_row11_col0\" class=\"data row11 col0\" >K Neighbors Classifier</td>\n",
              "      <td id=\"T_68554_row11_col1\" class=\"data row11 col1\" >0.7796</td>\n",
              "      <td id=\"T_68554_row11_col2\" class=\"data row11 col2\" >0.8141</td>\n",
              "      <td id=\"T_68554_row11_col3\" class=\"data row11 col3\" >0.6857</td>\n",
              "      <td id=\"T_68554_row11_col4\" class=\"data row11 col4\" >0.7312</td>\n",
              "      <td id=\"T_68554_row11_col5\" class=\"data row11 col5\" >0.7029</td>\n",
              "      <td id=\"T_68554_row11_col6\" class=\"data row11 col6\" >0.5286</td>\n",
              "      <td id=\"T_68554_row11_col7\" class=\"data row11 col7\" >0.5338</td>\n",
              "      <td id=\"T_68554_row11_col8\" class=\"data row11 col8\" >0.1010</td>\n",
              "    </tr>\n",
              "    <tr>\n",
              "      <th id=\"T_68554_level0_row12\" class=\"row_heading level0 row12\" >nb</th>\n",
              "      <td id=\"T_68554_row12_col0\" class=\"data row12 col0\" >Naive Bayes</td>\n",
              "      <td id=\"T_68554_row12_col1\" class=\"data row12 col1\" >0.7700</td>\n",
              "      <td id=\"T_68554_row12_col2\" class=\"data row12 col2\" >0.8352</td>\n",
              "      <td id=\"T_68554_row12_col3\" class=\"data row12 col3\" >0.6851</td>\n",
              "      <td id=\"T_68554_row12_col4\" class=\"data row12 col4\" >0.7044</td>\n",
              "      <td id=\"T_68554_row12_col5\" class=\"data row12 col5\" >0.6901</td>\n",
              "      <td id=\"T_68554_row12_col6\" class=\"data row12 col6\" >0.5085</td>\n",
              "      <td id=\"T_68554_row12_col7\" class=\"data row12 col7\" >0.5124</td>\n",
              "      <td id=\"T_68554_row12_col8\" class=\"data row12 col8\" >0.0820</td>\n",
              "    </tr>\n",
              "    <tr>\n",
              "      <th id=\"T_68554_level0_row13\" class=\"row_heading level0 row13\" >svm</th>\n",
              "      <td id=\"T_68554_row13_col0\" class=\"data row13 col0\" >SVM - Linear Kernel</td>\n",
              "      <td id=\"T_68554_row13_col1\" class=\"data row13 col1\" >0.7348</td>\n",
              "      <td id=\"T_68554_row13_col2\" class=\"data row13 col2\" >0.0000</td>\n",
              "      <td id=\"T_68554_row13_col3\" class=\"data row13 col3\" >0.4991</td>\n",
              "      <td id=\"T_68554_row13_col4\" class=\"data row13 col4\" >0.7969</td>\n",
              "      <td id=\"T_68554_row13_col5\" class=\"data row13 col5\" >0.5486</td>\n",
              "      <td id=\"T_68554_row13_col6\" class=\"data row13 col6\" >0.3931</td>\n",
              "      <td id=\"T_68554_row13_col7\" class=\"data row13 col7\" >0.4400</td>\n",
              "      <td id=\"T_68554_row13_col8\" class=\"data row13 col8\" >0.1340</td>\n",
              "    </tr>\n",
              "    <tr>\n",
              "      <th id=\"T_68554_level0_row14\" class=\"row_heading level0 row14\" >dummy</th>\n",
              "      <td id=\"T_68554_row14_col0\" class=\"data row14 col0\" >Dummy Classifier</td>\n",
              "      <td id=\"T_68554_row14_col1\" class=\"data row14 col1\" >0.6174</td>\n",
              "      <td id=\"T_68554_row14_col2\" class=\"data row14 col2\" >0.5000</td>\n",
              "      <td id=\"T_68554_row14_col3\" class=\"data row14 col3\" >0.0000</td>\n",
              "      <td id=\"T_68554_row14_col4\" class=\"data row14 col4\" >0.0000</td>\n",
              "      <td id=\"T_68554_row14_col5\" class=\"data row14 col5\" >0.0000</td>\n",
              "      <td id=\"T_68554_row14_col6\" class=\"data row14 col6\" >0.0000</td>\n",
              "      <td id=\"T_68554_row14_col7\" class=\"data row14 col7\" >0.0000</td>\n",
              "      <td id=\"T_68554_row14_col8\" class=\"data row14 col8\" >0.0790</td>\n",
              "    </tr>\n",
              "  </tbody>\n",
              "</table>\n"
            ],
            "text/plain": [
              "<pandas.io.formats.style.Styler at 0x7f32c8ceb760>"
            ]
          },
          "metadata": {},
          "output_type": "display_data"
        },
        {
          "data": {
            "application/vnd.jupyter.widget-view+json": {
              "model_id": "9f4a26fa5d294d1f873b61cdffdf274f",
              "version_major": 2,
              "version_minor": 0
            },
            "text/plain": [
              "Processing:   0%|          | 0/65 [00:00<?, ?it/s]"
            ]
          },
          "metadata": {
            "application/vnd.jupyter.widget-view+json": {
              "colab": {
                "custom_widget_manager": {
                  "url": "https://ssl.gstatic.com/colaboratory-static/widgets/colab-cdn-widget-manager/b3e629b1971e1542/manager.min.js"
                }
              }
            }
          },
          "output_type": "display_data"
        },
        {
          "data": {
            "text/html": [],
            "text/plain": [
              "<IPython.core.display.HTML object>"
            ]
          },
          "metadata": {},
          "output_type": "display_data"
        }
      ],
      "source": [
        "best = compare_models()"
      ]
    },
    {
      "cell_type": "markdown",
      "metadata": {
        "id": "yhxq94A87_MC"
      },
      "source": [
        "# Balance de las variables objetivo\n"
      ]
    },
    {
      "cell_type": "markdown",
      "metadata": {
        "id": "AOJ6yk1QB2Xi"
      },
      "source": [
        "La proporción de los datos de entrenamiento es aproximadamente de 60% de no sobrevivientes, y 40% de sobrevivientes. Se procede con el balanceo de los datos con el fin de determinar si existe cierta \"preferencia\" por el modelo para los no sobrevivientes; en el caso de que se revise que las métricas de los modelos de ML son similares a la base de datos original, se dejará esta última para mantener la distribución de los datos a como sucedió en realidad."
      ]
    },
    {
      "cell_type": "code",
      "execution_count": null,
      "metadata": {
        "colab": {
          "base_uri": "https://localhost:8080/"
        },
        "id": "1eyUWzcj7-lX",
        "outputId": "8d035d70-01a3-4622-c00b-3fd9a5022928"
      },
      "outputs": [
        {
          "data": {
            "text/plain": [
              "0    61.754781\n",
              "1    38.245219\n",
              "Name: Survived, dtype: float64"
            ]
          },
          "execution_count": 185,
          "metadata": {},
          "output_type": "execute_result"
        }
      ],
      "source": [
        "df[\"Survived\"].value_counts()/len(df[\"Survived\"])*100"
      ]
    },
    {
      "cell_type": "markdown",
      "metadata": {
        "id": "4jrXpiZO8p9l"
      },
      "source": [
        "Con esta funcion de oversampling, se puede conseguir que la proporcion entre sobrevivientes y no sobrevivientes sea la misma."
      ]
    },
    {
      "cell_type": "code",
      "execution_count": null,
      "metadata": {
        "colab": {
          "base_uri": "https://localhost:8080/"
        },
        "id": "lXxfb5QK8Dbp",
        "outputId": "77173ad6-2936-4b24-a4eb-b8c625a56b23"
      },
      "outputs": [
        {
          "name": "stdout",
          "output_type": "stream",
          "text": [
            "Training target statistics: \n",
            "0    549\n",
            "1    549\n",
            "Name: Survived, dtype: int64\n"
          ]
        }
      ],
      "source": [
        "from imblearn.over_sampling import RandomOverSampler\n",
        "over_sampler = RandomOverSampler(random_state=42)\n",
        "x_res, y_res = over_sampler.fit_resample(x_train, y_train)\n",
        "print(f\"Training target statistics: \\n{y_res.value_counts()}\")\n",
        "#print(f\"Testing target statistics: {Counter(y_test)}\")"
      ]
    },
    {
      "cell_type": "markdown",
      "metadata": {
        "id": "dGlWrk-DN6Jn"
      },
      "source": [
        "## Comparación de modelos con los datos balanceados"
      ]
    },
    {
      "cell_type": "code",
      "execution_count": null,
      "metadata": {
        "colab": {
          "base_uri": "https://localhost:8080/",
          "height": 638
        },
        "id": "hRIeJDEbOCTe",
        "outputId": "63f3333a-ef34-4ecd-8f8d-66484c6f1313"
      },
      "outputs": [
        {
          "data": {
            "text/html": [
              "<style type=\"text/css\">\n",
              "#T_0f27e_row8_col1 {\n",
              "  background-color: lightgreen;\n",
              "}\n",
              "</style>\n",
              "<table id=\"T_0f27e\" class=\"dataframe\">\n",
              "  <thead>\n",
              "    <tr>\n",
              "      <th class=\"blank level0\" >&nbsp;</th>\n",
              "      <th id=\"T_0f27e_level0_col0\" class=\"col_heading level0 col0\" >Description</th>\n",
              "      <th id=\"T_0f27e_level0_col1\" class=\"col_heading level0 col1\" >Value</th>\n",
              "    </tr>\n",
              "  </thead>\n",
              "  <tbody>\n",
              "    <tr>\n",
              "      <th id=\"T_0f27e_level0_row0\" class=\"row_heading level0 row0\" >0</th>\n",
              "      <td id=\"T_0f27e_row0_col0\" class=\"data row0 col0\" >Session id</td>\n",
              "      <td id=\"T_0f27e_row0_col1\" class=\"data row0 col1\" >123</td>\n",
              "    </tr>\n",
              "    <tr>\n",
              "      <th id=\"T_0f27e_level0_row1\" class=\"row_heading level0 row1\" >1</th>\n",
              "      <td id=\"T_0f27e_row1_col0\" class=\"data row1 col0\" >Target</td>\n",
              "      <td id=\"T_0f27e_row1_col1\" class=\"data row1 col1\" >Survived</td>\n",
              "    </tr>\n",
              "    <tr>\n",
              "      <th id=\"T_0f27e_level0_row2\" class=\"row_heading level0 row2\" >2</th>\n",
              "      <td id=\"T_0f27e_row2_col0\" class=\"data row2 col0\" >Target type</td>\n",
              "      <td id=\"T_0f27e_row2_col1\" class=\"data row2 col1\" >Binary</td>\n",
              "    </tr>\n",
              "    <tr>\n",
              "      <th id=\"T_0f27e_level0_row3\" class=\"row_heading level0 row3\" >3</th>\n",
              "      <td id=\"T_0f27e_row3_col0\" class=\"data row3 col0\" >Original data shape</td>\n",
              "      <td id=\"T_0f27e_row3_col1\" class=\"data row3 col1\" >(1098, 9)</td>\n",
              "    </tr>\n",
              "    <tr>\n",
              "      <th id=\"T_0f27e_level0_row4\" class=\"row_heading level0 row4\" >4</th>\n",
              "      <td id=\"T_0f27e_row4_col0\" class=\"data row4 col0\" >Transformed data shape</td>\n",
              "      <td id=\"T_0f27e_row4_col1\" class=\"data row4 col1\" >(1098, 9)</td>\n",
              "    </tr>\n",
              "    <tr>\n",
              "      <th id=\"T_0f27e_level0_row5\" class=\"row_heading level0 row5\" >5</th>\n",
              "      <td id=\"T_0f27e_row5_col0\" class=\"data row5 col0\" >Transformed train set shape</td>\n",
              "      <td id=\"T_0f27e_row5_col1\" class=\"data row5 col1\" >(768, 9)</td>\n",
              "    </tr>\n",
              "    <tr>\n",
              "      <th id=\"T_0f27e_level0_row6\" class=\"row_heading level0 row6\" >6</th>\n",
              "      <td id=\"T_0f27e_row6_col0\" class=\"data row6 col0\" >Transformed test set shape</td>\n",
              "      <td id=\"T_0f27e_row6_col1\" class=\"data row6 col1\" >(330, 9)</td>\n",
              "    </tr>\n",
              "    <tr>\n",
              "      <th id=\"T_0f27e_level0_row7\" class=\"row_heading level0 row7\" >7</th>\n",
              "      <td id=\"T_0f27e_row7_col0\" class=\"data row7 col0\" >Numeric features</td>\n",
              "      <td id=\"T_0f27e_row7_col1\" class=\"data row7 col1\" >8</td>\n",
              "    </tr>\n",
              "    <tr>\n",
              "      <th id=\"T_0f27e_level0_row8\" class=\"row_heading level0 row8\" >8</th>\n",
              "      <td id=\"T_0f27e_row8_col0\" class=\"data row8 col0\" >Preprocess</td>\n",
              "      <td id=\"T_0f27e_row8_col1\" class=\"data row8 col1\" >True</td>\n",
              "    </tr>\n",
              "    <tr>\n",
              "      <th id=\"T_0f27e_level0_row9\" class=\"row_heading level0 row9\" >9</th>\n",
              "      <td id=\"T_0f27e_row9_col0\" class=\"data row9 col0\" >Imputation type</td>\n",
              "      <td id=\"T_0f27e_row9_col1\" class=\"data row9 col1\" >simple</td>\n",
              "    </tr>\n",
              "    <tr>\n",
              "      <th id=\"T_0f27e_level0_row10\" class=\"row_heading level0 row10\" >10</th>\n",
              "      <td id=\"T_0f27e_row10_col0\" class=\"data row10 col0\" >Numeric imputation</td>\n",
              "      <td id=\"T_0f27e_row10_col1\" class=\"data row10 col1\" >mean</td>\n",
              "    </tr>\n",
              "    <tr>\n",
              "      <th id=\"T_0f27e_level0_row11\" class=\"row_heading level0 row11\" >11</th>\n",
              "      <td id=\"T_0f27e_row11_col0\" class=\"data row11 col0\" >Categorical imputation</td>\n",
              "      <td id=\"T_0f27e_row11_col1\" class=\"data row11 col1\" >mode</td>\n",
              "    </tr>\n",
              "    <tr>\n",
              "      <th id=\"T_0f27e_level0_row12\" class=\"row_heading level0 row12\" >12</th>\n",
              "      <td id=\"T_0f27e_row12_col0\" class=\"data row12 col0\" >Fold Generator</td>\n",
              "      <td id=\"T_0f27e_row12_col1\" class=\"data row12 col1\" >StratifiedKFold</td>\n",
              "    </tr>\n",
              "    <tr>\n",
              "      <th id=\"T_0f27e_level0_row13\" class=\"row_heading level0 row13\" >13</th>\n",
              "      <td id=\"T_0f27e_row13_col0\" class=\"data row13 col0\" >Fold Number</td>\n",
              "      <td id=\"T_0f27e_row13_col1\" class=\"data row13 col1\" >10</td>\n",
              "    </tr>\n",
              "    <tr>\n",
              "      <th id=\"T_0f27e_level0_row14\" class=\"row_heading level0 row14\" >14</th>\n",
              "      <td id=\"T_0f27e_row14_col0\" class=\"data row14 col0\" >CPU Jobs</td>\n",
              "      <td id=\"T_0f27e_row14_col1\" class=\"data row14 col1\" >-1</td>\n",
              "    </tr>\n",
              "    <tr>\n",
              "      <th id=\"T_0f27e_level0_row15\" class=\"row_heading level0 row15\" >15</th>\n",
              "      <td id=\"T_0f27e_row15_col0\" class=\"data row15 col0\" >Use GPU</td>\n",
              "      <td id=\"T_0f27e_row15_col1\" class=\"data row15 col1\" >False</td>\n",
              "    </tr>\n",
              "    <tr>\n",
              "      <th id=\"T_0f27e_level0_row16\" class=\"row_heading level0 row16\" >16</th>\n",
              "      <td id=\"T_0f27e_row16_col0\" class=\"data row16 col0\" >Log Experiment</td>\n",
              "      <td id=\"T_0f27e_row16_col1\" class=\"data row16 col1\" >False</td>\n",
              "    </tr>\n",
              "    <tr>\n",
              "      <th id=\"T_0f27e_level0_row17\" class=\"row_heading level0 row17\" >17</th>\n",
              "      <td id=\"T_0f27e_row17_col0\" class=\"data row17 col0\" >Experiment Name</td>\n",
              "      <td id=\"T_0f27e_row17_col1\" class=\"data row17 col1\" >clf-default-name</td>\n",
              "    </tr>\n",
              "    <tr>\n",
              "      <th id=\"T_0f27e_level0_row18\" class=\"row_heading level0 row18\" >18</th>\n",
              "      <td id=\"T_0f27e_row18_col0\" class=\"data row18 col0\" >USI</td>\n",
              "      <td id=\"T_0f27e_row18_col1\" class=\"data row18 col1\" >6ab2</td>\n",
              "    </tr>\n",
              "  </tbody>\n",
              "</table>\n"
            ],
            "text/plain": [
              "<pandas.io.formats.style.Styler at 0x7f32c8af2bc0>"
            ]
          },
          "metadata": {},
          "output_type": "display_data"
        }
      ],
      "source": [
        "# Iniciar setup\n",
        "s = setup(x_res, target = y_res, session_id = 123)"
      ]
    },
    {
      "cell_type": "code",
      "execution_count": null,
      "metadata": {
        "colab": {
          "base_uri": "https://localhost:8080/",
          "height": 514,
          "referenced_widgets": [
            "ef29f516dae94223aeac7321d762b58b",
            "760b62311d7b4877857aab949b05e59c",
            "03fc6af08a6c4e04a3a4338ca0efe811",
            "a7a7249ebaac4af68d410c822199f69e",
            "73caf5028d594908a87ae38a7ee6dc01",
            "0cfb62605cce4b52b6648cf145027f0a",
            "514296994ba8417cbe5fb396e4c6d730",
            "45fa7a229ad943a2ac85c6e9ee0c57ac",
            "cd4616344c224c7b95a9f47f5248882a",
            "03b1bc87a5664e76a36e4a1c472ba8ec",
            "95f71a79058d41e690bb895c75cc36da"
          ]
        },
        "id": "8a1xuTJiOCTf",
        "outputId": "e5be39c1-e9b5-4183-d1fe-dc9731efe0aa"
      },
      "outputs": [
        {
          "data": {
            "text/html": [],
            "text/plain": [
              "<IPython.core.display.HTML object>"
            ]
          },
          "metadata": {},
          "output_type": "display_data"
        },
        {
          "data": {
            "text/html": [
              "<style type=\"text/css\">\n",
              "#T_6b228 th {\n",
              "  text-align: left;\n",
              "}\n",
              "#T_6b228_row0_col0, #T_6b228_row0_col2, #T_6b228_row0_col4, #T_6b228_row1_col0, #T_6b228_row1_col1, #T_6b228_row1_col2, #T_6b228_row1_col3, #T_6b228_row1_col5, #T_6b228_row1_col6, #T_6b228_row1_col7, #T_6b228_row2_col0, #T_6b228_row2_col1, #T_6b228_row2_col2, #T_6b228_row2_col3, #T_6b228_row2_col4, #T_6b228_row2_col5, #T_6b228_row2_col6, #T_6b228_row2_col7, #T_6b228_row3_col0, #T_6b228_row3_col1, #T_6b228_row3_col2, #T_6b228_row3_col3, #T_6b228_row3_col4, #T_6b228_row3_col5, #T_6b228_row3_col6, #T_6b228_row3_col7, #T_6b228_row4_col0, #T_6b228_row4_col1, #T_6b228_row4_col3, #T_6b228_row4_col4, #T_6b228_row4_col5, #T_6b228_row4_col6, #T_6b228_row4_col7, #T_6b228_row5_col0, #T_6b228_row5_col1, #T_6b228_row5_col2, #T_6b228_row5_col3, #T_6b228_row5_col4, #T_6b228_row5_col5, #T_6b228_row5_col6, #T_6b228_row5_col7, #T_6b228_row6_col0, #T_6b228_row6_col1, #T_6b228_row6_col2, #T_6b228_row6_col3, #T_6b228_row6_col4, #T_6b228_row6_col5, #T_6b228_row6_col6, #T_6b228_row6_col7, #T_6b228_row7_col0, #T_6b228_row7_col1, #T_6b228_row7_col2, #T_6b228_row7_col3, #T_6b228_row7_col4, #T_6b228_row7_col5, #T_6b228_row7_col6, #T_6b228_row7_col7, #T_6b228_row8_col0, #T_6b228_row8_col1, #T_6b228_row8_col2, #T_6b228_row8_col3, #T_6b228_row8_col4, #T_6b228_row8_col5, #T_6b228_row8_col6, #T_6b228_row8_col7, #T_6b228_row9_col0, #T_6b228_row9_col1, #T_6b228_row9_col2, #T_6b228_row9_col3, #T_6b228_row9_col4, #T_6b228_row9_col5, #T_6b228_row9_col6, #T_6b228_row9_col7, #T_6b228_row10_col0, #T_6b228_row10_col1, #T_6b228_row10_col2, #T_6b228_row10_col3, #T_6b228_row10_col4, #T_6b228_row10_col5, #T_6b228_row10_col6, #T_6b228_row10_col7, #T_6b228_row11_col0, #T_6b228_row11_col1, #T_6b228_row11_col2, #T_6b228_row11_col3, #T_6b228_row11_col4, #T_6b228_row11_col5, #T_6b228_row11_col6, #T_6b228_row11_col7, #T_6b228_row12_col0, #T_6b228_row12_col1, #T_6b228_row12_col2, #T_6b228_row12_col3, #T_6b228_row12_col4, #T_6b228_row12_col5, #T_6b228_row12_col6, #T_6b228_row12_col7, #T_6b228_row13_col0, #T_6b228_row13_col1, #T_6b228_row13_col2, #T_6b228_row13_col3, #T_6b228_row13_col4, #T_6b228_row13_col5, #T_6b228_row13_col6, #T_6b228_row13_col7, #T_6b228_row14_col0, #T_6b228_row14_col1, #T_6b228_row14_col2, #T_6b228_row14_col3, #T_6b228_row14_col4, #T_6b228_row14_col5, #T_6b228_row14_col6, #T_6b228_row14_col7 {\n",
              "  text-align: left;\n",
              "}\n",
              "#T_6b228_row0_col1, #T_6b228_row0_col3, #T_6b228_row0_col5, #T_6b228_row0_col6, #T_6b228_row0_col7, #T_6b228_row1_col4, #T_6b228_row4_col2 {\n",
              "  text-align: left;\n",
              "  background-color: yellow;\n",
              "}\n",
              "#T_6b228_row0_col8, #T_6b228_row1_col8, #T_6b228_row2_col8, #T_6b228_row3_col8, #T_6b228_row4_col8, #T_6b228_row5_col8, #T_6b228_row6_col8, #T_6b228_row7_col8, #T_6b228_row8_col8, #T_6b228_row9_col8, #T_6b228_row10_col8, #T_6b228_row12_col8, #T_6b228_row13_col8, #T_6b228_row14_col8 {\n",
              "  text-align: left;\n",
              "  background-color: lightgrey;\n",
              "}\n",
              "#T_6b228_row11_col8 {\n",
              "  text-align: left;\n",
              "  background-color: yellow;\n",
              "  background-color: lightgrey;\n",
              "}\n",
              "</style>\n",
              "<table id=\"T_6b228\" class=\"dataframe\">\n",
              "  <thead>\n",
              "    <tr>\n",
              "      <th class=\"blank level0\" >&nbsp;</th>\n",
              "      <th id=\"T_6b228_level0_col0\" class=\"col_heading level0 col0\" >Model</th>\n",
              "      <th id=\"T_6b228_level0_col1\" class=\"col_heading level0 col1\" >Accuracy</th>\n",
              "      <th id=\"T_6b228_level0_col2\" class=\"col_heading level0 col2\" >AUC</th>\n",
              "      <th id=\"T_6b228_level0_col3\" class=\"col_heading level0 col3\" >Recall</th>\n",
              "      <th id=\"T_6b228_level0_col4\" class=\"col_heading level0 col4\" >Prec.</th>\n",
              "      <th id=\"T_6b228_level0_col5\" class=\"col_heading level0 col5\" >F1</th>\n",
              "      <th id=\"T_6b228_level0_col6\" class=\"col_heading level0 col6\" >Kappa</th>\n",
              "      <th id=\"T_6b228_level0_col7\" class=\"col_heading level0 col7\" >MCC</th>\n",
              "      <th id=\"T_6b228_level0_col8\" class=\"col_heading level0 col8\" >TT (Sec)</th>\n",
              "    </tr>\n",
              "  </thead>\n",
              "  <tbody>\n",
              "    <tr>\n",
              "      <th id=\"T_6b228_level0_row0\" class=\"row_heading level0 row0\" >rf</th>\n",
              "      <td id=\"T_6b228_row0_col0\" class=\"data row0 col0\" >Random Forest Classifier</td>\n",
              "      <td id=\"T_6b228_row0_col1\" class=\"data row0 col1\" >0.8319</td>\n",
              "      <td id=\"T_6b228_row0_col2\" class=\"data row0 col2\" >0.8755</td>\n",
              "      <td id=\"T_6b228_row0_col3\" class=\"data row0 col3\" >0.8410</td>\n",
              "      <td id=\"T_6b228_row0_col4\" class=\"data row0 col4\" >0.8287</td>\n",
              "      <td id=\"T_6b228_row0_col5\" class=\"data row0 col5\" >0.8328</td>\n",
              "      <td id=\"T_6b228_row0_col6\" class=\"data row0 col6\" >0.6638</td>\n",
              "      <td id=\"T_6b228_row0_col7\" class=\"data row0 col7\" >0.6671</td>\n",
              "      <td id=\"T_6b228_row0_col8\" class=\"data row0 col8\" >0.3860</td>\n",
              "    </tr>\n",
              "    <tr>\n",
              "      <th id=\"T_6b228_level0_row1\" class=\"row_heading level0 row1\" >gbc</th>\n",
              "      <td id=\"T_6b228_row1_col0\" class=\"data row1 col0\" >Gradient Boosting Classifier</td>\n",
              "      <td id=\"T_6b228_row1_col1\" class=\"data row1 col1\" >0.8189</td>\n",
              "      <td id=\"T_6b228_row1_col2\" class=\"data row1 col2\" >0.8859</td>\n",
              "      <td id=\"T_6b228_row1_col3\" class=\"data row1 col3\" >0.8042</td>\n",
              "      <td id=\"T_6b228_row1_col4\" class=\"data row1 col4\" >0.8294</td>\n",
              "      <td id=\"T_6b228_row1_col5\" class=\"data row1 col5\" >0.8150</td>\n",
              "      <td id=\"T_6b228_row1_col6\" class=\"data row1 col6\" >0.6376</td>\n",
              "      <td id=\"T_6b228_row1_col7\" class=\"data row1 col7\" >0.6403</td>\n",
              "      <td id=\"T_6b228_row1_col8\" class=\"data row1 col8\" >0.2860</td>\n",
              "    </tr>\n",
              "    <tr>\n",
              "      <th id=\"T_6b228_level0_row2\" class=\"row_heading level0 row2\" >xgboost</th>\n",
              "      <td id=\"T_6b228_row2_col0\" class=\"data row2 col0\" >Extreme Gradient Boosting</td>\n",
              "      <td id=\"T_6b228_row2_col1\" class=\"data row2 col1\" >0.8189</td>\n",
              "      <td id=\"T_6b228_row2_col2\" class=\"data row2 col2\" >0.8852</td>\n",
              "      <td id=\"T_6b228_row2_col3\" class=\"data row2 col3\" >0.8146</td>\n",
              "      <td id=\"T_6b228_row2_col4\" class=\"data row2 col4\" >0.8215</td>\n",
              "      <td id=\"T_6b228_row2_col5\" class=\"data row2 col5\" >0.8165</td>\n",
              "      <td id=\"T_6b228_row2_col6\" class=\"data row2 col6\" >0.6377</td>\n",
              "      <td id=\"T_6b228_row2_col7\" class=\"data row2 col7\" >0.6401</td>\n",
              "      <td id=\"T_6b228_row2_col8\" class=\"data row2 col8\" >0.1660</td>\n",
              "    </tr>\n",
              "    <tr>\n",
              "      <th id=\"T_6b228_level0_row3\" class=\"row_heading level0 row3\" >et</th>\n",
              "      <td id=\"T_6b228_row3_col0\" class=\"data row3 col0\" >Extra Trees Classifier</td>\n",
              "      <td id=\"T_6b228_row3_col1\" class=\"data row3 col1\" >0.8150</td>\n",
              "      <td id=\"T_6b228_row3_col2\" class=\"data row3 col2\" >0.8739</td>\n",
              "      <td id=\"T_6b228_row3_col3\" class=\"data row3 col3\" >0.8122</td>\n",
              "      <td id=\"T_6b228_row3_col4\" class=\"data row3 col4\" >0.8181</td>\n",
              "      <td id=\"T_6b228_row3_col5\" class=\"data row3 col5\" >0.8140</td>\n",
              "      <td id=\"T_6b228_row3_col6\" class=\"data row3 col6\" >0.6299</td>\n",
              "      <td id=\"T_6b228_row3_col7\" class=\"data row3 col7\" >0.6317</td>\n",
              "      <td id=\"T_6b228_row3_col8\" class=\"data row3 col8\" >0.4150</td>\n",
              "    </tr>\n",
              "    <tr>\n",
              "      <th id=\"T_6b228_level0_row4\" class=\"row_heading level0 row4\" >lightgbm</th>\n",
              "      <td id=\"T_6b228_row4_col0\" class=\"data row4 col0\" >Light Gradient Boosting Machine</td>\n",
              "      <td id=\"T_6b228_row4_col1\" class=\"data row4 col1\" >0.8137</td>\n",
              "      <td id=\"T_6b228_row4_col2\" class=\"data row4 col2\" >0.8864</td>\n",
              "      <td id=\"T_6b228_row4_col3\" class=\"data row4 col3\" >0.8018</td>\n",
              "      <td id=\"T_6b228_row4_col4\" class=\"data row4 col4\" >0.8212</td>\n",
              "      <td id=\"T_6b228_row4_col5\" class=\"data row4 col5\" >0.8105</td>\n",
              "      <td id=\"T_6b228_row4_col6\" class=\"data row4 col6\" >0.6274</td>\n",
              "      <td id=\"T_6b228_row4_col7\" class=\"data row4 col7\" >0.6288</td>\n",
              "      <td id=\"T_6b228_row4_col8\" class=\"data row4 col8\" >0.1410</td>\n",
              "    </tr>\n",
              "    <tr>\n",
              "      <th id=\"T_6b228_level0_row5\" class=\"row_heading level0 row5\" >dt</th>\n",
              "      <td id=\"T_6b228_row5_col0\" class=\"data row5 col0\" >Decision Tree Classifier</td>\n",
              "      <td id=\"T_6b228_row5_col1\" class=\"data row5 col1\" >0.8098</td>\n",
              "      <td id=\"T_6b228_row5_col2\" class=\"data row5 col2\" >0.8369</td>\n",
              "      <td id=\"T_6b228_row5_col3\" class=\"data row5 col3\" >0.8148</td>\n",
              "      <td id=\"T_6b228_row5_col4\" class=\"data row5 col4\" >0.8073</td>\n",
              "      <td id=\"T_6b228_row5_col5\" class=\"data row5 col5\" >0.8101</td>\n",
              "      <td id=\"T_6b228_row5_col6\" class=\"data row5 col6\" >0.6195</td>\n",
              "      <td id=\"T_6b228_row5_col7\" class=\"data row5 col7\" >0.6210</td>\n",
              "      <td id=\"T_6b228_row5_col8\" class=\"data row5 col8\" >0.0870</td>\n",
              "    </tr>\n",
              "    <tr>\n",
              "      <th id=\"T_6b228_level0_row6\" class=\"row_heading level0 row6\" >ada</th>\n",
              "      <td id=\"T_6b228_row6_col0\" class=\"data row6 col0\" >Ada Boost Classifier</td>\n",
              "      <td id=\"T_6b228_row6_col1\" class=\"data row6 col1\" >0.8046</td>\n",
              "      <td id=\"T_6b228_row6_col2\" class=\"data row6 col2\" >0.8546</td>\n",
              "      <td id=\"T_6b228_row6_col3\" class=\"data row6 col3\" >0.8148</td>\n",
              "      <td id=\"T_6b228_row6_col4\" class=\"data row6 col4\" >0.8006</td>\n",
              "      <td id=\"T_6b228_row6_col5\" class=\"data row6 col5\" >0.8058</td>\n",
              "      <td id=\"T_6b228_row6_col6\" class=\"data row6 col6\" >0.6091</td>\n",
              "      <td id=\"T_6b228_row6_col7\" class=\"data row6 col7\" >0.6123</td>\n",
              "      <td id=\"T_6b228_row6_col8\" class=\"data row6 col8\" >0.1760</td>\n",
              "    </tr>\n",
              "    <tr>\n",
              "      <th id=\"T_6b228_level0_row7\" class=\"row_heading level0 row7\" >lr</th>\n",
              "      <td id=\"T_6b228_row7_col0\" class=\"data row7 col0\" >Logistic Regression</td>\n",
              "      <td id=\"T_6b228_row7_col1\" class=\"data row7 col1\" >0.7850</td>\n",
              "      <td id=\"T_6b228_row7_col2\" class=\"data row7 col2\" >0.8519</td>\n",
              "      <td id=\"T_6b228_row7_col3\" class=\"data row7 col3\" >0.7705</td>\n",
              "      <td id=\"T_6b228_row7_col4\" class=\"data row7 col4\" >0.7930</td>\n",
              "      <td id=\"T_6b228_row7_col5\" class=\"data row7 col5\" >0.7797</td>\n",
              "      <td id=\"T_6b228_row7_col6\" class=\"data row7 col6\" >0.5700</td>\n",
              "      <td id=\"T_6b228_row7_col7\" class=\"data row7 col7\" >0.5728</td>\n",
              "      <td id=\"T_6b228_row7_col8\" class=\"data row7 col8\" >0.1010</td>\n",
              "    </tr>\n",
              "    <tr>\n",
              "      <th id=\"T_6b228_level0_row8\" class=\"row_heading level0 row8\" >ridge</th>\n",
              "      <td id=\"T_6b228_row8_col0\" class=\"data row8 col0\" >Ridge Classifier</td>\n",
              "      <td id=\"T_6b228_row8_col1\" class=\"data row8 col1\" >0.7798</td>\n",
              "      <td id=\"T_6b228_row8_col2\" class=\"data row8 col2\" >0.0000</td>\n",
              "      <td id=\"T_6b228_row8_col3\" class=\"data row8 col3\" >0.7316</td>\n",
              "      <td id=\"T_6b228_row8_col4\" class=\"data row8 col4\" >0.8100</td>\n",
              "      <td id=\"T_6b228_row8_col5\" class=\"data row8 col5\" >0.7669</td>\n",
              "      <td id=\"T_6b228_row8_col6\" class=\"data row8 col6\" >0.5596</td>\n",
              "      <td id=\"T_6b228_row8_col7\" class=\"data row8 col7\" >0.5642</td>\n",
              "      <td id=\"T_6b228_row8_col8\" class=\"data row8 col8\" >0.1420</td>\n",
              "    </tr>\n",
              "    <tr>\n",
              "      <th id=\"T_6b228_level0_row9\" class=\"row_heading level0 row9\" >lda</th>\n",
              "      <td id=\"T_6b228_row9_col0\" class=\"data row9 col0\" >Linear Discriminant Analysis</td>\n",
              "      <td id=\"T_6b228_row9_col1\" class=\"data row9 col1\" >0.7798</td>\n",
              "      <td id=\"T_6b228_row9_col2\" class=\"data row9 col2\" >0.8517</td>\n",
              "      <td id=\"T_6b228_row9_col3\" class=\"data row9 col3\" >0.7316</td>\n",
              "      <td id=\"T_6b228_row9_col4\" class=\"data row9 col4\" >0.8100</td>\n",
              "      <td id=\"T_6b228_row9_col5\" class=\"data row9 col5\" >0.7669</td>\n",
              "      <td id=\"T_6b228_row9_col6\" class=\"data row9 col6\" >0.5596</td>\n",
              "      <td id=\"T_6b228_row9_col7\" class=\"data row9 col7\" >0.5642</td>\n",
              "      <td id=\"T_6b228_row9_col8\" class=\"data row9 col8\" >0.0860</td>\n",
              "    </tr>\n",
              "    <tr>\n",
              "      <th id=\"T_6b228_level0_row10\" class=\"row_heading level0 row10\" >knn</th>\n",
              "      <td id=\"T_6b228_row10_col0\" class=\"data row10 col0\" >K Neighbors Classifier</td>\n",
              "      <td id=\"T_6b228_row10_col1\" class=\"data row10 col1\" >0.7720</td>\n",
              "      <td id=\"T_6b228_row10_col2\" class=\"data row10 col2\" >0.8317</td>\n",
              "      <td id=\"T_6b228_row10_col3\" class=\"data row10 col3\" >0.7783</td>\n",
              "      <td id=\"T_6b228_row10_col4\" class=\"data row10 col4\" >0.7725</td>\n",
              "      <td id=\"T_6b228_row10_col5\" class=\"data row10 col5\" >0.7738</td>\n",
              "      <td id=\"T_6b228_row10_col6\" class=\"data row10 col6\" >0.5440</td>\n",
              "      <td id=\"T_6b228_row10_col7\" class=\"data row10 col7\" >0.5464</td>\n",
              "      <td id=\"T_6b228_row10_col8\" class=\"data row10 col8\" >0.1240</td>\n",
              "    </tr>\n",
              "    <tr>\n",
              "      <th id=\"T_6b228_level0_row11\" class=\"row_heading level0 row11\" >nb</th>\n",
              "      <td id=\"T_6b228_row11_col0\" class=\"data row11 col0\" >Naive Bayes</td>\n",
              "      <td id=\"T_6b228_row11_col1\" class=\"data row11 col1\" >0.7642</td>\n",
              "      <td id=\"T_6b228_row11_col2\" class=\"data row11 col2\" >0.8249</td>\n",
              "      <td id=\"T_6b228_row11_col3\" class=\"data row11 col3\" >0.7810</td>\n",
              "      <td id=\"T_6b228_row11_col4\" class=\"data row11 col4\" >0.7562</td>\n",
              "      <td id=\"T_6b228_row11_col5\" class=\"data row11 col5\" >0.7664</td>\n",
              "      <td id=\"T_6b228_row11_col6\" class=\"data row11 col6\" >0.5284</td>\n",
              "      <td id=\"T_6b228_row11_col7\" class=\"data row11 col7\" >0.5316</td>\n",
              "      <td id=\"T_6b228_row11_col8\" class=\"data row11 col8\" >0.0830</td>\n",
              "    </tr>\n",
              "    <tr>\n",
              "      <th id=\"T_6b228_level0_row12\" class=\"row_heading level0 row12\" >qda</th>\n",
              "      <td id=\"T_6b228_row12_col0\" class=\"data row12 col0\" >Quadratic Discriminant Analysis</td>\n",
              "      <td id=\"T_6b228_row12_col1\" class=\"data row12 col1\" >0.7330</td>\n",
              "      <td id=\"T_6b228_row12_col2\" class=\"data row12 col2\" >0.7901</td>\n",
              "      <td id=\"T_6b228_row12_col3\" class=\"data row12 col3\" >0.7500</td>\n",
              "      <td id=\"T_6b228_row12_col4\" class=\"data row12 col4\" >0.7386</td>\n",
              "      <td id=\"T_6b228_row12_col5\" class=\"data row12 col5\" >0.7358</td>\n",
              "      <td id=\"T_6b228_row12_col6\" class=\"data row12 col6\" >0.4668</td>\n",
              "      <td id=\"T_6b228_row12_col7\" class=\"data row12 col7\" >0.4828</td>\n",
              "      <td id=\"T_6b228_row12_col8\" class=\"data row12 col8\" >0.0880</td>\n",
              "    </tr>\n",
              "    <tr>\n",
              "      <th id=\"T_6b228_level0_row13\" class=\"row_heading level0 row13\" >svm</th>\n",
              "      <td id=\"T_6b228_row13_col0\" class=\"data row13 col0\" >SVM - Linear Kernel</td>\n",
              "      <td id=\"T_6b228_row13_col1\" class=\"data row13 col1\" >0.7275</td>\n",
              "      <td id=\"T_6b228_row13_col2\" class=\"data row13 col2\" >0.0000</td>\n",
              "      <td id=\"T_6b228_row13_col3\" class=\"data row13 col3\" >0.6946</td>\n",
              "      <td id=\"T_6b228_row13_col4\" class=\"data row13 col4\" >0.7874</td>\n",
              "      <td id=\"T_6b228_row13_col5\" class=\"data row13 col5\" >0.6882</td>\n",
              "      <td id=\"T_6b228_row13_col6\" class=\"data row13 col6\" >0.4557</td>\n",
              "      <td id=\"T_6b228_row13_col7\" class=\"data row13 col7\" >0.4941</td>\n",
              "      <td id=\"T_6b228_row13_col8\" class=\"data row13 col8\" >0.0970</td>\n",
              "    </tr>\n",
              "    <tr>\n",
              "      <th id=\"T_6b228_level0_row14\" class=\"row_heading level0 row14\" >dummy</th>\n",
              "      <td id=\"T_6b228_row14_col0\" class=\"data row14 col0\" >Dummy Classifier</td>\n",
              "      <td id=\"T_6b228_row14_col1\" class=\"data row14 col1\" >0.4948</td>\n",
              "      <td id=\"T_6b228_row14_col2\" class=\"data row14 col2\" >0.5000</td>\n",
              "      <td id=\"T_6b228_row14_col3\" class=\"data row14 col3\" >0.4000</td>\n",
              "      <td id=\"T_6b228_row14_col4\" class=\"data row14 col4\" >0.1974</td>\n",
              "      <td id=\"T_6b228_row14_col5\" class=\"data row14 col5\" >0.2643</td>\n",
              "      <td id=\"T_6b228_row14_col6\" class=\"data row14 col6\" >0.0000</td>\n",
              "      <td id=\"T_6b228_row14_col7\" class=\"data row14 col7\" >0.0000</td>\n",
              "      <td id=\"T_6b228_row14_col8\" class=\"data row14 col8\" >0.0860</td>\n",
              "    </tr>\n",
              "  </tbody>\n",
              "</table>\n"
            ],
            "text/plain": [
              "<pandas.io.formats.style.Styler at 0x7f32c8955270>"
            ]
          },
          "metadata": {},
          "output_type": "display_data"
        },
        {
          "data": {
            "application/vnd.jupyter.widget-view+json": {
              "model_id": "ef29f516dae94223aeac7321d762b58b",
              "version_major": 2,
              "version_minor": 0
            },
            "text/plain": [
              "Processing:   0%|          | 0/65 [00:00<?, ?it/s]"
            ]
          },
          "metadata": {
            "application/vnd.jupyter.widget-view+json": {
              "colab": {
                "custom_widget_manager": {
                  "url": "https://ssl.gstatic.com/colaboratory-static/widgets/colab-cdn-widget-manager/b3e629b1971e1542/manager.min.js"
                }
              }
            }
          },
          "output_type": "display_data"
        },
        {
          "data": {
            "text/html": [],
            "text/plain": [
              "<IPython.core.display.HTML object>"
            ]
          },
          "metadata": {},
          "output_type": "display_data"
        }
      ],
      "source": [
        "# Training y selección de modelos\n",
        "best = compare_models()"
      ]
    },
    {
      "cell_type": "code",
      "execution_count": null,
      "metadata": {
        "colab": {
          "base_uri": "https://localhost:8080/",
          "height": 236,
          "referenced_widgets": [
            "a820775686eb44bb8d620273e02284b5",
            "fcf30f1d38c74b22af52b83b19583752",
            "20ec8f12e4bf4c0999d49b35406cc122",
            "dca1dcece5c24050ab7289cf7e6d8e4e",
            "a0c1a8efddd544129a05ee267c6a3aec",
            "9add5fd80d394035a69ecfd63f5899bb",
            "a1153254c94d4f68a81c46ca6c03835c"
          ]
        },
        "id": "TEbMabwROCTf",
        "outputId": "9d307615-939a-4c8f-afdd-86eeee2f344d"
      },
      "outputs": [
        {
          "data": {
            "application/vnd.jupyter.widget-view+json": {
              "model_id": "a820775686eb44bb8d620273e02284b5",
              "version_major": 2,
              "version_minor": 0
            },
            "text/plain": [
              "interactive(children=(ToggleButtons(description='Plot Type:', icons=('',), options=(('Pipeline Plot', 'pipelin…"
            ]
          },
          "metadata": {
            "application/vnd.jupyter.widget-view+json": {
              "colab": {
                "custom_widget_manager": {
                  "url": "https://ssl.gstatic.com/colaboratory-static/widgets/colab-cdn-widget-manager/b3e629b1971e1542/manager.min.js"
                }
              }
            }
          },
          "output_type": "display_data"
        }
      ],
      "source": [
        "evaluate_model(best)"
      ]
    },
    {
      "cell_type": "markdown",
      "metadata": {
        "id": "TA5veinQPgDx"
      },
      "source": [
        "Debido a que las métricas de los modelos no mejoran de manera significativa, se decide continuar con la base de datos no balanceada."
      ]
    },
    {
      "cell_type": "markdown",
      "metadata": {
        "id": "0Xbtl3xDQ-Xb"
      },
      "source": [
        "# Modelos escogidos"
      ]
    },
    {
      "cell_type": "markdown",
      "metadata": {
        "id": "jYb6VcBScswa"
      },
      "source": []
    },
    {
      "cell_type": "markdown",
      "metadata": {
        "id": "Lmt8HP1HRW2H"
      },
      "source": [
        "## Light Gradient Boosting"
      ]
    },
    {
      "cell_type": "markdown",
      "metadata": {
        "id": "9H7HB7QBv1Db"
      },
      "source": [
        "Este modelo se basa en *decision trees* donde nuevos modelos se integran para corregir los errores de predicción de los anteriores.\n",
        "Para la selección de los hiperparámetros, en un ciclo se entrenarán distintos modelos cambiando su valor, se obtendrán las métricas para cada modelo y se escogerán los valores donde se obtuvieron mejores resultados."
      ]
    },
    {
      "cell_type": "markdown",
      "metadata": {
        "id": "nEiJGeZcBDmz"
      },
      "source": [
        "### Funciones para probar distintos hiperparámetros\n"
      ]
    },
    {
      "cell_type": "markdown",
      "metadata": {
        "id": "PcX4tS5yBoRb"
      },
      "source": [
        "Para el número de hojas, en teoría se recomienda una cantidad de 2^profundidad, sin embargo, en práctica esta cantidad no es sugerida ya que puede causar overfitting, por lo que se recomienda usar el 60% de la cantidad recomendada en teoría.\n"
      ]
    },
    {
      "cell_type": "code",
      "execution_count": null,
      "metadata": {
        "id": "j-OSwzH6xfVV"
      },
      "outputs": [],
      "source": [
        "# Número de árboles de decisión\n",
        "def get_models_est(trees):\n",
        "\tmodels = dict()\n",
        "\tfor n in trees:\n",
        "\t\tmodels[str(n)] = LGBMClassifier(n_estimators=n, force_row_wise=True, verbose = -1)\n",
        "\treturn models\n",
        "\n",
        "# Profundidad máxima del modelo y número de hojas\n",
        "def get_models_depth(d):\n",
        "\tmodels = dict()\n",
        "\tfor i in range(1,d+1):\n",
        "\t\tmodels[str(i)] = LGBMClassifier(n_estimators=20, max_depth=i, num_leaves=int(np.ceil(2**i*0.6)), force_row_wise=True, verbose = -1)\n",
        "\treturn models\n",
        "\n",
        "# Tipos de boost\n",
        "def get_models_boost():\n",
        "  models = dict()\n",
        "  types = ['gbdt', 'dart', 'goss']\n",
        "  for t in types:\n",
        "    models[t] = LGBMClassifier(n_estimators=20, max_depth=2, num_leaves=int(np.ceil(2**2*0.6)),\n",
        "                               boosting_type=t, force_row_wise=True, verbose = -1)\n",
        "  return models\n",
        "\n",
        "# Distintos valores de learning rate (muy pequeño a muy grande)\n",
        "def get_models_lr(rates):\n",
        "  models = dict()\n",
        "  for r in rates:\n",
        "    key = '%.4f' % r\n",
        "    models[key] = LGBMClassifier(n_estimators=20, max_depth=2, num_leaves=int(np.ceil(2**2*0.6)),\n",
        "                               boosting_type='goss', learning_rate=r, force_row_wise=True, verbose = -1)\n",
        "  return models\n",
        "\n",
        "\n",
        "# Fit y test de los modelos\n",
        "def fit_model(models):\n",
        "  results, names = list(), list()\n",
        "  for name,model in models.items(): # selección de cada modelo\n",
        "    model.fit(x_train, y_train) # entrenamiento\n",
        "    y_pred = model.predict(test) # predicciones\n",
        "    # medidas de aprendizaje\n",
        "    results.append([accuracy_score(y_test, y_pred), precision_score(y_test, y_pred),\n",
        "                    recall_score(y_test, y_pred), f1_score(y_test, y_pred)])\n",
        "    names.append(name)\n",
        "\n",
        "  results = pd.DataFrame(results) # tabla con resultados de todos los modelos\n",
        "  results.columns = ['Accuracy', 'Precision','Recall','f-1']\n",
        "  return results, names"
      ]
    },
    {
      "cell_type": "markdown",
      "metadata": {
        "id": "Xtx788LgC7bA"
      },
      "source": [
        "### Variación de hiperparámetros"
      ]
    },
    {
      "cell_type": "markdown",
      "metadata": {
        "id": "otPwEb_9DWr6"
      },
      "source": [
        "En este apartado se implementarán modelos para distintos valores de los hiperparámetros, en la primera gráfica se observa el comportamiento de las métricas de aprendizaje y en la segunda un heatmap que se lee por columnas para encontrar el mejor valor de esa métrica dependiendo del valor del hiperparámetro.\n",
        "\n",
        "La técnica utilizada para establecer los hiperparámetros es empezar analizando el número de estimadores, se establece el número que mejora las métricas y este es usado para el análisis del siguiente hiperparámetro, con los nuevos resultados de las métricas, se observa el comportamiento y se decide si se implementa este nuevo hiperparámetro o se deja con su valor por default."
      ]
    },
    {
      "cell_type": "markdown",
      "metadata": {
        "id": "2Y2A45ZTC-wY"
      },
      "source": [
        "#### **Número de estimadores**"
      ]
    },
    {
      "cell_type": "markdown",
      "metadata": {
        "id": "A_yvu8IZE8y6"
      },
      "source": [
        "En las primeras gráficas se observa que el mejor número de estimadores, en la mayoría de las métricas, es 10. Después, se realizó un análisis en el rango de 10 a 25, para observar si en este rango se encontraba un número que mejorara los valores de las métricas."
      ]
    },
    {
      "cell_type": "code",
      "execution_count": null,
      "metadata": {
        "colab": {
          "base_uri": "https://localhost:8080/"
        },
        "id": "HI3IEtPn8hiK",
        "outputId": "bab50366-b58f-42a2-f7d6-3b7c5f7381d6"
      },
      "outputs": [
        {
          "data": {
            "image/png": "[encoded data removed]",
            "text/plain": [
              "<Figure size 800x550 with 1 Axes>"
            ]
          },
          "metadata": {},
          "output_type": "display_data"
        },
        {
          "data": {
            "text/html": [
              "<style type=\"text/css\">\n",
              "#T_02549_row0_col0, #T_02549_row0_col1, #T_02549_row0_col3, #T_02549_row1_col2, #T_02549_row5_col2 {\n",
              "  background-color: #fde725;\n",
              "  color: #000000;\n",
              "  font-size: 20px;\n",
              "}\n",
              "#T_02549_row0_col2, #T_02549_row2_col3, #T_02549_row5_col0, #T_02549_row5_col1 {\n",
              "  background-color: #440154;\n",
              "  color: #f1f1f1;\n",
              "  font-size: 20px;\n",
              "}\n",
              "#T_02549_row1_col0, #T_02549_row2_col0, #T_02549_row4_col1 {\n",
              "  background-color: #481b6d;\n",
              "  color: #f1f1f1;\n",
              "  font-size: 20px;\n",
              "}\n",
              "#T_02549_row1_col1 {\n",
              "  background-color: #471063;\n",
              "  color: #f1f1f1;\n",
              "  font-size: 20px;\n",
              "}\n",
              "#T_02549_row1_col3 {\n",
              "  background-color: #365c8d;\n",
              "  color: #f1f1f1;\n",
              "  font-size: 20px;\n",
              "}\n",
              "#T_02549_row2_col1 {\n",
              "  background-color: #481d6f;\n",
              "  color: #f1f1f1;\n",
              "  font-size: 20px;\n",
              "}\n",
              "#T_02549_row2_col2 {\n",
              "  background-color: #40bd72;\n",
              "  color: #f1f1f1;\n",
              "  font-size: 20px;\n",
              "}\n",
              "#T_02549_row3_col0 {\n",
              "  background-color: #470e61;\n",
              "  color: #f1f1f1;\n",
              "  font-size: 20px;\n",
              "}\n",
              "#T_02549_row3_col1 {\n",
              "  background-color: #471365;\n",
              "  color: #f1f1f1;\n",
              "  font-size: 20px;\n",
              "}\n",
              "#T_02549_row3_col2 {\n",
              "  background-color: #67cc5c;\n",
              "  color: #000000;\n",
              "  font-size: 20px;\n",
              "}\n",
              "#T_02549_row3_col3 {\n",
              "  background-color: #450559;\n",
              "  color: #f1f1f1;\n",
              "  font-size: 20px;\n",
              "}\n",
              "#T_02549_row4_col0 {\n",
              "  background-color: #482878;\n",
              "  color: #f1f1f1;\n",
              "  font-size: 20px;\n",
              "}\n",
              "#T_02549_row4_col2 {\n",
              "  background-color: #cde11d;\n",
              "  color: #000000;\n",
              "  font-size: 20px;\n",
              "}\n",
              "#T_02549_row4_col3 {\n",
              "  background-color: #38598c;\n",
              "  color: #f1f1f1;\n",
              "  font-size: 20px;\n",
              "}\n",
              "#T_02549_row5_col3 {\n",
              "  background-color: #443983;\n",
              "  color: #f1f1f1;\n",
              "  font-size: 20px;\n",
              "}\n",
              "</style>\n",
              "<table id=\"T_02549\" class=\"dataframe\">\n",
              "  <thead>\n",
              "    <tr>\n",
              "      <th class=\"blank level0\" >&nbsp;</th>\n",
              "      <th id=\"T_02549_level0_col0\" class=\"col_heading level0 col0\" >Accuracy</th>\n",
              "      <th id=\"T_02549_level0_col1\" class=\"col_heading level0 col1\" >Precision</th>\n",
              "      <th id=\"T_02549_level0_col2\" class=\"col_heading level0 col2\" >Recall</th>\n",
              "      <th id=\"T_02549_level0_col3\" class=\"col_heading level0 col3\" >f-1</th>\n",
              "    </tr>\n",
              "  </thead>\n",
              "  <tbody>\n",
              "    <tr>\n",
              "      <th id=\"T_02549_level0_row0\" class=\"row_heading level0 row0\" >0</th>\n",
              "      <td id=\"T_02549_row0_col0\" class=\"data row0 col0\" >0.779376</td>\n",
              "      <td id=\"T_02549_row0_col1\" class=\"data row0 col1\" >0.800000</td>\n",
              "      <td id=\"T_02549_row0_col2\" class=\"data row0 col2\" >0.556962</td>\n",
              "      <td id=\"T_02549_row0_col3\" class=\"data row0 col3\" >0.656716</td>\n",
              "    </tr>\n",
              "    <tr>\n",
              "      <th id=\"T_02549_level0_row1\" class=\"row_heading level0 row1\" >1</th>\n",
              "      <td id=\"T_02549_row1_col0\" class=\"data row1 col0\" >0.719424</td>\n",
              "      <td id=\"T_02549_row1_col1\" class=\"data row1 col1\" >0.627329</td>\n",
              "      <td id=\"T_02549_row1_col2\" class=\"data row1 col2\" >0.639241</td>\n",
              "      <td id=\"T_02549_row1_col3\" class=\"data row1 col3\" >0.633229</td>\n",
              "    </tr>\n",
              "    <tr>\n",
              "      <th id=\"T_02549_level0_row2\" class=\"row_heading level0 row2\" >2</th>\n",
              "      <td id=\"T_02549_row2_col0\" class=\"data row2 col0\" >0.719424</td>\n",
              "      <td id=\"T_02549_row2_col1\" class=\"data row2 col1\" >0.633987</td>\n",
              "      <td id=\"T_02549_row2_col2\" class=\"data row2 col2\" >0.613924</td>\n",
              "      <td id=\"T_02549_row2_col3\" class=\"data row2 col3\" >0.623794</td>\n",
              "    </tr>\n",
              "    <tr>\n",
              "      <th id=\"T_02549_level0_row3\" class=\"row_heading level0 row3\" >3</th>\n",
              "      <td id=\"T_02549_row3_col0\" class=\"data row3 col0\" >0.717026</td>\n",
              "      <td id=\"T_02549_row3_col1\" class=\"data row3 col1\" >0.628205</td>\n",
              "      <td id=\"T_02549_row3_col2\" class=\"data row3 col2\" >0.620253</td>\n",
              "      <td id=\"T_02549_row3_col3\" class=\"data row3 col3\" >0.624204</td>\n",
              "    </tr>\n",
              "    <tr>\n",
              "      <th id=\"T_02549_level0_row4\" class=\"row_heading level0 row4\" >4</th>\n",
              "      <td id=\"T_02549_row4_col0\" class=\"data row4 col0\" >0.721823</td>\n",
              "      <td id=\"T_02549_row4_col1\" class=\"data row4 col1\" >0.632911</td>\n",
              "      <td id=\"T_02549_row4_col2\" class=\"data row4 col2\" >0.632911</td>\n",
              "      <td id=\"T_02549_row4_col3\" class=\"data row4 col3\" >0.632911</td>\n",
              "    </tr>\n",
              "    <tr>\n",
              "      <th id=\"T_02549_level0_row5\" class=\"row_heading level0 row5\" >5</th>\n",
              "      <td id=\"T_02549_row5_col0\" class=\"data row5 col0\" >0.714628</td>\n",
              "      <td id=\"T_02549_row5_col1\" class=\"data row5 col1\" >0.619632</td>\n",
              "      <td id=\"T_02549_row5_col2\" class=\"data row5 col2\" >0.639241</td>\n",
              "      <td id=\"T_02549_row5_col3\" class=\"data row5 col3\" >0.629283</td>\n",
              "    </tr>\n",
              "  </tbody>\n",
              "</table>\n"
            ],
            "text/plain": [
              "<pandas.io.formats.style.Styler at 0x7b06e08f50f0>"
            ]
          },
          "execution_count": 9,
          "metadata": {},
          "output_type": "execute_result"
        }
      ],
      "source": [
        "# Creación de modelos\n",
        "models = get_models_est([10, 50, 100, 500, 1000, 5000])\n",
        "\n",
        "# Entrenamiento de modelos\n",
        "results_est, names = fit_model(models)\n",
        "\n",
        "# Gráficas de métricas de aprendizaje\n",
        "plt.plot(names, results_est)\n",
        "plt.legend(results_est.columns)\n",
        "plt.show()\n",
        "\n",
        "results_est.style.background_gradient(cmap ='viridis')\\\n",
        "        .set_properties(**{'font-size': '20px'})"
      ]
    },
    {
      "cell_type": "markdown",
      "metadata": {
        "id": "SyQubvJ7GZEW"
      },
      "source": [
        "En este nuevo análisis, podemos observar que aunque con 10 estimadores se obtiene mejor *accuracy* y *precision*, con 20 se obtienen mejores valores para el *recall* y *f1 score*. Ya que los valores de *accuracy* son muy parecidos entre ambos valores (diferencia de 0.007) y el *f1 score* es una métrica que combina *precision* y *recall*, se decidió un valor final de 20 debido a su mayor valor en esta última métrica."
      ]
    },
    {
      "cell_type": "code",
      "execution_count": null,
      "metadata": {
        "colab": {
          "base_uri": "https://localhost:8080/"
        },
        "id": "ta5vcjumFOKU",
        "outputId": "be82692d-e029-4fd8-d213-437d6d39fe0f"
      },
      "outputs": [
        {
          "data": {
            "image/png": "[encoded data removed]",
            "text/plain": [
              "<Figure size 800x550 with 1 Axes>"
            ]
          },
          "metadata": {},
          "output_type": "display_data"
        },
        {
          "data": {
            "text/html": [
              "<style type=\"text/css\">\n",
              "#T_fd8a8_row0_col0, #T_fd8a8_row0_col1, #T_fd8a8_row2_col2, #T_fd8a8_row2_col3 {\n",
              "  background-color: #fde725;\n",
              "  color: #000000;\n",
              "  font-size: 20px;\n",
              "}\n",
              "#T_fd8a8_row0_col2, #T_fd8a8_row0_col3, #T_fd8a8_row3_col0, #T_fd8a8_row3_col1 {\n",
              "  background-color: #440154;\n",
              "  color: #f1f1f1;\n",
              "  font-size: 20px;\n",
              "}\n",
              "#T_fd8a8_row1_col0 {\n",
              "  background-color: #5cc863;\n",
              "  color: #000000;\n",
              "  font-size: 20px;\n",
              "}\n",
              "#T_fd8a8_row1_col1 {\n",
              "  background-color: #2a788e;\n",
              "  color: #f1f1f1;\n",
              "  font-size: 20px;\n",
              "}\n",
              "#T_fd8a8_row1_col2 {\n",
              "  background-color: #22a884;\n",
              "  color: #f1f1f1;\n",
              "  font-size: 20px;\n",
              "}\n",
              "#T_fd8a8_row1_col3 {\n",
              "  background-color: #25ab82;\n",
              "  color: #f1f1f1;\n",
              "  font-size: 20px;\n",
              "}\n",
              "#T_fd8a8_row2_col0 {\n",
              "  background-color: #27ad81;\n",
              "  color: #f1f1f1;\n",
              "  font-size: 20px;\n",
              "}\n",
              "#T_fd8a8_row2_col1 {\n",
              "  background-color: #482878;\n",
              "  color: #f1f1f1;\n",
              "  font-size: 20px;\n",
              "}\n",
              "#T_fd8a8_row3_col2 {\n",
              "  background-color: #35b779;\n",
              "  color: #f1f1f1;\n",
              "  font-size: 20px;\n",
              "}\n",
              "#T_fd8a8_row3_col3 {\n",
              "  background-color: #414287;\n",
              "  color: #f1f1f1;\n",
              "  font-size: 20px;\n",
              "}\n",
              "</style>\n",
              "<table id=\"T_fd8a8\" class=\"dataframe\">\n",
              "  <thead>\n",
              "    <tr>\n",
              "      <th class=\"blank level0\" >&nbsp;</th>\n",
              "      <th id=\"T_fd8a8_level0_col0\" class=\"col_heading level0 col0\" >Accuracy</th>\n",
              "      <th id=\"T_fd8a8_level0_col1\" class=\"col_heading level0 col1\" >Precision</th>\n",
              "      <th id=\"T_fd8a8_level0_col2\" class=\"col_heading level0 col2\" >Recall</th>\n",
              "      <th id=\"T_fd8a8_level0_col3\" class=\"col_heading level0 col3\" >f-1</th>\n",
              "    </tr>\n",
              "  </thead>\n",
              "  <tbody>\n",
              "    <tr>\n",
              "      <th id=\"T_fd8a8_level0_row0\" class=\"row_heading level0 row0\" >0</th>\n",
              "      <td id=\"T_fd8a8_row0_col0\" class=\"data row0 col0\" >0.779376</td>\n",
              "      <td id=\"T_fd8a8_row0_col1\" class=\"data row0 col1\" >0.800000</td>\n",
              "      <td id=\"T_fd8a8_row0_col2\" class=\"data row0 col2\" >0.556962</td>\n",
              "      <td id=\"T_fd8a8_row0_col3\" class=\"data row0 col3\" >0.656716</td>\n",
              "    </tr>\n",
              "    <tr>\n",
              "      <th id=\"T_fd8a8_level0_row1\" class=\"row_heading level0 row1\" >1</th>\n",
              "      <td id=\"T_fd8a8_row1_col0\" class=\"data row1 col0\" >0.774580</td>\n",
              "      <td id=\"T_fd8a8_row1_col1\" class=\"data row1 col1\" >0.746154</td>\n",
              "      <td id=\"T_fd8a8_row1_col2\" class=\"data row1 col2\" >0.613924</td>\n",
              "      <td id=\"T_fd8a8_row1_col3\" class=\"data row1 col3\" >0.673611</td>\n",
              "    </tr>\n",
              "    <tr>\n",
              "      <th id=\"T_fd8a8_level0_row2\" class=\"row_heading level0 row2\" >2</th>\n",
              "      <td id=\"T_fd8a8_row2_col0\" class=\"data row2 col0\" >0.772182</td>\n",
              "      <td id=\"T_fd8a8_row2_col1\" class=\"data row2 col1\" >0.720280</td>\n",
              "      <td id=\"T_fd8a8_row2_col2\" class=\"data row2 col2\" >0.651899</td>\n",
              "      <td id=\"T_fd8a8_row2_col3\" class=\"data row2 col3\" >0.684385</td>\n",
              "    </tr>\n",
              "    <tr>\n",
              "      <th id=\"T_fd8a8_level0_row3\" class=\"row_heading level0 row3\" >3</th>\n",
              "      <td id=\"T_fd8a8_row3_col0\" class=\"data row3 col0\" >0.760192</td>\n",
              "      <td id=\"T_fd8a8_row3_col1\" class=\"data row3 col1\" >0.710145</td>\n",
              "      <td id=\"T_fd8a8_row3_col2\" class=\"data row3 col2\" >0.620253</td>\n",
              "      <td id=\"T_fd8a8_row3_col3\" class=\"data row3 col3\" >0.662162</td>\n",
              "    </tr>\n",
              "  </tbody>\n",
              "</table>\n"
            ],
            "text/plain": [
              "<pandas.io.formats.style.Styler at 0x7b06e06b2950>"
            ]
          },
          "execution_count": 10,
          "metadata": {},
          "output_type": "execute_result"
        }
      ],
      "source": [
        "# Creación de modelos\n",
        "models = get_models_est([10, 15, 20, 25])\n",
        "\n",
        "# Entrenamiento de modelos\n",
        "results_est, names = fit_model(models)\n",
        "\n",
        "# Gráficas de métricas de aprendizaje\n",
        "plt.plot(names, results_est)\n",
        "plt.legend(results_est.columns)\n",
        "plt.show()\n",
        "\n",
        "results_est.style.background_gradient(cmap ='viridis')\\\n",
        "        .set_properties(**{'font-size': '20px'})"
      ]
    },
    {
      "cell_type": "markdown",
      "metadata": {
        "id": "9JoY3PwDDA0h"
      },
      "source": [
        "#### **Profundidad máxima y número de hojas**"
      ]
    },
    {
      "cell_type": "markdown",
      "metadata": {
        "id": "vVUqUwhhHQUG"
      },
      "source": [
        "Estableciendo en las funciones un número de estimador de 20, se prueban distintas profundidades y se obtiene que el modelo es mejor cuando esta es igual a 2 y tiene un número de hojas de 3. Al comparar estas métricas con las anteriores, podemos observar que tanto el *accuracy* como *f1 score* aumentaron.\n",
        "\n",
        "Además, podemos observar que nuestras métricas se estabilizan a partir de una profundidad de 7."
      ]
    },
    {
      "cell_type": "code",
      "execution_count": null,
      "metadata": {
        "colab": {
          "base_uri": "https://localhost:8080/"
        },
        "id": "99Lqg_5790r7",
        "outputId": "5134faf3-3684-4aa2-e788-e9ab55e8482a"
      },
      "outputs": [
        {
          "data": {
            "image/png": "[encoded data removed]",
            "text/plain": [
              "<Figure size 800x550 with 1 Axes>"
            ]
          },
          "metadata": {},
          "output_type": "display_data"
        },
        {
          "data": {
            "text/html": [
              "<style type=\"text/css\">\n",
              "#T_d6b1e_row0_col0 {\n",
              "  background-color: #4ac16d;\n",
              "  color: #000000;\n",
              "  font-size: 20px;\n",
              "}\n",
              "#T_d6b1e_row0_col1 {\n",
              "  background-color: #1f968b;\n",
              "  color: #f1f1f1;\n",
              "  font-size: 20px;\n",
              "}\n",
              "#T_d6b1e_row0_col2 {\n",
              "  background-color: #d2e21b;\n",
              "  color: #000000;\n",
              "  font-size: 20px;\n",
              "}\n",
              "#T_d6b1e_row0_col3 {\n",
              "  background-color: #d5e21a;\n",
              "  color: #000000;\n",
              "  font-size: 20px;\n",
              "}\n",
              "#T_d6b1e_row1_col0, #T_d6b1e_row1_col3, #T_d6b1e_row2_col2, #T_d6b1e_row3_col1 {\n",
              "  background-color: #fde725;\n",
              "  color: #000000;\n",
              "  font-size: 20px;\n",
              "}\n",
              "#T_d6b1e_row1_col1 {\n",
              "  background-color: #70cf57;\n",
              "  color: #000000;\n",
              "  font-size: 20px;\n",
              "}\n",
              "#T_d6b1e_row1_col2 {\n",
              "  background-color: #a5db36;\n",
              "  color: #000000;\n",
              "  font-size: 20px;\n",
              "}\n",
              "#T_d6b1e_row2_col0, #T_d6b1e_row2_col1, #T_d6b1e_row3_col2, #T_d6b1e_row3_col3 {\n",
              "  background-color: #440154;\n",
              "  color: #f1f1f1;\n",
              "  font-size: 20px;\n",
              "}\n",
              "#T_d6b1e_row2_col3 {\n",
              "  background-color: #48c16e;\n",
              "  color: #f1f1f1;\n",
              "  font-size: 20px;\n",
              "}\n",
              "#T_d6b1e_row3_col0, #T_d6b1e_row4_col0 {\n",
              "  background-color: #46327e;\n",
              "  color: #f1f1f1;\n",
              "  font-size: 20px;\n",
              "}\n",
              "#T_d6b1e_row4_col1 {\n",
              "  background-color: #73d056;\n",
              "  color: #000000;\n",
              "  font-size: 20px;\n",
              "}\n",
              "#T_d6b1e_row4_col2 {\n",
              "  background-color: #414487;\n",
              "  color: #f1f1f1;\n",
              "  font-size: 20px;\n",
              "}\n",
              "#T_d6b1e_row4_col3, #T_d6b1e_row5_col3 {\n",
              "  background-color: #443983;\n",
              "  color: #f1f1f1;\n",
              "  font-size: 20px;\n",
              "}\n",
              "#T_d6b1e_row5_col0 {\n",
              "  background-color: #365c8d;\n",
              "  color: #f1f1f1;\n",
              "  font-size: 20px;\n",
              "}\n",
              "#T_d6b1e_row5_col1 {\n",
              "  background-color: #ece51b;\n",
              "  color: #000000;\n",
              "  font-size: 20px;\n",
              "}\n",
              "#T_d6b1e_row5_col2 {\n",
              "  background-color: #472f7d;\n",
              "  color: #f1f1f1;\n",
              "  font-size: 20px;\n",
              "}\n",
              "#T_d6b1e_row6_col0, #T_d6b1e_row7_col0, #T_d6b1e_row8_col0, #T_d6b1e_row9_col0, #T_d6b1e_row10_col0, #T_d6b1e_row11_col0, #T_d6b1e_row12_col0, #T_d6b1e_row13_col0, #T_d6b1e_row14_col0, #T_d6b1e_row15_col0, #T_d6b1e_row16_col0 {\n",
              "  background-color: #277f8e;\n",
              "  color: #f1f1f1;\n",
              "  font-size: 20px;\n",
              "}\n",
              "#T_d6b1e_row6_col1, #T_d6b1e_row7_col1, #T_d6b1e_row8_col1, #T_d6b1e_row9_col1, #T_d6b1e_row10_col1, #T_d6b1e_row11_col1, #T_d6b1e_row12_col1, #T_d6b1e_row13_col1, #T_d6b1e_row14_col1, #T_d6b1e_row15_col1, #T_d6b1e_row16_col1 {\n",
              "  background-color: #addc30;\n",
              "  color: #000000;\n",
              "  font-size: 20px;\n",
              "}\n",
              "#T_d6b1e_row6_col2, #T_d6b1e_row7_col2, #T_d6b1e_row8_col2, #T_d6b1e_row9_col2, #T_d6b1e_row10_col2, #T_d6b1e_row11_col2, #T_d6b1e_row12_col2, #T_d6b1e_row13_col2, #T_d6b1e_row14_col2, #T_d6b1e_row15_col2, #T_d6b1e_row16_col2 {\n",
              "  background-color: #31688e;\n",
              "  color: #f1f1f1;\n",
              "  font-size: 20px;\n",
              "}\n",
              "#T_d6b1e_row6_col3, #T_d6b1e_row7_col3, #T_d6b1e_row8_col3, #T_d6b1e_row9_col3, #T_d6b1e_row10_col3, #T_d6b1e_row11_col3, #T_d6b1e_row12_col3, #T_d6b1e_row13_col3, #T_d6b1e_row14_col3, #T_d6b1e_row15_col3, #T_d6b1e_row16_col3 {\n",
              "  background-color: #2b748e;\n",
              "  color: #f1f1f1;\n",
              "  font-size: 20px;\n",
              "}\n",
              "</style>\n",
              "<table id=\"T_d6b1e\" class=\"dataframe\">\n",
              "  <thead>\n",
              "    <tr>\n",
              "      <th class=\"blank level0\" >&nbsp;</th>\n",
              "      <th id=\"T_d6b1e_level0_col0\" class=\"col_heading level0 col0\" >Accuracy</th>\n",
              "      <th id=\"T_d6b1e_level0_col1\" class=\"col_heading level0 col1\" >Precision</th>\n",
              "      <th id=\"T_d6b1e_level0_col2\" class=\"col_heading level0 col2\" >Recall</th>\n",
              "      <th id=\"T_d6b1e_level0_col3\" class=\"col_heading level0 col3\" >f-1</th>\n",
              "    </tr>\n",
              "  </thead>\n",
              "  <tbody>\n",
              "    <tr>\n",
              "      <th id=\"T_d6b1e_level0_row0\" class=\"row_heading level0 row0\" >0</th>\n",
              "      <td id=\"T_d6b1e_row0_col0\" class=\"data row0 col0\" >0.776978</td>\n",
              "      <td id=\"T_d6b1e_row0_col1\" class=\"data row0 col1\" >0.704403</td>\n",
              "      <td id=\"T_d6b1e_row0_col2\" class=\"data row0 col2\" >0.708861</td>\n",
              "      <td id=\"T_d6b1e_row0_col3\" class=\"data row0 col3\" >0.706625</td>\n",
              "    </tr>\n",
              "    <tr>\n",
              "      <th id=\"T_d6b1e_level0_row1\" class=\"row_heading level0 row1\" >1</th>\n",
              "      <td id=\"T_d6b1e_row1_col0\" class=\"data row1 col0\" >0.781775</td>\n",
              "      <td id=\"T_d6b1e_row1_col1\" class=\"data row1 col1\" >0.716129</td>\n",
              "      <td id=\"T_d6b1e_row1_col2\" class=\"data row1 col2\" >0.702532</td>\n",
              "      <td id=\"T_d6b1e_row1_col3\" class=\"data row1 col3\" >0.709265</td>\n",
              "    </tr>\n",
              "    <tr>\n",
              "      <th id=\"T_d6b1e_level0_row2\" class=\"row_heading level0 row2\" >2</th>\n",
              "      <td id=\"T_d6b1e_row2_col0\" class=\"data row2 col0\" >0.764988</td>\n",
              "      <td id=\"T_d6b1e_row2_col1\" class=\"data row2 col1\" >0.680723</td>\n",
              "      <td id=\"T_d6b1e_row2_col2\" class=\"data row2 col2\" >0.715190</td>\n",
              "      <td id=\"T_d6b1e_row2_col3\" class=\"data row2 col3\" >0.697531</td>\n",
              "    </tr>\n",
              "    <tr>\n",
              "      <th id=\"T_d6b1e_level0_row3\" class=\"row_heading level0 row3\" >3</th>\n",
              "      <td id=\"T_d6b1e_row3_col0\" class=\"data row3 col0\" >0.767386</td>\n",
              "      <td id=\"T_d6b1e_row3_col1\" class=\"data row3 col1\" >0.725926</td>\n",
              "      <td id=\"T_d6b1e_row3_col2\" class=\"data row3 col2\" >0.620253</td>\n",
              "      <td id=\"T_d6b1e_row3_col3\" class=\"data row3 col3\" >0.668942</td>\n",
              "    </tr>\n",
              "    <tr>\n",
              "      <th id=\"T_d6b1e_level0_row4\" class=\"row_heading level0 row4\" >4</th>\n",
              "      <td id=\"T_d6b1e_row4_col0\" class=\"data row4 col0\" >0.767386</td>\n",
              "      <td id=\"T_d6b1e_row4_col1\" class=\"data row4 col1\" >0.716312</td>\n",
              "      <td id=\"T_d6b1e_row4_col2\" class=\"data row4 col2\" >0.639241</td>\n",
              "      <td id=\"T_d6b1e_row4_col3\" class=\"data row4 col3\" >0.675585</td>\n",
              "    </tr>\n",
              "    <tr>\n",
              "      <th id=\"T_d6b1e_level0_row5\" class=\"row_heading level0 row5\" >5</th>\n",
              "      <td id=\"T_d6b1e_row5_col0\" class=\"data row5 col0\" >0.769784</td>\n",
              "      <td id=\"T_d6b1e_row5_col1\" class=\"data row5 col1\" >0.724638</td>\n",
              "      <td id=\"T_d6b1e_row5_col2\" class=\"data row5 col2\" >0.632911</td>\n",
              "      <td id=\"T_d6b1e_row5_col3\" class=\"data row5 col3\" >0.675676</td>\n",
              "    </tr>\n",
              "    <tr>\n",
              "      <th id=\"T_d6b1e_level0_row6\" class=\"row_heading level0 row6\" >6</th>\n",
              "      <td id=\"T_d6b1e_row6_col0\" class=\"data row6 col0\" >0.772182</td>\n",
              "      <td id=\"T_d6b1e_row6_col1\" class=\"data row6 col1\" >0.720280</td>\n",
              "      <td id=\"T_d6b1e_row6_col2\" class=\"data row6 col2\" >0.651899</td>\n",
              "      <td id=\"T_d6b1e_row6_col3\" class=\"data row6 col3\" >0.684385</td>\n",
              "    </tr>\n",
              "    <tr>\n",
              "      <th id=\"T_d6b1e_level0_row7\" class=\"row_heading level0 row7\" >7</th>\n",
              "      <td id=\"T_d6b1e_row7_col0\" class=\"data row7 col0\" >0.772182</td>\n",
              "      <td id=\"T_d6b1e_row7_col1\" class=\"data row7 col1\" >0.720280</td>\n",
              "      <td id=\"T_d6b1e_row7_col2\" class=\"data row7 col2\" >0.651899</td>\n",
              "      <td id=\"T_d6b1e_row7_col3\" class=\"data row7 col3\" >0.684385</td>\n",
              "    </tr>\n",
              "    <tr>\n",
              "      <th id=\"T_d6b1e_level0_row8\" class=\"row_heading level0 row8\" >8</th>\n",
              "      <td id=\"T_d6b1e_row8_col0\" class=\"data row8 col0\" >0.772182</td>\n",
              "      <td id=\"T_d6b1e_row8_col1\" class=\"data row8 col1\" >0.720280</td>\n",
              "      <td id=\"T_d6b1e_row8_col2\" class=\"data row8 col2\" >0.651899</td>\n",
              "      <td id=\"T_d6b1e_row8_col3\" class=\"data row8 col3\" >0.684385</td>\n",
              "    </tr>\n",
              "    <tr>\n",
              "      <th id=\"T_d6b1e_level0_row9\" class=\"row_heading level0 row9\" >9</th>\n",
              "      <td id=\"T_d6b1e_row9_col0\" class=\"data row9 col0\" >0.772182</td>\n",
              "      <td id=\"T_d6b1e_row9_col1\" class=\"data row9 col1\" >0.720280</td>\n",
              "      <td id=\"T_d6b1e_row9_col2\" class=\"data row9 col2\" >0.651899</td>\n",
              "      <td id=\"T_d6b1e_row9_col3\" class=\"data row9 col3\" >0.684385</td>\n",
              "    </tr>\n",
              "    <tr>\n",
              "      <th id=\"T_d6b1e_level0_row10\" class=\"row_heading level0 row10\" >10</th>\n",
              "      <td id=\"T_d6b1e_row10_col0\" class=\"data row10 col0\" >0.772182</td>\n",
              "      <td id=\"T_d6b1e_row10_col1\" class=\"data row10 col1\" >0.720280</td>\n",
              "      <td id=\"T_d6b1e_row10_col2\" class=\"data row10 col2\" >0.651899</td>\n",
              "      <td id=\"T_d6b1e_row10_col3\" class=\"data row10 col3\" >0.684385</td>\n",
              "    </tr>\n",
              "    <tr>\n",
              "      <th id=\"T_d6b1e_level0_row11\" class=\"row_heading level0 row11\" >11</th>\n",
              "      <td id=\"T_d6b1e_row11_col0\" class=\"data row11 col0\" >0.772182</td>\n",
              "      <td id=\"T_d6b1e_row11_col1\" class=\"data row11 col1\" >0.720280</td>\n",
              "      <td id=\"T_d6b1e_row11_col2\" class=\"data row11 col2\" >0.651899</td>\n",
              "      <td id=\"T_d6b1e_row11_col3\" class=\"data row11 col3\" >0.684385</td>\n",
              "    </tr>\n",
              "    <tr>\n",
              "      <th id=\"T_d6b1e_level0_row12\" class=\"row_heading level0 row12\" >12</th>\n",
              "      <td id=\"T_d6b1e_row12_col0\" class=\"data row12 col0\" >0.772182</td>\n",
              "      <td id=\"T_d6b1e_row12_col1\" class=\"data row12 col1\" >0.720280</td>\n",
              "      <td id=\"T_d6b1e_row12_col2\" class=\"data row12 col2\" >0.651899</td>\n",
              "      <td id=\"T_d6b1e_row12_col3\" class=\"data row12 col3\" >0.684385</td>\n",
              "    </tr>\n",
              "    <tr>\n",
              "      <th id=\"T_d6b1e_level0_row13\" class=\"row_heading level0 row13\" >13</th>\n",
              "      <td id=\"T_d6b1e_row13_col0\" class=\"data row13 col0\" >0.772182</td>\n",
              "      <td id=\"T_d6b1e_row13_col1\" class=\"data row13 col1\" >0.720280</td>\n",
              "      <td id=\"T_d6b1e_row13_col2\" class=\"data row13 col2\" >0.651899</td>\n",
              "      <td id=\"T_d6b1e_row13_col3\" class=\"data row13 col3\" >0.684385</td>\n",
              "    </tr>\n",
              "    <tr>\n",
              "      <th id=\"T_d6b1e_level0_row14\" class=\"row_heading level0 row14\" >14</th>\n",
              "      <td id=\"T_d6b1e_row14_col0\" class=\"data row14 col0\" >0.772182</td>\n",
              "      <td id=\"T_d6b1e_row14_col1\" class=\"data row14 col1\" >0.720280</td>\n",
              "      <td id=\"T_d6b1e_row14_col2\" class=\"data row14 col2\" >0.651899</td>\n",
              "      <td id=\"T_d6b1e_row14_col3\" class=\"data row14 col3\" >0.684385</td>\n",
              "    </tr>\n",
              "    <tr>\n",
              "      <th id=\"T_d6b1e_level0_row15\" class=\"row_heading level0 row15\" >15</th>\n",
              "      <td id=\"T_d6b1e_row15_col0\" class=\"data row15 col0\" >0.772182</td>\n",
              "      <td id=\"T_d6b1e_row15_col1\" class=\"data row15 col1\" >0.720280</td>\n",
              "      <td id=\"T_d6b1e_row15_col2\" class=\"data row15 col2\" >0.651899</td>\n",
              "      <td id=\"T_d6b1e_row15_col3\" class=\"data row15 col3\" >0.684385</td>\n",
              "    </tr>\n",
              "    <tr>\n",
              "      <th id=\"T_d6b1e_level0_row16\" class=\"row_heading level0 row16\" >16</th>\n",
              "      <td id=\"T_d6b1e_row16_col0\" class=\"data row16 col0\" >0.772182</td>\n",
              "      <td id=\"T_d6b1e_row16_col1\" class=\"data row16 col1\" >0.720280</td>\n",
              "      <td id=\"T_d6b1e_row16_col2\" class=\"data row16 col2\" >0.651899</td>\n",
              "      <td id=\"T_d6b1e_row16_col3\" class=\"data row16 col3\" >0.684385</td>\n",
              "    </tr>\n",
              "  </tbody>\n",
              "</table>\n"
            ],
            "text/plain": [
              "<pandas.io.formats.style.Styler at 0x7b06e074d390>"
            ]
          },
          "execution_count": 11,
          "metadata": {},
          "output_type": "execute_result"
        }
      ],
      "source": [
        "# Creación de modelos\n",
        "models = get_models_depth(17)\n",
        "\n",
        "# Entrenamiento de modelos\n",
        "results_depth, names = fit_model(models)\n",
        "\n",
        "# Gráficas de métricas de aprendizaje\n",
        "plt.plot(names, results_depth)\n",
        "plt.legend(results_depth.columns)\n",
        "plt.show()\n",
        "\n",
        "results_depth.style.background_gradient(cmap ='viridis')\\\n",
        "        .set_properties(**{'font-size': '20px'})"
      ]
    },
    {
      "cell_type": "markdown",
      "metadata": {
        "id": "ht_f4cmWDEzg"
      },
      "source": [
        "#### **Tipos de boost**"
      ]
    },
    {
      "cell_type": "markdown",
      "metadata": {
        "id": "OiLlJ2bKKPA6"
      },
      "source": [
        "Estableciendo los hiperparámetros anteriores, se obtiene que el mejor tipo de boost es el 'goss'. Obteniendo un aumento muy pequeño en *accuracy*,uno un pooco mayor en *F1 score* y unos más significativos en *precision* y *recall*"
      ]
    },
    {
      "cell_type": "code",
      "execution_count": null,
      "metadata": {
        "colab": {
          "base_uri": "https://localhost:8080/"
        },
        "id": "zkbqOvdU92ie",
        "outputId": "32ba3cba-b0e9-42a4-a108-8662db2676e0"
      },
      "outputs": [
        {
          "data": {
            "image/png": "[encoded data removed]",
            "text/plain": [
              "<Figure size 800x550 with 1 Axes>"
            ]
          },
          "metadata": {},
          "output_type": "display_data"
        },
        {
          "data": {
            "text/html": [
              "<style type=\"text/css\">\n",
              "#T_2f040_row0_col0, #T_2f040_row0_col1, #T_2f040_row0_col2, #T_2f040_row0_col3, #T_2f040_row1_col0, #T_2f040_row1_col1, #T_2f040_row1_col2, #T_2f040_row1_col3, #T_2f040_row2_col2 {\n",
              "  background-color: #440154;\n",
              "  color: #f1f1f1;\n",
              "  font-size: 20px;\n",
              "}\n",
              "#T_2f040_row2_col0, #T_2f040_row2_col1, #T_2f040_row2_col3 {\n",
              "  background-color: #fde725;\n",
              "  color: #000000;\n",
              "  font-size: 20px;\n",
              "}\n",
              "</style>\n",
              "<table id=\"T_2f040\" class=\"dataframe\">\n",
              "  <thead>\n",
              "    <tr>\n",
              "      <th class=\"blank level0\" >&nbsp;</th>\n",
              "      <th id=\"T_2f040_level0_col0\" class=\"col_heading level0 col0\" >Accuracy</th>\n",
              "      <th id=\"T_2f040_level0_col1\" class=\"col_heading level0 col1\" >Precision</th>\n",
              "      <th id=\"T_2f040_level0_col2\" class=\"col_heading level0 col2\" >Recall</th>\n",
              "      <th id=\"T_2f040_level0_col3\" class=\"col_heading level0 col3\" >f-1</th>\n",
              "    </tr>\n",
              "  </thead>\n",
              "  <tbody>\n",
              "    <tr>\n",
              "      <th id=\"T_2f040_level0_row0\" class=\"row_heading level0 row0\" >0</th>\n",
              "      <td id=\"T_2f040_row0_col0\" class=\"data row0 col0\" >0.781775</td>\n",
              "      <td id=\"T_2f040_row0_col1\" class=\"data row0 col1\" >0.716129</td>\n",
              "      <td id=\"T_2f040_row0_col2\" class=\"data row0 col2\" >0.702532</td>\n",
              "      <td id=\"T_2f040_row0_col3\" class=\"data row0 col3\" >0.709265</td>\n",
              "    </tr>\n",
              "    <tr>\n",
              "      <th id=\"T_2f040_level0_row1\" class=\"row_heading level0 row1\" >1</th>\n",
              "      <td id=\"T_2f040_row1_col0\" class=\"data row1 col0\" >0.781775</td>\n",
              "      <td id=\"T_2f040_row1_col1\" class=\"data row1 col1\" >0.716129</td>\n",
              "      <td id=\"T_2f040_row1_col2\" class=\"data row1 col2\" >0.702532</td>\n",
              "      <td id=\"T_2f040_row1_col3\" class=\"data row1 col3\" >0.709265</td>\n",
              "    </tr>\n",
              "    <tr>\n",
              "      <th id=\"T_2f040_level0_row2\" class=\"row_heading level0 row2\" >2</th>\n",
              "      <td id=\"T_2f040_row2_col0\" class=\"data row2 col0\" >0.788969</td>\n",
              "      <td id=\"T_2f040_row2_col1\" class=\"data row2 col1\" >0.730263</td>\n",
              "      <td id=\"T_2f040_row2_col2\" class=\"data row2 col2\" >0.702532</td>\n",
              "      <td id=\"T_2f040_row2_col3\" class=\"data row2 col3\" >0.716129</td>\n",
              "    </tr>\n",
              "  </tbody>\n",
              "</table>\n"
            ],
            "text/plain": [
              "<pandas.io.formats.style.Styler at 0x7b06e05f3d00>"
            ]
          },
          "execution_count": 12,
          "metadata": {},
          "output_type": "execute_result"
        }
      ],
      "source": [
        "# Creación de modelos\n",
        "models = get_models_boost()\n",
        "\n",
        "# Entrenamiento de modelos\n",
        "results_boost, names = fit_model(models)\n",
        "\n",
        "# Gráficas de métricas de aprendizaje\n",
        "plt.plot(names, results_boost)\n",
        "plt.legend(results_boost.columns)\n",
        "plt.show()\n",
        "\n",
        "results_boost.style.background_gradient(cmap ='viridis')\\\n",
        "        .set_properties(**{'font-size': '20px'})"
      ]
    },
    {
      "cell_type": "markdown",
      "metadata": {
        "id": "xTU0vYRzDKvz"
      },
      "source": [
        "#### **Learning rate**"
      ]
    },
    {
      "cell_type": "markdown",
      "metadata": {
        "id": "cbDHdXigKkja"
      },
      "source": [
        "Por último, el hiperparámetro de learning rate produce un mejor cuando este es igual a 0.1 (su valor default), como el rango de 0.1 y 1 es grande, se decidió hacer un análisis secundario para observar el comportamiento dentro de este."
      ]
    },
    {
      "cell_type": "code",
      "execution_count": null,
      "metadata": {
        "colab": {
          "base_uri": "https://localhost:8080/"
        },
        "id": "16slVwtU934-",
        "outputId": "7055f4c3-d496-41b4-d0f4-3c8db3d3a1bb"
      },
      "outputs": [
        {
          "data": {
            "image/png": "[encoded data removed]",
            "text/plain": [
              "<Figure size 800x550 with 1 Axes>"
            ]
          },
          "metadata": {},
          "output_type": "display_data"
        },
        {
          "data": {
            "text/html": [
              "<style type=\"text/css\">\n",
              "#T_a4f6c_row0_col0, #T_a4f6c_row0_col1, #T_a4f6c_row0_col2, #T_a4f6c_row0_col3, #T_a4f6c_row1_col0, #T_a4f6c_row1_col1, #T_a4f6c_row1_col2, #T_a4f6c_row1_col3, #T_a4f6c_row2_col0, #T_a4f6c_row2_col1, #T_a4f6c_row2_col2, #T_a4f6c_row2_col3 {\n",
              "  background-color: #440154;\n",
              "  color: #f1f1f1;\n",
              "  font-size: 20px;\n",
              "}\n",
              "#T_a4f6c_row3_col0, #T_a4f6c_row3_col1, #T_a4f6c_row3_col2, #T_a4f6c_row3_col3 {\n",
              "  background-color: #fde725;\n",
              "  color: #000000;\n",
              "  font-size: 20px;\n",
              "}\n",
              "#T_a4f6c_row4_col0 {\n",
              "  background-color: #2db27d;\n",
              "  color: #f1f1f1;\n",
              "  font-size: 20px;\n",
              "}\n",
              "#T_a4f6c_row4_col1 {\n",
              "  background-color: #aadc32;\n",
              "  color: #000000;\n",
              "  font-size: 20px;\n",
              "}\n",
              "#T_a4f6c_row4_col2 {\n",
              "  background-color: #d5e21a;\n",
              "  color: #000000;\n",
              "  font-size: 20px;\n",
              "}\n",
              "#T_a4f6c_row4_col3 {\n",
              "  background-color: #c0df25;\n",
              "  color: #000000;\n",
              "  font-size: 20px;\n",
              "}\n",
              "</style>\n",
              "<table id=\"T_a4f6c\" class=\"dataframe\">\n",
              "  <thead>\n",
              "    <tr>\n",
              "      <th class=\"blank level0\" >&nbsp;</th>\n",
              "      <th id=\"T_a4f6c_level0_col0\" class=\"col_heading level0 col0\" >Accuracy</th>\n",
              "      <th id=\"T_a4f6c_level0_col1\" class=\"col_heading level0 col1\" >Precision</th>\n",
              "      <th id=\"T_a4f6c_level0_col2\" class=\"col_heading level0 col2\" >Recall</th>\n",
              "      <th id=\"T_a4f6c_level0_col3\" class=\"col_heading level0 col3\" >f-1</th>\n",
              "    </tr>\n",
              "  </thead>\n",
              "  <tbody>\n",
              "    <tr>\n",
              "      <th id=\"T_a4f6c_level0_row0\" class=\"row_heading level0 row0\" >0</th>\n",
              "      <td id=\"T_a4f6c_row0_col0\" class=\"data row0 col0\" >0.621103</td>\n",
              "      <td id=\"T_a4f6c_row0_col1\" class=\"data row0 col1\" >0.000000</td>\n",
              "      <td id=\"T_a4f6c_row0_col2\" class=\"data row0 col2\" >0.000000</td>\n",
              "      <td id=\"T_a4f6c_row0_col3\" class=\"data row0 col3\" >0.000000</td>\n",
              "    </tr>\n",
              "    <tr>\n",
              "      <th id=\"T_a4f6c_level0_row1\" class=\"row_heading level0 row1\" >1</th>\n",
              "      <td id=\"T_a4f6c_row1_col0\" class=\"data row1 col0\" >0.621103</td>\n",
              "      <td id=\"T_a4f6c_row1_col1\" class=\"data row1 col1\" >0.000000</td>\n",
              "      <td id=\"T_a4f6c_row1_col2\" class=\"data row1 col2\" >0.000000</td>\n",
              "      <td id=\"T_a4f6c_row1_col3\" class=\"data row1 col3\" >0.000000</td>\n",
              "    </tr>\n",
              "    <tr>\n",
              "      <th id=\"T_a4f6c_level0_row2\" class=\"row_heading level0 row2\" >2</th>\n",
              "      <td id=\"T_a4f6c_row2_col0\" class=\"data row2 col0\" >0.621103</td>\n",
              "      <td id=\"T_a4f6c_row2_col1\" class=\"data row2 col1\" >0.000000</td>\n",
              "      <td id=\"T_a4f6c_row2_col2\" class=\"data row2 col2\" >0.000000</td>\n",
              "      <td id=\"T_a4f6c_row2_col3\" class=\"data row2 col3\" >0.000000</td>\n",
              "    </tr>\n",
              "    <tr>\n",
              "      <th id=\"T_a4f6c_level0_row3\" class=\"row_heading level0 row3\" >3</th>\n",
              "      <td id=\"T_a4f6c_row3_col0\" class=\"data row3 col0\" >0.788969</td>\n",
              "      <td id=\"T_a4f6c_row3_col1\" class=\"data row3 col1\" >0.730263</td>\n",
              "      <td id=\"T_a4f6c_row3_col2\" class=\"data row3 col2\" >0.702532</td>\n",
              "      <td id=\"T_a4f6c_row3_col3\" class=\"data row3 col3\" >0.716129</td>\n",
              "    </tr>\n",
              "    <tr>\n",
              "      <th id=\"T_a4f6c_level0_row4\" class=\"row_heading level0 row4\" >4</th>\n",
              "      <td id=\"T_a4f6c_row4_col0\" class=\"data row4 col0\" >0.729017</td>\n",
              "      <td id=\"T_a4f6c_row4_col1\" class=\"data row4 col1\" >0.638037</td>\n",
              "      <td id=\"T_a4f6c_row4_col2\" class=\"data row4 col2\" >0.658228</td>\n",
              "      <td id=\"T_a4f6c_row4_col3\" class=\"data row4 col3\" >0.647975</td>\n",
              "    </tr>\n",
              "  </tbody>\n",
              "</table>\n"
            ],
            "text/plain": [
              "<pandas.io.formats.style.Styler at 0x7b06e064e800>"
            ]
          },
          "execution_count": 13,
          "metadata": {},
          "output_type": "execute_result"
        }
      ],
      "source": [
        "# Creación de modelos\n",
        "models = get_models_lr([0.0001, 0.001, 0.01, 0.1, 1.0])\n",
        "\n",
        "# Entrenamiento de modelos\n",
        "results_lr, names = fit_model(models)\n",
        "\n",
        "# Gráficas de métricas de aprendizaje\n",
        "plt.plot(names, results_lr)\n",
        "plt.legend(results_lr.columns)\n",
        "plt.show()\n",
        "\n",
        "results_lr.style.background_gradient(cmap ='viridis')\\\n",
        "        .set_properties(**{'font-size': '20px'})"
      ]
    },
    {
      "cell_type": "markdown",
      "metadata": {
        "id": "K2UMQSmhLwgz"
      },
      "source": [
        "Se puede observar que efectivamente un valor de 0.1 es el que produce mejores resultados. Por lo que se decide escoger este valor para el learning rate."
      ]
    },
    {
      "cell_type": "code",
      "execution_count": null,
      "metadata": {
        "colab": {
          "base_uri": "https://localhost:8080/"
        },
        "id": "s4yp-PVoLE_z",
        "outputId": "e8d38304-4a66-415a-a40f-dda54c5c4348"
      },
      "outputs": [
        {
          "data": {
            "image/png": "[encoded data removed]",
            "text/plain": [
              "<Figure size 800x550 with 1 Axes>"
            ]
          },
          "metadata": {},
          "output_type": "display_data"
        },
        {
          "data": {
            "text/html": [
              "<style type=\"text/css\">\n",
              "#T_1a75a_row0_col0, #T_1a75a_row0_col2, #T_1a75a_row0_col3, #T_1a75a_row2_col1 {\n",
              "  background-color: #fde725;\n",
              "  color: #000000;\n",
              "  font-size: 20px;\n",
              "}\n",
              "#T_1a75a_row0_col1 {\n",
              "  background-color: #f8e621;\n",
              "  color: #000000;\n",
              "  font-size: 20px;\n",
              "}\n",
              "#T_1a75a_row1_col0, #T_1a75a_row7_col0 {\n",
              "  background-color: #2cb17e;\n",
              "  color: #f1f1f1;\n",
              "  font-size: 20px;\n",
              "}\n",
              "#T_1a75a_row1_col1 {\n",
              "  background-color: #23a983;\n",
              "  color: #f1f1f1;\n",
              "  font-size: 20px;\n",
              "}\n",
              "#T_1a75a_row1_col2 {\n",
              "  background-color: #a0da39;\n",
              "  color: #000000;\n",
              "  font-size: 20px;\n",
              "}\n",
              "#T_1a75a_row1_col3 {\n",
              "  background-color: #4ac16d;\n",
              "  color: #000000;\n",
              "  font-size: 20px;\n",
              "}\n",
              "#T_1a75a_row2_col0, #T_1a75a_row4_col0 {\n",
              "  background-color: #3bbb75;\n",
              "  color: #f1f1f1;\n",
              "  font-size: 20px;\n",
              "}\n",
              "#T_1a75a_row2_col2 {\n",
              "  background-color: #481b6d;\n",
              "  color: #f1f1f1;\n",
              "  font-size: 20px;\n",
              "}\n",
              "#T_1a75a_row2_col3 {\n",
              "  background-color: #23888e;\n",
              "  color: #f1f1f1;\n",
              "  font-size: 20px;\n",
              "}\n",
              "#T_1a75a_row3_col0, #T_1a75a_row5_col0 {\n",
              "  background-color: #2a788e;\n",
              "  color: #f1f1f1;\n",
              "  font-size: 20px;\n",
              "}\n",
              "#T_1a75a_row3_col1, #T_1a75a_row9_col2 {\n",
              "  background-color: #21908d;\n",
              "  color: #f1f1f1;\n",
              "  font-size: 20px;\n",
              "}\n",
              "#T_1a75a_row3_col2 {\n",
              "  background-color: #2e6e8e;\n",
              "  color: #f1f1f1;\n",
              "  font-size: 20px;\n",
              "}\n",
              "#T_1a75a_row3_col3 {\n",
              "  background-color: #2b758e;\n",
              "  color: #f1f1f1;\n",
              "  font-size: 20px;\n",
              "}\n",
              "#T_1a75a_row4_col1 {\n",
              "  background-color: #56c667;\n",
              "  color: #000000;\n",
              "  font-size: 20px;\n",
              "}\n",
              "#T_1a75a_row4_col2, #T_1a75a_row5_col1 {\n",
              "  background-color: #2db27d;\n",
              "  color: #f1f1f1;\n",
              "  font-size: 20px;\n",
              "}\n",
              "#T_1a75a_row4_col3 {\n",
              "  background-color: #37b878;\n",
              "  color: #f1f1f1;\n",
              "  font-size: 20px;\n",
              "}\n",
              "#T_1a75a_row5_col2, #T_1a75a_row7_col2, #T_1a75a_row8_col0, #T_1a75a_row8_col2, #T_1a75a_row8_col3, #T_1a75a_row9_col0, #T_1a75a_row9_col1 {\n",
              "  background-color: #440154;\n",
              "  color: #f1f1f1;\n",
              "  font-size: 20px;\n",
              "}\n",
              "#T_1a75a_row5_col3 {\n",
              "  background-color: #3b528b;\n",
              "  color: #f1f1f1;\n",
              "  font-size: 20px;\n",
              "}\n",
              "#T_1a75a_row6_col0 {\n",
              "  background-color: #228b8d;\n",
              "  color: #f1f1f1;\n",
              "  font-size: 20px;\n",
              "}\n",
              "#T_1a75a_row6_col1 {\n",
              "  background-color: #32b67a;\n",
              "  color: #f1f1f1;\n",
              "  font-size: 20px;\n",
              "}\n",
              "#T_1a75a_row6_col2 {\n",
              "  background-color: #3f4788;\n",
              "  color: #f1f1f1;\n",
              "  font-size: 20px;\n",
              "}\n",
              "#T_1a75a_row6_col3 {\n",
              "  background-color: #2b748e;\n",
              "  color: #f1f1f1;\n",
              "  font-size: 20px;\n",
              "}\n",
              "#T_1a75a_row7_col1 {\n",
              "  background-color: #f1e51d;\n",
              "  color: #000000;\n",
              "  font-size: 20px;\n",
              "}\n",
              "#T_1a75a_row7_col3 {\n",
              "  background-color: #297b8e;\n",
              "  color: #f1f1f1;\n",
              "  font-size: 20px;\n",
              "}\n",
              "#T_1a75a_row8_col1 {\n",
              "  background-color: #46307e;\n",
              "  color: #f1f1f1;\n",
              "  font-size: 20px;\n",
              "}\n",
              "#T_1a75a_row9_col3 {\n",
              "  background-color: #424086;\n",
              "  color: #f1f1f1;\n",
              "  font-size: 20px;\n",
              "}\n",
              "</style>\n",
              "<table id=\"T_1a75a\" class=\"dataframe\">\n",
              "  <thead>\n",
              "    <tr>\n",
              "      <th class=\"blank level0\" >&nbsp;</th>\n",
              "      <th id=\"T_1a75a_level0_col0\" class=\"col_heading level0 col0\" >Accuracy</th>\n",
              "      <th id=\"T_1a75a_level0_col1\" class=\"col_heading level0 col1\" >Precision</th>\n",
              "      <th id=\"T_1a75a_level0_col2\" class=\"col_heading level0 col2\" >Recall</th>\n",
              "      <th id=\"T_1a75a_level0_col3\" class=\"col_heading level0 col3\" >f-1</th>\n",
              "    </tr>\n",
              "  </thead>\n",
              "  <tbody>\n",
              "    <tr>\n",
              "      <th id=\"T_1a75a_level0_row0\" class=\"row_heading level0 row0\" >0</th>\n",
              "      <td id=\"T_1a75a_row0_col0\" class=\"data row0 col0\" >0.788969</td>\n",
              "      <td id=\"T_1a75a_row0_col1\" class=\"data row0 col1\" >0.730263</td>\n",
              "      <td id=\"T_1a75a_row0_col2\" class=\"data row0 col2\" >0.702532</td>\n",
              "      <td id=\"T_1a75a_row0_col3\" class=\"data row0 col3\" >0.716129</td>\n",
              "    </tr>\n",
              "    <tr>\n",
              "      <th id=\"T_1a75a_level0_row1\" class=\"row_heading level0 row1\" >1</th>\n",
              "      <td id=\"T_1a75a_row1_col0\" class=\"data row1 col0\" >0.767386</td>\n",
              "      <td id=\"T_1a75a_row1_col1\" class=\"data row1 col1\" >0.694268</td>\n",
              "      <td id=\"T_1a75a_row1_col2\" class=\"data row1 col2\" >0.689873</td>\n",
              "      <td id=\"T_1a75a_row1_col3\" class=\"data row1 col3\" >0.692063</td>\n",
              "    </tr>\n",
              "    <tr>\n",
              "      <th id=\"T_1a75a_level0_row2\" class=\"row_heading level0 row2\" >2</th>\n",
              "      <td id=\"T_1a75a_row2_col0\" class=\"data row2 col0\" >0.769784</td>\n",
              "      <td id=\"T_1a75a_row2_col1\" class=\"data row2 col1\" >0.731343</td>\n",
              "      <td id=\"T_1a75a_row2_col2\" class=\"data row2 col2\" >0.620253</td>\n",
              "      <td id=\"T_1a75a_row2_col3\" class=\"data row2 col3\" >0.671233</td>\n",
              "    </tr>\n",
              "    <tr>\n",
              "      <th id=\"T_1a75a_level0_row3\" class=\"row_heading level0 row3\" >3</th>\n",
              "      <td id=\"T_1a75a_row3_col0\" class=\"data row3 col0\" >0.752998</td>\n",
              "      <td id=\"T_1a75a_row3_col1\" class=\"data row3 col1\" >0.684564</td>\n",
              "      <td id=\"T_1a75a_row3_col2\" class=\"data row3 col2\" >0.645570</td>\n",
              "      <td id=\"T_1a75a_row3_col3\" class=\"data row3 col3\" >0.664495</td>\n",
              "    </tr>\n",
              "    <tr>\n",
              "      <th id=\"T_1a75a_level0_row4\" class=\"row_heading level0 row4\" >4</th>\n",
              "      <td id=\"T_1a75a_row4_col0\" class=\"data row4 col0\" >0.769784</td>\n",
              "      <td id=\"T_1a75a_row4_col1\" class=\"data row4 col1\" >0.706667</td>\n",
              "      <td id=\"T_1a75a_row4_col2\" class=\"data row4 col2\" >0.670886</td>\n",
              "      <td id=\"T_1a75a_row4_col3\" class=\"data row4 col3\" >0.688312</td>\n",
              "    </tr>\n",
              "    <tr>\n",
              "      <th id=\"T_1a75a_level0_row5\" class=\"row_heading level0 row5\" >5</th>\n",
              "      <td id=\"T_1a75a_row5_col0\" class=\"data row5 col0\" >0.752998</td>\n",
              "      <td id=\"T_1a75a_row5_col1\" class=\"data row5 col1\" >0.697842</td>\n",
              "      <td id=\"T_1a75a_row5_col2\" class=\"data row5 col2\" >0.613924</td>\n",
              "      <td id=\"T_1a75a_row5_col3\" class=\"data row5 col3\" >0.653199</td>\n",
              "    </tr>\n",
              "    <tr>\n",
              "      <th id=\"T_1a75a_level0_row6\" class=\"row_heading level0 row6\" >6</th>\n",
              "      <td id=\"T_1a75a_row6_col0\" class=\"data row6 col0\" >0.757794</td>\n",
              "      <td id=\"T_1a75a_row6_col1\" class=\"data row6 col1\" >0.699301</td>\n",
              "      <td id=\"T_1a75a_row6_col2\" class=\"data row6 col2\" >0.632911</td>\n",
              "      <td id=\"T_1a75a_row6_col3\" class=\"data row6 col3\" >0.664452</td>\n",
              "    </tr>\n",
              "    <tr>\n",
              "      <th id=\"T_1a75a_level0_row7\" class=\"row_heading level0 row7\" >7</th>\n",
              "      <td id=\"T_1a75a_row7_col0\" class=\"data row7 col0\" >0.767386</td>\n",
              "      <td id=\"T_1a75a_row7_col1\" class=\"data row7 col1\" >0.729323</td>\n",
              "      <td id=\"T_1a75a_row7_col2\" class=\"data row7 col2\" >0.613924</td>\n",
              "      <td id=\"T_1a75a_row7_col3\" class=\"data row7 col3\" >0.666667</td>\n",
              "    </tr>\n",
              "    <tr>\n",
              "      <th id=\"T_1a75a_level0_row8\" class=\"row_heading level0 row8\" >8</th>\n",
              "      <td id=\"T_1a75a_row8_col0\" class=\"data row8 col0\" >0.729017</td>\n",
              "      <td id=\"T_1a75a_row8_col1\" class=\"data row8 col1\" >0.651007</td>\n",
              "      <td id=\"T_1a75a_row8_col2\" class=\"data row8 col2\" >0.613924</td>\n",
              "      <td id=\"T_1a75a_row8_col3\" class=\"data row8 col3\" >0.631922</td>\n",
              "    </tr>\n",
              "    <tr>\n",
              "      <th id=\"T_1a75a_level0_row9\" class=\"row_heading level0 row9\" >9</th>\n",
              "      <td id=\"T_1a75a_row9_col0\" class=\"data row9 col0\" >0.729017</td>\n",
              "      <td id=\"T_1a75a_row9_col1\" class=\"data row9 col1\" >0.638037</td>\n",
              "      <td id=\"T_1a75a_row9_col2\" class=\"data row9 col2\" >0.658228</td>\n",
              "      <td id=\"T_1a75a_row9_col3\" class=\"data row9 col3\" >0.647975</td>\n",
              "    </tr>\n",
              "  </tbody>\n",
              "</table>\n"
            ],
            "text/plain": [
              "<pandas.io.formats.style.Styler at 0x7b06e064d3f0>"
            ]
          },
          "execution_count": 14,
          "metadata": {},
          "output_type": "execute_result"
        }
      ],
      "source": [
        "# Creación de modelos\n",
        "models = get_models_lr([0.1, 0.2, 0.3, 0.4, 0.5, 0.6, 0.7, 0.8, 0.9, 1])\n",
        "\n",
        "# Entrenamiento de modelos\n",
        "results_lr, names = fit_model(models)\n",
        "\n",
        "# Gráficas de métricas de aprendizaje\n",
        "plt.plot(names, results_lr)\n",
        "plt.legend(results_lr.columns)\n",
        "plt.show()\n",
        "\n",
        "results_lr.style.background_gradient(cmap ='viridis')\\\n",
        "        .set_properties(**{'font-size': '20px'})"
      ]
    },
    {
      "cell_type": "markdown",
      "metadata": {
        "id": "rVwQslGfMG71"
      },
      "source": [
        "### Modelo final"
      ]
    },
    {
      "cell_type": "markdown",
      "metadata": {
        "id": "sgH4KuXLRodd"
      },
      "source": [
        "Concluyendo, el mejor modelo fue con los siguientes hiperparámetros:\n",
        "- N_estimators: 20\n",
        "- Max_depth: 2\n",
        "- Num_leaves: 3\n",
        "- Boosting_type: 'goss'\n",
        "- Learning rate: 0.1"
      ]
    },
    {
      "cell_type": "code",
      "execution_count": null,
      "metadata": {
        "colab": {
          "base_uri": "https://localhost:8080/"
        },
        "id": "dpWYcwNqMYXb",
        "outputId": "60662ebf-89c6-43de-e29b-2f0cbe46610c"
      },
      "outputs": [
        {
          "data": {
            "text/html": [
              "<style>#sk-container-id-1 {color: black;background-color: white;}#sk-container-id-1 pre{padding: 0;}#sk-container-id-1 div.sk-toggleable {background-color: white;}#sk-container-id-1 label.sk-toggleable__label {cursor: pointer;display: block;width: 100%;margin-bottom: 0;padding: 0.3em;box-sizing: border-box;text-align: center;}#sk-container-id-1 label.sk-toggleable__label-arrow:before {content: \"▸\";float: left;margin-right: 0.25em;color: #696969;}#sk-container-id-1 label.sk-toggleable__label-arrow:hover:before {color: black;}#sk-container-id-1 div.sk-estimator:hover label.sk-toggleable__label-arrow:before {color: black;}#sk-container-id-1 div.sk-toggleable__content {max-height: 0;max-width: 0;overflow: hidden;text-align: left;background-color: #f0f8ff;}#sk-container-id-1 div.sk-toggleable__content pre {margin: 0.2em;color: black;border-radius: 0.25em;background-color: #f0f8ff;}#sk-container-id-1 input.sk-toggleable__control:checked~div.sk-toggleable__content {max-height: 200px;max-width: 100%;overflow: auto;}#sk-container-id-1 input.sk-toggleable__control:checked~label.sk-toggleable__label-arrow:before {content: \"▾\";}#sk-container-id-1 div.sk-estimator input.sk-toggleable__control:checked~label.sk-toggleable__label {background-color: #d4ebff;}#sk-container-id-1 div.sk-label input.sk-toggleable__control:checked~label.sk-toggleable__label {background-color: #d4ebff;}#sk-container-id-1 input.sk-hidden--visually {border: 0;clip: rect(1px 1px 1px 1px);clip: rect(1px, 1px, 1px, 1px);height: 1px;margin: -1px;overflow: hidden;padding: 0;position: absolute;width: 1px;}#sk-container-id-1 div.sk-estimator {font-family: monospace;background-color: #f0f8ff;border: 1px dotted black;border-radius: 0.25em;box-sizing: border-box;margin-bottom: 0.5em;}#sk-container-id-1 div.sk-estimator:hover {background-color: #d4ebff;}#sk-container-id-1 div.sk-parallel-item::after {content: \"\";width: 100%;border-bottom: 1px solid gray;flex-grow: 1;}#sk-container-id-1 div.sk-label:hover label.sk-toggleable__label {background-color: #d4ebff;}#sk-container-id-1 div.sk-serial::before {content: \"\";position: absolute;border-left: 1px solid gray;box-sizing: border-box;top: 0;bottom: 0;left: 50%;z-index: 0;}#sk-container-id-1 div.sk-serial {display: flex;flex-direction: column;align-items: center;background-color: white;padding-right: 0.2em;padding-left: 0.2em;position: relative;}#sk-container-id-1 div.sk-item {position: relative;z-index: 1;}#sk-container-id-1 div.sk-parallel {display: flex;align-items: stretch;justify-content: center;background-color: white;position: relative;}#sk-container-id-1 div.sk-item::before, #sk-container-id-1 div.sk-parallel-item::before {content: \"\";position: absolute;border-left: 1px solid gray;box-sizing: border-box;top: 0;bottom: 0;left: 50%;z-index: -1;}#sk-container-id-1 div.sk-parallel-item {display: flex;flex-direction: column;z-index: 1;position: relative;background-color: white;}#sk-container-id-1 div.sk-parallel-item:first-child::after {align-self: flex-end;width: 50%;}#sk-container-id-1 div.sk-parallel-item:last-child::after {align-self: flex-start;width: 50%;}#sk-container-id-1 div.sk-parallel-item:only-child::after {width: 0;}#sk-container-id-1 div.sk-dashed-wrapped {border: 1px dashed gray;margin: 0 0.4em 0.5em 0.4em;box-sizing: border-box;padding-bottom: 0.4em;background-color: white;}#sk-container-id-1 div.sk-label label {font-family: monospace;font-weight: bold;display: inline-block;line-height: 1.2em;}#sk-container-id-1 div.sk-label-container {text-align: center;}#sk-container-id-1 div.sk-container {/* jupyter's `normalize.less` sets `[hidden] { display: none; }` but bootstrap.min.css set `[hidden] { display: none !important; }` so we also need the `!important` here to be able to override the default hidden behavior on the sphinx rendered scikit-learn.org. See: https://github.com/scikit-learn/scikit-learn/issues/21755 */display: inline-block !important;position: relative;}#sk-container-id-1 div.sk-text-repr-fallback {display: none;}</style><div id=\"sk-container-id-1\" class=\"sk-top-container\"><div class=\"sk-text-repr-fallback\"><pre>LGBMClassifier(boosting_type=&#x27;goss&#x27;, force_row_wise=True, max_depth=2,\n",
              "               n_estimators=20, num_leaves=3, verbose=-1)</pre><b>In a Jupyter environment, please rerun this cell to show the HTML representation or trust the notebook. <br />On GitHub, the HTML representation is unable to render, please try loading this page with nbviewer.org.</b></div><div class=\"sk-container\" hidden><div class=\"sk-item\"><div class=\"sk-estimator sk-toggleable\"><input class=\"sk-toggleable__control sk-hidden--visually\" id=\"sk-estimator-id-1\" type=\"checkbox\" checked><label for=\"sk-estimator-id-1\" class=\"sk-toggleable__label sk-toggleable__label-arrow\">LGBMClassifier</label><div class=\"sk-toggleable__content\"><pre>LGBMClassifier(boosting_type=&#x27;goss&#x27;, force_row_wise=True, max_depth=2,\n",
              "               n_estimators=20, num_leaves=3, verbose=-1)</pre></div></div></div></div></div>"
            ],
            "text/plain": [
              "LGBMClassifier(boosting_type='goss', force_row_wise=True, max_depth=2,\n",
              "               n_estimators=20, num_leaves=3, verbose=-1)"
            ]
          },
          "execution_count": 15,
          "metadata": {},
          "output_type": "execute_result"
        }
      ],
      "source": [
        "# Creación modelo fianl\n",
        "modelo = LGBMClassifier(n_estimators = 20, max_depth = 2, num_leaves = 3,\n",
        "                        boosting_type = 'goss', learning_rate = 0.1,\n",
        "                        force_row_wise = True, verbose = -1)\n",
        "\n",
        "# Entrenamiento\n",
        "modelo.fit(x_train, y_train)"
      ]
    },
    {
      "cell_type": "markdown",
      "metadata": {
        "id": "Nmsqozklw3e3"
      },
      "source": [
        "Evaluación con train dataset"
      ]
    },
    {
      "cell_type": "code",
      "execution_count": null,
      "metadata": {
        "colab": {
          "base_uri": "https://localhost:8080/"
        },
        "id": "UD9VmQE6xHfm",
        "outputId": "ccd095fa-3396-41ca-8e34-d9d6e8ba3dad"
      },
      "outputs": [
        {
          "data": {
            "text/html": [
              "\n",
              "  <div id=\"df-92be1a47-e66a-43e3-a8d8-7f0bbbe55619\" class=\"colab-df-container\">\n",
              "    <div>\n",
              "<style scoped>\n",
              "    .dataframe tbody tr th:only-of-type {\n",
              "        vertical-align: middle;\n",
              "    }\n",
              "\n",
              "    .dataframe tbody tr th {\n",
              "        vertical-align: top;\n",
              "    }\n",
              "\n",
              "    .dataframe thead th {\n",
              "        text-align: right;\n",
              "    }\n",
              "</style>\n",
              "<table border=\"1\" class=\"dataframe\">\n",
              "  <thead>\n",
              "    <tr style=\"text-align: right;\">\n",
              "      <th></th>\n",
              "      <th>Accuracy</th>\n",
              "      <th>Precision</th>\n",
              "      <th>Recall</th>\n",
              "      <th>f-1</th>\n",
              "    </tr>\n",
              "  </thead>\n",
              "  <tbody>\n",
              "    <tr>\n",
              "      <th>0</th>\n",
              "      <td>0.820022</td>\n",
              "      <td>0.792208</td>\n",
              "      <td>0.717647</td>\n",
              "      <td>0.753086</td>\n",
              "    </tr>\n",
              "  </tbody>\n",
              "</table>\n",
              "</div>\n",
              "    <div class=\"colab-df-buttons\">\n",
              "\n",
              "  <div class=\"colab-df-container\">\n",
              "    <button class=\"colab-df-convert\" onclick=\"convertToInteractive('df-92be1a47-e66a-43e3-a8d8-7f0bbbe55619')\"\n",
              "            title=\"Convert this dataframe to an interactive table.\"\n",
              "            style=\"display:none;\">\n",
              "\n",
              "  <svg xmlns=\"http://www.w3.org/2000/svg\" height=\"24px\" viewBox=\"0 -960 960 960\">\n",
              "    <path d=\"M120-120v-720h720v720H120Zm60-500h600v-160H180v160Zm220 220h160v-160H400v160Zm0 220h160v-160H400v160ZM180-400h160v-160H180v160Zm440 0h160v-160H620v160ZM180-180h160v-160H180v160Zm440 0h160v-160H620v160Z\"/>\n",
              "  </svg>\n",
              "    </button>\n",
              "\n",
              "  <style>\n",
              "    .colab-df-container {\n",
              "      display:flex;\n",
              "      gap: 12px;\n",
              "    }\n",
              "\n",
              "    .colab-df-convert {\n",
              "      background-color: #E8F0FE;\n",
              "      border: none;\n",
              "      border-radius: 50%;\n",
              "      cursor: pointer;\n",
              "      display: none;\n",
              "      fill: #1967D2;\n",
              "      height: 32px;\n",
              "      padding: 0 0 0 0;\n",
              "      width: 32px;\n",
              "    }\n",
              "\n",
              "    .colab-df-convert:hover {\n",
              "      background-color: #E2EBFA;\n",
              "      box-shadow: 0px 1px 2px rgba(60, 64, 67, 0.3), 0px 1px 3px 1px rgba(60, 64, 67, 0.15);\n",
              "      fill: #174EA6;\n",
              "    }\n",
              "\n",
              "    .colab-df-buttons div {\n",
              "      margin-bottom: 4px;\n",
              "    }\n",
              "\n",
              "    [theme=dark] .colab-df-convert {\n",
              "      background-color: #3B4455;\n",
              "      fill: #D2E3FC;\n",
              "    }\n",
              "\n",
              "    [theme=dark] .colab-df-convert:hover {\n",
              "      background-color: #434B5C;\n",
              "      box-shadow: 0px 1px 3px 1px rgba(0, 0, 0, 0.15);\n",
              "      filter: drop-shadow(0px 1px 2px rgba(0, 0, 0, 0.3));\n",
              "      fill: #FFFFFF;\n",
              "    }\n",
              "  </style>\n",
              "\n",
              "    <script>\n",
              "      const buttonEl =\n",
              "        document.querySelector('#df-92be1a47-e66a-43e3-a8d8-7f0bbbe55619 button.colab-df-convert');\n",
              "      buttonEl.style.display =\n",
              "        google.colab.kernel.accessAllowed ? 'block' : 'none';\n",
              "\n",
              "      async function convertToInteractive(key) {\n",
              "        const element = document.querySelector('#df-92be1a47-e66a-43e3-a8d8-7f0bbbe55619');\n",
              "        const dataTable =\n",
              "          await google.colab.kernel.invokeFunction('convertToInteractive',\n",
              "                                                    [key], {});\n",
              "        if (!dataTable) return;\n",
              "\n",
              "        const docLinkHtml = 'Like what you see? Visit the ' +\n",
              "          '<a target=\"_blank\" href=https://colab.research.google.com/notebooks/data_table.ipynb>data table notebook</a>'\n",
              "          + ' to learn more about interactive tables.';\n",
              "        element.innerHTML = '';\n",
              "        dataTable['output_type'] = 'display_data';\n",
              "        await google.colab.output.renderOutput(dataTable, element);\n",
              "        const docLink = document.createElement('div');\n",
              "        docLink.innerHTML = docLinkHtml;\n",
              "        element.appendChild(docLink);\n",
              "      }\n",
              "    </script>\n",
              "  </div>\n",
              "\n",
              "    </div>\n",
              "  </div>\n"
            ],
            "text/plain": [
              "   Accuracy  Precision    Recall       f-1\n",
              "0  0.820022   0.792208  0.717647  0.753086"
            ]
          },
          "execution_count": 16,
          "metadata": {},
          "output_type": "execute_result"
        }
      ],
      "source": [
        "# Predicciones\n",
        "y_pred = modelo.predict(train)\n",
        "\n",
        "# Métricas de aprendizaje\n",
        "results = pd.DataFrame([[accuracy_score(y_train, y_pred), precision_score(y_train, y_pred),\n",
        "                    recall_score(y_train, y_pred), f1_score(y_train, y_pred)]])\n",
        "results.columns = ['Accuracy', 'Precision','Recall','f-1']\n",
        "results"
      ]
    },
    {
      "cell_type": "markdown",
      "metadata": {
        "id": "IPg4ODFaw-8s"
      },
      "source": [
        "Matriz de confusión\n",
        "\n",
        "Podemos observar que la cantidad de instancias mal predichas son similares para ambas clases.\n",
        "Se tienen un total de 485 predicciones correctas de no supervivencia, 244 de supervivencia, por otro lado, se tienen 64 casos de no supervivencia predichos incorrectamente y 96 de supervivencia predichos como no supervivencia\n"
      ]
    },
    {
      "cell_type": "code",
      "execution_count": null,
      "metadata": {
        "colab": {
          "base_uri": "https://localhost:8080/"
        },
        "id": "rQJDwdgNxRWV",
        "outputId": "fe1503db-6e6f-4ccf-e05c-975f7bdb336b"
      },
      "outputs": [
        {
          "data": {
            "image/png": "[encoded data removed]",
            "text/plain": [
              "<Figure size 800x550 with 2 Axes>"
            ]
          },
          "metadata": {},
          "output_type": "display_data"
        }
      ],
      "source": [
        "# Matriz de confusión\n",
        "cm = confusion_matrix(y_train, y_pred, labels = modelo.classes_)\n",
        "disp = ConfusionMatrixDisplay(confusion_matrix=cm, display_labels=modelo.classes_)\n",
        "disp.plot()\n",
        "plt.show()"
      ]
    },
    {
      "cell_type": "markdown",
      "metadata": {
        "id": "enP9WhpSw5yh"
      },
      "source": [
        "Evaluación con test dataset"
      ]
    },
    {
      "cell_type": "code",
      "execution_count": null,
      "metadata": {
        "colab": {
          "base_uri": "https://localhost:8080/"
        },
        "id": "p_7QFbY9xJ56",
        "outputId": "f5f773bd-1062-47d9-9dfe-7fa4e428f350"
      },
      "outputs": [
        {
          "data": {
            "text/html": [
              "\n",
              "  <div id=\"df-052ee7ac-ce16-4a2f-920a-a545c7d36e79\" class=\"colab-df-container\">\n",
              "    <div>\n",
              "<style scoped>\n",
              "    .dataframe tbody tr th:only-of-type {\n",
              "        vertical-align: middle;\n",
              "    }\n",
              "\n",
              "    .dataframe tbody tr th {\n",
              "        vertical-align: top;\n",
              "    }\n",
              "\n",
              "    .dataframe thead th {\n",
              "        text-align: right;\n",
              "    }\n",
              "</style>\n",
              "<table border=\"1\" class=\"dataframe\">\n",
              "  <thead>\n",
              "    <tr style=\"text-align: right;\">\n",
              "      <th></th>\n",
              "      <th>Accuracy</th>\n",
              "      <th>Precision</th>\n",
              "      <th>Recall</th>\n",
              "      <th>f-1</th>\n",
              "    </tr>\n",
              "  </thead>\n",
              "  <tbody>\n",
              "    <tr>\n",
              "      <th>0</th>\n",
              "      <td>0.788969</td>\n",
              "      <td>0.730263</td>\n",
              "      <td>0.702532</td>\n",
              "      <td>0.716129</td>\n",
              "    </tr>\n",
              "  </tbody>\n",
              "</table>\n",
              "</div>\n",
              "    <div class=\"colab-df-buttons\">\n",
              "\n",
              "  <div class=\"colab-df-container\">\n",
              "    <button class=\"colab-df-convert\" onclick=\"convertToInteractive('df-052ee7ac-ce16-4a2f-920a-a545c7d36e79')\"\n",
              "            title=\"Convert this dataframe to an interactive table.\"\n",
              "            style=\"display:none;\">\n",
              "\n",
              "  <svg xmlns=\"http://www.w3.org/2000/svg\" height=\"24px\" viewBox=\"0 -960 960 960\">\n",
              "    <path d=\"M120-120v-720h720v720H120Zm60-500h600v-160H180v160Zm220 220h160v-160H400v160Zm0 220h160v-160H400v160ZM180-400h160v-160H180v160Zm440 0h160v-160H620v160ZM180-180h160v-160H180v160Zm440 0h160v-160H620v160Z\"/>\n",
              "  </svg>\n",
              "    </button>\n",
              "\n",
              "  <style>\n",
              "    .colab-df-container {\n",
              "      display:flex;\n",
              "      gap: 12px;\n",
              "    }\n",
              "\n",
              "    .colab-df-convert {\n",
              "      background-color: #E8F0FE;\n",
              "      border: none;\n",
              "      border-radius: 50%;\n",
              "      cursor: pointer;\n",
              "      display: none;\n",
              "      fill: #1967D2;\n",
              "      height: 32px;\n",
              "      padding: 0 0 0 0;\n",
              "      width: 32px;\n",
              "    }\n",
              "\n",
              "    .colab-df-convert:hover {\n",
              "      background-color: #E2EBFA;\n",
              "      box-shadow: 0px 1px 2px rgba(60, 64, 67, 0.3), 0px 1px 3px 1px rgba(60, 64, 67, 0.15);\n",
              "      fill: #174EA6;\n",
              "    }\n",
              "\n",
              "    .colab-df-buttons div {\n",
              "      margin-bottom: 4px;\n",
              "    }\n",
              "\n",
              "    [theme=dark] .colab-df-convert {\n",
              "      background-color: #3B4455;\n",
              "      fill: #D2E3FC;\n",
              "    }\n",
              "\n",
              "    [theme=dark] .colab-df-convert:hover {\n",
              "      background-color: #434B5C;\n",
              "      box-shadow: 0px 1px 3px 1px rgba(0, 0, 0, 0.15);\n",
              "      filter: drop-shadow(0px 1px 2px rgba(0, 0, 0, 0.3));\n",
              "      fill: #FFFFFF;\n",
              "    }\n",
              "  </style>\n",
              "\n",
              "    <script>\n",
              "      const buttonEl =\n",
              "        document.querySelector('#df-052ee7ac-ce16-4a2f-920a-a545c7d36e79 button.colab-df-convert');\n",
              "      buttonEl.style.display =\n",
              "        google.colab.kernel.accessAllowed ? 'block' : 'none';\n",
              "\n",
              "      async function convertToInteractive(key) {\n",
              "        const element = document.querySelector('#df-052ee7ac-ce16-4a2f-920a-a545c7d36e79');\n",
              "        const dataTable =\n",
              "          await google.colab.kernel.invokeFunction('convertToInteractive',\n",
              "                                                    [key], {});\n",
              "        if (!dataTable) return;\n",
              "\n",
              "        const docLinkHtml = 'Like what you see? Visit the ' +\n",
              "          '<a target=\"_blank\" href=https://colab.research.google.com/notebooks/data_table.ipynb>data table notebook</a>'\n",
              "          + ' to learn more about interactive tables.';\n",
              "        element.innerHTML = '';\n",
              "        dataTable['output_type'] = 'display_data';\n",
              "        await google.colab.output.renderOutput(dataTable, element);\n",
              "        const docLink = document.createElement('div');\n",
              "        docLink.innerHTML = docLinkHtml;\n",
              "        element.appendChild(docLink);\n",
              "      }\n",
              "    </script>\n",
              "  </div>\n",
              "\n",
              "    </div>\n",
              "  </div>\n"
            ],
            "text/plain": [
              "   Accuracy  Precision    Recall       f-1\n",
              "0  0.788969   0.730263  0.702532  0.716129"
            ]
          },
          "execution_count": 18,
          "metadata": {},
          "output_type": "execute_result"
        }
      ],
      "source": [
        "# Predicciones\n",
        "y_pred = modelo.predict(test)\n",
        "\n",
        "# Métricas de aprendizaje\n",
        "results = pd.DataFrame([[accuracy_score(y_test, y_pred), precision_score(y_test, y_pred),\n",
        "                    recall_score(y_test, y_pred), f1_score(y_test, y_pred)]])\n",
        "results.columns = ['Accuracy', 'Precision','Recall','f-1']\n",
        "results"
      ]
    },
    {
      "cell_type": "markdown",
      "metadata": {
        "id": "uAm3n9TlTXRA"
      },
      "source": [
        "**Matriz de confusión**\n",
        "\n",
        "Podemos observar que la cantidad de instancias mal predichas son similares para ambas clases.\n",
        "\n",
        "Se tienen un total de 218 predicciones correctas de no supervivencia, 111 de supervivencia, por otro lado, se tienen 41 casos de no supervivencia predichos incorrectamente y 47 de supervivencia predichos como no supervivencia."
      ]
    },
    {
      "cell_type": "code",
      "execution_count": null,
      "metadata": {
        "colab": {
          "base_uri": "https://localhost:8080/"
        },
        "id": "0nCWOIwOSnqR",
        "outputId": "f7c5d3d1-f036-49a1-f4ba-8ab544ab4ee0"
      },
      "outputs": [
        {
          "data": {
            "image/png": "[encoded data removed]",
            "text/plain": [
              "<Figure size 800x550 with 2 Axes>"
            ]
          },
          "metadata": {},
          "output_type": "display_data"
        }
      ],
      "source": [
        "# Matriz de confusión\n",
        "cm = confusion_matrix(y_test, y_pred, labels = modelo.classes_)\n",
        "disp = ConfusionMatrixDisplay(confusion_matrix=cm, display_labels=modelo.classes_)\n",
        "disp.plot()\n",
        "plt.show()"
      ]
    },
    {
      "cell_type": "markdown",
      "metadata": {
        "id": "l1ujf9cOHioc"
      },
      "source": [
        "## Gradient Boosting Classifier"
      ]
    },
    {
      "cell_type": "markdown",
      "metadata": {
        "id": "o-IIgCl7amXl"
      },
      "source": [
        "Librerías"
      ]
    },
    {
      "cell_type": "code",
      "execution_count": null,
      "metadata": {
        "id": "o9YxOVMkarxD"
      },
      "outputs": [],
      "source": [
        "from sklearn.model_selection import GridSearchCV\n",
        "from sklearn.ensemble import GradientBoostingClassifier\n",
        "from sklearn.datasets import load_iris\n",
        "from sklearn.model_selection import train_test_split"
      ]
    },
    {
      "cell_type": "markdown",
      "metadata": {
        "id": "EHG4K0Ngatoo"
      },
      "source": []
    },
    {
      "cell_type": "code",
      "execution_count": null,
      "metadata": {
        "colab": {
          "base_uri": "https://localhost:8080/"
        },
        "id": "Is_hRypueh1f",
        "outputId": "a2c09d3c-22ca-477d-df73-6111a3356c97"
      },
      "outputs": [
        {
          "data": {
            "text/html": [
              "<style>#sk-container-id-2 {color: black;background-color: white;}#sk-container-id-2 pre{padding: 0;}#sk-container-id-2 div.sk-toggleable {background-color: white;}#sk-container-id-2 label.sk-toggleable__label {cursor: pointer;display: block;width: 100%;margin-bottom: 0;padding: 0.3em;box-sizing: border-box;text-align: center;}#sk-container-id-2 label.sk-toggleable__label-arrow:before {content: \"▸\";float: left;margin-right: 0.25em;color: #696969;}#sk-container-id-2 label.sk-toggleable__label-arrow:hover:before {color: black;}#sk-container-id-2 div.sk-estimator:hover label.sk-toggleable__label-arrow:before {color: black;}#sk-container-id-2 div.sk-toggleable__content {max-height: 0;max-width: 0;overflow: hidden;text-align: left;background-color: #f0f8ff;}#sk-container-id-2 div.sk-toggleable__content pre {margin: 0.2em;color: black;border-radius: 0.25em;background-color: #f0f8ff;}#sk-container-id-2 input.sk-toggleable__control:checked~div.sk-toggleable__content {max-height: 200px;max-width: 100%;overflow: auto;}#sk-container-id-2 input.sk-toggleable__control:checked~label.sk-toggleable__label-arrow:before {content: \"▾\";}#sk-container-id-2 div.sk-estimator input.sk-toggleable__control:checked~label.sk-toggleable__label {background-color: #d4ebff;}#sk-container-id-2 div.sk-label input.sk-toggleable__control:checked~label.sk-toggleable__label {background-color: #d4ebff;}#sk-container-id-2 input.sk-hidden--visually {border: 0;clip: rect(1px 1px 1px 1px);clip: rect(1px, 1px, 1px, 1px);height: 1px;margin: -1px;overflow: hidden;padding: 0;position: absolute;width: 1px;}#sk-container-id-2 div.sk-estimator {font-family: monospace;background-color: #f0f8ff;border: 1px dotted black;border-radius: 0.25em;box-sizing: border-box;margin-bottom: 0.5em;}#sk-container-id-2 div.sk-estimator:hover {background-color: #d4ebff;}#sk-container-id-2 div.sk-parallel-item::after {content: \"\";width: 100%;border-bottom: 1px solid gray;flex-grow: 1;}#sk-container-id-2 div.sk-label:hover label.sk-toggleable__label {background-color: #d4ebff;}#sk-container-id-2 div.sk-serial::before {content: \"\";position: absolute;border-left: 1px solid gray;box-sizing: border-box;top: 0;bottom: 0;left: 50%;z-index: 0;}#sk-container-id-2 div.sk-serial {display: flex;flex-direction: column;align-items: center;background-color: white;padding-right: 0.2em;padding-left: 0.2em;position: relative;}#sk-container-id-2 div.sk-item {position: relative;z-index: 1;}#sk-container-id-2 div.sk-parallel {display: flex;align-items: stretch;justify-content: center;background-color: white;position: relative;}#sk-container-id-2 div.sk-item::before, #sk-container-id-2 div.sk-parallel-item::before {content: \"\";position: absolute;border-left: 1px solid gray;box-sizing: border-box;top: 0;bottom: 0;left: 50%;z-index: -1;}#sk-container-id-2 div.sk-parallel-item {display: flex;flex-direction: column;z-index: 1;position: relative;background-color: white;}#sk-container-id-2 div.sk-parallel-item:first-child::after {align-self: flex-end;width: 50%;}#sk-container-id-2 div.sk-parallel-item:last-child::after {align-self: flex-start;width: 50%;}#sk-container-id-2 div.sk-parallel-item:only-child::after {width: 0;}#sk-container-id-2 div.sk-dashed-wrapped {border: 1px dashed gray;margin: 0 0.4em 0.5em 0.4em;box-sizing: border-box;padding-bottom: 0.4em;background-color: white;}#sk-container-id-2 div.sk-label label {font-family: monospace;font-weight: bold;display: inline-block;line-height: 1.2em;}#sk-container-id-2 div.sk-label-container {text-align: center;}#sk-container-id-2 div.sk-container {/* jupyter's `normalize.less` sets `[hidden] { display: none; }` but bootstrap.min.css set `[hidden] { display: none !important; }` so we also need the `!important` here to be able to override the default hidden behavior on the sphinx rendered scikit-learn.org. See: https://github.com/scikit-learn/scikit-learn/issues/21755 */display: inline-block !important;position: relative;}#sk-container-id-2 div.sk-text-repr-fallback {display: none;}</style><div id=\"sk-container-id-2\" class=\"sk-top-container\"><div class=\"sk-text-repr-fallback\"><pre>GradientBoostingClassifier(learning_rate=0.01, max_depth=2, max_features=2,\n",
              "                           random_state=0)</pre><b>In a Jupyter environment, please rerun this cell to show the HTML representation or trust the notebook. <br />On GitHub, the HTML representation is unable to render, please try loading this page with nbviewer.org.</b></div><div class=\"sk-container\" hidden><div class=\"sk-item\"><div class=\"sk-estimator sk-toggleable\"><input class=\"sk-toggleable__control sk-hidden--visually\" id=\"sk-estimator-id-2\" type=\"checkbox\" checked><label for=\"sk-estimator-id-2\" class=\"sk-toggleable__label sk-toggleable__label-arrow\">GradientBoostingClassifier</label><div class=\"sk-toggleable__content\"><pre>GradientBoostingClassifier(learning_rate=0.01, max_depth=2, max_features=2,\n",
              "                           random_state=0)</pre></div></div></div></div></div>"
            ],
            "text/plain": [
              "GradientBoostingClassifier(learning_rate=0.01, max_depth=2, max_features=2,\n",
              "                           random_state=0)"
            ]
          },
          "execution_count": 21,
          "metadata": {},
          "output_type": "execute_result"
        }
      ],
      "source": [
        "gb_clf = GradientBoostingClassifier(n_estimators=100, learning_rate=0.01, max_features=2, max_depth=2, random_state=0)\n",
        "gb_clf.fit(x_train, y_train)"
      ]
    },
    {
      "cell_type": "code",
      "execution_count": null,
      "metadata": {
        "colab": {
          "base_uri": "https://localhost:8080/"
        },
        "id": "GxtpGQBNejYP",
        "outputId": "01f6f3ef-ea19-4677-91dd-5857aee6dedd"
      },
      "outputs": [
        {
          "name": "stdout",
          "output_type": "stream",
          "text": [
            "Accuracy: 0.8267716535433071\n",
            "Precisión (Precision): 0.86328125\n",
            "Recall: 0.65\n",
            "F1-Score: 0.7416107382550337\n"
          ]
        }
      ],
      "source": [
        "y_pred = gb_clf.predict(train)\n",
        "\n",
        "accuracy = accuracy_score(y_train, y_pred)\n",
        "precision = precision_score(y_train, y_pred)\n",
        "recall = recall_score(y_train, y_pred)\n",
        "f1 = f1_score(y_train, y_pred)\n",
        "\n",
        "print(f'Accuracy: {accuracy}')\n",
        "print(f'Precisión (Precision): {precision}')\n",
        "print(f'Recall: {recall}')\n",
        "print(f'F1-Score: {f1}')"
      ]
    },
    {
      "cell_type": "markdown",
      "metadata": {
        "id": "TORVN2mZij3e"
      },
      "source": [
        "Mejorar los hiperparámetros"
      ]
    },
    {
      "cell_type": "code",
      "execution_count": null,
      "metadata": {
        "colab": {
          "base_uri": "https://localhost:8080/"
        },
        "id": "iWV1GKlNifYf",
        "outputId": "35f45652-2b71-4b2f-9804-3b74c1b948fb"
      },
      "outputs": [
        {
          "data": {
            "text/html": [
              "<style>#sk-container-id-3 {color: black;background-color: white;}#sk-container-id-3 pre{padding: 0;}#sk-container-id-3 div.sk-toggleable {background-color: white;}#sk-container-id-3 label.sk-toggleable__label {cursor: pointer;display: block;width: 100%;margin-bottom: 0;padding: 0.3em;box-sizing: border-box;text-align: center;}#sk-container-id-3 label.sk-toggleable__label-arrow:before {content: \"▸\";float: left;margin-right: 0.25em;color: #696969;}#sk-container-id-3 label.sk-toggleable__label-arrow:hover:before {color: black;}#sk-container-id-3 div.sk-estimator:hover label.sk-toggleable__label-arrow:before {color: black;}#sk-container-id-3 div.sk-toggleable__content {max-height: 0;max-width: 0;overflow: hidden;text-align: left;background-color: #f0f8ff;}#sk-container-id-3 div.sk-toggleable__content pre {margin: 0.2em;color: black;border-radius: 0.25em;background-color: #f0f8ff;}#sk-container-id-3 input.sk-toggleable__control:checked~div.sk-toggleable__content {max-height: 200px;max-width: 100%;overflow: auto;}#sk-container-id-3 input.sk-toggleable__control:checked~label.sk-toggleable__label-arrow:before {content: \"▾\";}#sk-container-id-3 div.sk-estimator input.sk-toggleable__control:checked~label.sk-toggleable__label {background-color: #d4ebff;}#sk-container-id-3 div.sk-label input.sk-toggleable__control:checked~label.sk-toggleable__label {background-color: #d4ebff;}#sk-container-id-3 input.sk-hidden--visually {border: 0;clip: rect(1px 1px 1px 1px);clip: rect(1px, 1px, 1px, 1px);height: 1px;margin: -1px;overflow: hidden;padding: 0;position: absolute;width: 1px;}#sk-container-id-3 div.sk-estimator {font-family: monospace;background-color: #f0f8ff;border: 1px dotted black;border-radius: 0.25em;box-sizing: border-box;margin-bottom: 0.5em;}#sk-container-id-3 div.sk-estimator:hover {background-color: #d4ebff;}#sk-container-id-3 div.sk-parallel-item::after {content: \"\";width: 100%;border-bottom: 1px solid gray;flex-grow: 1;}#sk-container-id-3 div.sk-label:hover label.sk-toggleable__label {background-color: #d4ebff;}#sk-container-id-3 div.sk-serial::before {content: \"\";position: absolute;border-left: 1px solid gray;box-sizing: border-box;top: 0;bottom: 0;left: 50%;z-index: 0;}#sk-container-id-3 div.sk-serial {display: flex;flex-direction: column;align-items: center;background-color: white;padding-right: 0.2em;padding-left: 0.2em;position: relative;}#sk-container-id-3 div.sk-item {position: relative;z-index: 1;}#sk-container-id-3 div.sk-parallel {display: flex;align-items: stretch;justify-content: center;background-color: white;position: relative;}#sk-container-id-3 div.sk-item::before, #sk-container-id-3 div.sk-parallel-item::before {content: \"\";position: absolute;border-left: 1px solid gray;box-sizing: border-box;top: 0;bottom: 0;left: 50%;z-index: -1;}#sk-container-id-3 div.sk-parallel-item {display: flex;flex-direction: column;z-index: 1;position: relative;background-color: white;}#sk-container-id-3 div.sk-parallel-item:first-child::after {align-self: flex-end;width: 50%;}#sk-container-id-3 div.sk-parallel-item:last-child::after {align-self: flex-start;width: 50%;}#sk-container-id-3 div.sk-parallel-item:only-child::after {width: 0;}#sk-container-id-3 div.sk-dashed-wrapped {border: 1px dashed gray;margin: 0 0.4em 0.5em 0.4em;box-sizing: border-box;padding-bottom: 0.4em;background-color: white;}#sk-container-id-3 div.sk-label label {font-family: monospace;font-weight: bold;display: inline-block;line-height: 1.2em;}#sk-container-id-3 div.sk-label-container {text-align: center;}#sk-container-id-3 div.sk-container {/* jupyter's `normalize.less` sets `[hidden] { display: none; }` but bootstrap.min.css set `[hidden] { display: none !important; }` so we also need the `!important` here to be able to override the default hidden behavior on the sphinx rendered scikit-learn.org. See: https://github.com/scikit-learn/scikit-learn/issues/21755 */display: inline-block !important;position: relative;}#sk-container-id-3 div.sk-text-repr-fallback {display: none;}</style><div id=\"sk-container-id-3\" class=\"sk-top-container\"><div class=\"sk-text-repr-fallback\"><pre>GridSearchCV(cv=5, estimator=GradientBoostingClassifier(),\n",
              "             param_grid={&#x27;learning_rate&#x27;: [0.01, 0.05, 0.1],\n",
              "                         &#x27;max_depth&#x27;: [1, 2, 3], &#x27;max_features&#x27;: [1, 2, 3],\n",
              "                         &#x27;n_estimators&#x27;: [50, 100, 150],\n",
              "                         &#x27;random_state&#x27;: [0, 5, 10]},\n",
              "             scoring=&#x27;accuracy&#x27;)</pre><b>In a Jupyter environment, please rerun this cell to show the HTML representation or trust the notebook. <br />On GitHub, the HTML representation is unable to render, please try loading this page with nbviewer.org.</b></div><div class=\"sk-container\" hidden><div class=\"sk-item sk-dashed-wrapped\"><div class=\"sk-label-container\"><div class=\"sk-label sk-toggleable\"><input class=\"sk-toggleable__control sk-hidden--visually\" id=\"sk-estimator-id-3\" type=\"checkbox\" ><label for=\"sk-estimator-id-3\" class=\"sk-toggleable__label sk-toggleable__label-arrow\">GridSearchCV</label><div class=\"sk-toggleable__content\"><pre>GridSearchCV(cv=5, estimator=GradientBoostingClassifier(),\n",
              "             param_grid={&#x27;learning_rate&#x27;: [0.01, 0.05, 0.1],\n",
              "                         &#x27;max_depth&#x27;: [1, 2, 3], &#x27;max_features&#x27;: [1, 2, 3],\n",
              "                         &#x27;n_estimators&#x27;: [50, 100, 150],\n",
              "                         &#x27;random_state&#x27;: [0, 5, 10]},\n",
              "             scoring=&#x27;accuracy&#x27;)</pre></div></div></div><div class=\"sk-parallel\"><div class=\"sk-parallel-item\"><div class=\"sk-item\"><div class=\"sk-label-container\"><div class=\"sk-label sk-toggleable\"><input class=\"sk-toggleable__control sk-hidden--visually\" id=\"sk-estimator-id-4\" type=\"checkbox\" ><label for=\"sk-estimator-id-4\" class=\"sk-toggleable__label sk-toggleable__label-arrow\">estimator: GradientBoostingClassifier</label><div class=\"sk-toggleable__content\"><pre>GradientBoostingClassifier()</pre></div></div></div><div class=\"sk-serial\"><div class=\"sk-item\"><div class=\"sk-estimator sk-toggleable\"><input class=\"sk-toggleable__control sk-hidden--visually\" id=\"sk-estimator-id-5\" type=\"checkbox\" ><label for=\"sk-estimator-id-5\" class=\"sk-toggleable__label sk-toggleable__label-arrow\">GradientBoostingClassifier</label><div class=\"sk-toggleable__content\"><pre>GradientBoostingClassifier()</pre></div></div></div></div></div></div></div></div></div></div>"
            ],
            "text/plain": [
              "GridSearchCV(cv=5, estimator=GradientBoostingClassifier(),\n",
              "             param_grid={'learning_rate': [0.01, 0.05, 0.1],\n",
              "                         'max_depth': [1, 2, 3], 'max_features': [1, 2, 3],\n",
              "                         'n_estimators': [50, 100, 150],\n",
              "                         'random_state': [0, 5, 10]},\n",
              "             scoring='accuracy')"
            ]
          },
          "execution_count": 23,
          "metadata": {},
          "output_type": "execute_result"
        }
      ],
      "source": [
        "param_grid = {\n",
        "    'n_estimators': [50, 100, 150],\n",
        "    'learning_rate': [0.01, 0.05, 0.1],\n",
        "    'max_features': [1,2,3],\n",
        "    'max_depth': [1, 2, 3],\n",
        "    'random_state':[0,5,10]\n",
        "}\n",
        "classifier = GradientBoostingClassifier()\n",
        "grid_search = GridSearchCV(classifier, param_grid, cv=5, scoring='accuracy')\n",
        "\n",
        "grid_search.fit(x_train, y_train)"
      ]
    },
    {
      "cell_type": "code",
      "execution_count": null,
      "metadata": {
        "colab": {
          "base_uri": "https://localhost:8080/"
        },
        "id": "v4RgOUTvimT6",
        "outputId": "c2e8ee66-be90-4e52-dabb-e2f67537def7"
      },
      "outputs": [
        {
          "name": "stdout",
          "output_type": "stream",
          "text": [
            "Mejores hiperparámetros encontrados:\n",
            "{'learning_rate': 0.05, 'max_depth': 3, 'max_features': 1, 'n_estimators': 50, 'random_state': 5}\n",
            "\n",
            "Mejor puntuación en la validación cruzada:\n",
            "0.8324192217355424\n"
          ]
        }
      ],
      "source": [
        "print(\"Mejores hiperparámetros encontrados:\")\n",
        "print(grid_search.best_params_)\n",
        "print(\"\\nMejor puntuación en la validación cruzada:\")\n",
        "print(grid_search.best_score_)"
      ]
    },
    {
      "cell_type": "markdown",
      "metadata": {
        "id": "M0xprWhUmim5"
      },
      "source": [
        "Modelo final"
      ]
    },
    {
      "cell_type": "code",
      "execution_count": null,
      "metadata": {
        "colab": {
          "base_uri": "https://localhost:8080/"
        },
        "id": "WRYlIxE4miRk",
        "outputId": "3ac9a62e-e1fc-48a1-a064-14e0ec1d8a3a"
      },
      "outputs": [
        {
          "data": {
            "text/html": [
              "<style>#sk-container-id-4 {color: black;background-color: white;}#sk-container-id-4 pre{padding: 0;}#sk-container-id-4 div.sk-toggleable {background-color: white;}#sk-container-id-4 label.sk-toggleable__label {cursor: pointer;display: block;width: 100%;margin-bottom: 0;padding: 0.3em;box-sizing: border-box;text-align: center;}#sk-container-id-4 label.sk-toggleable__label-arrow:before {content: \"▸\";float: left;margin-right: 0.25em;color: #696969;}#sk-container-id-4 label.sk-toggleable__label-arrow:hover:before {color: black;}#sk-container-id-4 div.sk-estimator:hover label.sk-toggleable__label-arrow:before {color: black;}#sk-container-id-4 div.sk-toggleable__content {max-height: 0;max-width: 0;overflow: hidden;text-align: left;background-color: #f0f8ff;}#sk-container-id-4 div.sk-toggleable__content pre {margin: 0.2em;color: black;border-radius: 0.25em;background-color: #f0f8ff;}#sk-container-id-4 input.sk-toggleable__control:checked~div.sk-toggleable__content {max-height: 200px;max-width: 100%;overflow: auto;}#sk-container-id-4 input.sk-toggleable__control:checked~label.sk-toggleable__label-arrow:before {content: \"▾\";}#sk-container-id-4 div.sk-estimator input.sk-toggleable__control:checked~label.sk-toggleable__label {background-color: #d4ebff;}#sk-container-id-4 div.sk-label input.sk-toggleable__control:checked~label.sk-toggleable__label {background-color: #d4ebff;}#sk-container-id-4 input.sk-hidden--visually {border: 0;clip: rect(1px 1px 1px 1px);clip: rect(1px, 1px, 1px, 1px);height: 1px;margin: -1px;overflow: hidden;padding: 0;position: absolute;width: 1px;}#sk-container-id-4 div.sk-estimator {font-family: monospace;background-color: #f0f8ff;border: 1px dotted black;border-radius: 0.25em;box-sizing: border-box;margin-bottom: 0.5em;}#sk-container-id-4 div.sk-estimator:hover {background-color: #d4ebff;}#sk-container-id-4 div.sk-parallel-item::after {content: \"\";width: 100%;border-bottom: 1px solid gray;flex-grow: 1;}#sk-container-id-4 div.sk-label:hover label.sk-toggleable__label {background-color: #d4ebff;}#sk-container-id-4 div.sk-serial::before {content: \"\";position: absolute;border-left: 1px solid gray;box-sizing: border-box;top: 0;bottom: 0;left: 50%;z-index: 0;}#sk-container-id-4 div.sk-serial {display: flex;flex-direction: column;align-items: center;background-color: white;padding-right: 0.2em;padding-left: 0.2em;position: relative;}#sk-container-id-4 div.sk-item {position: relative;z-index: 1;}#sk-container-id-4 div.sk-parallel {display: flex;align-items: stretch;justify-content: center;background-color: white;position: relative;}#sk-container-id-4 div.sk-item::before, #sk-container-id-4 div.sk-parallel-item::before {content: \"\";position: absolute;border-left: 1px solid gray;box-sizing: border-box;top: 0;bottom: 0;left: 50%;z-index: -1;}#sk-container-id-4 div.sk-parallel-item {display: flex;flex-direction: column;z-index: 1;position: relative;background-color: white;}#sk-container-id-4 div.sk-parallel-item:first-child::after {align-self: flex-end;width: 50%;}#sk-container-id-4 div.sk-parallel-item:last-child::after {align-self: flex-start;width: 50%;}#sk-container-id-4 div.sk-parallel-item:only-child::after {width: 0;}#sk-container-id-4 div.sk-dashed-wrapped {border: 1px dashed gray;margin: 0 0.4em 0.5em 0.4em;box-sizing: border-box;padding-bottom: 0.4em;background-color: white;}#sk-container-id-4 div.sk-label label {font-family: monospace;font-weight: bold;display: inline-block;line-height: 1.2em;}#sk-container-id-4 div.sk-label-container {text-align: center;}#sk-container-id-4 div.sk-container {/* jupyter's `normalize.less` sets `[hidden] { display: none; }` but bootstrap.min.css set `[hidden] { display: none !important; }` so we also need the `!important` here to be able to override the default hidden behavior on the sphinx rendered scikit-learn.org. See: https://github.com/scikit-learn/scikit-learn/issues/21755 */display: inline-block !important;position: relative;}#sk-container-id-4 div.sk-text-repr-fallback {display: none;}</style><div id=\"sk-container-id-4\" class=\"sk-top-container\"><div class=\"sk-text-repr-fallback\"><pre>GradientBoostingClassifier(learning_rate=0.01, max_depth=2, max_features=2,\n",
              "                           random_state=5)</pre><b>In a Jupyter environment, please rerun this cell to show the HTML representation or trust the notebook. <br />On GitHub, the HTML representation is unable to render, please try loading this page with nbviewer.org.</b></div><div class=\"sk-container\" hidden><div class=\"sk-item\"><div class=\"sk-estimator sk-toggleable\"><input class=\"sk-toggleable__control sk-hidden--visually\" id=\"sk-estimator-id-6\" type=\"checkbox\" checked><label for=\"sk-estimator-id-6\" class=\"sk-toggleable__label sk-toggleable__label-arrow\">GradientBoostingClassifier</label><div class=\"sk-toggleable__content\"><pre>GradientBoostingClassifier(learning_rate=0.01, max_depth=2, max_features=2,\n",
              "                           random_state=5)</pre></div></div></div></div></div>"
            ],
            "text/plain": [
              "GradientBoostingClassifier(learning_rate=0.01, max_depth=2, max_features=2,\n",
              "                           random_state=5)"
            ]
          },
          "execution_count": 25,
          "metadata": {},
          "output_type": "execute_result"
        }
      ],
      "source": [
        "gb_clf_f = GradientBoostingClassifier(n_estimators=100, learning_rate=0.01, max_features=2, max_depth=2, random_state=5)\n",
        "gb_clf_f.fit(x_train, y_train)"
      ]
    },
    {
      "cell_type": "markdown",
      "metadata": {
        "id": "hpYFPmTZwlMR"
      },
      "source": [
        "Evaluación con train dataset"
      ]
    },
    {
      "cell_type": "code",
      "execution_count": null,
      "metadata": {
        "colab": {
          "base_uri": "https://localhost:8080/"
        },
        "id": "96Z-hqBywnfj",
        "outputId": "ae323e77-6ccf-4ff6-e3f0-4c3fd145ce99"
      },
      "outputs": [
        {
          "name": "stdout",
          "output_type": "stream",
          "text": [
            "Accuracy: 0.8200224971878515\n",
            "Precisión (Precision): 0.8061224489795918\n",
            "Recall: 0.6970588235294117\n",
            "F1-Score: 0.7476340694006309\n"
          ]
        }
      ],
      "source": [
        "y_pred = gb_clf_f.predict(train)\n",
        "\n",
        "accuracy = accuracy_score(y_train, y_pred)\n",
        "precision = precision_score(y_train, y_pred)\n",
        "recall = recall_score(y_train, y_pred)\n",
        "f1 = f1_score(y_train, y_pred)\n",
        "\n",
        "print(f'Accuracy: {accuracy}')\n",
        "print(f'Precisión (Precision): {precision}')\n",
        "print(f'Recall: {recall}')\n",
        "print(f'F1-Score: {f1}')"
      ]
    },
    {
      "cell_type": "markdown",
      "metadata": {
        "id": "j9fUAWoNwwna"
      },
      "source": [
        "Matriz de confusión"
      ]
    },
    {
      "cell_type": "code",
      "execution_count": null,
      "metadata": {
        "colab": {
          "base_uri": "https://localhost:8080/"
        },
        "id": "gWipOQL-wy9X",
        "outputId": "553340bd-0fca-456d-c968-91617dbfb567"
      },
      "outputs": [
        {
          "data": {
            "image/png": "[encoded data removed]",
            "text/plain": [
              "<Figure size 800x550 with 2 Axes>"
            ]
          },
          "metadata": {},
          "output_type": "display_data"
        }
      ],
      "source": [
        "cm = confusion_matrix(y_train, y_pred)\n",
        "\n",
        "ConfusionMatrixDisplay(confusion_matrix=cm).plot();"
      ]
    },
    {
      "cell_type": "markdown",
      "metadata": {
        "id": "_Dy7DnEMwjLu"
      },
      "source": [
        "Evaluación con test dataset"
      ]
    },
    {
      "cell_type": "code",
      "execution_count": null,
      "metadata": {
        "colab": {
          "base_uri": "https://localhost:8080/"
        },
        "id": "MT3zuYhxwrd1",
        "outputId": "e4fc78d1-24c0-4d14-84bc-60d5d69584d7"
      },
      "outputs": [
        {
          "name": "stdout",
          "output_type": "stream",
          "text": [
            "Accuracy: 0.7913669064748201\n",
            "Precisión (Precision): 0.7448275862068966\n",
            "Recall: 0.6835443037974683\n",
            "F1-Score: 0.712871287128713\n"
          ]
        }
      ],
      "source": [
        "y_pred = gb_clf_f.predict(test)\n",
        "\n",
        "accuracy = accuracy_score(y_test, y_pred)\n",
        "precision = precision_score(y_test, y_pred)\n",
        "recall = recall_score(y_test, y_pred)\n",
        "f1 = f1_score(y_test, y_pred)\n",
        "\n",
        "print(f'Accuracy: {accuracy}')\n",
        "print(f'Precisión (Precision): {precision}')\n",
        "print(f'Recall: {recall}')\n",
        "print(f'F1-Score: {f1}')"
      ]
    },
    {
      "cell_type": "markdown",
      "metadata": {
        "id": "GecinxlVwhEe"
      },
      "source": [
        "Matriz de confusión"
      ]
    },
    {
      "cell_type": "code",
      "execution_count": null,
      "metadata": {
        "colab": {
          "base_uri": "https://localhost:8080/"
        },
        "id": "oNSJRcWSi9Nb",
        "outputId": "37fee7fd-9d94-4d91-c0a7-d3b7116d81f6"
      },
      "outputs": [
        {
          "data": {
            "image/png": "[encoded data removed]",
            "text/plain": [
              "<Figure size 800x550 with 2 Axes>"
            ]
          },
          "metadata": {},
          "output_type": "display_data"
        }
      ],
      "source": [
        "cm = confusion_matrix(y_test, y_pred)\n",
        "\n",
        "ConfusionMatrixDisplay(confusion_matrix=cm).plot();"
      ]
    },
    {
      "cell_type": "markdown",
      "metadata": {
        "id": "GVRFHUN2sv06"
      },
      "source": [
        "## Random Forest Classifier"
      ]
    },
    {
      "cell_type": "markdown",
      "metadata": {
        "id": "bdl48XdWu1E9"
      },
      "source": [
        "### Liberias"
      ]
    },
    {
      "cell_type": "code",
      "execution_count": null,
      "metadata": {
        "id": "mYAQLo_bHqZe"
      },
      "outputs": [],
      "source": [
        "# Modelling\n",
        "from sklearn.ensemble import RandomForestClassifier\n",
        "from sklearn.metrics import accuracy_score, confusion_matrix, precision_score, recall_score, ConfusionMatrixDisplay\n",
        "from sklearn.model_selection import RandomizedSearchCV, train_test_split\n",
        "from scipy.stats import randint\n",
        "\n",
        "# Tree Visualisation\n",
        "from sklearn.tree import export_graphviz\n",
        "from IPython.display import Image\n",
        "import graphviz"
      ]
    },
    {
      "cell_type": "markdown",
      "metadata": {
        "id": "F8z8hlVuu968"
      },
      "source": [
        "### Adaptación y evaluación"
      ]
    },
    {
      "cell_type": "code",
      "execution_count": null,
      "metadata": {
        "colab": {
          "base_uri": "https://localhost:8080/"
        },
        "id": "HDj237Euu-Nl",
        "outputId": "f61167ea-1214-4594-bc69-714d594b9175"
      },
      "outputs": [
        {
          "data": {
            "text/html": [
              "<style>#sk-container-id-5 {color: black;background-color: white;}#sk-container-id-5 pre{padding: 0;}#sk-container-id-5 div.sk-toggleable {background-color: white;}#sk-container-id-5 label.sk-toggleable__label {cursor: pointer;display: block;width: 100%;margin-bottom: 0;padding: 0.3em;box-sizing: border-box;text-align: center;}#sk-container-id-5 label.sk-toggleable__label-arrow:before {content: \"▸\";float: left;margin-right: 0.25em;color: #696969;}#sk-container-id-5 label.sk-toggleable__label-arrow:hover:before {color: black;}#sk-container-id-5 div.sk-estimator:hover label.sk-toggleable__label-arrow:before {color: black;}#sk-container-id-5 div.sk-toggleable__content {max-height: 0;max-width: 0;overflow: hidden;text-align: left;background-color: #f0f8ff;}#sk-container-id-5 div.sk-toggleable__content pre {margin: 0.2em;color: black;border-radius: 0.25em;background-color: #f0f8ff;}#sk-container-id-5 input.sk-toggleable__control:checked~div.sk-toggleable__content {max-height: 200px;max-width: 100%;overflow: auto;}#sk-container-id-5 input.sk-toggleable__control:checked~label.sk-toggleable__label-arrow:before {content: \"▾\";}#sk-container-id-5 div.sk-estimator input.sk-toggleable__control:checked~label.sk-toggleable__label {background-color: #d4ebff;}#sk-container-id-5 div.sk-label input.sk-toggleable__control:checked~label.sk-toggleable__label {background-color: #d4ebff;}#sk-container-id-5 input.sk-hidden--visually {border: 0;clip: rect(1px 1px 1px 1px);clip: rect(1px, 1px, 1px, 1px);height: 1px;margin: -1px;overflow: hidden;padding: 0;position: absolute;width: 1px;}#sk-container-id-5 div.sk-estimator {font-family: monospace;background-color: #f0f8ff;border: 1px dotted black;border-radius: 0.25em;box-sizing: border-box;margin-bottom: 0.5em;}#sk-container-id-5 div.sk-estimator:hover {background-color: #d4ebff;}#sk-container-id-5 div.sk-parallel-item::after {content: \"\";width: 100%;border-bottom: 1px solid gray;flex-grow: 1;}#sk-container-id-5 div.sk-label:hover label.sk-toggleable__label {background-color: #d4ebff;}#sk-container-id-5 div.sk-serial::before {content: \"\";position: absolute;border-left: 1px solid gray;box-sizing: border-box;top: 0;bottom: 0;left: 50%;z-index: 0;}#sk-container-id-5 div.sk-serial {display: flex;flex-direction: column;align-items: center;background-color: white;padding-right: 0.2em;padding-left: 0.2em;position: relative;}#sk-container-id-5 div.sk-item {position: relative;z-index: 1;}#sk-container-id-5 div.sk-parallel {display: flex;align-items: stretch;justify-content: center;background-color: white;position: relative;}#sk-container-id-5 div.sk-item::before, #sk-container-id-5 div.sk-parallel-item::before {content: \"\";position: absolute;border-left: 1px solid gray;box-sizing: border-box;top: 0;bottom: 0;left: 50%;z-index: -1;}#sk-container-id-5 div.sk-parallel-item {display: flex;flex-direction: column;z-index: 1;position: relative;background-color: white;}#sk-container-id-5 div.sk-parallel-item:first-child::after {align-self: flex-end;width: 50%;}#sk-container-id-5 div.sk-parallel-item:last-child::after {align-self: flex-start;width: 50%;}#sk-container-id-5 div.sk-parallel-item:only-child::after {width: 0;}#sk-container-id-5 div.sk-dashed-wrapped {border: 1px dashed gray;margin: 0 0.4em 0.5em 0.4em;box-sizing: border-box;padding-bottom: 0.4em;background-color: white;}#sk-container-id-5 div.sk-label label {font-family: monospace;font-weight: bold;display: inline-block;line-height: 1.2em;}#sk-container-id-5 div.sk-label-container {text-align: center;}#sk-container-id-5 div.sk-container {/* jupyter's `normalize.less` sets `[hidden] { display: none; }` but bootstrap.min.css set `[hidden] { display: none !important; }` so we also need the `!important` here to be able to override the default hidden behavior on the sphinx rendered scikit-learn.org. See: https://github.com/scikit-learn/scikit-learn/issues/21755 */display: inline-block !important;position: relative;}#sk-container-id-5 div.sk-text-repr-fallback {display: none;}</style><div id=\"sk-container-id-5\" class=\"sk-top-container\"><div class=\"sk-text-repr-fallback\"><pre>RandomForestClassifier()</pre><b>In a Jupyter environment, please rerun this cell to show the HTML representation or trust the notebook. <br />On GitHub, the HTML representation is unable to render, please try loading this page with nbviewer.org.</b></div><div class=\"sk-container\" hidden><div class=\"sk-item\"><div class=\"sk-estimator sk-toggleable\"><input class=\"sk-toggleable__control sk-hidden--visually\" id=\"sk-estimator-id-7\" type=\"checkbox\" checked><label for=\"sk-estimator-id-7\" class=\"sk-toggleable__label sk-toggleable__label-arrow\">RandomForestClassifier</label><div class=\"sk-toggleable__content\"><pre>RandomForestClassifier()</pre></div></div></div></div></div>"
            ],
            "text/plain": [
              "RandomForestClassifier()"
            ]
          },
          "execution_count": 31,
          "metadata": {},
          "output_type": "execute_result"
        }
      ],
      "source": [
        "rf = RandomForestClassifier()\n",
        "rf.fit(x_train, y_train)"
      ]
    },
    {
      "cell_type": "code",
      "execution_count": null,
      "metadata": {
        "colab": {
          "base_uri": "https://localhost:8080/"
        },
        "id": "5t16BC5mwq-u",
        "outputId": "0779be97-77b4-4034-a176-405b7e9bb0d1"
      },
      "outputs": [
        {
          "name": "stdout",
          "output_type": "stream",
          "text": [
            "Accuracy inicial: 0.7362110311750599\n"
          ]
        }
      ],
      "source": [
        "y_pred = rf.predict(test)\n",
        "accuracy = accuracy_score(y_test, y_pred)\n",
        "print(\"Accuracy inicial:\", accuracy)"
      ]
    },
    {
      "cell_type": "markdown",
      "metadata": {
        "id": "EkQh34Ec8O3s"
      },
      "source": [
        "#### _Visualizacion de 3 árboles de decisión del random forest_"
      ]
    },
    {
      "cell_type": "code",
      "execution_count": null,
      "metadata": {
        "colab": {
          "base_uri": "https://localhost:8080/"
        },
        "id": "av5u1E728W4x",
        "outputId": "e015e23f-f49a-4d23-fca1-19f6595b52a4"
      },
      "outputs": [
        {
          "data": {
            "image/svg+xml": [
              "<?xml version=\"1.0\" encoding=\"UTF-8\" standalone=\"no\"?>\n",
              "<!DOCTYPE svg PUBLIC \"-//W3C//DTD SVG 1.1//EN\"\n",
              " \"http://www.w3.org/Graphics/SVG/1.1/DTD/svg11.dtd\">\n",
              "<!-- Generated by graphviz version 2.43.0 (0)\n",
              " -->\n",
              "<!-- Title: Tree Pages: 1 -->\n",
              "<svg width=\"653pt\" height=\"311pt\"\n",
              " viewBox=\"0.00 0.00 652.50 311.00\" xmlns=\"http://www.w3.org/2000/svg\" xmlns:xlink=\"http://www.w3.org/1999/xlink\">\n",
              "<g id=\"graph0\" class=\"graph\" transform=\"scale(1 1) rotate(0) translate(4 307)\">\n",
              "<title>Tree</title>\n",
              "<polygon fill=\"white\" stroke=\"transparent\" points=\"-4,4 -4,-307 648.5,-307 648.5,4 -4,4\"/>\n",
              "<!-- 0 -->\n",
              "<g id=\"node1\" class=\"node\">\n",
              "<title>0</title>\n",
              "<polygon fill=\"#f6d3ba\" stroke=\"black\" points=\"394,-303 247,-303 247,-250 394,-250 394,-303\"/>\n",
              "<text text-anchor=\"middle\" x=\"320.5\" y=\"-287.8\" font-family=\"Helvetica,sans-Serif\" font-size=\"14.00\">Title &lt;= 0.5</text>\n",
              "<text text-anchor=\"middle\" x=\"320.5\" y=\"-272.8\" font-family=\"Helvetica,sans-Serif\" font-size=\"14.00\">samples = 100.0%</text>\n",
              "<text text-anchor=\"middle\" x=\"320.5\" y=\"-257.8\" font-family=\"Helvetica,sans-Serif\" font-size=\"14.00\">value = [0.605, 0.395]</text>\n",
              "</g>\n",
              "<!-- 1 -->\n",
              "<g id=\"node2\" class=\"node\">\n",
              "<title>1</title>\n",
              "<polygon fill=\"#ea9c63\" stroke=\"black\" points=\"312,-214 165,-214 165,-161 312,-161 312,-214\"/>\n",
              "<text text-anchor=\"middle\" x=\"238.5\" y=\"-198.8\" font-family=\"Helvetica,sans-Serif\" font-size=\"14.00\">SibSp &lt;= 1.5</text>\n",
              "<text text-anchor=\"middle\" x=\"238.5\" y=\"-183.8\" font-family=\"Helvetica,sans-Serif\" font-size=\"14.00\">samples = 59.8%</text>\n",
              "<text text-anchor=\"middle\" x=\"238.5\" y=\"-168.8\" font-family=\"Helvetica,sans-Serif\" font-size=\"14.00\">value = [0.826, 0.174]</text>\n",
              "</g>\n",
              "<!-- 0&#45;&gt;1 -->\n",
              "<g id=\"edge1\" class=\"edge\">\n",
              "<title>0&#45;&gt;1</title>\n",
              "<path fill=\"none\" stroke=\"black\" d=\"M296.34,-249.87C287.99,-241.01 278.51,-230.95 269.68,-221.58\"/>\n",
              "<polygon fill=\"black\" stroke=\"black\" points=\"272.18,-219.13 262.77,-214.25 267.08,-223.93 272.18,-219.13\"/>\n",
              "<text text-anchor=\"middle\" x=\"262.03\" y=\"-235.54\" font-family=\"Helvetica,sans-Serif\" font-size=\"14.00\">True</text>\n",
              "</g>\n",
              "<!-- 180 -->\n",
              "<g id=\"node9\" class=\"node\">\n",
              "<title>180</title>\n",
              "<polygon fill=\"#83c2ef\" stroke=\"black\" points=\"477,-214 330,-214 330,-161 477,-161 477,-214\"/>\n",
              "<text text-anchor=\"middle\" x=\"403.5\" y=\"-198.8\" font-family=\"Helvetica,sans-Serif\" font-size=\"14.00\">Comp &lt;= 3.5</text>\n",
              "<text text-anchor=\"middle\" x=\"403.5\" y=\"-183.8\" font-family=\"Helvetica,sans-Serif\" font-size=\"14.00\">samples = 40.2%</text>\n",
              "<text text-anchor=\"middle\" x=\"403.5\" y=\"-168.8\" font-family=\"Helvetica,sans-Serif\" font-size=\"14.00\">value = [0.273, 0.727]</text>\n",
              "</g>\n",
              "<!-- 0&#45;&gt;180 -->\n",
              "<g id=\"edge8\" class=\"edge\">\n",
              "<title>0&#45;&gt;180</title>\n",
              "<path fill=\"none\" stroke=\"black\" d=\"M344.95,-249.87C353.41,-241.01 363,-230.95 371.94,-221.58\"/>\n",
              "<polygon fill=\"black\" stroke=\"black\" points=\"374.56,-223.9 378.93,-214.25 369.5,-219.07 374.56,-223.9\"/>\n",
              "<text text-anchor=\"middle\" x=\"379.52\" y=\"-235.54\" font-family=\"Helvetica,sans-Serif\" font-size=\"14.00\">False</text>\n",
              "</g>\n",
              "<!-- 2 -->\n",
              "<g id=\"node3\" class=\"node\">\n",
              "<title>2</title>\n",
              "<polygon fill=\"#eb9c64\" stroke=\"black\" points=\"147,-125 0,-125 0,-72 147,-72 147,-125\"/>\n",
              "<text text-anchor=\"middle\" x=\"73.5\" y=\"-109.8\" font-family=\"Helvetica,sans-Serif\" font-size=\"14.00\">Pclass &lt;= 1.5</text>\n",
              "<text text-anchor=\"middle\" x=\"73.5\" y=\"-94.8\" font-family=\"Helvetica,sans-Serif\" font-size=\"14.00\">samples = 58.2%</text>\n",
              "<text text-anchor=\"middle\" x=\"73.5\" y=\"-79.8\" font-family=\"Helvetica,sans-Serif\" font-size=\"14.00\">value = [0.822, 0.178]</text>\n",
              "</g>\n",
              "<!-- 1&#45;&gt;2 -->\n",
              "<g id=\"edge2\" class=\"edge\">\n",
              "<title>1&#45;&gt;2</title>\n",
              "<path fill=\"none\" stroke=\"black\" d=\"M189.89,-160.87C171.42,-151.13 150.22,-139.95 131.01,-129.82\"/>\n",
              "<polygon fill=\"black\" stroke=\"black\" points=\"132.53,-126.67 122.05,-125.1 129.26,-132.86 132.53,-126.67\"/>\n",
              "</g>\n",
              "<!-- 171 -->\n",
              "<g id=\"node6\" class=\"node\">\n",
              "<title>171</title>\n",
              "<polygon fill=\"#e78946\" stroke=\"black\" points=\"312,-125 165,-125 165,-72 312,-72 312,-125\"/>\n",
              "<text text-anchor=\"middle\" x=\"238.5\" y=\"-109.8\" font-family=\"Helvetica,sans-Serif\" font-size=\"14.00\">Age &lt;= 28.5</text>\n",
              "<text text-anchor=\"middle\" x=\"238.5\" y=\"-94.8\" font-family=\"Helvetica,sans-Serif\" font-size=\"14.00\">samples = 1.6%</text>\n",
              "<text text-anchor=\"middle\" x=\"238.5\" y=\"-79.8\" font-family=\"Helvetica,sans-Serif\" font-size=\"14.00\">value = [0.938, 0.062]</text>\n",
              "</g>\n",
              "<!-- 1&#45;&gt;171 -->\n",
              "<g id=\"edge5\" class=\"edge\">\n",
              "<title>1&#45;&gt;171</title>\n",
              "<path fill=\"none\" stroke=\"black\" d=\"M238.5,-160.87C238.5,-152.89 238.5,-143.93 238.5,-135.38\"/>\n",
              "<polygon fill=\"black\" stroke=\"black\" points=\"242,-135.25 238.5,-125.25 235,-135.25 242,-135.25\"/>\n",
              "</g>\n",
              "<!-- 3 -->\n",
              "<g id=\"node4\" class=\"node\">\n",
              "<title>3</title>\n",
              "<polygon fill=\"#c0c0c0\" stroke=\"black\" points=\"92.5,-36 38.5,-36 38.5,0 92.5,0 92.5,-36\"/>\n",
              "<text text-anchor=\"middle\" x=\"65.5\" y=\"-14.3\" font-family=\"Helvetica,sans-Serif\" font-size=\"14.00\">(...)</text>\n",
              "</g>\n",
              "<!-- 2&#45;&gt;3 -->\n",
              "<g id=\"edge3\" class=\"edge\">\n",
              "<title>2&#45;&gt;3</title>\n",
              "<path fill=\"none\" stroke=\"black\" d=\"M70.88,-71.8C70.06,-63.71 69.14,-54.76 68.31,-46.55\"/>\n",
              "<polygon fill=\"black\" stroke=\"black\" points=\"71.76,-45.92 67.27,-36.33 64.8,-46.63 71.76,-45.92\"/>\n",
              "</g>\n",
              "<!-- 68 -->\n",
              "<g id=\"node5\" class=\"node\">\n",
              "<title>68</title>\n",
              "<polygon fill=\"#c0c0c0\" stroke=\"black\" points=\"164.5,-36 110.5,-36 110.5,0 164.5,0 164.5,-36\"/>\n",
              "<text text-anchor=\"middle\" x=\"137.5\" y=\"-14.3\" font-family=\"Helvetica,sans-Serif\" font-size=\"14.00\">(...)</text>\n",
              "</g>\n",
              "<!-- 2&#45;&gt;68 -->\n",
              "<g id=\"edge4\" class=\"edge\">\n",
              "<title>2&#45;&gt;68</title>\n",
              "<path fill=\"none\" stroke=\"black\" d=\"M94.46,-71.8C101.71,-62.9 109.83,-52.93 117.05,-44.08\"/>\n",
              "<polygon fill=\"black\" stroke=\"black\" points=\"119.76,-46.29 123.37,-36.33 114.34,-41.87 119.76,-46.29\"/>\n",
              "</g>\n",
              "<!-- 172 -->\n",
              "<g id=\"node7\" class=\"node\">\n",
              "<title>172</title>\n",
              "<polygon fill=\"#c0c0c0\" stroke=\"black\" points=\"250.5,-36 196.5,-36 196.5,0 250.5,0 250.5,-36\"/>\n",
              "<text text-anchor=\"middle\" x=\"223.5\" y=\"-14.3\" font-family=\"Helvetica,sans-Serif\" font-size=\"14.00\">(...)</text>\n",
              "</g>\n",
              "<!-- 171&#45;&gt;172 -->\n",
              "<g id=\"edge6\" class=\"edge\">\n",
              "<title>171&#45;&gt;172</title>\n",
              "<path fill=\"none\" stroke=\"black\" d=\"M233.59,-71.8C232.03,-63.62 230.29,-54.55 228.71,-46.27\"/>\n",
              "<polygon fill=\"black\" stroke=\"black\" points=\"232.13,-45.5 226.81,-36.33 225.25,-46.81 232.13,-45.5\"/>\n",
              "</g>\n",
              "<!-- 173 -->\n",
              "<g id=\"node8\" class=\"node\">\n",
              "<title>173</title>\n",
              "<polygon fill=\"#c0c0c0\" stroke=\"black\" points=\"322.5,-36 268.5,-36 268.5,0 322.5,0 322.5,-36\"/>\n",
              "<text text-anchor=\"middle\" x=\"295.5\" y=\"-14.3\" font-family=\"Helvetica,sans-Serif\" font-size=\"14.00\">(...)</text>\n",
              "</g>\n",
              "<!-- 171&#45;&gt;173 -->\n",
              "<g id=\"edge7\" class=\"edge\">\n",
              "<title>171&#45;&gt;173</title>\n",
              "<path fill=\"none\" stroke=\"black\" d=\"M257.16,-71.8C263.5,-63.08 270.56,-53.34 276.89,-44.63\"/>\n",
              "<polygon fill=\"black\" stroke=\"black\" points=\"279.87,-46.48 282.92,-36.33 274.21,-42.37 279.87,-46.48\"/>\n",
              "</g>\n",
              "<!-- 181 -->\n",
              "<g id=\"node10\" class=\"node\">\n",
              "<title>181</title>\n",
              "<polygon fill=\"#64b2eb\" stroke=\"black\" points=\"477,-125 330,-125 330,-72 477,-72 477,-125\"/>\n",
              "<text text-anchor=\"middle\" x=\"403.5\" y=\"-109.8\" font-family=\"Helvetica,sans-Serif\" font-size=\"14.00\">Sex &lt;= 0.5</text>\n",
              "<text text-anchor=\"middle\" x=\"403.5\" y=\"-94.8\" font-family=\"Helvetica,sans-Serif\" font-size=\"14.00\">samples = 34.7%</text>\n",
              "<text text-anchor=\"middle\" x=\"403.5\" y=\"-79.8\" font-family=\"Helvetica,sans-Serif\" font-size=\"14.00\">value = [0.177, 0.823]</text>\n",
              "</g>\n",
              "<!-- 180&#45;&gt;181 -->\n",
              "<g id=\"edge9\" class=\"edge\">\n",
              "<title>180&#45;&gt;181</title>\n",
              "<path fill=\"none\" stroke=\"black\" d=\"M403.5,-160.87C403.5,-152.89 403.5,-143.93 403.5,-135.38\"/>\n",
              "<polygon fill=\"black\" stroke=\"black\" points=\"407,-135.25 403.5,-125.25 400,-135.25 407,-135.25\"/>\n",
              "</g>\n",
              "<!-- 314 -->\n",
              "<g id=\"node13\" class=\"node\">\n",
              "<title>314</title>\n",
              "<polygon fill=\"#e99659\" stroke=\"black\" points=\"627.5,-125 495.5,-125 495.5,-72 627.5,-72 627.5,-125\"/>\n",
              "<text text-anchor=\"middle\" x=\"561.5\" y=\"-109.8\" font-family=\"Helvetica,sans-Serif\" font-size=\"14.00\">Parch &lt;= 1.5</text>\n",
              "<text text-anchor=\"middle\" x=\"561.5\" y=\"-94.8\" font-family=\"Helvetica,sans-Serif\" font-size=\"14.00\">samples = 5.5%</text>\n",
              "<text text-anchor=\"middle\" x=\"561.5\" y=\"-79.8\" font-family=\"Helvetica,sans-Serif\" font-size=\"14.00\">value = [0.86, 0.14]</text>\n",
              "</g>\n",
              "<!-- 180&#45;&gt;314 -->\n",
              "<g id=\"edge12\" class=\"edge\">\n",
              "<title>180&#45;&gt;314</title>\n",
              "<path fill=\"none\" stroke=\"black\" d=\"M450.05,-160.87C467.65,-151.18 487.85,-140.05 506.18,-129.96\"/>\n",
              "<polygon fill=\"black\" stroke=\"black\" points=\"507.94,-132.99 515.01,-125.1 504.56,-126.86 507.94,-132.99\"/>\n",
              "</g>\n",
              "<!-- 182 -->\n",
              "<g id=\"node11\" class=\"node\">\n",
              "<title>182</title>\n",
              "<polygon fill=\"#c0c0c0\" stroke=\"black\" points=\"412.5,-36 358.5,-36 358.5,0 412.5,0 412.5,-36\"/>\n",
              "<text text-anchor=\"middle\" x=\"385.5\" y=\"-14.3\" font-family=\"Helvetica,sans-Serif\" font-size=\"14.00\">(...)</text>\n",
              "</g>\n",
              "<!-- 181&#45;&gt;182 -->\n",
              "<g id=\"edge10\" class=\"edge\">\n",
              "<title>181&#45;&gt;182</title>\n",
              "<path fill=\"none\" stroke=\"black\" d=\"M397.61,-71.8C395.73,-63.62 393.65,-54.55 391.75,-46.27\"/>\n",
              "<polygon fill=\"black\" stroke=\"black\" points=\"395.12,-45.3 389.47,-36.33 388.3,-46.86 395.12,-45.3\"/>\n",
              "</g>\n",
              "<!-- 199 -->\n",
              "<g id=\"node12\" class=\"node\">\n",
              "<title>199</title>\n",
              "<polygon fill=\"#c0c0c0\" stroke=\"black\" points=\"484.5,-36 430.5,-36 430.5,0 484.5,0 484.5,-36\"/>\n",
              "<text text-anchor=\"middle\" x=\"457.5\" y=\"-14.3\" font-family=\"Helvetica,sans-Serif\" font-size=\"14.00\">(...)</text>\n",
              "</g>\n",
              "<!-- 181&#45;&gt;199 -->\n",
              "<g id=\"edge11\" class=\"edge\">\n",
              "<title>181&#45;&gt;199</title>\n",
              "<path fill=\"none\" stroke=\"black\" d=\"M421.18,-71.8C427.18,-63.08 433.88,-53.34 439.87,-44.63\"/>\n",
              "<polygon fill=\"black\" stroke=\"black\" points=\"442.79,-46.55 445.58,-36.33 437.03,-42.59 442.79,-46.55\"/>\n",
              "</g>\n",
              "<!-- 315 -->\n",
              "<g id=\"node14\" class=\"node\">\n",
              "<title>315</title>\n",
              "<polygon fill=\"#c0c0c0\" stroke=\"black\" points=\"572.5,-36 518.5,-36 518.5,0 572.5,0 572.5,-36\"/>\n",
              "<text text-anchor=\"middle\" x=\"545.5\" y=\"-14.3\" font-family=\"Helvetica,sans-Serif\" font-size=\"14.00\">(...)</text>\n",
              "</g>\n",
              "<!-- 314&#45;&gt;315 -->\n",
              "<g id=\"edge13\" class=\"edge\">\n",
              "<title>314&#45;&gt;315</title>\n",
              "<path fill=\"none\" stroke=\"black\" d=\"M556.26,-71.8C554.59,-63.62 552.75,-54.55 551.06,-46.27\"/>\n",
              "<polygon fill=\"black\" stroke=\"black\" points=\"554.46,-45.43 549.03,-36.33 547.6,-46.83 554.46,-45.43\"/>\n",
              "</g>\n",
              "<!-- 316 -->\n",
              "<g id=\"node15\" class=\"node\">\n",
              "<title>316</title>\n",
              "<polygon fill=\"#c0c0c0\" stroke=\"black\" points=\"644.5,-36 590.5,-36 590.5,0 644.5,0 644.5,-36\"/>\n",
              "<text text-anchor=\"middle\" x=\"617.5\" y=\"-14.3\" font-family=\"Helvetica,sans-Serif\" font-size=\"14.00\">(...)</text>\n",
              "</g>\n",
              "<!-- 314&#45;&gt;316 -->\n",
              "<g id=\"edge14\" class=\"edge\">\n",
              "<title>314&#45;&gt;316</title>\n",
              "<path fill=\"none\" stroke=\"black\" d=\"M579.84,-71.8C586.06,-63.08 593,-53.34 599.22,-44.63\"/>\n",
              "<polygon fill=\"black\" stroke=\"black\" points=\"602.18,-46.5 605.14,-36.33 596.48,-42.44 602.18,-46.5\"/>\n",
              "</g>\n",
              "</g>\n",
              "</svg>\n"
            ],
            "text/plain": [
              "<graphviz.sources.Source at 0x7b06e037e440>"
            ]
          },
          "metadata": {},
          "output_type": "display_data"
        },
        {
          "data": {
            "image/svg+xml": [
              "<?xml version=\"1.0\" encoding=\"UTF-8\" standalone=\"no\"?>\n",
              "<!DOCTYPE svg PUBLIC \"-//W3C//DTD SVG 1.1//EN\"\n",
              " \"http://www.w3.org/Graphics/SVG/1.1/DTD/svg11.dtd\">\n",
              "<!-- Generated by graphviz version 2.43.0 (0)\n",
              " -->\n",
              "<!-- Title: Tree Pages: 1 -->\n",
              "<svg width=\"606pt\" height=\"311pt\"\n",
              " viewBox=\"0.00 0.00 606.00 311.00\" xmlns=\"http://www.w3.org/2000/svg\" xmlns:xlink=\"http://www.w3.org/1999/xlink\">\n",
              "<g id=\"graph0\" class=\"graph\" transform=\"scale(1 1) rotate(0) translate(4 307)\">\n",
              "<title>Tree</title>\n",
              "<polygon fill=\"white\" stroke=\"transparent\" points=\"-4,4 -4,-307 602,-307 602,4 -4,4\"/>\n",
              "<!-- 0 -->\n",
              "<g id=\"node1\" class=\"node\">\n",
              "<title>0</title>\n",
              "<polygon fill=\"#f4caab\" stroke=\"black\" points=\"384,-303 237,-303 237,-250 384,-250 384,-303\"/>\n",
              "<text text-anchor=\"middle\" x=\"310.5\" y=\"-287.8\" font-family=\"Helvetica,sans-Serif\" font-size=\"14.00\">Sex &lt;= 0.5</text>\n",
              "<text text-anchor=\"middle\" x=\"310.5\" y=\"-272.8\" font-family=\"Helvetica,sans-Serif\" font-size=\"14.00\">samples = 100.0%</text>\n",
              "<text text-anchor=\"middle\" x=\"310.5\" y=\"-257.8\" font-family=\"Helvetica,sans-Serif\" font-size=\"14.00\">value = [0.634, 0.366]</text>\n",
              "</g>\n",
              "<!-- 1 -->\n",
              "<g id=\"node2\" class=\"node\">\n",
              "<title>1</title>\n",
              "<polygon fill=\"#ea9b62\" stroke=\"black\" points=\"297.5,-214 165.5,-214 165.5,-161 297.5,-161 297.5,-214\"/>\n",
              "<text text-anchor=\"middle\" x=\"231.5\" y=\"-198.8\" font-family=\"Helvetica,sans-Serif\" font-size=\"14.00\">Age &lt;= 6.5</text>\n",
              "<text text-anchor=\"middle\" x=\"231.5\" y=\"-183.8\" font-family=\"Helvetica,sans-Serif\" font-size=\"14.00\">samples = 63.6%</text>\n",
              "<text text-anchor=\"middle\" x=\"231.5\" y=\"-168.8\" font-family=\"Helvetica,sans-Serif\" font-size=\"14.00\">value = [0.83, 0.17]</text>\n",
              "</g>\n",
              "<!-- 0&#45;&gt;1 -->\n",
              "<g id=\"edge1\" class=\"edge\">\n",
              "<title>0&#45;&gt;1</title>\n",
              "<path fill=\"none\" stroke=\"black\" d=\"M287.22,-249.87C279.26,-241.1 270.23,-231.15 261.79,-221.86\"/>\n",
              "<polygon fill=\"black\" stroke=\"black\" points=\"264.2,-219.3 254.88,-214.25 259.01,-224.01 264.2,-219.3\"/>\n",
              "<text text-anchor=\"middle\" x=\"253.68\" y=\"-235.52\" font-family=\"Helvetica,sans-Serif\" font-size=\"14.00\">True</text>\n",
              "</g>\n",
              "<!-- 184 -->\n",
              "<g id=\"node9\" class=\"node\">\n",
              "<title>184</title>\n",
              "<polygon fill=\"#89c5ef\" stroke=\"black\" points=\"463,-214 316,-214 316,-161 463,-161 463,-214\"/>\n",
              "<text text-anchor=\"middle\" x=\"389.5\" y=\"-198.8\" font-family=\"Helvetica,sans-Serif\" font-size=\"14.00\">SibSp &lt;= 4.5</text>\n",
              "<text text-anchor=\"middle\" x=\"389.5\" y=\"-183.8\" font-family=\"Helvetica,sans-Serif\" font-size=\"14.00\">samples = 36.4%</text>\n",
              "<text text-anchor=\"middle\" x=\"389.5\" y=\"-168.8\" font-family=\"Helvetica,sans-Serif\" font-size=\"14.00\">value = [0.288, 0.712]</text>\n",
              "</g>\n",
              "<!-- 0&#45;&gt;184 -->\n",
              "<g id=\"edge8\" class=\"edge\">\n",
              "<title>0&#45;&gt;184</title>\n",
              "<path fill=\"none\" stroke=\"black\" d=\"M333.78,-249.87C341.74,-241.1 350.77,-231.15 359.21,-221.86\"/>\n",
              "<polygon fill=\"black\" stroke=\"black\" points=\"361.99,-224.01 366.12,-214.25 356.8,-219.3 361.99,-224.01\"/>\n",
              "<text text-anchor=\"middle\" x=\"367.32\" y=\"-235.52\" font-family=\"Helvetica,sans-Serif\" font-size=\"14.00\">False</text>\n",
              "</g>\n",
              "<!-- 2 -->\n",
              "<g id=\"node3\" class=\"node\">\n",
              "<title>2</title>\n",
              "<polygon fill=\"#a3d1f3\" stroke=\"black\" points=\"147,-125 0,-125 0,-72 147,-72 147,-125\"/>\n",
              "<text text-anchor=\"middle\" x=\"73.5\" y=\"-109.8\" font-family=\"Helvetica,sans-Serif\" font-size=\"14.00\">Embarked &lt;= 1.5</text>\n",
              "<text text-anchor=\"middle\" x=\"73.5\" y=\"-94.8\" font-family=\"Helvetica,sans-Serif\" font-size=\"14.00\">samples = 2.9%</text>\n",
              "<text text-anchor=\"middle\" x=\"73.5\" y=\"-79.8\" font-family=\"Helvetica,sans-Serif\" font-size=\"14.00\">value = [0.348, 0.652]</text>\n",
              "</g>\n",
              "<!-- 1&#45;&gt;2 -->\n",
              "<g id=\"edge2\" class=\"edge\">\n",
              "<title>1&#45;&gt;2</title>\n",
              "<path fill=\"none\" stroke=\"black\" d=\"M184.95,-160.87C167.35,-151.18 147.15,-140.05 128.82,-129.96\"/>\n",
              "<polygon fill=\"black\" stroke=\"black\" points=\"130.44,-126.86 119.99,-125.1 127.06,-132.99 130.44,-126.86\"/>\n",
              "</g>\n",
              "<!-- 13 -->\n",
              "<g id=\"node6\" class=\"node\">\n",
              "<title>13</title>\n",
              "<polygon fill=\"#ea975c\" stroke=\"black\" points=\"297.5,-125 165.5,-125 165.5,-72 297.5,-72 297.5,-125\"/>\n",
              "<text text-anchor=\"middle\" x=\"231.5\" y=\"-109.8\" font-family=\"Helvetica,sans-Serif\" font-size=\"14.00\">Age &lt;= 75.5</text>\n",
              "<text text-anchor=\"middle\" x=\"231.5\" y=\"-94.8\" font-family=\"Helvetica,sans-Serif\" font-size=\"14.00\">samples = 60.7%</text>\n",
              "<text text-anchor=\"middle\" x=\"231.5\" y=\"-79.8\" font-family=\"Helvetica,sans-Serif\" font-size=\"14.00\">value = [0.85, 0.15]</text>\n",
              "</g>\n",
              "<!-- 1&#45;&gt;13 -->\n",
              "<g id=\"edge5\" class=\"edge\">\n",
              "<title>1&#45;&gt;13</title>\n",
              "<path fill=\"none\" stroke=\"black\" d=\"M231.5,-160.87C231.5,-152.89 231.5,-143.93 231.5,-135.38\"/>\n",
              "<polygon fill=\"black\" stroke=\"black\" points=\"235,-135.25 231.5,-125.25 228,-135.25 235,-135.25\"/>\n",
              "</g>\n",
              "<!-- 3 -->\n",
              "<g id=\"node4\" class=\"node\">\n",
              "<title>3</title>\n",
              "<polygon fill=\"#c0c0c0\" stroke=\"black\" points=\"78.5,-36 24.5,-36 24.5,0 78.5,0 78.5,-36\"/>\n",
              "<text text-anchor=\"middle\" x=\"51.5\" y=\"-14.3\" font-family=\"Helvetica,sans-Serif\" font-size=\"14.00\">(...)</text>\n",
              "</g>\n",
              "<!-- 2&#45;&gt;3 -->\n",
              "<g id=\"edge3\" class=\"edge\">\n",
              "<title>2&#45;&gt;3</title>\n",
              "<path fill=\"none\" stroke=\"black\" d=\"M66.3,-71.8C63.98,-63.53 61.41,-54.35 59.07,-46\"/>\n",
              "<polygon fill=\"black\" stroke=\"black\" points=\"62.43,-45.01 56.36,-36.33 55.69,-46.9 62.43,-45.01\"/>\n",
              "</g>\n",
              "<!-- 12 -->\n",
              "<g id=\"node5\" class=\"node\">\n",
              "<title>12</title>\n",
              "<polygon fill=\"#c0c0c0\" stroke=\"black\" points=\"150.5,-36 96.5,-36 96.5,0 150.5,0 150.5,-36\"/>\n",
              "<text text-anchor=\"middle\" x=\"123.5\" y=\"-14.3\" font-family=\"Helvetica,sans-Serif\" font-size=\"14.00\">(...)</text>\n",
              "</g>\n",
              "<!-- 2&#45;&gt;12 -->\n",
              "<g id=\"edge4\" class=\"edge\">\n",
              "<title>2&#45;&gt;12</title>\n",
              "<path fill=\"none\" stroke=\"black\" d=\"M89.87,-71.8C95.37,-63.17 101.5,-53.54 107,-44.9\"/>\n",
              "<polygon fill=\"black\" stroke=\"black\" points=\"110.04,-46.65 112.46,-36.33 104.14,-42.88 110.04,-46.65\"/>\n",
              "</g>\n",
              "<!-- 14 -->\n",
              "<g id=\"node7\" class=\"node\">\n",
              "<title>14</title>\n",
              "<polygon fill=\"#c0c0c0\" stroke=\"black\" points=\"240.5,-36 186.5,-36 186.5,0 240.5,0 240.5,-36\"/>\n",
              "<text text-anchor=\"middle\" x=\"213.5\" y=\"-14.3\" font-family=\"Helvetica,sans-Serif\" font-size=\"14.00\">(...)</text>\n",
              "</g>\n",
              "<!-- 13&#45;&gt;14 -->\n",
              "<g id=\"edge6\" class=\"edge\">\n",
              "<title>13&#45;&gt;14</title>\n",
              "<path fill=\"none\" stroke=\"black\" d=\"M225.61,-71.8C223.73,-63.62 221.65,-54.55 219.75,-46.27\"/>\n",
              "<polygon fill=\"black\" stroke=\"black\" points=\"223.12,-45.3 217.47,-36.33 216.3,-46.86 223.12,-45.3\"/>\n",
              "</g>\n",
              "<!-- 183 -->\n",
              "<g id=\"node8\" class=\"node\">\n",
              "<title>183</title>\n",
              "<polygon fill=\"#c0c0c0\" stroke=\"black\" points=\"312.5,-36 258.5,-36 258.5,0 312.5,0 312.5,-36\"/>\n",
              "<text text-anchor=\"middle\" x=\"285.5\" y=\"-14.3\" font-family=\"Helvetica,sans-Serif\" font-size=\"14.00\">(...)</text>\n",
              "</g>\n",
              "<!-- 13&#45;&gt;183 -->\n",
              "<g id=\"edge7\" class=\"edge\">\n",
              "<title>13&#45;&gt;183</title>\n",
              "<path fill=\"none\" stroke=\"black\" d=\"M249.18,-71.8C255.18,-63.08 261.88,-53.34 267.87,-44.63\"/>\n",
              "<polygon fill=\"black\" stroke=\"black\" points=\"270.79,-46.55 273.58,-36.33 265.03,-42.59 270.79,-46.55\"/>\n",
              "</g>\n",
              "<!-- 185 -->\n",
              "<g id=\"node10\" class=\"node\">\n",
              "<title>185</title>\n",
              "<polygon fill=\"#82c1ef\" stroke=\"black\" points=\"463,-125 316,-125 316,-72 463,-72 463,-125\"/>\n",
              "<text text-anchor=\"middle\" x=\"389.5\" y=\"-109.8\" font-family=\"Helvetica,sans-Serif\" font-size=\"14.00\">Comp &lt;= 3.5</text>\n",
              "<text text-anchor=\"middle\" x=\"389.5\" y=\"-94.8\" font-family=\"Helvetica,sans-Serif\" font-size=\"14.00\">samples = 35.6%</text>\n",
              "<text text-anchor=\"middle\" x=\"389.5\" y=\"-79.8\" font-family=\"Helvetica,sans-Serif\" font-size=\"14.00\">value = [0.269, 0.731]</text>\n",
              "</g>\n",
              "<!-- 184&#45;&gt;185 -->\n",
              "<g id=\"edge9\" class=\"edge\">\n",
              "<title>184&#45;&gt;185</title>\n",
              "<path fill=\"none\" stroke=\"black\" d=\"M389.5,-160.87C389.5,-152.89 389.5,-143.93 389.5,-135.38\"/>\n",
              "<polygon fill=\"black\" stroke=\"black\" points=\"393,-135.25 389.5,-125.25 386,-135.25 393,-135.25\"/>\n",
              "</g>\n",
              "<!-- 346 -->\n",
              "<g id=\"node13\" class=\"node\">\n",
              "<title>346</title>\n",
              "<polygon fill=\"#e58139\" stroke=\"black\" points=\"598,-117.5 481,-117.5 481,-79.5 598,-79.5 598,-117.5\"/>\n",
              "<text text-anchor=\"middle\" x=\"539.5\" y=\"-102.3\" font-family=\"Helvetica,sans-Serif\" font-size=\"14.00\">samples = 0.7%</text>\n",
              "<text text-anchor=\"middle\" x=\"539.5\" y=\"-87.3\" font-family=\"Helvetica,sans-Serif\" font-size=\"14.00\">value = [1.0, 0.0]</text>\n",
              "</g>\n",
              "<!-- 184&#45;&gt;346 -->\n",
              "<g id=\"edge12\" class=\"edge\">\n",
              "<title>184&#45;&gt;346</title>\n",
              "<path fill=\"none\" stroke=\"black\" d=\"M433.69,-160.87C454.62,-148.73 479.42,-134.35 499.75,-122.55\"/>\n",
              "<polygon fill=\"black\" stroke=\"black\" points=\"501.56,-125.55 508.45,-117.51 498.05,-119.5 501.56,-125.55\"/>\n",
              "</g>\n",
              "<!-- 186 -->\n",
              "<g id=\"node11\" class=\"node\">\n",
              "<title>186</title>\n",
              "<polygon fill=\"#c0c0c0\" stroke=\"black\" points=\"400.5,-36 346.5,-36 346.5,0 400.5,0 400.5,-36\"/>\n",
              "<text text-anchor=\"middle\" x=\"373.5\" y=\"-14.3\" font-family=\"Helvetica,sans-Serif\" font-size=\"14.00\">(...)</text>\n",
              "</g>\n",
              "<!-- 185&#45;&gt;186 -->\n",
              "<g id=\"edge10\" class=\"edge\">\n",
              "<title>185&#45;&gt;186</title>\n",
              "<path fill=\"none\" stroke=\"black\" d=\"M384.26,-71.8C382.59,-63.62 380.75,-54.55 379.06,-46.27\"/>\n",
              "<polygon fill=\"black\" stroke=\"black\" points=\"382.46,-45.43 377.03,-36.33 375.6,-46.83 382.46,-45.43\"/>\n",
              "</g>\n",
              "<!-- 331 -->\n",
              "<g id=\"node12\" class=\"node\">\n",
              "<title>331</title>\n",
              "<polygon fill=\"#c0c0c0\" stroke=\"black\" points=\"472.5,-36 418.5,-36 418.5,0 472.5,0 472.5,-36\"/>\n",
              "<text text-anchor=\"middle\" x=\"445.5\" y=\"-14.3\" font-family=\"Helvetica,sans-Serif\" font-size=\"14.00\">(...)</text>\n",
              "</g>\n",
              "<!-- 185&#45;&gt;331 -->\n",
              "<g id=\"edge11\" class=\"edge\">\n",
              "<title>185&#45;&gt;331</title>\n",
              "<path fill=\"none\" stroke=\"black\" d=\"M407.84,-71.8C414.06,-63.08 421,-53.34 427.22,-44.63\"/>\n",
              "<polygon fill=\"black\" stroke=\"black\" points=\"430.18,-46.5 433.14,-36.33 424.48,-42.44 430.18,-46.5\"/>\n",
              "</g>\n",
              "</g>\n",
              "</svg>\n"
            ],
            "text/plain": [
              "<graphviz.sources.Source at 0x7b06e0633070>"
            ]
          },
          "metadata": {},
          "output_type": "display_data"
        },
        {
          "data": {
            "image/svg+xml": [
              "<?xml version=\"1.0\" encoding=\"UTF-8\" standalone=\"no\"?>\n",
              "<!DOCTYPE svg PUBLIC \"-//W3C//DTD SVG 1.1//EN\"\n",
              " \"http://www.w3.org/Graphics/SVG/1.1/DTD/svg11.dtd\">\n",
              "<!-- Generated by graphviz version 2.43.0 (0)\n",
              " -->\n",
              "<!-- Title: Tree Pages: 1 -->\n",
              "<svg width=\"642pt\" height=\"311pt\"\n",
              " viewBox=\"0.00 0.00 642.00 311.00\" xmlns=\"http://www.w3.org/2000/svg\" xmlns:xlink=\"http://www.w3.org/1999/xlink\">\n",
              "<g id=\"graph0\" class=\"graph\" transform=\"scale(1 1) rotate(0) translate(4 307)\">\n",
              "<title>Tree</title>\n",
              "<polygon fill=\"white\" stroke=\"transparent\" points=\"-4,4 -4,-307 638,-307 638,4 -4,4\"/>\n",
              "<!-- 0 -->\n",
              "<g id=\"node1\" class=\"node\">\n",
              "<title>0</title>\n",
              "<polygon fill=\"#f6d2b8\" stroke=\"black\" points=\"379.5,-303 232.5,-303 232.5,-250 379.5,-250 379.5,-303\"/>\n",
              "<text text-anchor=\"middle\" x=\"306\" y=\"-287.8\" font-family=\"Helvetica,sans-Serif\" font-size=\"14.00\">Title &lt;= 0.5</text>\n",
              "<text text-anchor=\"middle\" x=\"306\" y=\"-272.8\" font-family=\"Helvetica,sans-Serif\" font-size=\"14.00\">samples = 100.0%</text>\n",
              "<text text-anchor=\"middle\" x=\"306\" y=\"-257.8\" font-family=\"Helvetica,sans-Serif\" font-size=\"14.00\">value = [0.609, 0.391]</text>\n",
              "</g>\n",
              "<!-- 1 -->\n",
              "<g id=\"node2\" class=\"node\">\n",
              "<title>1</title>\n",
              "<polygon fill=\"#ea9a60\" stroke=\"black\" points=\"297.5,-214 150.5,-214 150.5,-161 297.5,-161 297.5,-214\"/>\n",
              "<text text-anchor=\"middle\" x=\"224\" y=\"-198.8\" font-family=\"Helvetica,sans-Serif\" font-size=\"14.00\">SibSp &lt;= 1.5</text>\n",
              "<text text-anchor=\"middle\" x=\"224\" y=\"-183.8\" font-family=\"Helvetica,sans-Serif\" font-size=\"14.00\">samples = 57.0%</text>\n",
              "<text text-anchor=\"middle\" x=\"224\" y=\"-168.8\" font-family=\"Helvetica,sans-Serif\" font-size=\"14.00\">value = [0.835, 0.165]</text>\n",
              "</g>\n",
              "<!-- 0&#45;&gt;1 -->\n",
              "<g id=\"edge1\" class=\"edge\">\n",
              "<title>0&#45;&gt;1</title>\n",
              "<path fill=\"none\" stroke=\"black\" d=\"M281.84,-249.87C273.49,-241.01 264.01,-230.95 255.18,-221.58\"/>\n",
              "<polygon fill=\"black\" stroke=\"black\" points=\"257.68,-219.13 248.27,-214.25 252.58,-223.93 257.68,-219.13\"/>\n",
              "<text text-anchor=\"middle\" x=\"247.53\" y=\"-235.54\" font-family=\"Helvetica,sans-Serif\" font-size=\"14.00\">True</text>\n",
              "</g>\n",
              "<!-- 176 -->\n",
              "<g id=\"node9\" class=\"node\">\n",
              "<title>176</title>\n",
              "<polygon fill=\"#8fc8f0\" stroke=\"black\" points=\"462.5,-214 315.5,-214 315.5,-161 462.5,-161 462.5,-214\"/>\n",
              "<text text-anchor=\"middle\" x=\"389\" y=\"-198.8\" font-family=\"Helvetica,sans-Serif\" font-size=\"14.00\">Age &lt;= 12.5</text>\n",
              "<text text-anchor=\"middle\" x=\"389\" y=\"-183.8\" font-family=\"Helvetica,sans-Serif\" font-size=\"14.00\">samples = 43.0%</text>\n",
              "<text text-anchor=\"middle\" x=\"389\" y=\"-168.8\" font-family=\"Helvetica,sans-Serif\" font-size=\"14.00\">value = [0.303, 0.697]</text>\n",
              "</g>\n",
              "<!-- 0&#45;&gt;176 -->\n",
              "<g id=\"edge8\" class=\"edge\">\n",
              "<title>0&#45;&gt;176</title>\n",
              "<path fill=\"none\" stroke=\"black\" d=\"M330.45,-249.87C338.91,-241.01 348.5,-230.95 357.44,-221.58\"/>\n",
              "<polygon fill=\"black\" stroke=\"black\" points=\"360.06,-223.9 364.43,-214.25 355,-219.07 360.06,-223.9\"/>\n",
              "<text text-anchor=\"middle\" x=\"365.02\" y=\"-235.54\" font-family=\"Helvetica,sans-Serif\" font-size=\"14.00\">False</text>\n",
              "</g>\n",
              "<!-- 2 -->\n",
              "<g id=\"node3\" class=\"node\">\n",
              "<title>2</title>\n",
              "<polygon fill=\"#ea9b62\" stroke=\"black\" points=\"132,-125 0,-125 0,-72 132,-72 132,-125\"/>\n",
              "<text text-anchor=\"middle\" x=\"66\" y=\"-109.8\" font-family=\"Helvetica,sans-Serif\" font-size=\"14.00\">Age &lt;= 24.75</text>\n",
              "<text text-anchor=\"middle\" x=\"66\" y=\"-94.8\" font-family=\"Helvetica,sans-Serif\" font-size=\"14.00\">samples = 54.9%</text>\n",
              "<text text-anchor=\"middle\" x=\"66\" y=\"-79.8\" font-family=\"Helvetica,sans-Serif\" font-size=\"14.00\">value = [0.83, 0.17]</text>\n",
              "</g>\n",
              "<!-- 1&#45;&gt;2 -->\n",
              "<g id=\"edge2\" class=\"edge\">\n",
              "<title>1&#45;&gt;2</title>\n",
              "<path fill=\"none\" stroke=\"black\" d=\"M177.45,-160.87C159.85,-151.18 139.65,-140.05 121.32,-129.96\"/>\n",
              "<polygon fill=\"black\" stroke=\"black\" points=\"122.94,-126.86 112.49,-125.1 119.56,-132.99 122.94,-126.86\"/>\n",
              "</g>\n",
              "<!-- 173 -->\n",
              "<g id=\"node6\" class=\"node\">\n",
              "<title>173</title>\n",
              "<polygon fill=\"#e68742\" stroke=\"black\" points=\"297.5,-125 150.5,-125 150.5,-72 297.5,-72 297.5,-125\"/>\n",
              "<text text-anchor=\"middle\" x=\"224\" y=\"-109.8\" font-family=\"Helvetica,sans-Serif\" font-size=\"14.00\">Embarked &lt;= 1.5</text>\n",
              "<text text-anchor=\"middle\" x=\"224\" y=\"-94.8\" font-family=\"Helvetica,sans-Serif\" font-size=\"14.00\">samples = 2.1%</text>\n",
              "<text text-anchor=\"middle\" x=\"224\" y=\"-79.8\" font-family=\"Helvetica,sans-Serif\" font-size=\"14.00\">value = [0.955, 0.045]</text>\n",
              "</g>\n",
              "<!-- 1&#45;&gt;173 -->\n",
              "<g id=\"edge5\" class=\"edge\">\n",
              "<title>1&#45;&gt;173</title>\n",
              "<path fill=\"none\" stroke=\"black\" d=\"M224,-160.87C224,-152.89 224,-143.93 224,-135.38\"/>\n",
              "<polygon fill=\"black\" stroke=\"black\" points=\"227.5,-135.25 224,-125.25 220.5,-135.25 227.5,-135.25\"/>\n",
              "</g>\n",
              "<!-- 3 -->\n",
              "<g id=\"node4\" class=\"node\">\n",
              "<title>3</title>\n",
              "<polygon fill=\"#c0c0c0\" stroke=\"black\" points=\"85,-36 31,-36 31,0 85,0 85,-36\"/>\n",
              "<text text-anchor=\"middle\" x=\"58\" y=\"-14.3\" font-family=\"Helvetica,sans-Serif\" font-size=\"14.00\">(...)</text>\n",
              "</g>\n",
              "<!-- 2&#45;&gt;3 -->\n",
              "<g id=\"edge3\" class=\"edge\">\n",
              "<title>2&#45;&gt;3</title>\n",
              "<path fill=\"none\" stroke=\"black\" d=\"M63.38,-71.8C62.56,-63.71 61.64,-54.76 60.81,-46.55\"/>\n",
              "<polygon fill=\"black\" stroke=\"black\" points=\"64.26,-45.92 59.77,-36.33 57.3,-46.63 64.26,-45.92\"/>\n",
              "</g>\n",
              "<!-- 42 -->\n",
              "<g id=\"node5\" class=\"node\">\n",
              "<title>42</title>\n",
              "<polygon fill=\"#c0c0c0\" stroke=\"black\" points=\"157,-36 103,-36 103,0 157,0 157,-36\"/>\n",
              "<text text-anchor=\"middle\" x=\"130\" y=\"-14.3\" font-family=\"Helvetica,sans-Serif\" font-size=\"14.00\">(...)</text>\n",
              "</g>\n",
              "<!-- 2&#45;&gt;42 -->\n",
              "<g id=\"edge4\" class=\"edge\">\n",
              "<title>2&#45;&gt;42</title>\n",
              "<path fill=\"none\" stroke=\"black\" d=\"M86.96,-71.8C94.21,-62.9 102.33,-52.93 109.55,-44.08\"/>\n",
              "<polygon fill=\"black\" stroke=\"black\" points=\"112.26,-46.29 115.87,-36.33 106.84,-41.87 112.26,-46.29\"/>\n",
              "</g>\n",
              "<!-- 174 -->\n",
              "<g id=\"node7\" class=\"node\">\n",
              "<title>174</title>\n",
              "<polygon fill=\"#c0c0c0\" stroke=\"black\" points=\"240,-36 186,-36 186,0 240,0 240,-36\"/>\n",
              "<text text-anchor=\"middle\" x=\"213\" y=\"-14.3\" font-family=\"Helvetica,sans-Serif\" font-size=\"14.00\">(...)</text>\n",
              "</g>\n",
              "<!-- 173&#45;&gt;174 -->\n",
              "<g id=\"edge6\" class=\"edge\">\n",
              "<title>173&#45;&gt;174</title>\n",
              "<path fill=\"none\" stroke=\"black\" d=\"M220.4,-71.8C219.25,-63.62 217.98,-54.55 216.82,-46.27\"/>\n",
              "<polygon fill=\"black\" stroke=\"black\" points=\"220.28,-45.75 215.43,-36.33 213.35,-46.72 220.28,-45.75\"/>\n",
              "</g>\n",
              "<!-- 175 -->\n",
              "<g id=\"node8\" class=\"node\">\n",
              "<title>175</title>\n",
              "<polygon fill=\"#c0c0c0\" stroke=\"black\" points=\"312,-36 258,-36 258,0 312,0 312,-36\"/>\n",
              "<text text-anchor=\"middle\" x=\"285\" y=\"-14.3\" font-family=\"Helvetica,sans-Serif\" font-size=\"14.00\">(...)</text>\n",
              "</g>\n",
              "<!-- 173&#45;&gt;175 -->\n",
              "<g id=\"edge7\" class=\"edge\">\n",
              "<title>173&#45;&gt;175</title>\n",
              "<path fill=\"none\" stroke=\"black\" d=\"M243.97,-71.8C250.82,-62.99 258.47,-53.14 265.3,-44.36\"/>\n",
              "<polygon fill=\"black\" stroke=\"black\" points=\"268.16,-46.37 271.53,-36.33 262.63,-42.08 268.16,-46.37\"/>\n",
              "</g>\n",
              "<!-- 177 -->\n",
              "<g id=\"node10\" class=\"node\">\n",
              "<title>177</title>\n",
              "<polygon fill=\"#cee6f8\" stroke=\"black\" points=\"462.5,-125 315.5,-125 315.5,-72 462.5,-72 462.5,-125\"/>\n",
              "<text text-anchor=\"middle\" x=\"389\" y=\"-109.8\" font-family=\"Helvetica,sans-Serif\" font-size=\"14.00\">Pclass &lt;= 2.5</text>\n",
              "<text text-anchor=\"middle\" x=\"389\" y=\"-94.8\" font-family=\"Helvetica,sans-Serif\" font-size=\"14.00\">samples = 8.9%</text>\n",
              "<text text-anchor=\"middle\" x=\"389\" y=\"-79.8\" font-family=\"Helvetica,sans-Serif\" font-size=\"14.00\">value = [0.429, 0.571]</text>\n",
              "</g>\n",
              "<!-- 176&#45;&gt;177 -->\n",
              "<g id=\"edge9\" class=\"edge\">\n",
              "<title>176&#45;&gt;177</title>\n",
              "<path fill=\"none\" stroke=\"black\" d=\"M389,-160.87C389,-152.89 389,-143.93 389,-135.38\"/>\n",
              "<polygon fill=\"black\" stroke=\"black\" points=\"392.5,-135.25 389,-125.25 385.5,-135.25 392.5,-135.25\"/>\n",
              "</g>\n",
              "<!-- 204 -->\n",
              "<g id=\"node13\" class=\"node\">\n",
              "<title>204</title>\n",
              "<polygon fill=\"#81c1ef\" stroke=\"black\" points=\"627.5,-125 480.5,-125 480.5,-72 627.5,-72 627.5,-125\"/>\n",
              "<text text-anchor=\"middle\" x=\"554\" y=\"-109.8\" font-family=\"Helvetica,sans-Serif\" font-size=\"14.00\">SibSp &lt;= 4.5</text>\n",
              "<text text-anchor=\"middle\" x=\"554\" y=\"-94.8\" font-family=\"Helvetica,sans-Serif\" font-size=\"14.00\">samples = 34.1%</text>\n",
              "<text text-anchor=\"middle\" x=\"554\" y=\"-79.8\" font-family=\"Helvetica,sans-Serif\" font-size=\"14.00\">value = [0.268, 0.732]</text>\n",
              "</g>\n",
              "<!-- 176&#45;&gt;204 -->\n",
              "<g id=\"edge12\" class=\"edge\">\n",
              "<title>176&#45;&gt;204</title>\n",
              "<path fill=\"none\" stroke=\"black\" d=\"M437.61,-160.87C456.08,-151.13 477.28,-139.95 496.49,-129.82\"/>\n",
              "<polygon fill=\"black\" stroke=\"black\" points=\"498.24,-132.86 505.45,-125.1 494.97,-126.67 498.24,-132.86\"/>\n",
              "</g>\n",
              "<!-- 178 -->\n",
              "<g id=\"node11\" class=\"node\">\n",
              "<title>178</title>\n",
              "<polygon fill=\"#c0c0c0\" stroke=\"black\" points=\"400,-36 346,-36 346,0 400,0 400,-36\"/>\n",
              "<text text-anchor=\"middle\" x=\"373\" y=\"-14.3\" font-family=\"Helvetica,sans-Serif\" font-size=\"14.00\">(...)</text>\n",
              "</g>\n",
              "<!-- 177&#45;&gt;178 -->\n",
              "<g id=\"edge10\" class=\"edge\">\n",
              "<title>177&#45;&gt;178</title>\n",
              "<path fill=\"none\" stroke=\"black\" d=\"M383.76,-71.8C382.09,-63.62 380.25,-54.55 378.56,-46.27\"/>\n",
              "<polygon fill=\"black\" stroke=\"black\" points=\"381.96,-45.43 376.53,-36.33 375.1,-46.83 381.96,-45.43\"/>\n",
              "</g>\n",
              "<!-- 189 -->\n",
              "<g id=\"node12\" class=\"node\">\n",
              "<title>189</title>\n",
              "<polygon fill=\"#c0c0c0\" stroke=\"black\" points=\"472,-36 418,-36 418,0 472,0 472,-36\"/>\n",
              "<text text-anchor=\"middle\" x=\"445\" y=\"-14.3\" font-family=\"Helvetica,sans-Serif\" font-size=\"14.00\">(...)</text>\n",
              "</g>\n",
              "<!-- 177&#45;&gt;189 -->\n",
              "<g id=\"edge11\" class=\"edge\">\n",
              "<title>177&#45;&gt;189</title>\n",
              "<path fill=\"none\" stroke=\"black\" d=\"M407.34,-71.8C413.56,-63.08 420.5,-53.34 426.72,-44.63\"/>\n",
              "<polygon fill=\"black\" stroke=\"black\" points=\"429.68,-46.5 432.64,-36.33 423.98,-42.44 429.68,-46.5\"/>\n",
              "</g>\n",
              "<!-- 205 -->\n",
              "<g id=\"node14\" class=\"node\">\n",
              "<title>205</title>\n",
              "<polygon fill=\"#c0c0c0\" stroke=\"black\" points=\"562,-36 508,-36 508,0 562,0 562,-36\"/>\n",
              "<text text-anchor=\"middle\" x=\"535\" y=\"-14.3\" font-family=\"Helvetica,sans-Serif\" font-size=\"14.00\">(...)</text>\n",
              "</g>\n",
              "<!-- 204&#45;&gt;205 -->\n",
              "<g id=\"edge13\" class=\"edge\">\n",
              "<title>204&#45;&gt;205</title>\n",
              "<path fill=\"none\" stroke=\"black\" d=\"M547.78,-71.8C545.8,-63.62 543.61,-54.55 541.6,-46.27\"/>\n",
              "<polygon fill=\"black\" stroke=\"black\" points=\"544.95,-45.23 539.19,-36.33 538.15,-46.87 544.95,-45.23\"/>\n",
              "</g>\n",
              "<!-- 348 -->\n",
              "<g id=\"node15\" class=\"node\">\n",
              "<title>348</title>\n",
              "<polygon fill=\"#c0c0c0\" stroke=\"black\" points=\"634,-36 580,-36 580,0 634,0 634,-36\"/>\n",
              "<text text-anchor=\"middle\" x=\"607\" y=\"-14.3\" font-family=\"Helvetica,sans-Serif\" font-size=\"14.00\">(...)</text>\n",
              "</g>\n",
              "<!-- 204&#45;&gt;348 -->\n",
              "<g id=\"edge14\" class=\"edge\">\n",
              "<title>204&#45;&gt;348</title>\n",
              "<path fill=\"none\" stroke=\"black\" d=\"M571.35,-71.8C577.24,-63.08 583.81,-53.34 589.7,-44.63\"/>\n",
              "<polygon fill=\"black\" stroke=\"black\" points=\"592.6,-46.58 595.3,-36.33 586.8,-42.66 592.6,-46.58\"/>\n",
              "</g>\n",
              "</g>\n",
              "</svg>\n"
            ],
            "text/plain": [
              "<graphviz.sources.Source at 0x7b06e0632ef0>"
            ]
          },
          "metadata": {},
          "output_type": "display_data"
        }
      ],
      "source": [
        "for i in range(3):\n",
        "    tree = rf.estimators_[i]\n",
        "    dot_data = export_graphviz(tree,\n",
        "                               feature_names=x_train.columns,\n",
        "                               filled=True,\n",
        "                               max_depth=2,\n",
        "                               impurity=False,\n",
        "                               proportion=True)\n",
        "    graph = graphviz.Source(dot_data)\n",
        "    display(graph)"
      ]
    },
    {
      "cell_type": "markdown",
      "metadata": {
        "id": "AmKe-nYh9KZu"
      },
      "source": [
        "### Ajuste de hiperparámetros"
      ]
    },
    {
      "cell_type": "markdown",
      "metadata": {
        "id": "UdNCDdd5-YRJ"
      },
      "source": [
        "A continuación se utiliza la función RandomizedSearchCV para encontrar los mejores hiperparámetros entre un rango especificado."
      ]
    },
    {
      "cell_type": "code",
      "execution_count": null,
      "metadata": {
        "colab": {
          "base_uri": "https://localhost:8080/"
        },
        "id": "VkvQyHEj-ALO",
        "outputId": "3d842914-21a3-4aec-e676-e593ccd6343e"
      },
      "outputs": [
        {
          "name": "stdout",
          "output_type": "stream",
          "text": [
            "Mejores hiperparámetros: {'max_depth': 5, 'n_estimators': 497}\n"
          ]
        }
      ],
      "source": [
        "param_dist = {'n_estimators': randint(40,600),\n",
        "              'max_depth': randint(1,20)}\n",
        "\n",
        "rand_search = RandomizedSearchCV(rf,\n",
        "                                 param_distributions = param_dist,\n",
        "                                 n_iter=5,\n",
        "                                 cv=5)\n",
        "\n",
        "rand_search.fit(x_train, y_train)\n",
        "\n",
        "best_rf = rand_search.best_estimator_\n",
        "\n",
        "print('Mejores hiperparámetros:',  rand_search.best_params_)"
      ]
    },
    {
      "cell_type": "markdown",
      "metadata": {
        "id": "GwgWz4YGwSpB"
      },
      "source": [
        "Evaluación con train"
      ]
    },
    {
      "cell_type": "code",
      "execution_count": null,
      "metadata": {
        "colab": {
          "base_uri": "https://localhost:8080/"
        },
        "id": "rmtg9m4iwUVE",
        "outputId": "e8c736f8-1903-4a6b-c1fc-249847b9b347"
      },
      "outputs": [
        {
          "name": "stdout",
          "output_type": "stream",
          "text": [
            "Accuracy: 0.8368953880764904\n",
            "Precision: 0.8155339805825242\n",
            "Recall: 0.7411764705882353\n",
            "F1:  0.7765793528505393\n"
          ]
        }
      ],
      "source": [
        "y_pred = best_rf.predict(train)\n",
        "\n",
        "accuracy = accuracy_score(y_train, y_pred)\n",
        "precision = precision_score(y_train, y_pred)\n",
        "recall = recall_score(y_train, y_pred)\n",
        "f1 = f1_score(y_train, y_pred)\n",
        "\n",
        "print(\"Accuracy:\", accuracy)\n",
        "print(\"Precision:\", precision)\n",
        "print(\"Recall:\", recall)\n",
        "print (\"F1: \" , f1)"
      ]
    },
    {
      "cell_type": "markdown",
      "metadata": {
        "id": "s_IfCLzkwZ6f"
      },
      "source": [
        "Matriz de confusión"
      ]
    },
    {
      "cell_type": "code",
      "execution_count": null,
      "metadata": {
        "colab": {
          "base_uri": "https://localhost:8080/"
        },
        "id": "pWT_JzVJwbpG",
        "outputId": "393a380f-fb4e-4331-f1a6-24494ba1078e"
      },
      "outputs": [
        {
          "data": {
            "image/png": "[encoded data removed]",
            "text/plain": [
              "<Figure size 800x550 with 2 Axes>"
            ]
          },
          "metadata": {},
          "output_type": "display_data"
        }
      ],
      "source": [
        "cm = confusion_matrix(y_train, y_pred)\n",
        "\n",
        "ConfusionMatrixDisplay(confusion_matrix=cm).plot();"
      ]
    },
    {
      "cell_type": "markdown",
      "metadata": {
        "id": "weEE54zewQ4T"
      },
      "source": [
        "Evaluación con test"
      ]
    },
    {
      "cell_type": "code",
      "execution_count": null,
      "metadata": {
        "colab": {
          "base_uri": "https://localhost:8080/"
        },
        "id": "NJl4i3lqAFvk",
        "outputId": "f2350303-7b2e-46e9-f763-9be48da9233a"
      },
      "outputs": [
        {
          "name": "stdout",
          "output_type": "stream",
          "text": [
            "Accuracy: 0.7793764988009593\n",
            "Precision: 0.70625\n",
            "Recall: 0.7151898734177216\n",
            "F1:  0.7106918238993711\n"
          ]
        }
      ],
      "source": [
        "y_pred = best_rf.predict(test)\n",
        "\n",
        "accuracy = accuracy_score(y_test, y_pred)\n",
        "precision = precision_score(y_test, y_pred)\n",
        "recall = recall_score(y_test, y_pred)\n",
        "f1 = f1_score(y_test, y_pred)\n",
        "\n",
        "print(\"Accuracy:\", accuracy)\n",
        "print(\"Precision:\", precision)\n",
        "print(\"Recall:\", recall)\n",
        "print (\"F1: \" , f1)"
      ]
    },
    {
      "cell_type": "markdown",
      "metadata": {
        "id": "oEPPqpamAnOQ"
      },
      "source": [
        "Matriz de confusión"
      ]
    },
    {
      "cell_type": "code",
      "execution_count": null,
      "metadata": {
        "colab": {
          "base_uri": "https://localhost:8080/"
        },
        "id": "jNoyObh9Amky",
        "outputId": "23b81f07-2a89-4d5b-afc5-3158d18fd73b"
      },
      "outputs": [
        {
          "data": {
            "image/png": "[encoded data removed]",
            "text/plain": [
              "<Figure size 800x550 with 2 Axes>"
            ]
          },
          "metadata": {},
          "output_type": "display_data"
        }
      ],
      "source": [
        "cm = confusion_matrix(y_test, y_pred)\n",
        "\n",
        "ConfusionMatrixDisplay(confusion_matrix=cm).plot();"
      ]
    },
    {
      "cell_type": "markdown",
      "metadata": {
        "id": "JS-qdQuSMiM1"
      },
      "source": [
        "Importancia de las variables"
      ]
    },
    {
      "cell_type": "code",
      "execution_count": null,
      "metadata": {
        "colab": {
          "base_uri": "https://localhost:8080/"
        },
        "id": "Co2gv5bsMj2b",
        "outputId": "f0f9e518-59e1-41dc-d7a3-0c627c7fb93e"
      },
      "outputs": [
        {
          "data": {
            "image/png": "[encoded data removed]",
            "text/plain": [
              "<Figure size 800x550 with 1 Axes>"
            ]
          },
          "metadata": {},
          "output_type": "display_data"
        }
      ],
      "source": [
        "feature_importances = pd.Series(best_rf.feature_importances_, index=x_train.columns).sort_values(ascending=False)\n",
        "\n",
        "# Plot a simple bar chart\n",
        "feature_importances.plot.bar();"
      ]
    },
    {
      "cell_type": "markdown",
      "metadata": {
        "id": "ZGFWHnqbg8dh"
      },
      "source": [
        "## Extreme Gradient Boost"
      ]
    },
    {
      "cell_type": "markdown",
      "metadata": {
        "id": "YqcJKluYhJQS"
      },
      "source": [
        "### Librerías"
      ]
    },
    {
      "cell_type": "code",
      "execution_count": null,
      "metadata": {
        "id": "YPA_5bjUhCDb"
      },
      "outputs": [],
      "source": [
        "import pandas as pd\n",
        "import numpy as np\n",
        "import matplotlib.pyplot as plt\n",
        "from sklearn import metrics\n",
        "from numpy import loadtxt\n",
        "from xgboost import XGBClassifier\n",
        "from sklearn.model_selection import train_test_split\n",
        "from sklearn.metrics import accuracy_score"
      ]
    },
    {
      "cell_type": "markdown",
      "metadata": {
        "id": "p0WTsF3ihhzT"
      },
      "source": [
        "### Adaptación y evaluación"
      ]
    },
    {
      "cell_type": "code",
      "execution_count": null,
      "metadata": {
        "colab": {
          "base_uri": "https://localhost:8080/"
        },
        "id": "Q41oD7qKhPKZ",
        "outputId": "e74bc0a8-a35b-4233-ead3-ac6041b593a8"
      },
      "outputs": [
        {
          "data": {
            "text/html": [
              "<style>#sk-container-id-6 {color: black;background-color: white;}#sk-container-id-6 pre{padding: 0;}#sk-container-id-6 div.sk-toggleable {background-color: white;}#sk-container-id-6 label.sk-toggleable__label {cursor: pointer;display: block;width: 100%;margin-bottom: 0;padding: 0.3em;box-sizing: border-box;text-align: center;}#sk-container-id-6 label.sk-toggleable__label-arrow:before {content: \"▸\";float: left;margin-right: 0.25em;color: #696969;}#sk-container-id-6 label.sk-toggleable__label-arrow:hover:before {color: black;}#sk-container-id-6 div.sk-estimator:hover label.sk-toggleable__label-arrow:before {color: black;}#sk-container-id-6 div.sk-toggleable__content {max-height: 0;max-width: 0;overflow: hidden;text-align: left;background-color: #f0f8ff;}#sk-container-id-6 div.sk-toggleable__content pre {margin: 0.2em;color: black;border-radius: 0.25em;background-color: #f0f8ff;}#sk-container-id-6 input.sk-toggleable__control:checked~div.sk-toggleable__content {max-height: 200px;max-width: 100%;overflow: auto;}#sk-container-id-6 input.sk-toggleable__control:checked~label.sk-toggleable__label-arrow:before {content: \"▾\";}#sk-container-id-6 div.sk-estimator input.sk-toggleable__control:checked~label.sk-toggleable__label {background-color: #d4ebff;}#sk-container-id-6 div.sk-label input.sk-toggleable__control:checked~label.sk-toggleable__label {background-color: #d4ebff;}#sk-container-id-6 input.sk-hidden--visually {border: 0;clip: rect(1px 1px 1px 1px);clip: rect(1px, 1px, 1px, 1px);height: 1px;margin: -1px;overflow: hidden;padding: 0;position: absolute;width: 1px;}#sk-container-id-6 div.sk-estimator {font-family: monospace;background-color: #f0f8ff;border: 1px dotted black;border-radius: 0.25em;box-sizing: border-box;margin-bottom: 0.5em;}#sk-container-id-6 div.sk-estimator:hover {background-color: #d4ebff;}#sk-container-id-6 div.sk-parallel-item::after {content: \"\";width: 100%;border-bottom: 1px solid gray;flex-grow: 1;}#sk-container-id-6 div.sk-label:hover label.sk-toggleable__label {background-color: #d4ebff;}#sk-container-id-6 div.sk-serial::before {content: \"\";position: absolute;border-left: 1px solid gray;box-sizing: border-box;top: 0;bottom: 0;left: 50%;z-index: 0;}#sk-container-id-6 div.sk-serial {display: flex;flex-direction: column;align-items: center;background-color: white;padding-right: 0.2em;padding-left: 0.2em;position: relative;}#sk-container-id-6 div.sk-item {position: relative;z-index: 1;}#sk-container-id-6 div.sk-parallel {display: flex;align-items: stretch;justify-content: center;background-color: white;position: relative;}#sk-container-id-6 div.sk-item::before, #sk-container-id-6 div.sk-parallel-item::before {content: \"\";position: absolute;border-left: 1px solid gray;box-sizing: border-box;top: 0;bottom: 0;left: 50%;z-index: -1;}#sk-container-id-6 div.sk-parallel-item {display: flex;flex-direction: column;z-index: 1;position: relative;background-color: white;}#sk-container-id-6 div.sk-parallel-item:first-child::after {align-self: flex-end;width: 50%;}#sk-container-id-6 div.sk-parallel-item:last-child::after {align-self: flex-start;width: 50%;}#sk-container-id-6 div.sk-parallel-item:only-child::after {width: 0;}#sk-container-id-6 div.sk-dashed-wrapped {border: 1px dashed gray;margin: 0 0.4em 0.5em 0.4em;box-sizing: border-box;padding-bottom: 0.4em;background-color: white;}#sk-container-id-6 div.sk-label label {font-family: monospace;font-weight: bold;display: inline-block;line-height: 1.2em;}#sk-container-id-6 div.sk-label-container {text-align: center;}#sk-container-id-6 div.sk-container {/* jupyter's `normalize.less` sets `[hidden] { display: none; }` but bootstrap.min.css set `[hidden] { display: none !important; }` so we also need the `!important` here to be able to override the default hidden behavior on the sphinx rendered scikit-learn.org. See: https://github.com/scikit-learn/scikit-learn/issues/21755 */display: inline-block !important;position: relative;}#sk-container-id-6 div.sk-text-repr-fallback {display: none;}</style><div id=\"sk-container-id-6\" class=\"sk-top-container\"><div class=\"sk-text-repr-fallback\"><pre>XGBClassifier(base_score=None, booster=None, callbacks=None,\n",
              "              colsample_bylevel=None, colsample_bynode=None,\n",
              "              colsample_bytree=None, early_stopping_rounds=None,\n",
              "              enable_categorical=False, eval_metric=None, feature_types=None,\n",
              "              gamma=None, gpu_id=None, grow_policy=None, importance_type=None,\n",
              "              interaction_constraints=None, learning_rate=None, max_bin=None,\n",
              "              max_cat_threshold=None, max_cat_to_onehot=None,\n",
              "              max_delta_step=None, max_depth=None, max_leaves=None,\n",
              "              min_child_weight=None, missing=nan, monotone_constraints=None,\n",
              "              n_estimators=100, n_jobs=None, num_parallel_tree=None,\n",
              "              predictor=None, random_state=None, ...)</pre><b>In a Jupyter environment, please rerun this cell to show the HTML representation or trust the notebook. <br />On GitHub, the HTML representation is unable to render, please try loading this page with nbviewer.org.</b></div><div class=\"sk-container\" hidden><div class=\"sk-item\"><div class=\"sk-estimator sk-toggleable\"><input class=\"sk-toggleable__control sk-hidden--visually\" id=\"sk-estimator-id-8\" type=\"checkbox\" checked><label for=\"sk-estimator-id-8\" class=\"sk-toggleable__label sk-toggleable__label-arrow\">XGBClassifier</label><div class=\"sk-toggleable__content\"><pre>XGBClassifier(base_score=None, booster=None, callbacks=None,\n",
              "              colsample_bylevel=None, colsample_bynode=None,\n",
              "              colsample_bytree=None, early_stopping_rounds=None,\n",
              "              enable_categorical=False, eval_metric=None, feature_types=None,\n",
              "              gamma=None, gpu_id=None, grow_policy=None, importance_type=None,\n",
              "              interaction_constraints=None, learning_rate=None, max_bin=None,\n",
              "              max_cat_threshold=None, max_cat_to_onehot=None,\n",
              "              max_delta_step=None, max_depth=None, max_leaves=None,\n",
              "              min_child_weight=None, missing=nan, monotone_constraints=None,\n",
              "              n_estimators=100, n_jobs=None, num_parallel_tree=None,\n",
              "              predictor=None, random_state=None, ...)</pre></div></div></div></div></div>"
            ],
            "text/plain": [
              "XGBClassifier(base_score=None, booster=None, callbacks=None,\n",
              "              colsample_bylevel=None, colsample_bynode=None,\n",
              "              colsample_bytree=None, early_stopping_rounds=None,\n",
              "              enable_categorical=False, eval_metric=None, feature_types=None,\n",
              "              gamma=None, gpu_id=None, grow_policy=None, importance_type=None,\n",
              "              interaction_constraints=None, learning_rate=None, max_bin=None,\n",
              "              max_cat_threshold=None, max_cat_to_onehot=None,\n",
              "              max_delta_step=None, max_depth=None, max_leaves=None,\n",
              "              min_child_weight=None, missing=nan, monotone_constraints=None,\n",
              "              n_estimators=100, n_jobs=None, num_parallel_tree=None,\n",
              "              predictor=None, random_state=None, ...)"
            ]
          },
          "execution_count": 41,
          "metadata": {},
          "output_type": "execute_result"
        }
      ],
      "source": [
        "model = XGBClassifier()\n",
        "model.fit(x_train, y_train)"
      ]
    },
    {
      "cell_type": "markdown",
      "metadata": {
        "id": "KsZPblarvn9x"
      },
      "source": [
        "Evaluación con train dataset"
      ]
    },
    {
      "cell_type": "code",
      "execution_count": null,
      "metadata": {
        "colab": {
          "base_uri": "https://localhost:8080/"
        },
        "id": "eMv6YPfBvvSy",
        "outputId": "f49c71d8-885c-464f-8df1-4a3806b785c1"
      },
      "outputs": [
        {
          "name": "stdout",
          "output_type": "stream",
          "text": [
            "Accuracy: 0.9212598425196851\n",
            "Precision: 0.9591836734693877\n",
            "Recall: 0.8294117647058824\n",
            "F1:  0.8895899053627759\n"
          ]
        }
      ],
      "source": [
        "y_pred = model.predict(train)\n",
        "predictions = [round(value) for value in y_pred]\n",
        "\n",
        "accuracy = accuracy_score(y_train, y_pred)\n",
        "precision = precision_score(y_train, y_pred)\n",
        "recall = recall_score(y_train, y_pred)\n",
        "f1 = f1_score(y_train, y_pred)\n",
        "\n",
        "print(\"Accuracy:\", accuracy)\n",
        "print(\"Precision:\", precision)\n",
        "print(\"Recall:\", recall)\n",
        "print (\"F1: \" , f1)"
      ]
    },
    {
      "cell_type": "markdown",
      "metadata": {
        "id": "ckhOiR95v-Gc"
      },
      "source": [
        "Matriz de confusión"
      ]
    },
    {
      "cell_type": "code",
      "execution_count": null,
      "metadata": {
        "colab": {
          "base_uri": "https://localhost:8080/"
        },
        "id": "cqyJ6ZZlv9ec",
        "outputId": "579b6809-6870-4640-b1b7-1b18bc241e4a"
      },
      "outputs": [
        {
          "data": {
            "image/png": "[encoded data removed]",
            "text/plain": [
              "<Figure size 800x550 with 2 Axes>"
            ]
          },
          "metadata": {},
          "output_type": "display_data"
        }
      ],
      "source": [
        "cm = confusion_matrix(y_train, y_pred)\n",
        "\n",
        "ConfusionMatrixDisplay(confusion_matrix=cm).plot();"
      ]
    },
    {
      "cell_type": "markdown",
      "metadata": {
        "id": "EdYXt-Ggvr_J"
      },
      "source": [
        "Evaluación con test dataset"
      ]
    },
    {
      "cell_type": "code",
      "execution_count": null,
      "metadata": {
        "colab": {
          "base_uri": "https://localhost:8080/"
        },
        "id": "5V2b1byrhxDE",
        "outputId": "fe62a2f3-aebf-4aa4-d819-22060ecaa251"
      },
      "outputs": [
        {
          "name": "stdout",
          "output_type": "stream",
          "text": [
            "Accuracy: 0.7146282973621103\n",
            "Precision: 0.6258064516129033\n",
            "Recall: 0.6139240506329114\n",
            "F1:  0.6198083067092652\n"
          ]
        }
      ],
      "source": [
        "y_pred = model.predict(test)\n",
        "predictions = [round(value) for value in y_pred]\n",
        "\n",
        "accuracy = accuracy_score(y_test, y_pred)\n",
        "precision = precision_score(y_test, y_pred)\n",
        "recall = recall_score(y_test, y_pred)\n",
        "f1 = f1_score(y_test, y_pred)\n",
        "\n",
        "print(\"Accuracy:\", accuracy)\n",
        "print(\"Precision:\", precision)\n",
        "print(\"Recall:\", recall)\n",
        "print (\"F1: \" , f1)"
      ]
    },
    {
      "cell_type": "markdown",
      "metadata": {
        "id": "i3EEvW29v5fO"
      },
      "source": [
        "Matriz de confusión"
      ]
    },
    {
      "cell_type": "code",
      "execution_count": null,
      "metadata": {
        "colab": {
          "base_uri": "https://localhost:8080/"
        },
        "id": "V993UY8WiQme",
        "outputId": "77e3999a-c71e-4224-af8e-3c74a78e0732"
      },
      "outputs": [
        {
          "data": {
            "image/png": "[encoded data removed]",
            "text/plain": [
              "<Figure size 800x550 with 2 Axes>"
            ]
          },
          "metadata": {},
          "output_type": "display_data"
        }
      ],
      "source": [
        "cm = confusion_matrix(y_test, y_pred)\n",
        "\n",
        "ConfusionMatrixDisplay(confusion_matrix=cm).plot();"
      ]
    },
    {
      "cell_type": "markdown",
      "metadata": {
        "id": "xIsoujUiabJv"
      },
      "source": [
        "# Selección de modelo\n",
        "\n",
        "Una vez que se hayan medido las métricas de desempeño, es importante entender qué es lo que representa cada una de estas. En resumen, estas significan:\n",
        "\n",
        "- **Accuracy**: Esta mide la cantidad de aciertos contra el total de de predicciones hechas, es decir, todos los verdaderos positivos y negativos entre el número total de predicciones.\n",
        "- **Precission**: La precisión mide la calidad al clasificar una muestra como verdadera. Es decir, la cantidad de verdaderos positivos entre la cantidad total de positivos.\n",
        "- **Recall**: La exhaustividad mide qué tan bueno es el modelo para detectar la clase. En otras palabras, la relación de verdaderos positivos contra la suma de verdaderos positivos y falsos negativos.\n",
        "- **F1-Score**: El F1-Score combina la precisión y la exhaustividad en un solo indicador."
      ]
    },
    {
      "cell_type": "markdown",
      "metadata": {
        "id": "5G6mL3ogGlNk"
      },
      "source": [
        "Train Dataset\n",
        "\n",
        "\n",
        "Observando las métricas de desempeño en el set de entrenamiento, es evidente que el mejor modelo es el Extreme Gradient Boost ya que cuenta con la mejor métrica en cada una de las categorías. Ahora, esto es para la base de entrenamiento, ahora se debe buscar hacerlo para el dataset de prueba y verificar si es cierto y de ahí tomar la decisión sobre cuál es el mejor modelo."
      ]
    },
    {
      "cell_type": "code",
      "execution_count": null,
      "metadata": {
        "colab": {
          "base_uri": "https://localhost:8080/",
          "height": 175
        },
        "id": "hEoTNW_1GpDV",
        "outputId": "c7faacca-7195-4f85-8a2d-1fe6ebc5f3a3"
      },
      "outputs": [
        {
          "data": {
            "text/html": [
              "\n",
              "  <div id=\"df-d22ed471-2c56-401e-a95c-8f0d75f39dd0\" class=\"colab-df-container\">\n",
              "    <div>\n",
              "<style scoped>\n",
              "    .dataframe tbody tr th:only-of-type {\n",
              "        vertical-align: middle;\n",
              "    }\n",
              "\n",
              "    .dataframe tbody tr th {\n",
              "        vertical-align: top;\n",
              "    }\n",
              "\n",
              "    .dataframe thead th {\n",
              "        text-align: right;\n",
              "    }\n",
              "</style>\n",
              "<table border=\"1\" class=\"dataframe\">\n",
              "  <thead>\n",
              "    <tr style=\"text-align: right;\">\n",
              "      <th></th>\n",
              "      <th>Accuracy</th>\n",
              "      <th>Precission</th>\n",
              "      <th>Recall</th>\n",
              "      <th>F1-Score</th>\n",
              "    </tr>\n",
              "  </thead>\n",
              "  <tbody>\n",
              "    <tr>\n",
              "      <th>Light Gradient Boosting</th>\n",
              "      <td>82.00</td>\n",
              "      <td>79.22</td>\n",
              "      <td>71.76</td>\n",
              "      <td>75.30</td>\n",
              "    </tr>\n",
              "    <tr>\n",
              "      <th>Gradient Boosting Machine</th>\n",
              "      <td>82.00</td>\n",
              "      <td>80.61</td>\n",
              "      <td>69.71</td>\n",
              "      <td>74.76</td>\n",
              "    </tr>\n",
              "    <tr>\n",
              "      <th>Random Forest</th>\n",
              "      <td>83.01</td>\n",
              "      <td>83.01</td>\n",
              "      <td>74.71</td>\n",
              "      <td>77.09</td>\n",
              "    </tr>\n",
              "    <tr>\n",
              "      <th>Extreme Gradient Machine</th>\n",
              "      <td>92.13</td>\n",
              "      <td>95.91</td>\n",
              "      <td>82.94</td>\n",
              "      <td>88.96</td>\n",
              "    </tr>\n",
              "  </tbody>\n",
              "</table>\n",
              "</div>\n",
              "    <div class=\"colab-df-buttons\">\n",
              "\n",
              "  <div class=\"colab-df-container\">\n",
              "    <button class=\"colab-df-convert\" onclick=\"convertToInteractive('df-d22ed471-2c56-401e-a95c-8f0d75f39dd0')\"\n",
              "            title=\"Convert this dataframe to an interactive table.\"\n",
              "            style=\"display:none;\">\n",
              "\n",
              "  <svg xmlns=\"http://www.w3.org/2000/svg\" height=\"24px\" viewBox=\"0 -960 960 960\">\n",
              "    <path d=\"M120-120v-720h720v720H120Zm60-500h600v-160H180v160Zm220 220h160v-160H400v160Zm0 220h160v-160H400v160ZM180-400h160v-160H180v160Zm440 0h160v-160H620v160ZM180-180h160v-160H180v160Zm440 0h160v-160H620v160Z\"/>\n",
              "  </svg>\n",
              "    </button>\n",
              "\n",
              "  <style>\n",
              "    .colab-df-container {\n",
              "      display:flex;\n",
              "      gap: 12px;\n",
              "    }\n",
              "\n",
              "    .colab-df-convert {\n",
              "      background-color: #E8F0FE;\n",
              "      border: none;\n",
              "      border-radius: 50%;\n",
              "      cursor: pointer;\n",
              "      display: none;\n",
              "      fill: #1967D2;\n",
              "      height: 32px;\n",
              "      padding: 0 0 0 0;\n",
              "      width: 32px;\n",
              "    }\n",
              "\n",
              "    .colab-df-convert:hover {\n",
              "      background-color: #E2EBFA;\n",
              "      box-shadow: 0px 1px 2px rgba(60, 64, 67, 0.3), 0px 1px 3px 1px rgba(60, 64, 67, 0.15);\n",
              "      fill: #174EA6;\n",
              "    }\n",
              "\n",
              "    .colab-df-buttons div {\n",
              "      margin-bottom: 4px;\n",
              "    }\n",
              "\n",
              "    [theme=dark] .colab-df-convert {\n",
              "      background-color: #3B4455;\n",
              "      fill: #D2E3FC;\n",
              "    }\n",
              "\n",
              "    [theme=dark] .colab-df-convert:hover {\n",
              "      background-color: #434B5C;\n",
              "      box-shadow: 0px 1px 3px 1px rgba(0, 0, 0, 0.15);\n",
              "      filter: drop-shadow(0px 1px 2px rgba(0, 0, 0, 0.3));\n",
              "      fill: #FFFFFF;\n",
              "    }\n",
              "  </style>\n",
              "\n",
              "    <script>\n",
              "      const buttonEl =\n",
              "        document.querySelector('#df-d22ed471-2c56-401e-a95c-8f0d75f39dd0 button.colab-df-convert');\n",
              "      buttonEl.style.display =\n",
              "        google.colab.kernel.accessAllowed ? 'block' : 'none';\n",
              "\n",
              "      async function convertToInteractive(key) {\n",
              "        const element = document.querySelector('#df-d22ed471-2c56-401e-a95c-8f0d75f39dd0');\n",
              "        const dataTable =\n",
              "          await google.colab.kernel.invokeFunction('convertToInteractive',\n",
              "                                                    [key], {});\n",
              "        if (!dataTable) return;\n",
              "\n",
              "        const docLinkHtml = 'Like what you see? Visit the ' +\n",
              "          '<a target=\"_blank\" href=https://colab.research.google.com/notebooks/data_table.ipynb>data table notebook</a>'\n",
              "          + ' to learn more about interactive tables.';\n",
              "        element.innerHTML = '';\n",
              "        dataTable['output_type'] = 'display_data';\n",
              "        await google.colab.output.renderOutput(dataTable, element);\n",
              "        const docLink = document.createElement('div');\n",
              "        docLink.innerHTML = docLinkHtml;\n",
              "        element.appendChild(docLink);\n",
              "      }\n",
              "    </script>\n",
              "  </div>\n",
              "\n",
              "\n",
              "<div id=\"df-b008268a-9f94-4c00-8db9-758d95cbc53c\">\n",
              "  <button class=\"colab-df-quickchart\" onclick=\"quickchart('df-b008268a-9f94-4c00-8db9-758d95cbc53c')\"\n",
              "            title=\"Suggest charts.\"\n",
              "            style=\"display:none;\">\n",
              "\n",
              "<svg xmlns=\"http://www.w3.org/2000/svg\" height=\"24px\"viewBox=\"0 0 24 24\"\n",
              "     width=\"24px\">\n",
              "    <g>\n",
              "        <path d=\"M19 3H5c-1.1 0-2 .9-2 2v14c0 1.1.9 2 2 2h14c1.1 0 2-.9 2-2V5c0-1.1-.9-2-2-2zM9 17H7v-7h2v7zm4 0h-2V7h2v10zm4 0h-2v-4h2v4z\"/>\n",
              "    </g>\n",
              "</svg>\n",
              "  </button>\n",
              "\n",
              "<style>\n",
              "  .colab-df-quickchart {\n",
              "      --bg-color: #E8F0FE;\n",
              "      --fill-color: #1967D2;\n",
              "      --hover-bg-color: #E2EBFA;\n",
              "      --hover-fill-color: #174EA6;\n",
              "      --disabled-fill-color: #AAA;\n",
              "      --disabled-bg-color: #DDD;\n",
              "  }\n",
              "\n",
              "  [theme=dark] .colab-df-quickchart {\n",
              "      --bg-color: #3B4455;\n",
              "      --fill-color: #D2E3FC;\n",
              "      --hover-bg-color: #434B5C;\n",
              "      --hover-fill-color: #FFFFFF;\n",
              "      --disabled-bg-color: #3B4455;\n",
              "      --disabled-fill-color: #666;\n",
              "  }\n",
              "\n",
              "  .colab-df-quickchart {\n",
              "    background-color: var(--bg-color);\n",
              "    border: none;\n",
              "    border-radius: 50%;\n",
              "    cursor: pointer;\n",
              "    display: none;\n",
              "    fill: var(--fill-color);\n",
              "    height: 32px;\n",
              "    padding: 0;\n",
              "    width: 32px;\n",
              "  }\n",
              "\n",
              "  .colab-df-quickchart:hover {\n",
              "    background-color: var(--hover-bg-color);\n",
              "    box-shadow: 0 1px 2px rgba(60, 64, 67, 0.3), 0 1px 3px 1px rgba(60, 64, 67, 0.15);\n",
              "    fill: var(--button-hover-fill-color);\n",
              "  }\n",
              "\n",
              "  .colab-df-quickchart-complete:disabled,\n",
              "  .colab-df-quickchart-complete:disabled:hover {\n",
              "    background-color: var(--disabled-bg-color);\n",
              "    fill: var(--disabled-fill-color);\n",
              "    box-shadow: none;\n",
              "  }\n",
              "\n",
              "  .colab-df-spinner {\n",
              "    border: 2px solid var(--fill-color);\n",
              "    border-color: transparent;\n",
              "    border-bottom-color: var(--fill-color);\n",
              "    animation:\n",
              "      spin 1s steps(1) infinite;\n",
              "  }\n",
              "\n",
              "  @keyframes spin {\n",
              "    0% {\n",
              "      border-color: transparent;\n",
              "      border-bottom-color: var(--fill-color);\n",
              "      border-left-color: var(--fill-color);\n",
              "    }\n",
              "    20% {\n",
              "      border-color: transparent;\n",
              "      border-left-color: var(--fill-color);\n",
              "      border-top-color: var(--fill-color);\n",
              "    }\n",
              "    30% {\n",
              "      border-color: transparent;\n",
              "      border-left-color: var(--fill-color);\n",
              "      border-top-color: var(--fill-color);\n",
              "      border-right-color: var(--fill-color);\n",
              "    }\n",
              "    40% {\n",
              "      border-color: transparent;\n",
              "      border-right-color: var(--fill-color);\n",
              "      border-top-color: var(--fill-color);\n",
              "    }\n",
              "    60% {\n",
              "      border-color: transparent;\n",
              "      border-right-color: var(--fill-color);\n",
              "    }\n",
              "    80% {\n",
              "      border-color: transparent;\n",
              "      border-right-color: var(--fill-color);\n",
              "      border-bottom-color: var(--fill-color);\n",
              "    }\n",
              "    90% {\n",
              "      border-color: transparent;\n",
              "      border-bottom-color: var(--fill-color);\n",
              "    }\n",
              "  }\n",
              "</style>\n",
              "\n",
              "  <script>\n",
              "    async function quickchart(key) {\n",
              "      const quickchartButtonEl =\n",
              "        document.querySelector('#' + key + ' button');\n",
              "      quickchartButtonEl.disabled = true;  // To prevent multiple clicks.\n",
              "      quickchartButtonEl.classList.add('colab-df-spinner');\n",
              "      try {\n",
              "        const charts = await google.colab.kernel.invokeFunction(\n",
              "            'suggestCharts', [key], {});\n",
              "      } catch (error) {\n",
              "        console.error('Error during call to suggestCharts:', error);\n",
              "      }\n",
              "      quickchartButtonEl.classList.remove('colab-df-spinner');\n",
              "      quickchartButtonEl.classList.add('colab-df-quickchart-complete');\n",
              "    }\n",
              "    (() => {\n",
              "      let quickchartButtonEl =\n",
              "        document.querySelector('#df-b008268a-9f94-4c00-8db9-758d95cbc53c button');\n",
              "      quickchartButtonEl.style.display =\n",
              "        google.colab.kernel.accessAllowed ? 'block' : 'none';\n",
              "    })();\n",
              "  </script>\n",
              "</div>\n",
              "    </div>\n",
              "  </div>\n"
            ],
            "text/plain": [
              "                           Accuracy  Precission  Recall  F1-Score\n",
              "Light Gradient Boosting       82.00       79.22   71.76     75.30\n",
              "Gradient Boosting Machine     82.00       80.61   69.71     74.76\n",
              "Random Forest                 83.01       83.01   74.71     77.09\n",
              "Extreme Gradient Machine      92.13       95.91   82.94     88.96"
            ]
          },
          "execution_count": 46,
          "metadata": {},
          "output_type": "execute_result"
        }
      ],
      "source": [
        "metricas = pd.DataFrame({\"Accuracy\": [82.00, 82.00, 83.01, 92.13],\"Precission\": [79.22, 80.61, 83.01, 95.91],\n",
        "                         \"Recall\": [71.76, 69.71, 74.71, 82.94], \"F1-Score\": [75.30, 74.76, 77.09,88.96]},\n",
        "                         index = [\"Light Gradient Boosting\", \"Gradient Boosting Machine\", \"Random Forest\", \"Extreme Gradient Machine\"] )\n",
        "metricas"
      ]
    },
    {
      "cell_type": "markdown",
      "metadata": {
        "id": "M14dJSdyGfy2"
      },
      "source": [
        "Test Dataset\n",
        "\n",
        "Después de experimentar y analizar los 4 mejores modelos de clasificación presentados por Pycaret, se realizó la siguiente tabla de métricas de aprendizaje. Como se puede observar, el modelo de Gradient Boosting, tiene el mejor accuracy; no obstante, su Recall y F1-Score disminuyen notablemente, por lo que no se seleccionará como el mejor modelo. Por otra parte, el Light Gradient Boosting cuenta con un mejor Recall y F1-Score, y la disminución del Accuracy con respecto al otro modelo, no es significativa. Por lo mismo, se selecciona este último algoritmo para cumplir el objetivo de este proyecto."
      ]
    },
    {
      "cell_type": "code",
      "execution_count": null,
      "metadata": {
        "colab": {
          "base_uri": "https://localhost:8080/",
          "height": 175
        },
        "id": "XfNNmjHXbl84",
        "outputId": "8c792004-9527-4c49-8e67-b3ee8450cfc8"
      },
      "outputs": [
        {
          "data": {
            "text/html": [
              "\n",
              "  <div id=\"df-ab4afd91-fc92-4500-8db2-a1a59fe1cea5\" class=\"colab-df-container\">\n",
              "    <div>\n",
              "<style scoped>\n",
              "    .dataframe tbody tr th:only-of-type {\n",
              "        vertical-align: middle;\n",
              "    }\n",
              "\n",
              "    .dataframe tbody tr th {\n",
              "        vertical-align: top;\n",
              "    }\n",
              "\n",
              "    .dataframe thead th {\n",
              "        text-align: right;\n",
              "    }\n",
              "</style>\n",
              "<table border=\"1\" class=\"dataframe\">\n",
              "  <thead>\n",
              "    <tr style=\"text-align: right;\">\n",
              "      <th></th>\n",
              "      <th>Accuracy</th>\n",
              "      <th>Precission</th>\n",
              "      <th>Recall</th>\n",
              "      <th>F1-Score</th>\n",
              "    </tr>\n",
              "  </thead>\n",
              "  <tbody>\n",
              "    <tr>\n",
              "      <th>Light Gradient Boosting</th>\n",
              "      <td>78.89</td>\n",
              "      <td>73.02</td>\n",
              "      <td>70.25</td>\n",
              "      <td>71.61</td>\n",
              "    </tr>\n",
              "    <tr>\n",
              "      <th>Gradient Boosting Machine</th>\n",
              "      <td>79.61</td>\n",
              "      <td>79.67</td>\n",
              "      <td>62.02</td>\n",
              "      <td>69.75</td>\n",
              "    </tr>\n",
              "    <tr>\n",
              "      <th>Random Forest</th>\n",
              "      <td>77.93</td>\n",
              "      <td>70.62</td>\n",
              "      <td>71.51</td>\n",
              "      <td>71.06</td>\n",
              "    </tr>\n",
              "    <tr>\n",
              "      <th>Extreme Gradient Machine</th>\n",
              "      <td>71.46</td>\n",
              "      <td>62.25</td>\n",
              "      <td>61.39</td>\n",
              "      <td>61.98</td>\n",
              "    </tr>\n",
              "  </tbody>\n",
              "</table>\n",
              "</div>\n",
              "    <div class=\"colab-df-buttons\">\n",
              "\n",
              "  <div class=\"colab-df-container\">\n",
              "    <button class=\"colab-df-convert\" onclick=\"convertToInteractive('df-ab4afd91-fc92-4500-8db2-a1a59fe1cea5')\"\n",
              "            title=\"Convert this dataframe to an interactive table.\"\n",
              "            style=\"display:none;\">\n",
              "\n",
              "  <svg xmlns=\"http://www.w3.org/2000/svg\" height=\"24px\" viewBox=\"0 -960 960 960\">\n",
              "    <path d=\"M120-120v-720h720v720H120Zm60-500h600v-160H180v160Zm220 220h160v-160H400v160Zm0 220h160v-160H400v160ZM180-400h160v-160H180v160Zm440 0h160v-160H620v160ZM180-180h160v-160H180v160Zm440 0h160v-160H620v160Z\"/>\n",
              "  </svg>\n",
              "    </button>\n",
              "\n",
              "  <style>\n",
              "    .colab-df-container {\n",
              "      display:flex;\n",
              "      gap: 12px;\n",
              "    }\n",
              "\n",
              "    .colab-df-convert {\n",
              "      background-color: #E8F0FE;\n",
              "      border: none;\n",
              "      border-radius: 50%;\n",
              "      cursor: pointer;\n",
              "      display: none;\n",
              "      fill: #1967D2;\n",
              "      height: 32px;\n",
              "      padding: 0 0 0 0;\n",
              "      width: 32px;\n",
              "    }\n",
              "\n",
              "    .colab-df-convert:hover {\n",
              "      background-color: #E2EBFA;\n",
              "      box-shadow: 0px 1px 2px rgba(60, 64, 67, 0.3), 0px 1px 3px 1px rgba(60, 64, 67, 0.15);\n",
              "      fill: #174EA6;\n",
              "    }\n",
              "\n",
              "    .colab-df-buttons div {\n",
              "      margin-bottom: 4px;\n",
              "    }\n",
              "\n",
              "    [theme=dark] .colab-df-convert {\n",
              "      background-color: #3B4455;\n",
              "      fill: #D2E3FC;\n",
              "    }\n",
              "\n",
              "    [theme=dark] .colab-df-convert:hover {\n",
              "      background-color: #434B5C;\n",
              "      box-shadow: 0px 1px 3px 1px rgba(0, 0, 0, 0.15);\n",
              "      filter: drop-shadow(0px 1px 2px rgba(0, 0, 0, 0.3));\n",
              "      fill: #FFFFFF;\n",
              "    }\n",
              "  </style>\n",
              "\n",
              "    <script>\n",
              "      const buttonEl =\n",
              "        document.querySelector('#df-ab4afd91-fc92-4500-8db2-a1a59fe1cea5 button.colab-df-convert');\n",
              "      buttonEl.style.display =\n",
              "        google.colab.kernel.accessAllowed ? 'block' : 'none';\n",
              "\n",
              "      async function convertToInteractive(key) {\n",
              "        const element = document.querySelector('#df-ab4afd91-fc92-4500-8db2-a1a59fe1cea5');\n",
              "        const dataTable =\n",
              "          await google.colab.kernel.invokeFunction('convertToInteractive',\n",
              "                                                    [key], {});\n",
              "        if (!dataTable) return;\n",
              "\n",
              "        const docLinkHtml = 'Like what you see? Visit the ' +\n",
              "          '<a target=\"_blank\" href=https://colab.research.google.com/notebooks/data_table.ipynb>data table notebook</a>'\n",
              "          + ' to learn more about interactive tables.';\n",
              "        element.innerHTML = '';\n",
              "        dataTable['output_type'] = 'display_data';\n",
              "        await google.colab.output.renderOutput(dataTable, element);\n",
              "        const docLink = document.createElement('div');\n",
              "        docLink.innerHTML = docLinkHtml;\n",
              "        element.appendChild(docLink);\n",
              "      }\n",
              "    </script>\n",
              "  </div>\n",
              "\n",
              "\n",
              "<div id=\"df-f0dc7477-53b3-4429-bb3d-26ec854fd75d\">\n",
              "  <button class=\"colab-df-quickchart\" onclick=\"quickchart('df-f0dc7477-53b3-4429-bb3d-26ec854fd75d')\"\n",
              "            title=\"Suggest charts.\"\n",
              "            style=\"display:none;\">\n",
              "\n",
              "<svg xmlns=\"http://www.w3.org/2000/svg\" height=\"24px\"viewBox=\"0 0 24 24\"\n",
              "     width=\"24px\">\n",
              "    <g>\n",
              "        <path d=\"M19 3H5c-1.1 0-2 .9-2 2v14c0 1.1.9 2 2 2h14c1.1 0 2-.9 2-2V5c0-1.1-.9-2-2-2zM9 17H7v-7h2v7zm4 0h-2V7h2v10zm4 0h-2v-4h2v4z\"/>\n",
              "    </g>\n",
              "</svg>\n",
              "  </button>\n",
              "\n",
              "<style>\n",
              "  .colab-df-quickchart {\n",
              "      --bg-color: #E8F0FE;\n",
              "      --fill-color: #1967D2;\n",
              "      --hover-bg-color: #E2EBFA;\n",
              "      --hover-fill-color: #174EA6;\n",
              "      --disabled-fill-color: #AAA;\n",
              "      --disabled-bg-color: #DDD;\n",
              "  }\n",
              "\n",
              "  [theme=dark] .colab-df-quickchart {\n",
              "      --bg-color: #3B4455;\n",
              "      --fill-color: #D2E3FC;\n",
              "      --hover-bg-color: #434B5C;\n",
              "      --hover-fill-color: #FFFFFF;\n",
              "      --disabled-bg-color: #3B4455;\n",
              "      --disabled-fill-color: #666;\n",
              "  }\n",
              "\n",
              "  .colab-df-quickchart {\n",
              "    background-color: var(--bg-color);\n",
              "    border: none;\n",
              "    border-radius: 50%;\n",
              "    cursor: pointer;\n",
              "    display: none;\n",
              "    fill: var(--fill-color);\n",
              "    height: 32px;\n",
              "    padding: 0;\n",
              "    width: 32px;\n",
              "  }\n",
              "\n",
              "  .colab-df-quickchart:hover {\n",
              "    background-color: var(--hover-bg-color);\n",
              "    box-shadow: 0 1px 2px rgba(60, 64, 67, 0.3), 0 1px 3px 1px rgba(60, 64, 67, 0.15);\n",
              "    fill: var(--button-hover-fill-color);\n",
              "  }\n",
              "\n",
              "  .colab-df-quickchart-complete:disabled,\n",
              "  .colab-df-quickchart-complete:disabled:hover {\n",
              "    background-color: var(--disabled-bg-color);\n",
              "    fill: var(--disabled-fill-color);\n",
              "    box-shadow: none;\n",
              "  }\n",
              "\n",
              "  .colab-df-spinner {\n",
              "    border: 2px solid var(--fill-color);\n",
              "    border-color: transparent;\n",
              "    border-bottom-color: var(--fill-color);\n",
              "    animation:\n",
              "      spin 1s steps(1) infinite;\n",
              "  }\n",
              "\n",
              "  @keyframes spin {\n",
              "    0% {\n",
              "      border-color: transparent;\n",
              "      border-bottom-color: var(--fill-color);\n",
              "      border-left-color: var(--fill-color);\n",
              "    }\n",
              "    20% {\n",
              "      border-color: transparent;\n",
              "      border-left-color: var(--fill-color);\n",
              "      border-top-color: var(--fill-color);\n",
              "    }\n",
              "    30% {\n",
              "      border-color: transparent;\n",
              "      border-left-color: var(--fill-color);\n",
              "      border-top-color: var(--fill-color);\n",
              "      border-right-color: var(--fill-color);\n",
              "    }\n",
              "    40% {\n",
              "      border-color: transparent;\n",
              "      border-right-color: var(--fill-color);\n",
              "      border-top-color: var(--fill-color);\n",
              "    }\n",
              "    60% {\n",
              "      border-color: transparent;\n",
              "      border-right-color: var(--fill-color);\n",
              "    }\n",
              "    80% {\n",
              "      border-color: transparent;\n",
              "      border-right-color: var(--fill-color);\n",
              "      border-bottom-color: var(--fill-color);\n",
              "    }\n",
              "    90% {\n",
              "      border-color: transparent;\n",
              "      border-bottom-color: var(--fill-color);\n",
              "    }\n",
              "  }\n",
              "</style>\n",
              "\n",
              "  <script>\n",
              "    async function quickchart(key) {\n",
              "      const quickchartButtonEl =\n",
              "        document.querySelector('#' + key + ' button');\n",
              "      quickchartButtonEl.disabled = true;  // To prevent multiple clicks.\n",
              "      quickchartButtonEl.classList.add('colab-df-spinner');\n",
              "      try {\n",
              "        const charts = await google.colab.kernel.invokeFunction(\n",
              "            'suggestCharts', [key], {});\n",
              "      } catch (error) {\n",
              "        console.error('Error during call to suggestCharts:', error);\n",
              "      }\n",
              "      quickchartButtonEl.classList.remove('colab-df-spinner');\n",
              "      quickchartButtonEl.classList.add('colab-df-quickchart-complete');\n",
              "    }\n",
              "    (() => {\n",
              "      let quickchartButtonEl =\n",
              "        document.querySelector('#df-f0dc7477-53b3-4429-bb3d-26ec854fd75d button');\n",
              "      quickchartButtonEl.style.display =\n",
              "        google.colab.kernel.accessAllowed ? 'block' : 'none';\n",
              "    })();\n",
              "  </script>\n",
              "</div>\n",
              "    </div>\n",
              "  </div>\n"
            ],
            "text/plain": [
              "                           Accuracy  Precission  Recall  F1-Score\n",
              "Light Gradient Boosting       78.89       73.02   70.25     71.61\n",
              "Gradient Boosting Machine     79.61       79.67   62.02     69.75\n",
              "Random Forest                 77.93       70.62   71.51     71.06\n",
              "Extreme Gradient Machine      71.46       62.25   61.39     61.98"
            ]
          },
          "execution_count": 60,
          "metadata": {},
          "output_type": "execute_result"
        }
      ],
      "source": [
        "metricas = pd.DataFrame({\"Accuracy\": [78.89, 79.61, 77.93, 71.46 ],\"Precission\": [73.02, 79.67, 70.62, 62.25],\n",
        "                         \"Recall\": [70.25,62.02 , 71.51,61.39 ], \"F1-Score\": [71.61, 69.75, 71.06,61.98]},\n",
        "                         index = [\"Light Gradient Boosting\", \"Gradient Boosting Machine\", \"Random Forest\", \"Extreme Gradient Machine\"] )\n",
        "metricas"
      ]
    }
  ],
  "metadata": {
    "colab": {
      "provenance": []
    },
    "kernelspec": {
      "display_name": "Python 3",
      "name": "python3"
    },
    "language_info": {
      "name": "python"
    },
    "widgets": {
      "application/vnd.jupyter.widget-state+json": {
        "039fc795e2b4457c90ea7283254f9090": {
          "model_module": "@jupyter-widgets/controls",
          "model_module_version": "1.5.0",
          "model_name": "VBoxModel",
          "state": {
            "_dom_classes": [
              "widget-interact"
            ],
            "_model_module": "@jupyter-widgets/controls",
            "_model_module_version": "1.5.0",
            "_model_name": "VBoxModel",
            "_view_count": null,
            "_view_module": "@jupyter-widgets/controls",
            "_view_module_version": "1.5.0",
            "_view_name": "VBoxView",
            "box_style": "",
            "children": [
              "IPY_MODEL_2306765f805048e2916e438c13da3039",
              "IPY_MODEL_20138997b1004b30859f77cbeb4d5b74"
            ],
            "layout": "IPY_MODEL_3c76602903a246dfa6f838a23793dedf"
          }
        },
        "03b1bc87a5664e76a36e4a1c472ba8ec": {
          "model_module": "@jupyter-widgets/base",
          "model_module_version": "1.2.0",
          "model_name": "LayoutModel",
          "state": {
            "_model_module": "@jupyter-widgets/base",
            "_model_module_version": "1.2.0",
            "_model_name": "LayoutModel",
            "_view_count": null,
            "_view_module": "@jupyter-widgets/base",
            "_view_module_version": "1.2.0",
            "_view_name": "LayoutView",
            "align_content": null,
            "align_items": null,
            "align_self": null,
            "border": null,
            "bottom": null,
            "display": null,
            "flex": null,
            "flex_flow": null,
            "grid_area": null,
            "grid_auto_columns": null,
            "grid_auto_flow": null,
            "grid_auto_rows": null,
            "grid_column": null,
            "grid_gap": null,
            "grid_row": null,
            "grid_template_areas": null,
            "grid_template_columns": null,
            "grid_template_rows": null,
            "height": null,
            "justify_content": null,
            "justify_items": null,
            "left": null,
            "margin": null,
            "max_height": null,
            "max_width": null,
            "min_height": null,
            "min_width": null,
            "object_fit": null,
            "object_position": null,
            "order": null,
            "overflow": null,
            "overflow_x": null,
            "overflow_y": null,
            "padding": null,
            "right": null,
            "top": null,
            "visibility": null,
            "width": null
          }
        },
        "03fc6af08a6c4e04a3a4338ca0efe811": {
          "model_module": "@jupyter-widgets/controls",
          "model_module_version": "1.5.0",
          "model_name": "FloatProgressModel",
          "state": {
            "_dom_classes": [],
            "_model_module": "@jupyter-widgets/controls",
            "_model_module_version": "1.5.0",
            "_model_name": "FloatProgressModel",
            "_view_count": null,
            "_view_module": "@jupyter-widgets/controls",
            "_view_module_version": "1.5.0",
            "_view_name": "ProgressView",
            "bar_style": "",
            "description": "",
            "description_tooltip": null,
            "layout": "IPY_MODEL_45fa7a229ad943a2ac85c6e9ee0c57ac",
            "max": 65,
            "min": 0,
            "orientation": "horizontal",
            "style": "IPY_MODEL_cd4616344c224c7b95a9f47f5248882a",
            "value": 65
          }
        },
        "0cfb62605cce4b52b6648cf145027f0a": {
          "model_module": "@jupyter-widgets/base",
          "model_module_version": "1.2.0",
          "model_name": "LayoutModel",
          "state": {
            "_model_module": "@jupyter-widgets/base",
            "_model_module_version": "1.2.0",
            "_model_name": "LayoutModel",
            "_view_count": null,
            "_view_module": "@jupyter-widgets/base",
            "_view_module_version": "1.2.0",
            "_view_name": "LayoutView",
            "align_content": null,
            "align_items": null,
            "align_self": null,
            "border": null,
            "bottom": null,
            "display": null,
            "flex": null,
            "flex_flow": null,
            "grid_area": null,
            "grid_auto_columns": null,
            "grid_auto_flow": null,
            "grid_auto_rows": null,
            "grid_column": null,
            "grid_gap": null,
            "grid_row": null,
            "grid_template_areas": null,
            "grid_template_columns": null,
            "grid_template_rows": null,
            "height": null,
            "justify_content": null,
            "justify_items": null,
            "left": null,
            "margin": null,
            "max_height": null,
            "max_width": null,
            "min_height": null,
            "min_width": null,
            "object_fit": null,
            "object_position": null,
            "order": null,
            "overflow": null,
            "overflow_x": null,
            "overflow_y": null,
            "padding": null,
            "right": null,
            "top": null,
            "visibility": null,
            "width": null
          }
        },
        "1321045bb7464b3f887fafe69653fad9": {
          "model_module": "@jupyter-widgets/base",
          "model_module_version": "1.2.0",
          "model_name": "LayoutModel",
          "state": {
            "_model_module": "@jupyter-widgets/base",
            "_model_module_version": "1.2.0",
            "_model_name": "LayoutModel",
            "_view_count": null,
            "_view_module": "@jupyter-widgets/base",
            "_view_module_version": "1.2.0",
            "_view_name": "LayoutView",
            "align_content": null,
            "align_items": null,
            "align_self": null,
            "border": null,
            "bottom": null,
            "display": null,
            "flex": null,
            "flex_flow": null,
            "grid_area": null,
            "grid_auto_columns": null,
            "grid_auto_flow": null,
            "grid_auto_rows": null,
            "grid_column": null,
            "grid_gap": null,
            "grid_row": null,
            "grid_template_areas": null,
            "grid_template_columns": null,
            "grid_template_rows": null,
            "height": null,
            "justify_content": null,
            "justify_items": null,
            "left": null,
            "margin": null,
            "max_height": null,
            "max_width": null,
            "min_height": null,
            "min_width": null,
            "object_fit": null,
            "object_position": null,
            "order": null,
            "overflow": null,
            "overflow_x": null,
            "overflow_y": null,
            "padding": null,
            "right": null,
            "top": null,
            "visibility": null,
            "width": null
          }
        },
        "146fa5f4f5fa4977a155958a70f32569": {
          "model_module": "@jupyter-widgets/controls",
          "model_module_version": "1.5.0",
          "model_name": "ProgressStyleModel",
          "state": {
            "_model_module": "@jupyter-widgets/controls",
            "_model_module_version": "1.5.0",
            "_model_name": "ProgressStyleModel",
            "_view_count": null,
            "_view_module": "@jupyter-widgets/base",
            "_view_module_version": "1.2.0",
            "_view_name": "StyleView",
            "bar_color": null,
            "description_width": ""
          }
        },
        "168b2a1163844b0e9d9c0271e7e860c5": {
          "model_module": "@jupyter-widgets/controls",
          "model_module_version": "1.5.0",
          "model_name": "ProgressStyleModel",
          "state": {
            "_model_module": "@jupyter-widgets/controls",
            "_model_module_version": "1.5.0",
            "_model_name": "ProgressStyleModel",
            "_view_count": null,
            "_view_module": "@jupyter-widgets/base",
            "_view_module_version": "1.2.0",
            "_view_name": "StyleView",
            "bar_color": null,
            "description_width": ""
          }
        },
        "16987919166b4df9b79b1ae931243db3": {
          "model_module": "@jupyter-widgets/controls",
          "model_module_version": "1.5.0",
          "model_name": "FloatProgressModel",
          "state": {
            "_dom_classes": [],
            "_model_module": "@jupyter-widgets/controls",
            "_model_module_version": "1.5.0",
            "_model_name": "FloatProgressModel",
            "_view_count": null,
            "_view_module": "@jupyter-widgets/controls",
            "_view_module_version": "1.5.0",
            "_view_name": "ProgressView",
            "bar_style": "",
            "description": "",
            "description_tooltip": null,
            "layout": "IPY_MODEL_e5d7146cad0e46909bf4983564e99180",
            "max": 65,
            "min": 0,
            "orientation": "horizontal",
            "style": "IPY_MODEL_146fa5f4f5fa4977a155958a70f32569",
            "value": 65
          }
        },
        "20138997b1004b30859f77cbeb4d5b74": {
          "model_module": "@jupyter-widgets/output",
          "model_module_version": "1.0.0",
          "model_name": "OutputModel",
          "state": {
            "_dom_classes": [],
            "_model_module": "@jupyter-widgets/output",
            "_model_module_version": "1.0.0",
            "_model_name": "OutputModel",
            "_view_count": null,
            "_view_module": "@jupyter-widgets/output",
            "_view_module_version": "1.0.0",
            "_view_name": "OutputView",
            "layout": "IPY_MODEL_d7f858080c24449c858d0be01d465788",
            "msg_id": "",
            "outputs": [
              {
                "data": {
                  "image/png": "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\n",
                  "text/plain": "<Figure size 1200x600 with 1 Axes>"
                },
                "metadata": {},
                "output_type": "display_data"
              }
            ]
          }
        },
        "20ec8f12e4bf4c0999d49b35406cc122": {
          "model_module": "@jupyter-widgets/output",
          "model_module_version": "1.0.0",
          "model_name": "OutputModel",
          "state": {
            "_dom_classes": [],
            "_model_module": "@jupyter-widgets/output",
            "_model_module_version": "1.0.0",
            "_model_name": "OutputModel",
            "_view_count": null,
            "_view_module": "@jupyter-widgets/output",
            "_view_module_version": "1.0.0",
            "_view_name": "OutputView",
            "layout": "IPY_MODEL_a1153254c94d4f68a81c46ca6c03835c",
            "msg_id": "",
            "outputs": [
              {
                "data": {
                  "image/png": "iVBORw0KGgoAAAANSUhEUgAABKAAAABqCAYAAACLZSl9AAAAOXRFWHRTb2Z0d2FyZQBNYXRwbG90bGliIHZlcnNpb24zLjcuMSwgaHR0cHM6Ly9tYXRwbG90bGliLm9yZy/bCgiHAAAACXBIWXMAAA9hAAAPYQGoP6dpAAAwNElEQVR4nO3dd1gU59oG8HspKx0EARHsDQtqbFEUu6LGLvZYib0mmmiMXeMxNtRjO8aCHD5jCsYjmhy7RrCgQUGsiCiiYEARUBGUfb8/ODthZVEQ12HZ+3dde12zszOzzy6878488xaFEEKAiIiIiIiIiIhIR4zkDoCIiIiIiIiIiEo2JqCIiIiIiIiIiEinmIAiIiIiIiIiIiKdYgKKiIiIiIiIiIh0igkoIiIiIiIiIiLSKSagiIiIiIiIiIhIp5iAIiIiIiIiIiIinWICioiIiIiIiIiIdIoJKCIiIiIiIiIi0ikmoIiIiIiIiIiISKeYgCIiIiIiIiIiIp0ykTsAufz888+YN28e0tPT32n/jIwMpKenw9raGubm5u85Oiquivp3t7a2xuLFi+Hj46OD6IqHtLQ0/P777zh+/DguXbqE27dv4/Hjx8jOzpY7NKJCs7CwgKurK2rVqoXmzZujS5cuqFevHhQKhdyhFQvx8fHYv38/Tp06hcuXLyMuLg5paWkQQsgdGlGhKBQK2NjYoEKFCvDw8ICXlxc++eQTlC9fXu7QPph79+6hU6dOuH79utyhEBGVaJUrV8bBgwdRvXp1uUP58ISBcnd3FwD44OODP9zd3eX+99eJyMhIMXToUGFmZib7d8wHH7p81KlTR2zevFm8ePFC7mInC5VKJX777TfRoUMH2f8WfPCh60f79u3FgQMHhEqlkrvo6dy3334r+/fNBx988GEoDz8/P7mrfVkYbAsodcsnIyMjuLi4FHr/hIQEqFSqd96f9FNR/u7qfd+11V1xlZycjC+//BI7d+7M0+pBoVDA1dUVTk5OMDU1lSlConejUqnw9OlTxMXF4dmzZ9L6K1euYNy4cVi2bBnWrl2LHj16yBjlhxUVFYUJEybg1KlTeV4zNTVFhQoVULp0aRgbG8sQHdG7y87ORkpKCuLi4vDy5Utp/dGjR3H06FG0bNkSGzduhIeHh4xR6ta9e/ekZQ8PD1hYWMgYDRFRyfPgwQOprrWzs5M3GJkYbAJKzcXFBfHx8YXez83NDffv33/n/Uk/FeXvrt63JDl27BgGDx6Mhw8fSutKly6NwYMHo2fPnmjWrBmsra1ljJCo6FQqFW7duoXDhw9j165dOH36NADgzp076NmzJ0aOHIkNGzaU6O7YQgj885//xIwZMzQuzqtWrYqhQ4eia9euqF+/PpRKpYxREhXdy5cvcenSJfz+++8ICAhATEwMACAkJASNGjXCihUrMGXKlBLZDTchIUFa/u9//4ty5crJGA0RUcnzzTffYOnSpQBgsHUsByEnoneyY8cOdOrUSUo+2draYuXKlYiPj8f69evRsWNHJp+oRDAyMkKNGjUwceJEhIaG4vz582jfvr30+o4dO9CuXTs8fvxYxih1Jzs7G+PHj8fUqVOl5FP16tXxyy+/4ObNm5g/fz6aNGnC5BOVCKampmjSpAnmzZuHmzdvIigoCDVq1ACQk5yaNm0axo0bVyLHNXzw4AGAnNbLTk5OMkdDRFTyqOtZAAbbi4oJKCIqNH9/f4waNUo6Aff29sa1a9cwffp0NtmnEq9x48Y4fPgw/P39pf/3s2fPomPHjkhLS5M5uvdLCIFx48bhX//6l7Ru+vTpiIyMRN++fWFkxNMIKrmMjIzQp08fREREYMaMGdL6LVu2YMyYMSVusH11CyhnZ2eYmBh8Jwkiovcud0tTtoAiIiqAkydP4rPPPpOeT506FQcOHDDYLD4ZJoVCgeHDhyM0NBTOzs4AgPDwcAwePBgqlUrm6N6f5cuXY+vWrQAAExMTBAYGYuXKlTAzM5M5MqIPx8zMDCtWrMCuXbukxMz27duxbNkymSN7f1QqlXRhxN9zIiLdULeAUiqVsLe3lzkaeTABRUQFlpKSgsGDB0stnyZPngw/Pz8OOEwGq0GDBjh+/Lh0EnHgwAGsWbNG3qDek3PnzmH27NnS88DAQAwZMkTGiIjkNWjQIOzatUt6PmfOHJw5c0bGiN6fpKQk6bfdUO/KExHpmjoB5eLiUiLHEiwIJqCIqMBmz54tVZzt27eHn5+fwVaeRGq1atXC7t27pbIwZ84cxMXFyRxV0WRnZ2P06NFSa6558+ZhwIABMkdFJL9+/fph/vz5AHJaDY0ZMwavXr2SOaqiY7cQIiLdyszMxKNHjwAYdj3LBBQRFUh0dDS2bNkCALCysoK/vz9bPhH9T8eOHTFp0iQAQEZGBhYuXChzREUTGBiIy5cvAwAaNmyIuXPnyhwRUfExZ84cNGrUCAAQFRWFwMBAmSMqOg6MS0SkW4mJidKyIdezTEARUYGsXr1aag0xa9YsuLm5yRwRUfGycOFC2NnZAQACAgI0WhToEyEEVqxYIT338/PjgMREuZiYmMDPz096vmLFCr0fkJwtoIiIdIv1bA4moIjorV68eCGNe2FpaSm19CCiv5UuXRrjx48HALx69UpvW0WcP38eV65cAQB4enqiVatWMkdEVPx4eXmhRYsWAICrV6/i3LlzMkdUNGwBRUSkW7nrWSagiIje4Pjx49L08j4+PrC1tZU5IqLiadSoUdLy3r175QukCHLHnfvzEJEmX19faVlfy7saL4yIiHSLif4cTEAR0VudOHFCWu7evbt8gRAVc9WqVYO7uzuAnFnknj9/LnNEhZe7vHfr1k2+QIiKudzlI3e50UfsGkJEpFusZ3MwAUVEb3Xp0iVpuXnz5vIFQqQH1GUkOztb6sqmL1QqFSIiIgAAVapUgbOzs8wRERVfjo6OqFatGgAgMjJSGidRH6nvzCsUCjg5OckcDRFRycMWUDmYgCKit7pz5w6AnNnvDLnCJCqImjVrSsvqsqMvkpOTpVZbuT8HEWmnLicZGRlISkqSOZp3p74z7+zszEkHiIh0gC2gcjABRURvlZKSAgAoU6YMFAqFzNEQFW9lypSRltVlR1/kjjf35yAi7fS5vKupVCrpwog3mYiIdEPdAkqpVMLe3l7maOTDBBQRvVV2djYA8K4oUQHkLifqsqMvcsdramoqYyRE+kGfy7taUlKSFLsh35UnItIldQLKxcXFoG/oMwFFRET0HhnySQUR6R92CyEi0q3MzEw8evQIAOtZJqCIiIiIiAwUB8YlItKtxMREadnQ61kmoIiIiIiIDBRbQBER6Rbr2b8xAUVEREREZKDYAoqISLdy17NMQBERERERkUHihRERkW4x0f83JqCIiIiIiAwUu4YQEekW69m/MQFFRERERGSg1HfmFQoFnJycZI6GiKjkYQuovzEBRURERERkoNR35p2dnWFiYiJzNEREJQ9bQP2NCSgiIiIiIgOkUqmkCyNDvytPRKQr6hZQSqUS9vb2MkcjLyagiIiIiIgMUFJSErKzswHwrjwRka6oE1AuLi5QKBQyRyMvJqCIiIiIiAwQu4UQEelWZmYmHj16BID1LMAEFBERERGRQeLAuEREupWYmCgts55lAoqIiIiIyCCxBRQRkW6xntXEBBQRERERkQFiCygiIt3KXc8yAcUEFBERERGRQeKFERGRbjHRr4kJKCIiIiIiA8SuIUREusV6VhMTUHpixIgRUCgUeR7m5uZo0KAB/Pz8pGl0iwt/f38oFAqEhITIHQqR5NatW5g6dSpq1qwJKysrlCpVCpUqVcLIkSMRFxcHADhx4gQUCgUCAwM/SEzvWlZYxojyx7JO9HbqO/MKhQJOTk4yR6O/itt5+p07d6BQKLBkyZIP9p6VKlXS+h2oH5999tkHi6WoDh48iJ49e6Js2bJQKpVwcXFBhw4dEBgYCCGEtN2CBQugUCgQHx//wWPU9ruwYsUKlC5dGkqlEqdPn8aIESNgYmLywWMjTWwBpYkJKD1ibGyMhIQEjce5c+fQu3dvzJgxA+PHj5c7xPciIiICCoVC7jCoBLp16xYaNWqEsLAw+Pn54erVq4iIiMCiRYtw+PBhtGjRAklJSfD09ERCQgJ8fHzkDllv9e7dGwsWLJA7DDJQLOsfDsu6flPfmXd2duaFahEZynn6m3h5eeX5DtSP1atXyx2ehvyuN6ZOnYquXbuifPny+PXXXxEdHY1ffvkFNWvWxPDhw+Hj4wOVSiVDxJoGDBiAhIQEfPzxxwCAtLQ0zJo1C82aNUN0dDQaNmyItWvX4v79+zJHSmwBpYm/NHqmbNmyeZ7Xq1cP9+/fx9atW7FkyRK9v4P1xx9/yB0ClVDbtm1DWloa9u7dC2dnZ2m9u7s73N3dMXr0aJw7dw7dunXLU9ao4IQQCAkJQf369eUOhQwUy/qHwbKu31QqlXRhxLvy74chnKe/iVKp1Js6Vdv1hr+/P9atW4fNmzdj7Nix0vqKFSuiRYsWqFOnDiZOnIhffvkF/fv3/5Dh5mFubg5zc3PpeUpKClQqFVq0aIGKFSsCAMzMzGBraytXiPQ/6hZQSqUS9vb2MkcjP7aAKiEaNGgAIYTUrQDI6VrQsWNH2NjYwMzMDDVq1MDixYvx6tUrAMDQoUNRrVo1jeNs2LBBa5Pdpk2bokePHvm+f3h4OFq2bAkzMzM4OTlh8uTJyMjIyLPdnj174OnpCUtLS1hYWKBu3brYuHGj9PqIESMwZcoUADnNwUeMGAEAePz4McaNGwdXV1eYmprCxcUFPj4+iImJKdwXRQZN/T/5/PnzPK81bdoUERER6NatW55uObmbOXfv3h3W1tYoU6YMZs6ciczMTEybNg1OTk4oXbo0Bg4ciLS0NOm4CoUCX375Jfz8/FCpUiWUKlUKderUwd69e98Y6+XLl9GzZ0+4ubnB3Nwc9erVw/bt29/6GRUKBebMmYOlS5fCzc0NFhYWaNOmDe7du4e9e/eibt26sLCwQIMGDRAaGirtN2LECDg6OuLixYvw9PSEubk5HB0dMW3aNGRlZWkc//Vm9CEhIVAoFPD398edO3dgZGSE5ORkLFy4EAqFAnfu3CnwZ6pUqRJGjBiBr776CtbW1h+0+wCVHCzrLOv0dklJSVK3MN6V163Xz9Pfdo4O5JTVSpUqISIiAm3atIGVlRVcXFwwduxYjXPs5ORkDBgwADY2NrC2tkb37t1x9+7dPDH89ddfGD16NMqVKwdTU1OULVsWw4YN02gho+5SduXKFbRp0waWlpYoV64c/Pz8kJaWhmHDhqF06dJwdHTE+PHjNeItjGPHjqFNmzawtraGmZkZateujVWrVml0b8uvjsjIyMDMmTNRu3ZtmJubw8XFBePHj0dKSoq078uXLzFnzhxUr14d5ubmsLe3R8eOHXH69Gnpu9V2vfGPf/wDDRo00Eg+5TZu3DjExMS8Mfm0ZcsWfPTRRzA3N4eNjQ0aN26Mn3/+WWOba9euoU+fPihbtixKlSqF8uXLY8KECRq/Kb/99htatmwJe3t7WFhYoHbt2li5cqX0HeX+vfL390elSpUAAHPnzoVCocCJEye0dsHbu3cvvLy8YG9vD2tra7Rp00bjN0LdfXP9+vXo3LkzzMzMcOrUqXw/L72dOgHl4uLCXj5gAqrEuHr1KoyMjKTKJy4uDp07d4atrS3OnDmDGzduYO7cuVi0aBGWLVsGAOjSpQtiYmI0+i0fPnwYFSpUwLFjx6R1T548QXh4OD755BOt752amgpvb2+kpqbiyJEj+OOPP+Dg4IBvv/1WY7uzZ8/Cx8cHDRs2xMWLFxEVFYWRI0di4sSJ0sn/2rVrMXjwYAA5zRXXrl0LABgyZAj27t2LgIAA3L59G7/++itiYmLQtWvXYjf2FRVf3bp1AwC0atUKGzZs0HqC9iaff/45hg0bhkuXLuHTTz/F8uXL0aFDBzg5OeH06dNYv349fvzxR6xfv15jv59++gkRERHYv38/zpw5g3LlyqFfv36IiorS+j6xsbHw8vLC/fv3sXv3bly6dAk+Pj7w9fXFli1b3hrn7t278fDhQxw9ehR79uxBWFgY+vXrhw0bNiAgIAChoaHIysrCyJEjNfZLTU3FlClTsHjxYkRGRuKrr77CunXrMG/evAJ/R+XLl0d4eDgAYPr06UhISED58uUL9ZlCQ0Px4MEDnD9/HpMmTSrwexOpsayzrNPbsVvIh5P7PL0g5+hq6enpmDBhAmbNmoXIyEhMnjwZW7Zs0bh5O2jQIBw8eBDbtm3DxYsX0b9/f0yYMEHjOFlZWWjfvj0OHjyIDRs24MaNG9i2bRv++OMPtGvXDpmZmRrbT548GV9//TUiIiLg5eWF6dOno1evXmjRogUuXLiAr776Cps3b8ZPP/1U6O/i1KlT6NSpE+zt7XH8+HFERkbi008/xZdffpmnO6+2OmLAgAFYv349vvjiC1y5cgVbtmxBcHAwunXrJiVnli5dijVr1mD58uW4fv06Tpw4ARcXF7Rv3x6JiYlarzfu37+PmzdvSr8f2hgZGaFKlSr5vv7jjz9i7Nix8PHxwZUrV/Dnn3+idevWGDBggEaLq65du+Lx48c4cOAAbt26hW3btuHgwYMYNmwYACA6Ohq9evXCRx99hNOnT+Pq1auYPn065s6dK10b5TZgwACEhYUBAGbOnImEhAR4enrm2W7Pnj3o3bs3KlSogFOnTknXbB06dEBERITGtuvWrUOHDh1w48YNNG7cON/PTG+WmZmJR48eAWA9KxEGytXVVQAQrq6usuxfWMOHDxfGxsZ51j99+lT4+/uLUqVKiREjRkjrX7x4Ia5fvy6ePHmisX2TJk3Exx9/LIQQIjk5WRgZGYmAgAAhhBAvX74UNjY2YsWKFcLMzExkZGQIIYTYs2ePACDi4uK0xrZ9+3YBQPzxxx8a63v16iUAiFOnTkmxXrlyRTx//lxjO0dHRzFgwADpua+vr3j9XzMuLk7ExsZqrNuwYYMAIK5du6Y1Ll0oyt/9Q//PFFVERIS4cuWKUKlUwt7eXgAQ1apVkzusItu5c6coW7asACD9PQYPHix2794tsrKyhBBCHD9+XAAQ//73v4UQQuzYsUMAEEuWLJGO8/DhQwFAtGvXTuP4tWrVEr1795aeAxBly5YVL1++lNbdvn1bABBff/21xvHVZWXSpEnCxMRExMfHaxy7e/fuwtXVVahUKq37qd+vRo0a0jZCCNGlSxcBQNy9e1da99133wkAIjU1VQiRU8cAEMHBwRrv2bp1a+Hi4qJxfF9fX41tTp06JQCIHTt2CCGEuHfvngAg5s+fL21T0M9UsWJFYW5uLtLT04W+2rlzp/T/tXHjRrnDKZATJ06IBw8eiCtXrkixjxo1Su6wioRlPQfLum6pz1kAiKioKLnDKZDg4GCRnp4uDhw4IMU+b948ucPSa4U5Ty/IObr6mADE0aNHpXUqlUrY2NiIvn37CiH+rmMWLVqkcaw1a9YIAGLx4sVCCCF+/PFHAUDs379fY7vg4GABQPz8889CCCHmz58vAIjAwEBpm3PnzuX5TcjOzhaWlpbi888/l9ZVrFhRtG/f/q3fVZcuXYSLi4tUD6v17dtX2NraSnWotjriwoULAoD47rvvNPYNCgoSAMShQ4ek96hVq5bGNhkZGeLMmTPi6dOnQoi81xtnz54VAMTWrVvf+hnU1N/XvXv3hBBCPHnyRERGRors7Gxpm2fPngkAYubMmUKIv39Tli1bpnGs2NhYqQ5R/73Onj2rsc2lS5ek67HXfxdiY2M1/uZC5P2/rFu3rqhTp47G78bz58+Fk5OTGDx4sMZxvLy8Cvw9UP7u3Lkj1bN9+vSRO5xiwWDHgFI3N9Wngdmys7NhZWWlse758+dwcnLCtGnTsHjxYml9qVKlEB0djS+++AKXL19GSkoKhBDIyMhA5cqVAQAODg5o2rQpjh8/jqFDhyIsLAyZmZkYN24cFi9ejNOnT6Ndu3Y4evQoPDw8UL58ea1xRUZGAgAaNWqksb5Vq1YaXQ8sLS3x559/YtKkSbhx4wbS0tIghMDz58+RnJz8xs+uUqmwcuVKHDlyBA8fPsTLly+lZr9v27e4UDeXTkhIgJubm8zRvF16ejrS0tLg7OystRuLvho2bBgGDRqEkydP4uTJkwgJCUFQUBB27dqFunXr4tChQ/num/sOkKOjIwCgYcOGGts4OjpqNAMHgObNm2s0ga5cuTIcHBxw+/Ztre9z+vRp1K1bF66urhrrvb29ERwcjMTExDeO19GwYUONJr6Ojo4oU6YMKlSokCf+lJQU2NjYSOtbtWqV5zOfPHkSL168gJmZWb7v+TaF+Uy1a9fOU9fpq9mzZ+dpDVocPXnyBM+ePUOdOnXkDuW9YVnXjJ9lXffat2+vFwN5JyQkwMjICDVr1pTWcQyooivoeXpBztFza968ubSsUChQpkwZqUXFm87Bczt37pzW9S1atAAAnD9/XmMyhrfVgUZGRnBwcMhTB544cSLfMr127Vr4+vri3LlzaNOmDUxNTfPEEhQUhOjoaNSqVQtA3jpC3YXO29tbY9+OHTtCoVDgwoUL6NixI/r27YvPPvsMbdu2xZAhQ9C6dWtUr14dzZo10xobAKkuFbm6ARaWlZUVTpw4gTFjxiA2NhZPnz6VXlNfrzg6OqJVq1ZYsGAB7t27B29vb7Rq1UrqxQIALVu2RNmyZdGnTx+MGTMGbdu2RbNmzYo03l56ejqioqIwbdo0jd8Nc3NztGrVChcuXNDYvmnTpu/8XvQ3tjTNq/j/SpLE2NgYly5dkp6npaWhffv28PLyytNkNzg4GD169IC3tzd27NgBNzc3GBsbY8iQIdKPFpDTDW/Hjh0AcrrfeXp6wsrKCl5eXjh27BjatWuHI0eOoHfv3vnGlZaWBoVCAQsLC431uU90AWD9+vWYPHkyBg8ejIULF8LZ2RlGRkZo06bNGz/38+fP0apVK2RkZGDFihVo2LAhzM3NsWfPHsycOfON+xYn6enpAHKSafqU+LS2tkZWVhZevHghdyjvjampKTp06IAOHToAyOmOsmrVKixevBizZ8/G8OHDte5naWkpLat/vHOvU69//eTFzs4uz7GsrKzynLippaamIjY2Ns9JnLq76f379994saAtJm3rAM0TLYVCkafcqmNISUkp0gVKYT6Ttu9LXz158gRPnjyRO4wCKVu2LL788ktpLIySgGWdZf1DevjwodwhFFi5cuXQpk0bXLlyBQDyJAyp8Ap6nl7Qc3T1MXMPNA1o1j3qMYNeL2+vl+/U1FQoFApYW1tr3S732EPAu9eBH3/8MXbu3Alt1IOvp6amah0YW1ssr9cRqampAABPT888Y+kIIaTza19fX1SsWBEbN27EjBkzkJqaiho1amDevHkYMmSI1vjUA3dHR0drfb0gZs6ciVWrVmHKlClYs2YN7O3toVAoUL16dWkbhUKB33//HZs2bcJPP/2ETZs2wcjICJ07d8bq1atRvXp1lCtXDufPn4efnx8CAwOxYMEC2NjYYMiQIVi+fPk7Je7V392GDRvw/fffa7yWlZUFpVKpsa6k1c9yUY//BDABpcYElJ55fdDwFStWYPTo0di9ezcGDhword+5cyesrKywd+9ejTuZr18IdenSBfPnz8edO3dw6NAhdO3aFQDQtm1bBAUF4f79+7hx44a0XhsrKysIIfLcNX38+LHGdv7+/qhevToCAwOlHw2VSpVnu9cdO3YMcXFxCAwM1PjR0Lexn6ytrfH48WMYGRnpzZ1Ga2trLF68ON/BGPXNq1evkJGRkecEzNbWFosWLUJwcDD+/PPPfC9K35U6+fj6OgcHB63b29vbw9LSEkFBQVpf19WFghACz5490zjJVMeee9aO1084tX2+18n1meRmZ2eX56S9OFKX9dq1a8sdynvBsv5mLOu64ezsrBctoNTl/ejRo9I6fTkvKe4Kcp5e0HP0glAnIl5vqf76ubWdnR2EEHmSP+r3fF/JBnNz8zzfwevs7Oy0JuULEou6ftqzZw+qVq2a5/XciTf1zYfs7GycO3cO3333HT799FO4ubmhdevWefZ1dnaGh4cH9uzZg6VLl8LY2FhrDJs2bUKvXr20lhl/f3906NBBY5ym3C1g1CwsLDB9+nRMnz4dT548wYEDBzBz5kx4e3sjJiYGCoUCbm5uWLVqFVatWoW4uDjs2rULCxYsQEZGhtR4oDBKly4tDbj+1VdfFXp/eje5E1CsZ3MU/19JHXF1dcX9+/f1/kTI19cX//d//4dJkyahbdu20nTTWVlZsLKy0vhhCwkJwc2bNzUGz2vcuDGcnJzwn//8B2FhYVi9ejWAnATUrFmzsG/fPpQuXVrrQHZq6guWM2fOoG3bttL6EydOaGyXlZUFBwcHjTsWP/zwAzIyMrQ2dxVCQKFQSLPylClTRnrt1atXCAgIkLbTB+o7WC4uLhoDv+uDkpCAev78OSpUqABPT0/s27cvz+uZmZlISkrSyXTiISEhGneXYmJi8Pjx43wv9lu0aIFt27ahTJkyGidiDx48gFKpzHM39H06duwYunfvLj0PCwtD1apVUapUKQA5J4ZJSUka+4SEhGg9Vu6yKednktPSpUsxfvx4ucMosKtXr8odQpGxrBcMy/r7d/ToUb3qxqqeAAbgnXld0XaeXtBz9ILIfQ7euXNnaf3r5+Aff/yxtL5nz57S+pMnTwLAG7umvW8ff/wxTp8+nafVzcmTJ+Hg4KDRWuh16i6D8fHxGt3wsrOzcePGDTg6OiI7OxvBwcFwd3eHu7s7jI2N4enpie3bt6NMmTI4e/asRgJKfb0B5HSbHzRoEBYtWoSFCxfmef/vv/8eEyZMgLGxMcaMGZPn9aysLI3rFQDSDKDqejI+Ph7Hjx/HkCFDYGRkBDs7OwwZMgSJiYmYMWMG/vrrLyQkJOD+/fvSBFAVKlTArFmzEBoairNnz775C86HpaUl6tevj2vXruVJEkZHR+vF8CD6iF3w8uIseHpOoVDg+++/x/PnzzWSBC1atEBiYiI2btyIO3fuYNeuXZg4cSK6d++OBw8eICoqCpmZmVAoFPD29oafnx8sLS2lPt8NGjSAlZUVVq1aBW9v73zvAgBA3759YWNjg88//xxnzpzB9evXMXfuXKlZd+6YLly4gKCgINy5cwcbNmzApk2b0KxZM9y8eRO3bt1Cdna2dHfj119/xfXr19GkSRMolUqsWbMGN2/eRFhYGDp16iQlu0JCQvLt3kCkZmFhgfnz52P//v3o3bs3jhw5gri4ONy6dQv79u1Dx44dkZKSUqhZoArKyMgIvr6+uHz5MsLDwzFmzBiYmpri008/1br9tGnTYGRkhL59+yI0NBR3795FcHAwWrZsiaFDh773+NSMjY3xj3/8A4cOHUJ0dDSWLVuG0NBQjBo1StqmWbNmOHLkCPbv34/bt29j69atOHjwoMZx1HfZzpw5g8jISKSkpMj2mcjwsKy/Hcs6AX/fmVcoFFL3KHq/tJ2nF/QcvSBq1qyJ5s2b45///Kc0Q3RAQIB0k1atV69e8PDwwKRJk7B//37ExsZi7969mDJlCho2bJjvTNe6MHv2bDx69AiDBg1CREQErl+/jnnz5iE4OBizZ8+GkVH+l6f169dHr169MGvWLAQGBuL27dsIDw/H0KFD0bRpU8TGxsLY2BjLly9Hnz59cOjQIcTFxeH69etYsmQJTExMpOTT69cbADBw4EDMmDEDixYtksYQjIuLw7lz5zBhwgSMHTsW06ZN05p8AnL+tr///juOHTuGmJgYLFq0CBcuXED58uURGRmJu3fvIi0tDSNHjsS4ceNw6dIlxMfHIyQkBIGBgfDw8ICTkxPCwsLQu3dv6donLi4OQUFBCAkJkbqUv4v58+cjNDQUU6dORUREBGJiYrBp0ybUr18f69ate+fjUv7YAkqLDzfeefFSUmbBU1PPcqOe0S4jI0OMHj1aODg4CGtra9G5c2cRHR0tQkNDhbOzs7C2thaRkZFCCCF27dolAIgePXpoHLNnz54ax3yTU6dOiSZNmgilUinKlCkjJkyYIHbv3q0xO0NycrLw8fERtra2ws7OTvTv3188fPhQBAUFCVtbW2Fvby+Sk5PFjRs3hLu7uzA1NZVi2r17t6hevbowMzMTtWrVEv/+979FVlaWaN26tVAqlWLOnDnv9L0WliHNgpdbSZoF78iRI6Jfv36iUqVKwtzcXJQqVUpUrVpV+Pr6SjMq5jczVu4ZqIQQeWZ/EiJnJqnWrVtrbOPr6yuWL18uKlasKJRKpahdu7bYt2+ftI2240dFRYmePXuK0qVLC2NjY1G+fHkxY8YMafaW/PZTv19uw4cPFxUrVtRYp95XPbukuo4JCwsTzZs3F2ZmZqJMmTJi2rRpGrN6xcTEiI4dOwpra2tha2srBg4cKM1Ko54ZSwghZs2aJSwtLYWNjY0UX0E+U0Fn0SnO9HEWPLWSNAsey7rmvizruqGPs+Cpubm5SbM3UtEU5jy9oOfo+R2zatWqGnVPfHy86NGjh7C0tBRWVlaia9euIiIiIs+MaH/99ZcYOXKkcHZ2FiYmJqJcuXJi3Lhx4tGjR9I2r8/qJsTfs6LlLvdC5JTh4cOHazwvaJk+cuSI8PLyEpaWlqJUqVKifv36eWafy+94GRkZ4uuvvxaVK1cWJiYmwtbWVnTr1k1cuHBB2iYpKUn4+voKV1dXoVQqhYODg2jTpo347bffpG20XW+oHT58WPTq1Us4OzsLU1NT4ebmJrp16yb++9//amz3+vcVGxsrOnbsKKysrISjo6MYO3asePr0qVi3bp2wtLSU6ucjR46Itm3bCjs7O6FUKkWFChWEr6+vxuyh69evF/Xq1ROWlpbCwsJCuLu7i/nz50uzB77LLHhCCLFv3z7RvHlzYW5uLpRKpfDw8NA4V9F2HHp33t7e0m9EcnKy3OEUCwoh9KT/0nvm5uYmdcF7l+5QRd2f9FNR/u76/D/j4OCAx48fo1q1akUanNEQKRQK+Pr6YuvWrXKH8kYjRoxAYGCgNLskvbuAgABpbKGNGzfqXRc8dReiUaNGYdu2bTJHpD9Y1g3TZ599JpWTqKgovemCp1KpoFQqkZ2djYYNG+LPP/+UOyQiohKnXr16uHz5MpRKJV68eJFn8HxDxC54REREREQGJCkpSZrMhd1CiIh0Q90Fz8XFhcmn/2ECioiIiIjIgHBgXCIi3crMzMSjR48AsJ7NzWBnwSMi+hD0pZezv78//P395Q6DSG+xrJM+4cC4RES6lZiYKC2znv0bW0ARERERERkQtoAiItIt1rPaMQFFRERERGRAcreA4oUREdH7x3pWOyagiIiIiIgMCLvgERHpFutZ7ZiAIiIiIiIyIOwaQkSkW6xntWMCioiIiIjIgKjvzCsUCjg5OckcDRFRycMWUNoxAUVEREREZEDUd+adnZ1hYsJJsYmI3je2gNKOCSgiIiIiIgOhUqmkCyNeFBER6Ya6BZRSqYS9vb3M0RQfTEARERERERmIpKQkZGdnA2C3ECIiXVEnoFxcXKBQKGSOpvhgAoqIiIiIyECwWwgRkW5lZmbi0aNHAFjPvo4JKCIiIiIiA8GBcYmIdCsxMVFaZj2riQkoIiIiIiIDwRZQRES6xXo2f0xAEREREREZiNwtoHhhRET0/rGezR8TUEREREREBoJd8IiIdIv1bP6YgCIiIiIiMhDsGkJEpFusZ/PHBBQRvZV66lAhhMyREBV/KpVK7hDeC5Z3orfTx3KivjOvUCjg5OQkczRERCUPW0DljwkoInorCwsLAMDTp09ljoSo+MtdTiwtLWWMpPByx5ueni5jJET6IXd5V/9WFnfqO/POzs4wMTGRORoiopKHLaDyxwQUEb2VOnP/119/4cWLFzJHQ1S8xcXFScv6dtfL2dlZWs79OYhIu9zlpGzZsjJGUjAqlUq6MOJFERGRbqhbQCmVStjb28scTfHCBBQRvZW7uzuAnK4GkZGRMkdDVLxdvHhRWlaXHX1hZmaGypUrAwCioqLw8uVLmSMiKr5evXqFy5cvAwAqVaoEc3NzmSN6u6SkJGRnZwPQvwQ5EZG+UCegXFxcpKFMKAcTUET0Vs2bN5eWjxw5ImMkRMVbRkYGQkNDAQCurq5wc3OTOaLCU5f358+f4+zZszJHQ1R8nTt3Ds+ePQMANGvWTOZoCobdQoiIdCszMxOPHj0CwHpWGyagiOitvL29peUffvhBLwddJfoQgoODkZGRAQDo3LmzXt716ty5s7S8e/duGSMhKt5++OEHaTl3uSnOODAuEZFuJSYmSsusZ/NiAoqI3qpy5cpSq4ioqCicOHFC3oCIiiEhBNauXSs9Hzx4sIzRvLuePXtKgykHBAQgJSVF5oiIip+UlBQEBAQAAMzNzdGrVy95AyogtoAiItIt1rNvxgQUERXIpEmTpOXZs2eXmKnmid6XAwcO4PTp0wCA2rVro23btjJH9G5sbGwwbNgwADkzfC1dulTmiIiKn2XLlkkzRQ4bNgy2trYyR1QwuVtA8cKIiOj9Yz37ZkxAEVGB9O/fH7Vq1QIAnD17Fps3b5Y5IqLiIzU1VSNJu2DBAr3sfqc2a9YslCpVCgCwZs0ahIeHyxwRUfFx8eJFrF69GkDODEezZs2SOaKCYxc8IiLdYj37ZkxAEVGBmJiYYN26ddLzL774AmFhYTJGRFQ8qFQqjBgxAnfv3gUAtG3bFj4+PjJHVTQVK1aULqpfvXqF/v37SwNqEhmyR48eoV+/fnj16hUAYObMmahUqZK8QRUCu4YQEekW69k3YwKKiAqsQ4cOmDhxIoCcGR4++eQTaQpqIkOkUqkwfvx47N27FwBga2uL7du363XrJ7XZs2ejcePGAICYmBh06dIFT548kTcoIhk9efIEXbt2RUxMDACgUaNG+Oabb2SOqnDUd+YVCgWcnJxkjoaIqORhC6g3YwKKiApl9erVaNWqFQAgOTkZrVq1wsGDB2WOiujDS09PR79+/bBlyxYAgLGxMXbv3q1XrSHeRKlUIigoCGXLlgUAnD9/Hi1atEB0dLTMkRF9eLdu3ULLli2llr/Ozs4ICgqSuqrqC/WdeWdnZ5iYmMgcDRFRycMWUG/GBBQRFYpSqcR//vMfNG3aFEDOHeHOnTtj8uTJbB1BBuPgwYOoX78+9uzZAyAn+RQYGKg3U7EXVIUKFXD48GGppcTVq1fRsGFDrF+/XuqCRFSSvXr1Chs2bMBHH32EK1euAAAcHR1x+PBhVKxYUeboCkelUkkXRrwoIiLSDXULKKVSCXt7e5mjKX6YgCKiQrOzs8PRo0fRo0cPad369etRpUoVzJ07F3fu3JEvOCIdycrKwt69e9G2bVt07twZsbGxAHJmjQsODsbAgQNljlA36tati9DQULi7uwPImRlv8uTJqF27NjZt2sTEM5VIT548webNm1GnTh1MmjQJT58+BQDUrFkToaGh8PDwkDnCwktKSkJ2djYAdgshItIVdQLKxcWlRAzJ8L6x7S0RvRMrKyv8+uuvWLt2Lb755htkZGQgJSUFS5YswZIlS1C/fn20aNECNWvWhJOTE0xNTeUOmahQhBBIT0/H3bt3cfHiRZw8eRKpqaka23h5ecHf3x9VqlSRKcoPo1q1ajh//jy++OILfP/99wCA6OhoTJgwAVOnToWnpyeaNm2KqlWronTp0jA2NpY5YqLCyc7ORkpKCmJiYhAWFobTp0/j5cuXGtv4+vrCz88P1tbWMkVZNLm7hTx79gxBQUEyRkNEVPKoVCpp0ha2NNVOIYQQcgchBzc3N9y/fx9GRkbvdBcoISEBKpXqnfcn/VSUv7t6X1dXV8THx+soQnncvXsX8+fPR2BgoHR3lagkq169OubPn49BgwbByMiwGhOfOXMG33zzDY4fPy53KEQfRJs2bfDtt9/C09NT7lCK5LfffsMnn3widxhERAahT58+TPRrYbAJqFq1auH69etyh0EGyN3dHdeuXZM7DJ2Ij49HQEAA9uzZg/DwcBho9UIllIODAzp37owhQ4agU6dOBt/K5+LFiwgICMC+fftw+/ZtucMheq+qVKmC7t27Y/jw4fjoo4/kDue9CA8PR6NGjeQOg4jIIKxcuRLTp0+XO4xix2ATUL/88gvmzp2L9PT0d9o/IyMD6enpsLa2hrm5+XuOjoqrov7dra2tsXjxYvj4+OgguuIlNTUVkZGRuH37Nh4/fswBi0nvKBQKWFhYwNXVFbVq1UK1atUMrrVTQT148ACXL19GXFwc0tLSoFKp5A6JqFCMjIxgY2ODChUqwMPDo8R2nTh69CjCw8PlDoOIqEQrX748+vTpA6VSKXcoxY7BJqCIiIiIiIiIiOjD4K1cIiIiIiIiIiLSKSagiIiIiIiIiIhIp5iAIiIiIiIiIiIinWICioiIiIiIiIiIdIoJKCIiIiIiIiIi0ikmoIiIiIiIiIiISKeYgCIiIiIiIiIiIp1iAoqIiIiIiIiIiHSKCSgiIiIiIiIiItIpJqCIiIiIiIiIiEinmIAiIiIiIiIiIiKd+n/EZ9jgE+QsIAAAAABJRU5ErkJggg==\n",
                  "text/plain": "<Figure size 1200x600 with 1 Axes>"
                },
                "metadata": {},
                "output_type": "display_data"
              }
            ]
          }
        },
        "22f6b9a88ebe4a48a0ba4eaaaea242fc": {
          "model_module": "@jupyter-widgets/controls",
          "model_module_version": "1.5.0",
          "model_name": "HTMLModel",
          "state": {
            "_dom_classes": [],
            "_model_module": "@jupyter-widgets/controls",
            "_model_module_version": "1.5.0",
            "_model_name": "HTMLModel",
            "_view_count": null,
            "_view_module": "@jupyter-widgets/controls",
            "_view_module_version": "1.5.0",
            "_view_name": "HTMLView",
            "description": "",
            "description_tooltip": null,
            "layout": "IPY_MODEL_99e3179a7d9d4d3c98c42258bb81cd37",
            "placeholder": "​",
            "style": "IPY_MODEL_c29ce574fda44bfb868e658f5b702b3d",
            "value": "Processing: 100%"
          }
        },
        "2306765f805048e2916e438c13da3039": {
          "model_module": "@jupyter-widgets/controls",
          "model_module_version": "1.5.0",
          "model_name": "ToggleButtonsModel",
          "state": {
            "_dom_classes": [],
            "_model_module": "@jupyter-widgets/controls",
            "_model_module_version": "1.5.0",
            "_model_name": "ToggleButtonsModel",
            "_options_labels": [
              "Pipeline Plot",
              "Hyperparameters",
              "AUC",
              "Confusion Matrix",
              "Threshold",
              "Precision Recall",
              "Prediction Error",
              "Class Report",
              "Feature Selection",
              "Learning Curve",
              "Manifold Learning",
              "Calibration Curve",
              "Validation Curve",
              "Dimensions",
              "Feature Importance",
              "Feature Importance (All)",
              "Decision Boundary",
              "Lift Chart",
              "Gain Chart",
              "Decision Tree",
              "KS Statistic Plot"
            ],
            "_view_count": null,
            "_view_module": "@jupyter-widgets/controls",
            "_view_module_version": "1.5.0",
            "_view_name": "ToggleButtonsView",
            "button_style": "",
            "description": "Plot Type:",
            "description_tooltip": null,
            "disabled": false,
            "icons": [
              ""
            ],
            "index": 0,
            "layout": "IPY_MODEL_72f488ea67714b2ebb637fea4f72361e",
            "style": "IPY_MODEL_64f1388f4e0c490085d04fb88e9e324b",
            "tooltips": []
          }
        },
        "2b7dcbcb27c54e0ba12d76a7c0b37c82": {
          "model_module": "@jupyter-widgets/controls",
          "model_module_version": "1.5.0",
          "model_name": "FloatProgressModel",
          "state": {
            "_dom_classes": [],
            "_model_module": "@jupyter-widgets/controls",
            "_model_module_version": "1.5.0",
            "_model_name": "FloatProgressModel",
            "_view_count": null,
            "_view_module": "@jupyter-widgets/controls",
            "_view_module_version": "1.5.0",
            "_view_name": "ProgressView",
            "bar_style": "",
            "description": "",
            "description_tooltip": null,
            "layout": "IPY_MODEL_1321045bb7464b3f887fafe69653fad9",
            "max": 65,
            "min": 0,
            "orientation": "horizontal",
            "style": "IPY_MODEL_168b2a1163844b0e9d9c0271e7e860c5",
            "value": 65
          }
        },
        "3c76602903a246dfa6f838a23793dedf": {
          "model_module": "@jupyter-widgets/base",
          "model_module_version": "1.2.0",
          "model_name": "LayoutModel",
          "state": {
            "_model_module": "@jupyter-widgets/base",
            "_model_module_version": "1.2.0",
            "_model_name": "LayoutModel",
            "_view_count": null,
            "_view_module": "@jupyter-widgets/base",
            "_view_module_version": "1.2.0",
            "_view_name": "LayoutView",
            "align_content": null,
            "align_items": null,
            "align_self": null,
            "border": null,
            "bottom": null,
            "display": null,
            "flex": null,
            "flex_flow": null,
            "grid_area": null,
            "grid_auto_columns": null,
            "grid_auto_flow": null,
            "grid_auto_rows": null,
            "grid_column": null,
            "grid_gap": null,
            "grid_row": null,
            "grid_template_areas": null,
            "grid_template_columns": null,
            "grid_template_rows": null,
            "height": null,
            "justify_content": null,
            "justify_items": null,
            "left": null,
            "margin": null,
            "max_height": null,
            "max_width": null,
            "min_height": null,
            "min_width": null,
            "object_fit": null,
            "object_position": null,
            "order": null,
            "overflow": null,
            "overflow_x": null,
            "overflow_y": null,
            "padding": null,
            "right": null,
            "top": null,
            "visibility": null,
            "width": null
          }
        },
        "3f83c739ecf04df593425f177306633b": {
          "model_module": "@jupyter-widgets/base",
          "model_module_version": "1.2.0",
          "model_name": "LayoutModel",
          "state": {
            "_model_module": "@jupyter-widgets/base",
            "_model_module_version": "1.2.0",
            "_model_name": "LayoutModel",
            "_view_count": null,
            "_view_module": "@jupyter-widgets/base",
            "_view_module_version": "1.2.0",
            "_view_name": "LayoutView",
            "align_content": null,
            "align_items": null,
            "align_self": null,
            "border": null,
            "bottom": null,
            "display": null,
            "flex": null,
            "flex_flow": null,
            "grid_area": null,
            "grid_auto_columns": null,
            "grid_auto_flow": null,
            "grid_auto_rows": null,
            "grid_column": null,
            "grid_gap": null,
            "grid_row": null,
            "grid_template_areas": null,
            "grid_template_columns": null,
            "grid_template_rows": null,
            "height": null,
            "justify_content": null,
            "justify_items": null,
            "left": null,
            "margin": null,
            "max_height": null,
            "max_width": null,
            "min_height": null,
            "min_width": null,
            "object_fit": null,
            "object_position": null,
            "order": null,
            "overflow": null,
            "overflow_x": null,
            "overflow_y": null,
            "padding": null,
            "right": null,
            "top": null,
            "visibility": "hidden",
            "width": null
          }
        },
        "40868cfbdbd24d37b940245bd25a6a89": {
          "model_module": "@jupyter-widgets/base",
          "model_module_version": "1.2.0",
          "model_name": "LayoutModel",
          "state": {
            "_model_module": "@jupyter-widgets/base",
            "_model_module_version": "1.2.0",
            "_model_name": "LayoutModel",
            "_view_count": null,
            "_view_module": "@jupyter-widgets/base",
            "_view_module_version": "1.2.0",
            "_view_name": "LayoutView",
            "align_content": null,
            "align_items": null,
            "align_self": null,
            "border": null,
            "bottom": null,
            "display": null,
            "flex": null,
            "flex_flow": null,
            "grid_area": null,
            "grid_auto_columns": null,
            "grid_auto_flow": null,
            "grid_auto_rows": null,
            "grid_column": null,
            "grid_gap": null,
            "grid_row": null,
            "grid_template_areas": null,
            "grid_template_columns": null,
            "grid_template_rows": null,
            "height": null,
            "justify_content": null,
            "justify_items": null,
            "left": null,
            "margin": null,
            "max_height": null,
            "max_width": null,
            "min_height": null,
            "min_width": null,
            "object_fit": null,
            "object_position": null,
            "order": null,
            "overflow": null,
            "overflow_x": null,
            "overflow_y": null,
            "padding": null,
            "right": null,
            "top": null,
            "visibility": null,
            "width": null
          }
        },
        "45fa7a229ad943a2ac85c6e9ee0c57ac": {
          "model_module": "@jupyter-widgets/base",
          "model_module_version": "1.2.0",
          "model_name": "LayoutModel",
          "state": {
            "_model_module": "@jupyter-widgets/base",
            "_model_module_version": "1.2.0",
            "_model_name": "LayoutModel",
            "_view_count": null,
            "_view_module": "@jupyter-widgets/base",
            "_view_module_version": "1.2.0",
            "_view_name": "LayoutView",
            "align_content": null,
            "align_items": null,
            "align_self": null,
            "border": null,
            "bottom": null,
            "display": null,
            "flex": null,
            "flex_flow": null,
            "grid_area": null,
            "grid_auto_columns": null,
            "grid_auto_flow": null,
            "grid_auto_rows": null,
            "grid_column": null,
            "grid_gap": null,
            "grid_row": null,
            "grid_template_areas": null,
            "grid_template_columns": null,
            "grid_template_rows": null,
            "height": null,
            "justify_content": null,
            "justify_items": null,
            "left": null,
            "margin": null,
            "max_height": null,
            "max_width": null,
            "min_height": null,
            "min_width": null,
            "object_fit": null,
            "object_position": null,
            "order": null,
            "overflow": null,
            "overflow_x": null,
            "overflow_y": null,
            "padding": null,
            "right": null,
            "top": null,
            "visibility": null,
            "width": null
          }
        },
        "465bfde9bd354672ba0a69af506b79e6": {
          "model_module": "@jupyter-widgets/controls",
          "model_module_version": "1.5.0",
          "model_name": "DescriptionStyleModel",
          "state": {
            "_model_module": "@jupyter-widgets/controls",
            "_model_module_version": "1.5.0",
            "_model_name": "DescriptionStyleModel",
            "_view_count": null,
            "_view_module": "@jupyter-widgets/base",
            "_view_module_version": "1.2.0",
            "_view_name": "StyleView",
            "description_width": ""
          }
        },
        "514296994ba8417cbe5fb396e4c6d730": {
          "model_module": "@jupyter-widgets/controls",
          "model_module_version": "1.5.0",
          "model_name": "DescriptionStyleModel",
          "state": {
            "_model_module": "@jupyter-widgets/controls",
            "_model_module_version": "1.5.0",
            "_model_name": "DescriptionStyleModel",
            "_view_count": null,
            "_view_module": "@jupyter-widgets/base",
            "_view_module_version": "1.2.0",
            "_view_name": "StyleView",
            "description_width": ""
          }
        },
        "594bc9c0553d4210b87bf9573df016d7": {
          "model_module": "@jupyter-widgets/base",
          "model_module_version": "1.2.0",
          "model_name": "LayoutModel",
          "state": {
            "_model_module": "@jupyter-widgets/base",
            "_model_module_version": "1.2.0",
            "_model_name": "LayoutModel",
            "_view_count": null,
            "_view_module": "@jupyter-widgets/base",
            "_view_module_version": "1.2.0",
            "_view_name": "LayoutView",
            "align_content": null,
            "align_items": null,
            "align_self": null,
            "border": null,
            "bottom": null,
            "display": null,
            "flex": null,
            "flex_flow": null,
            "grid_area": null,
            "grid_auto_columns": null,
            "grid_auto_flow": null,
            "grid_auto_rows": null,
            "grid_column": null,
            "grid_gap": null,
            "grid_row": null,
            "grid_template_areas": null,
            "grid_template_columns": null,
            "grid_template_rows": null,
            "height": null,
            "justify_content": null,
            "justify_items": null,
            "left": null,
            "margin": null,
            "max_height": null,
            "max_width": null,
            "min_height": null,
            "min_width": null,
            "object_fit": null,
            "object_position": null,
            "order": null,
            "overflow": null,
            "overflow_x": null,
            "overflow_y": null,
            "padding": null,
            "right": null,
            "top": null,
            "visibility": "hidden",
            "width": null
          }
        },
        "6114d2bf70b149eeb74940da62cab56d": {
          "model_module": "@jupyter-widgets/controls",
          "model_module_version": "1.5.0",
          "model_name": "HTMLModel",
          "state": {
            "_dom_classes": [],
            "_model_module": "@jupyter-widgets/controls",
            "_model_module_version": "1.5.0",
            "_model_name": "HTMLModel",
            "_view_count": null,
            "_view_module": "@jupyter-widgets/controls",
            "_view_module_version": "1.5.0",
            "_view_name": "HTMLView",
            "description": "",
            "description_tooltip": null,
            "layout": "IPY_MODEL_67d1a79f9a3c458b9fae6d4f8ed345e9",
            "placeholder": "​",
            "style": "IPY_MODEL_465bfde9bd354672ba0a69af506b79e6",
            "value": " 65/65 [00:33&lt;00:00,  3.04it/s]"
          }
        },
        "64f1388f4e0c490085d04fb88e9e324b": {
          "model_module": "@jupyter-widgets/controls",
          "model_module_version": "1.5.0",
          "model_name": "ToggleButtonsStyleModel",
          "state": {
            "_model_module": "@jupyter-widgets/controls",
            "_model_module_version": "1.5.0",
            "_model_name": "ToggleButtonsStyleModel",
            "_view_count": null,
            "_view_module": "@jupyter-widgets/base",
            "_view_module_version": "1.2.0",
            "_view_name": "StyleView",
            "button_width": "",
            "description_width": "",
            "font_weight": ""
          }
        },
        "67d1a79f9a3c458b9fae6d4f8ed345e9": {
          "model_module": "@jupyter-widgets/base",
          "model_module_version": "1.2.0",
          "model_name": "LayoutModel",
          "state": {
            "_model_module": "@jupyter-widgets/base",
            "_model_module_version": "1.2.0",
            "_model_name": "LayoutModel",
            "_view_count": null,
            "_view_module": "@jupyter-widgets/base",
            "_view_module_version": "1.2.0",
            "_view_name": "LayoutView",
            "align_content": null,
            "align_items": null,
            "align_self": null,
            "border": null,
            "bottom": null,
            "display": null,
            "flex": null,
            "flex_flow": null,
            "grid_area": null,
            "grid_auto_columns": null,
            "grid_auto_flow": null,
            "grid_auto_rows": null,
            "grid_column": null,
            "grid_gap": null,
            "grid_row": null,
            "grid_template_areas": null,
            "grid_template_columns": null,
            "grid_template_rows": null,
            "height": null,
            "justify_content": null,
            "justify_items": null,
            "left": null,
            "margin": null,
            "max_height": null,
            "max_width": null,
            "min_height": null,
            "min_width": null,
            "object_fit": null,
            "object_position": null,
            "order": null,
            "overflow": null,
            "overflow_x": null,
            "overflow_y": null,
            "padding": null,
            "right": null,
            "top": null,
            "visibility": null,
            "width": null
          }
        },
        "6d079b252e0d421a81112bbd38ede155": {
          "model_module": "@jupyter-widgets/controls",
          "model_module_version": "1.5.0",
          "model_name": "HTMLModel",
          "state": {
            "_dom_classes": [],
            "_model_module": "@jupyter-widgets/controls",
            "_model_module_version": "1.5.0",
            "_model_name": "HTMLModel",
            "_view_count": null,
            "_view_module": "@jupyter-widgets/controls",
            "_view_module_version": "1.5.0",
            "_view_name": "HTMLView",
            "description": "",
            "description_tooltip": null,
            "layout": "IPY_MODEL_40868cfbdbd24d37b940245bd25a6a89",
            "placeholder": "​",
            "style": "IPY_MODEL_d1aa1323da2f47caa2ca82ff6d5d9a9e",
            "value": "Processing: 100%"
          }
        },
        "6e8005de76b142c891b3d04fac498ce0": {
          "model_module": "@jupyter-widgets/controls",
          "model_module_version": "1.5.0",
          "model_name": "HTMLModel",
          "state": {
            "_dom_classes": [],
            "_model_module": "@jupyter-widgets/controls",
            "_model_module_version": "1.5.0",
            "_model_name": "HTMLModel",
            "_view_count": null,
            "_view_module": "@jupyter-widgets/controls",
            "_view_module_version": "1.5.0",
            "_view_name": "HTMLView",
            "description": "",
            "description_tooltip": null,
            "layout": "IPY_MODEL_8ba28949b0094ed3bcfa3a4562c21971",
            "placeholder": "​",
            "style": "IPY_MODEL_6ff9dfe0435742c28cf873841f61912f",
            "value": " 65/65 [00:27&lt;00:00,  3.46it/s]"
          }
        },
        "6ff9dfe0435742c28cf873841f61912f": {
          "model_module": "@jupyter-widgets/controls",
          "model_module_version": "1.5.0",
          "model_name": "DescriptionStyleModel",
          "state": {
            "_model_module": "@jupyter-widgets/controls",
            "_model_module_version": "1.5.0",
            "_model_name": "DescriptionStyleModel",
            "_view_count": null,
            "_view_module": "@jupyter-widgets/base",
            "_view_module_version": "1.2.0",
            "_view_name": "StyleView",
            "description_width": ""
          }
        },
        "72f488ea67714b2ebb637fea4f72361e": {
          "model_module": "@jupyter-widgets/base",
          "model_module_version": "1.2.0",
          "model_name": "LayoutModel",
          "state": {
            "_model_module": "@jupyter-widgets/base",
            "_model_module_version": "1.2.0",
            "_model_name": "LayoutModel",
            "_view_count": null,
            "_view_module": "@jupyter-widgets/base",
            "_view_module_version": "1.2.0",
            "_view_name": "LayoutView",
            "align_content": null,
            "align_items": null,
            "align_self": null,
            "border": null,
            "bottom": null,
            "display": null,
            "flex": null,
            "flex_flow": null,
            "grid_area": null,
            "grid_auto_columns": null,
            "grid_auto_flow": null,
            "grid_auto_rows": null,
            "grid_column": null,
            "grid_gap": null,
            "grid_row": null,
            "grid_template_areas": null,
            "grid_template_columns": null,
            "grid_template_rows": null,
            "height": null,
            "justify_content": null,
            "justify_items": null,
            "left": null,
            "margin": null,
            "max_height": null,
            "max_width": null,
            "min_height": null,
            "min_width": null,
            "object_fit": null,
            "object_position": null,
            "order": null,
            "overflow": null,
            "overflow_x": null,
            "overflow_y": null,
            "padding": null,
            "right": null,
            "top": null,
            "visibility": null,
            "width": null
          }
        },
        "73caf5028d594908a87ae38a7ee6dc01": {
          "model_module": "@jupyter-widgets/base",
          "model_module_version": "1.2.0",
          "model_name": "LayoutModel",
          "state": {
            "_model_module": "@jupyter-widgets/base",
            "_model_module_version": "1.2.0",
            "_model_name": "LayoutModel",
            "_view_count": null,
            "_view_module": "@jupyter-widgets/base",
            "_view_module_version": "1.2.0",
            "_view_name": "LayoutView",
            "align_content": null,
            "align_items": null,
            "align_self": null,
            "border": null,
            "bottom": null,
            "display": null,
            "flex": null,
            "flex_flow": null,
            "grid_area": null,
            "grid_auto_columns": null,
            "grid_auto_flow": null,
            "grid_auto_rows": null,
            "grid_column": null,
            "grid_gap": null,
            "grid_row": null,
            "grid_template_areas": null,
            "grid_template_columns": null,
            "grid_template_rows": null,
            "height": null,
            "justify_content": null,
            "justify_items": null,
            "left": null,
            "margin": null,
            "max_height": null,
            "max_width": null,
            "min_height": null,
            "min_width": null,
            "object_fit": null,
            "object_position": null,
            "order": null,
            "overflow": null,
            "overflow_x": null,
            "overflow_y": null,
            "padding": null,
            "right": null,
            "top": null,
            "visibility": "hidden",
            "width": null
          }
        },
        "760b62311d7b4877857aab949b05e59c": {
          "model_module": "@jupyter-widgets/controls",
          "model_module_version": "1.5.0",
          "model_name": "HTMLModel",
          "state": {
            "_dom_classes": [],
            "_model_module": "@jupyter-widgets/controls",
            "_model_module_version": "1.5.0",
            "_model_name": "HTMLModel",
            "_view_count": null,
            "_view_module": "@jupyter-widgets/controls",
            "_view_module_version": "1.5.0",
            "_view_name": "HTMLView",
            "description": "",
            "description_tooltip": null,
            "layout": "IPY_MODEL_0cfb62605cce4b52b6648cf145027f0a",
            "placeholder": "​",
            "style": "IPY_MODEL_514296994ba8417cbe5fb396e4c6d730",
            "value": "Processing: 100%"
          }
        },
        "818e8b14a66c4c2db3eba4710a5f9812": {
          "model_module": "@jupyter-widgets/controls",
          "model_module_version": "1.5.0",
          "model_name": "HBoxModel",
          "state": {
            "_dom_classes": [],
            "_model_module": "@jupyter-widgets/controls",
            "_model_module_version": "1.5.0",
            "_model_name": "HBoxModel",
            "_view_count": null,
            "_view_module": "@jupyter-widgets/controls",
            "_view_module_version": "1.5.0",
            "_view_name": "HBoxView",
            "box_style": "",
            "children": [
              "IPY_MODEL_22f6b9a88ebe4a48a0ba4eaaaea242fc",
              "IPY_MODEL_16987919166b4df9b79b1ae931243db3",
              "IPY_MODEL_6114d2bf70b149eeb74940da62cab56d"
            ],
            "layout": "IPY_MODEL_3f83c739ecf04df593425f177306633b"
          }
        },
        "8ba28949b0094ed3bcfa3a4562c21971": {
          "model_module": "@jupyter-widgets/base",
          "model_module_version": "1.2.0",
          "model_name": "LayoutModel",
          "state": {
            "_model_module": "@jupyter-widgets/base",
            "_model_module_version": "1.2.0",
            "_model_name": "LayoutModel",
            "_view_count": null,
            "_view_module": "@jupyter-widgets/base",
            "_view_module_version": "1.2.0",
            "_view_name": "LayoutView",
            "align_content": null,
            "align_items": null,
            "align_self": null,
            "border": null,
            "bottom": null,
            "display": null,
            "flex": null,
            "flex_flow": null,
            "grid_area": null,
            "grid_auto_columns": null,
            "grid_auto_flow": null,
            "grid_auto_rows": null,
            "grid_column": null,
            "grid_gap": null,
            "grid_row": null,
            "grid_template_areas": null,
            "grid_template_columns": null,
            "grid_template_rows": null,
            "height": null,
            "justify_content": null,
            "justify_items": null,
            "left": null,
            "margin": null,
            "max_height": null,
            "max_width": null,
            "min_height": null,
            "min_width": null,
            "object_fit": null,
            "object_position": null,
            "order": null,
            "overflow": null,
            "overflow_x": null,
            "overflow_y": null,
            "padding": null,
            "right": null,
            "top": null,
            "visibility": null,
            "width": null
          }
        },
        "95f71a79058d41e690bb895c75cc36da": {
          "model_module": "@jupyter-widgets/controls",
          "model_module_version": "1.5.0",
          "model_name": "DescriptionStyleModel",
          "state": {
            "_model_module": "@jupyter-widgets/controls",
            "_model_module_version": "1.5.0",
            "_model_name": "DescriptionStyleModel",
            "_view_count": null,
            "_view_module": "@jupyter-widgets/base",
            "_view_module_version": "1.2.0",
            "_view_name": "StyleView",
            "description_width": ""
          }
        },
        "99e3179a7d9d4d3c98c42258bb81cd37": {
          "model_module": "@jupyter-widgets/base",
          "model_module_version": "1.2.0",
          "model_name": "LayoutModel",
          "state": {
            "_model_module": "@jupyter-widgets/base",
            "_model_module_version": "1.2.0",
            "_model_name": "LayoutModel",
            "_view_count": null,
            "_view_module": "@jupyter-widgets/base",
            "_view_module_version": "1.2.0",
            "_view_name": "LayoutView",
            "align_content": null,
            "align_items": null,
            "align_self": null,
            "border": null,
            "bottom": null,
            "display": null,
            "flex": null,
            "flex_flow": null,
            "grid_area": null,
            "grid_auto_columns": null,
            "grid_auto_flow": null,
            "grid_auto_rows": null,
            "grid_column": null,
            "grid_gap": null,
            "grid_row": null,
            "grid_template_areas": null,
            "grid_template_columns": null,
            "grid_template_rows": null,
            "height": null,
            "justify_content": null,
            "justify_items": null,
            "left": null,
            "margin": null,
            "max_height": null,
            "max_width": null,
            "min_height": null,
            "min_width": null,
            "object_fit": null,
            "object_position": null,
            "order": null,
            "overflow": null,
            "overflow_x": null,
            "overflow_y": null,
            "padding": null,
            "right": null,
            "top": null,
            "visibility": null,
            "width": null
          }
        },
        "9add5fd80d394035a69ecfd63f5899bb": {
          "model_module": "@jupyter-widgets/controls",
          "model_module_version": "1.5.0",
          "model_name": "ToggleButtonsStyleModel",
          "state": {
            "_model_module": "@jupyter-widgets/controls",
            "_model_module_version": "1.5.0",
            "_model_name": "ToggleButtonsStyleModel",
            "_view_count": null,
            "_view_module": "@jupyter-widgets/base",
            "_view_module_version": "1.2.0",
            "_view_name": "StyleView",
            "button_width": "",
            "description_width": "",
            "font_weight": ""
          }
        },
        "9f4a26fa5d294d1f873b61cdffdf274f": {
          "model_module": "@jupyter-widgets/controls",
          "model_module_version": "1.5.0",
          "model_name": "HBoxModel",
          "state": {
            "_dom_classes": [],
            "_model_module": "@jupyter-widgets/controls",
            "_model_module_version": "1.5.0",
            "_model_name": "HBoxModel",
            "_view_count": null,
            "_view_module": "@jupyter-widgets/controls",
            "_view_module_version": "1.5.0",
            "_view_name": "HBoxView",
            "box_style": "",
            "children": [
              "IPY_MODEL_6d079b252e0d421a81112bbd38ede155",
              "IPY_MODEL_2b7dcbcb27c54e0ba12d76a7c0b37c82",
              "IPY_MODEL_6e8005de76b142c891b3d04fac498ce0"
            ],
            "layout": "IPY_MODEL_594bc9c0553d4210b87bf9573df016d7"
          }
        },
        "a0c1a8efddd544129a05ee267c6a3aec": {
          "model_module": "@jupyter-widgets/base",
          "model_module_version": "1.2.0",
          "model_name": "LayoutModel",
          "state": {
            "_model_module": "@jupyter-widgets/base",
            "_model_module_version": "1.2.0",
            "_model_name": "LayoutModel",
            "_view_count": null,
            "_view_module": "@jupyter-widgets/base",
            "_view_module_version": "1.2.0",
            "_view_name": "LayoutView",
            "align_content": null,
            "align_items": null,
            "align_self": null,
            "border": null,
            "bottom": null,
            "display": null,
            "flex": null,
            "flex_flow": null,
            "grid_area": null,
            "grid_auto_columns": null,
            "grid_auto_flow": null,
            "grid_auto_rows": null,
            "grid_column": null,
            "grid_gap": null,
            "grid_row": null,
            "grid_template_areas": null,
            "grid_template_columns": null,
            "grid_template_rows": null,
            "height": null,
            "justify_content": null,
            "justify_items": null,
            "left": null,
            "margin": null,
            "max_height": null,
            "max_width": null,
            "min_height": null,
            "min_width": null,
            "object_fit": null,
            "object_position": null,
            "order": null,
            "overflow": null,
            "overflow_x": null,
            "overflow_y": null,
            "padding": null,
            "right": null,
            "top": null,
            "visibility": null,
            "width": null
          }
        },
        "a1153254c94d4f68a81c46ca6c03835c": {
          "model_module": "@jupyter-widgets/base",
          "model_module_version": "1.2.0",
          "model_name": "LayoutModel",
          "state": {
            "_model_module": "@jupyter-widgets/base",
            "_model_module_version": "1.2.0",
            "_model_name": "LayoutModel",
            "_view_count": null,
            "_view_module": "@jupyter-widgets/base",
            "_view_module_version": "1.2.0",
            "_view_name": "LayoutView",
            "align_content": null,
            "align_items": null,
            "align_self": null,
            "border": null,
            "bottom": null,
            "display": null,
            "flex": null,
            "flex_flow": null,
            "grid_area": null,
            "grid_auto_columns": null,
            "grid_auto_flow": null,
            "grid_auto_rows": null,
            "grid_column": null,
            "grid_gap": null,
            "grid_row": null,
            "grid_template_areas": null,
            "grid_template_columns": null,
            "grid_template_rows": null,
            "height": null,
            "justify_content": null,
            "justify_items": null,
            "left": null,
            "margin": null,
            "max_height": null,
            "max_width": null,
            "min_height": null,
            "min_width": null,
            "object_fit": null,
            "object_position": null,
            "order": null,
            "overflow": null,
            "overflow_x": null,
            "overflow_y": null,
            "padding": null,
            "right": null,
            "top": null,
            "visibility": null,
            "width": null
          }
        },
        "a7a7249ebaac4af68d410c822199f69e": {
          "model_module": "@jupyter-widgets/controls",
          "model_module_version": "1.5.0",
          "model_name": "HTMLModel",
          "state": {
            "_dom_classes": [],
            "_model_module": "@jupyter-widgets/controls",
            "_model_module_version": "1.5.0",
            "_model_name": "HTMLModel",
            "_view_count": null,
            "_view_module": "@jupyter-widgets/controls",
            "_view_module_version": "1.5.0",
            "_view_name": "HTMLView",
            "description": "",
            "description_tooltip": null,
            "layout": "IPY_MODEL_03b1bc87a5664e76a36e4a1c472ba8ec",
            "placeholder": "​",
            "style": "IPY_MODEL_95f71a79058d41e690bb895c75cc36da",
            "value": " 65/65 [00:30&lt;00:00,  3.46it/s]"
          }
        },
        "a820775686eb44bb8d620273e02284b5": {
          "model_module": "@jupyter-widgets/controls",
          "model_module_version": "1.5.0",
          "model_name": "VBoxModel",
          "state": {
            "_dom_classes": [
              "widget-interact"
            ],
            "_model_module": "@jupyter-widgets/controls",
            "_model_module_version": "1.5.0",
            "_model_name": "VBoxModel",
            "_view_count": null,
            "_view_module": "@jupyter-widgets/controls",
            "_view_module_version": "1.5.0",
            "_view_name": "VBoxView",
            "box_style": "",
            "children": [
              "IPY_MODEL_fcf30f1d38c74b22af52b83b19583752",
              "IPY_MODEL_20ec8f12e4bf4c0999d49b35406cc122"
            ],
            "layout": "IPY_MODEL_dca1dcece5c24050ab7289cf7e6d8e4e"
          }
        },
        "c29ce574fda44bfb868e658f5b702b3d": {
          "model_module": "@jupyter-widgets/controls",
          "model_module_version": "1.5.0",
          "model_name": "DescriptionStyleModel",
          "state": {
            "_model_module": "@jupyter-widgets/controls",
            "_model_module_version": "1.5.0",
            "_model_name": "DescriptionStyleModel",
            "_view_count": null,
            "_view_module": "@jupyter-widgets/base",
            "_view_module_version": "1.2.0",
            "_view_name": "StyleView",
            "description_width": ""
          }
        },
        "cd4616344c224c7b95a9f47f5248882a": {
          "model_module": "@jupyter-widgets/controls",
          "model_module_version": "1.5.0",
          "model_name": "ProgressStyleModel",
          "state": {
            "_model_module": "@jupyter-widgets/controls",
            "_model_module_version": "1.5.0",
            "_model_name": "ProgressStyleModel",
            "_view_count": null,
            "_view_module": "@jupyter-widgets/base",
            "_view_module_version": "1.2.0",
            "_view_name": "StyleView",
            "bar_color": null,
            "description_width": ""
          }
        },
        "d1aa1323da2f47caa2ca82ff6d5d9a9e": {
          "model_module": "@jupyter-widgets/controls",
          "model_module_version": "1.5.0",
          "model_name": "DescriptionStyleModel",
          "state": {
            "_model_module": "@jupyter-widgets/controls",
            "_model_module_version": "1.5.0",
            "_model_name": "DescriptionStyleModel",
            "_view_count": null,
            "_view_module": "@jupyter-widgets/base",
            "_view_module_version": "1.2.0",
            "_view_name": "StyleView",
            "description_width": ""
          }
        },
        "d7f858080c24449c858d0be01d465788": {
          "model_module": "@jupyter-widgets/base",
          "model_module_version": "1.2.0",
          "model_name": "LayoutModel",
          "state": {
            "_model_module": "@jupyter-widgets/base",
            "_model_module_version": "1.2.0",
            "_model_name": "LayoutModel",
            "_view_count": null,
            "_view_module": "@jupyter-widgets/base",
            "_view_module_version": "1.2.0",
            "_view_name": "LayoutView",
            "align_content": null,
            "align_items": null,
            "align_self": null,
            "border": null,
            "bottom": null,
            "display": null,
            "flex": null,
            "flex_flow": null,
            "grid_area": null,
            "grid_auto_columns": null,
            "grid_auto_flow": null,
            "grid_auto_rows": null,
            "grid_column": null,
            "grid_gap": null,
            "grid_row": null,
            "grid_template_areas": null,
            "grid_template_columns": null,
            "grid_template_rows": null,
            "height": null,
            "justify_content": null,
            "justify_items": null,
            "left": null,
            "margin": null,
            "max_height": null,
            "max_width": null,
            "min_height": null,
            "min_width": null,
            "object_fit": null,
            "object_position": null,
            "order": null,
            "overflow": null,
            "overflow_x": null,
            "overflow_y": null,
            "padding": null,
            "right": null,
            "top": null,
            "visibility": null,
            "width": null
          }
        },
        "dca1dcece5c24050ab7289cf7e6d8e4e": {
          "model_module": "@jupyter-widgets/base",
          "model_module_version": "1.2.0",
          "model_name": "LayoutModel",
          "state": {
            "_model_module": "@jupyter-widgets/base",
            "_model_module_version": "1.2.0",
            "_model_name": "LayoutModel",
            "_view_count": null,
            "_view_module": "@jupyter-widgets/base",
            "_view_module_version": "1.2.0",
            "_view_name": "LayoutView",
            "align_content": null,
            "align_items": null,
            "align_self": null,
            "border": null,
            "bottom": null,
            "display": null,
            "flex": null,
            "flex_flow": null,
            "grid_area": null,
            "grid_auto_columns": null,
            "grid_auto_flow": null,
            "grid_auto_rows": null,
            "grid_column": null,
            "grid_gap": null,
            "grid_row": null,
            "grid_template_areas": null,
            "grid_template_columns": null,
            "grid_template_rows": null,
            "height": null,
            "justify_content": null,
            "justify_items": null,
            "left": null,
            "margin": null,
            "max_height": null,
            "max_width": null,
            "min_height": null,
            "min_width": null,
            "object_fit": null,
            "object_position": null,
            "order": null,
            "overflow": null,
            "overflow_x": null,
            "overflow_y": null,
            "padding": null,
            "right": null,
            "top": null,
            "visibility": null,
            "width": null
          }
        },
        "e5d7146cad0e46909bf4983564e99180": {
          "model_module": "@jupyter-widgets/base",
          "model_module_version": "1.2.0",
          "model_name": "LayoutModel",
          "state": {
            "_model_module": "@jupyter-widgets/base",
            "_model_module_version": "1.2.0",
            "_model_name": "LayoutModel",
            "_view_count": null,
            "_view_module": "@jupyter-widgets/base",
            "_view_module_version": "1.2.0",
            "_view_name": "LayoutView",
            "align_content": null,
            "align_items": null,
            "align_self": null,
            "border": null,
            "bottom": null,
            "display": null,
            "flex": null,
            "flex_flow": null,
            "grid_area": null,
            "grid_auto_columns": null,
            "grid_auto_flow": null,
            "grid_auto_rows": null,
            "grid_column": null,
            "grid_gap": null,
            "grid_row": null,
            "grid_template_areas": null,
            "grid_template_columns": null,
            "grid_template_rows": null,
            "height": null,
            "justify_content": null,
            "justify_items": null,
            "left": null,
            "margin": null,
            "max_height": null,
            "max_width": null,
            "min_height": null,
            "min_width": null,
            "object_fit": null,
            "object_position": null,
            "order": null,
            "overflow": null,
            "overflow_x": null,
            "overflow_y": null,
            "padding": null,
            "right": null,
            "top": null,
            "visibility": null,
            "width": null
          }
        },
        "ef29f516dae94223aeac7321d762b58b": {
          "model_module": "@jupyter-widgets/controls",
          "model_module_version": "1.5.0",
          "model_name": "HBoxModel",
          "state": {
            "_dom_classes": [],
            "_model_module": "@jupyter-widgets/controls",
            "_model_module_version": "1.5.0",
            "_model_name": "HBoxModel",
            "_view_count": null,
            "_view_module": "@jupyter-widgets/controls",
            "_view_module_version": "1.5.0",
            "_view_name": "HBoxView",
            "box_style": "",
            "children": [
              "IPY_MODEL_760b62311d7b4877857aab949b05e59c",
              "IPY_MODEL_03fc6af08a6c4e04a3a4338ca0efe811",
              "IPY_MODEL_a7a7249ebaac4af68d410c822199f69e"
            ],
            "layout": "IPY_MODEL_73caf5028d594908a87ae38a7ee6dc01"
          }
        },
        "fcf30f1d38c74b22af52b83b19583752": {
          "model_module": "@jupyter-widgets/controls",
          "model_module_version": "1.5.0",
          "model_name": "ToggleButtonsModel",
          "state": {
            "_dom_classes": [],
            "_model_module": "@jupyter-widgets/controls",
            "_model_module_version": "1.5.0",
            "_model_name": "ToggleButtonsModel",
            "_options_labels": [
              "Pipeline Plot",
              "Hyperparameters",
              "AUC",
              "Confusion Matrix",
              "Threshold",
              "Precision Recall",
              "Prediction Error",
              "Class Report",
              "Feature Selection",
              "Learning Curve",
              "Manifold Learning",
              "Calibration Curve",
              "Validation Curve",
              "Dimensions",
              "Feature Importance",
              "Feature Importance (All)",
              "Decision Boundary",
              "Lift Chart",
              "Gain Chart",
              "Decision Tree",
              "KS Statistic Plot"
            ],
            "_view_count": null,
            "_view_module": "@jupyter-widgets/controls",
            "_view_module_version": "1.5.0",
            "_view_name": "ToggleButtonsView",
            "button_style": "",
            "description": "Plot Type:",
            "description_tooltip": null,
            "disabled": false,
            "icons": [
              ""
            ],
            "index": 0,
            "layout": "IPY_MODEL_a0c1a8efddd544129a05ee267c6a3aec",
            "style": "IPY_MODEL_9add5fd80d394035a69ecfd63f5899bb",
            "tooltips": []
          }
        }
      }
    }
  },
  "nbformat": 4,
  "nbformat_minor": 0
}
