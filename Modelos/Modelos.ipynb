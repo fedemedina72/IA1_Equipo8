{
  "nbformat": 4,
  "nbformat_minor": 0,
  "metadata": {
    "colab": {
      "provenance": []
    },
    "kernelspec": {
      "name": "python3",
      "display_name": "Python 3"
    },
    "language_info": {
      "name": "python"
    },
    "widgets": {
      "application/vnd.jupyter.widget-state+json": {
        "81154704ccc24e0ab487da5d2cb3d2df": {
          "model_module": "@jupyter-widgets/controls",
          "model_name": "HBoxModel",
          "model_module_version": "1.5.0",
          "state": {
            "_dom_classes": [],
            "_model_module": "@jupyter-widgets/controls",
            "_model_module_version": "1.5.0",
            "_model_name": "HBoxModel",
            "_view_count": null,
            "_view_module": "@jupyter-widgets/controls",
            "_view_module_version": "1.5.0",
            "_view_name": "HBoxView",
            "box_style": "",
            "children": [
              "IPY_MODEL_086dfd6ce37845e1ad0431f52826c4f8",
              "IPY_MODEL_58821fffce1c4e98998368845922659e",
              "IPY_MODEL_7e2184df5b0840aca7cdb28300bc4ada"
            ],
            "layout": "IPY_MODEL_1f798ed1c3dd45ad85263e25c01547d5"
          }
        },
        "086dfd6ce37845e1ad0431f52826c4f8": {
          "model_module": "@jupyter-widgets/controls",
          "model_name": "HTMLModel",
          "model_module_version": "1.5.0",
          "state": {
            "_dom_classes": [],
            "_model_module": "@jupyter-widgets/controls",
            "_model_module_version": "1.5.0",
            "_model_name": "HTMLModel",
            "_view_count": null,
            "_view_module": "@jupyter-widgets/controls",
            "_view_module_version": "1.5.0",
            "_view_name": "HTMLView",
            "description": "",
            "description_tooltip": null,
            "layout": "IPY_MODEL_79dd563b1e364c1cbdc6f4f19f9d9b17",
            "placeholder": "​",
            "style": "IPY_MODEL_faf946d6d48d49a8ad9ddd7dc4c57fd3",
            "value": "Processing: 100%"
          }
        },
        "58821fffce1c4e98998368845922659e": {
          "model_module": "@jupyter-widgets/controls",
          "model_name": "FloatProgressModel",
          "model_module_version": "1.5.0",
          "state": {
            "_dom_classes": [],
            "_model_module": "@jupyter-widgets/controls",
            "_model_module_version": "1.5.0",
            "_model_name": "FloatProgressModel",
            "_view_count": null,
            "_view_module": "@jupyter-widgets/controls",
            "_view_module_version": "1.5.0",
            "_view_name": "ProgressView",
            "bar_style": "",
            "description": "",
            "description_tooltip": null,
            "layout": "IPY_MODEL_39f374e4edae40f5ab83014ab0e8062f",
            "max": 65,
            "min": 0,
            "orientation": "horizontal",
            "style": "IPY_MODEL_0fb408d87fd543a79ede8f2d9b29b72c",
            "value": 65
          }
        },
        "7e2184df5b0840aca7cdb28300bc4ada": {
          "model_module": "@jupyter-widgets/controls",
          "model_name": "HTMLModel",
          "model_module_version": "1.5.0",
          "state": {
            "_dom_classes": [],
            "_model_module": "@jupyter-widgets/controls",
            "_model_module_version": "1.5.0",
            "_model_name": "HTMLModel",
            "_view_count": null,
            "_view_module": "@jupyter-widgets/controls",
            "_view_module_version": "1.5.0",
            "_view_name": "HTMLView",
            "description": "",
            "description_tooltip": null,
            "layout": "IPY_MODEL_c7d4d265b8f04fd186a3f4b08fbeaaae",
            "placeholder": "​",
            "style": "IPY_MODEL_a3212836d648498ca931db3aefe11e48",
            "value": " 65/65 [00:43&lt;00:00,  3.77it/s]"
          }
        },
        "1f798ed1c3dd45ad85263e25c01547d5": {
          "model_module": "@jupyter-widgets/base",
          "model_name": "LayoutModel",
          "model_module_version": "1.2.0",
          "state": {
            "_model_module": "@jupyter-widgets/base",
            "_model_module_version": "1.2.0",
            "_model_name": "LayoutModel",
            "_view_count": null,
            "_view_module": "@jupyter-widgets/base",
            "_view_module_version": "1.2.0",
            "_view_name": "LayoutView",
            "align_content": null,
            "align_items": null,
            "align_self": null,
            "border": null,
            "bottom": null,
            "display": null,
            "flex": null,
            "flex_flow": null,
            "grid_area": null,
            "grid_auto_columns": null,
            "grid_auto_flow": null,
            "grid_auto_rows": null,
            "grid_column": null,
            "grid_gap": null,
            "grid_row": null,
            "grid_template_areas": null,
            "grid_template_columns": null,
            "grid_template_rows": null,
            "height": null,
            "justify_content": null,
            "justify_items": null,
            "left": null,
            "margin": null,
            "max_height": null,
            "max_width": null,
            "min_height": null,
            "min_width": null,
            "object_fit": null,
            "object_position": null,
            "order": null,
            "overflow": null,
            "overflow_x": null,
            "overflow_y": null,
            "padding": null,
            "right": null,
            "top": null,
            "visibility": "hidden",
            "width": null
          }
        },
        "79dd563b1e364c1cbdc6f4f19f9d9b17": {
          "model_module": "@jupyter-widgets/base",
          "model_name": "LayoutModel",
          "model_module_version": "1.2.0",
          "state": {
            "_model_module": "@jupyter-widgets/base",
            "_model_module_version": "1.2.0",
            "_model_name": "LayoutModel",
            "_view_count": null,
            "_view_module": "@jupyter-widgets/base",
            "_view_module_version": "1.2.0",
            "_view_name": "LayoutView",
            "align_content": null,
            "align_items": null,
            "align_self": null,
            "border": null,
            "bottom": null,
            "display": null,
            "flex": null,
            "flex_flow": null,
            "grid_area": null,
            "grid_auto_columns": null,
            "grid_auto_flow": null,
            "grid_auto_rows": null,
            "grid_column": null,
            "grid_gap": null,
            "grid_row": null,
            "grid_template_areas": null,
            "grid_template_columns": null,
            "grid_template_rows": null,
            "height": null,
            "justify_content": null,
            "justify_items": null,
            "left": null,
            "margin": null,
            "max_height": null,
            "max_width": null,
            "min_height": null,
            "min_width": null,
            "object_fit": null,
            "object_position": null,
            "order": null,
            "overflow": null,
            "overflow_x": null,
            "overflow_y": null,
            "padding": null,
            "right": null,
            "top": null,
            "visibility": null,
            "width": null
          }
        },
        "faf946d6d48d49a8ad9ddd7dc4c57fd3": {
          "model_module": "@jupyter-widgets/controls",
          "model_name": "DescriptionStyleModel",
          "model_module_version": "1.5.0",
          "state": {
            "_model_module": "@jupyter-widgets/controls",
            "_model_module_version": "1.5.0",
            "_model_name": "DescriptionStyleModel",
            "_view_count": null,
            "_view_module": "@jupyter-widgets/base",
            "_view_module_version": "1.2.0",
            "_view_name": "StyleView",
            "description_width": ""
          }
        },
        "39f374e4edae40f5ab83014ab0e8062f": {
          "model_module": "@jupyter-widgets/base",
          "model_name": "LayoutModel",
          "model_module_version": "1.2.0",
          "state": {
            "_model_module": "@jupyter-widgets/base",
            "_model_module_version": "1.2.0",
            "_model_name": "LayoutModel",
            "_view_count": null,
            "_view_module": "@jupyter-widgets/base",
            "_view_module_version": "1.2.0",
            "_view_name": "LayoutView",
            "align_content": null,
            "align_items": null,
            "align_self": null,
            "border": null,
            "bottom": null,
            "display": null,
            "flex": null,
            "flex_flow": null,
            "grid_area": null,
            "grid_auto_columns": null,
            "grid_auto_flow": null,
            "grid_auto_rows": null,
            "grid_column": null,
            "grid_gap": null,
            "grid_row": null,
            "grid_template_areas": null,
            "grid_template_columns": null,
            "grid_template_rows": null,
            "height": null,
            "justify_content": null,
            "justify_items": null,
            "left": null,
            "margin": null,
            "max_height": null,
            "max_width": null,
            "min_height": null,
            "min_width": null,
            "object_fit": null,
            "object_position": null,
            "order": null,
            "overflow": null,
            "overflow_x": null,
            "overflow_y": null,
            "padding": null,
            "right": null,
            "top": null,
            "visibility": null,
            "width": null
          }
        },
        "0fb408d87fd543a79ede8f2d9b29b72c": {
          "model_module": "@jupyter-widgets/controls",
          "model_name": "ProgressStyleModel",
          "model_module_version": "1.5.0",
          "state": {
            "_model_module": "@jupyter-widgets/controls",
            "_model_module_version": "1.5.0",
            "_model_name": "ProgressStyleModel",
            "_view_count": null,
            "_view_module": "@jupyter-widgets/base",
            "_view_module_version": "1.2.0",
            "_view_name": "StyleView",
            "bar_color": null,
            "description_width": ""
          }
        },
        "c7d4d265b8f04fd186a3f4b08fbeaaae": {
          "model_module": "@jupyter-widgets/base",
          "model_name": "LayoutModel",
          "model_module_version": "1.2.0",
          "state": {
            "_model_module": "@jupyter-widgets/base",
            "_model_module_version": "1.2.0",
            "_model_name": "LayoutModel",
            "_view_count": null,
            "_view_module": "@jupyter-widgets/base",
            "_view_module_version": "1.2.0",
            "_view_name": "LayoutView",
            "align_content": null,
            "align_items": null,
            "align_self": null,
            "border": null,
            "bottom": null,
            "display": null,
            "flex": null,
            "flex_flow": null,
            "grid_area": null,
            "grid_auto_columns": null,
            "grid_auto_flow": null,
            "grid_auto_rows": null,
            "grid_column": null,
            "grid_gap": null,
            "grid_row": null,
            "grid_template_areas": null,
            "grid_template_columns": null,
            "grid_template_rows": null,
            "height": null,
            "justify_content": null,
            "justify_items": null,
            "left": null,
            "margin": null,
            "max_height": null,
            "max_width": null,
            "min_height": null,
            "min_width": null,
            "object_fit": null,
            "object_position": null,
            "order": null,
            "overflow": null,
            "overflow_x": null,
            "overflow_y": null,
            "padding": null,
            "right": null,
            "top": null,
            "visibility": null,
            "width": null
          }
        },
        "a3212836d648498ca931db3aefe11e48": {
          "model_module": "@jupyter-widgets/controls",
          "model_name": "DescriptionStyleModel",
          "model_module_version": "1.5.0",
          "state": {
            "_model_module": "@jupyter-widgets/controls",
            "_model_module_version": "1.5.0",
            "_model_name": "DescriptionStyleModel",
            "_view_count": null,
            "_view_module": "@jupyter-widgets/base",
            "_view_module_version": "1.2.0",
            "_view_name": "StyleView",
            "description_width": ""
          }
        },
        "9597ff16f8224ea8965e8fa20c0bcfda": {
          "model_module": "@jupyter-widgets/controls",
          "model_name": "VBoxModel",
          "model_module_version": "1.5.0",
          "state": {
            "_dom_classes": [
              "widget-interact"
            ],
            "_model_module": "@jupyter-widgets/controls",
            "_model_module_version": "1.5.0",
            "_model_name": "VBoxModel",
            "_view_count": null,
            "_view_module": "@jupyter-widgets/controls",
            "_view_module_version": "1.5.0",
            "_view_name": "VBoxView",
            "box_style": "",
            "children": [
              "IPY_MODEL_6f9d4e1e4ab545329e5ced4314f3926e",
              "IPY_MODEL_9ecef1f9cfde48d98ffb116b4651e763"
            ],
            "layout": "IPY_MODEL_8ed22e7929174c908e6ef50a64725bfc"
          }
        },
        "6f9d4e1e4ab545329e5ced4314f3926e": {
          "model_module": "@jupyter-widgets/controls",
          "model_name": "ToggleButtonsModel",
          "model_module_version": "1.5.0",
          "state": {
            "_dom_classes": [],
            "_model_module": "@jupyter-widgets/controls",
            "_model_module_version": "1.5.0",
            "_model_name": "ToggleButtonsModel",
            "_options_labels": [
              "Pipeline Plot",
              "Hyperparameters",
              "AUC",
              "Confusion Matrix",
              "Threshold",
              "Precision Recall",
              "Prediction Error",
              "Class Report",
              "Feature Selection",
              "Learning Curve",
              "Manifold Learning",
              "Calibration Curve",
              "Validation Curve",
              "Dimensions",
              "Feature Importance",
              "Feature Importance (All)",
              "Decision Boundary",
              "Lift Chart",
              "Gain Chart",
              "Decision Tree",
              "KS Statistic Plot"
            ],
            "_view_count": null,
            "_view_module": "@jupyter-widgets/controls",
            "_view_module_version": "1.5.0",
            "_view_name": "ToggleButtonsView",
            "button_style": "",
            "description": "Plot Type:",
            "description_tooltip": null,
            "disabled": false,
            "icons": [
              ""
            ],
            "index": 0,
            "layout": "IPY_MODEL_9bde21945269459e8cdd4c4d89c355e9",
            "style": "IPY_MODEL_e196d6a2512845d482539390db437f29",
            "tooltips": []
          }
        },
        "9ecef1f9cfde48d98ffb116b4651e763": {
          "model_module": "@jupyter-widgets/output",
          "model_name": "OutputModel",
          "model_module_version": "1.0.0",
          "state": {
            "_dom_classes": [],
            "_model_module": "@jupyter-widgets/output",
            "_model_module_version": "1.0.0",
            "_model_name": "OutputModel",
            "_view_count": null,
            "_view_module": "@jupyter-widgets/output",
            "_view_module_version": "1.0.0",
            "_view_name": "OutputView",
            "layout": "IPY_MODEL_306f54f3a3424e85a2437b48c83834f6",
            "msg_id": "",
            "outputs": [
              {
                "output_type": "display_data",
                "data": {
                  "text/plain": "<Figure size 1200x600 with 1 Axes>",
                  "image/png": "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\n"
                },
                "metadata": {}
              }
            ]
          }
        },
        "8ed22e7929174c908e6ef50a64725bfc": {
          "model_module": "@jupyter-widgets/base",
          "model_name": "LayoutModel",
          "model_module_version": "1.2.0",
          "state": {
            "_model_module": "@jupyter-widgets/base",
            "_model_module_version": "1.2.0",
            "_model_name": "LayoutModel",
            "_view_count": null,
            "_view_module": "@jupyter-widgets/base",
            "_view_module_version": "1.2.0",
            "_view_name": "LayoutView",
            "align_content": null,
            "align_items": null,
            "align_self": null,
            "border": null,
            "bottom": null,
            "display": null,
            "flex": null,
            "flex_flow": null,
            "grid_area": null,
            "grid_auto_columns": null,
            "grid_auto_flow": null,
            "grid_auto_rows": null,
            "grid_column": null,
            "grid_gap": null,
            "grid_row": null,
            "grid_template_areas": null,
            "grid_template_columns": null,
            "grid_template_rows": null,
            "height": null,
            "justify_content": null,
            "justify_items": null,
            "left": null,
            "margin": null,
            "max_height": null,
            "max_width": null,
            "min_height": null,
            "min_width": null,
            "object_fit": null,
            "object_position": null,
            "order": null,
            "overflow": null,
            "overflow_x": null,
            "overflow_y": null,
            "padding": null,
            "right": null,
            "top": null,
            "visibility": null,
            "width": null
          }
        },
        "9bde21945269459e8cdd4c4d89c355e9": {
          "model_module": "@jupyter-widgets/base",
          "model_name": "LayoutModel",
          "model_module_version": "1.2.0",
          "state": {
            "_model_module": "@jupyter-widgets/base",
            "_model_module_version": "1.2.0",
            "_model_name": "LayoutModel",
            "_view_count": null,
            "_view_module": "@jupyter-widgets/base",
            "_view_module_version": "1.2.0",
            "_view_name": "LayoutView",
            "align_content": null,
            "align_items": null,
            "align_self": null,
            "border": null,
            "bottom": null,
            "display": null,
            "flex": null,
            "flex_flow": null,
            "grid_area": null,
            "grid_auto_columns": null,
            "grid_auto_flow": null,
            "grid_auto_rows": null,
            "grid_column": null,
            "grid_gap": null,
            "grid_row": null,
            "grid_template_areas": null,
            "grid_template_columns": null,
            "grid_template_rows": null,
            "height": null,
            "justify_content": null,
            "justify_items": null,
            "left": null,
            "margin": null,
            "max_height": null,
            "max_width": null,
            "min_height": null,
            "min_width": null,
            "object_fit": null,
            "object_position": null,
            "order": null,
            "overflow": null,
            "overflow_x": null,
            "overflow_y": null,
            "padding": null,
            "right": null,
            "top": null,
            "visibility": null,
            "width": null
          }
        },
        "e196d6a2512845d482539390db437f29": {
          "model_module": "@jupyter-widgets/controls",
          "model_name": "ToggleButtonsStyleModel",
          "model_module_version": "1.5.0",
          "state": {
            "_model_module": "@jupyter-widgets/controls",
            "_model_module_version": "1.5.0",
            "_model_name": "ToggleButtonsStyleModel",
            "_view_count": null,
            "_view_module": "@jupyter-widgets/base",
            "_view_module_version": "1.2.0",
            "_view_name": "StyleView",
            "button_width": "",
            "description_width": "",
            "font_weight": ""
          }
        },
        "306f54f3a3424e85a2437b48c83834f6": {
          "model_module": "@jupyter-widgets/base",
          "model_name": "LayoutModel",
          "model_module_version": "1.2.0",
          "state": {
            "_model_module": "@jupyter-widgets/base",
            "_model_module_version": "1.2.0",
            "_model_name": "LayoutModel",
            "_view_count": null,
            "_view_module": "@jupyter-widgets/base",
            "_view_module_version": "1.2.0",
            "_view_name": "LayoutView",
            "align_content": null,
            "align_items": null,
            "align_self": null,
            "border": null,
            "bottom": null,
            "display": null,
            "flex": null,
            "flex_flow": null,
            "grid_area": null,
            "grid_auto_columns": null,
            "grid_auto_flow": null,
            "grid_auto_rows": null,
            "grid_column": null,
            "grid_gap": null,
            "grid_row": null,
            "grid_template_areas": null,
            "grid_template_columns": null,
            "grid_template_rows": null,
            "height": null,
            "justify_content": null,
            "justify_items": null,
            "left": null,
            "margin": null,
            "max_height": null,
            "max_width": null,
            "min_height": null,
            "min_width": null,
            "object_fit": null,
            "object_position": null,
            "order": null,
            "overflow": null,
            "overflow_x": null,
            "overflow_y": null,
            "padding": null,
            "right": null,
            "top": null,
            "visibility": null,
            "width": null
          }
        },
        "74c71dee122f4882807b0099d51739d8": {
          "model_module": "@jupyter-widgets/controls",
          "model_name": "HBoxModel",
          "model_module_version": "1.5.0",
          "state": {
            "_dom_classes": [],
            "_model_module": "@jupyter-widgets/controls",
            "_model_module_version": "1.5.0",
            "_model_name": "HBoxModel",
            "_view_count": null,
            "_view_module": "@jupyter-widgets/controls",
            "_view_module_version": "1.5.0",
            "_view_name": "HBoxView",
            "box_style": "",
            "children": [
              "IPY_MODEL_9b16fcc482bc4c86a9a05e7f1301d042",
              "IPY_MODEL_e73ac163d62a40928ba0a9852d5292f5",
              "IPY_MODEL_ec942cd762cc4735aa5db7af9f9d1fc0"
            ],
            "layout": "IPY_MODEL_5a8049b0b69740ca93acf1933d894144"
          }
        },
        "9b16fcc482bc4c86a9a05e7f1301d042": {
          "model_module": "@jupyter-widgets/controls",
          "model_name": "HTMLModel",
          "model_module_version": "1.5.0",
          "state": {
            "_dom_classes": [],
            "_model_module": "@jupyter-widgets/controls",
            "_model_module_version": "1.5.0",
            "_model_name": "HTMLModel",
            "_view_count": null,
            "_view_module": "@jupyter-widgets/controls",
            "_view_module_version": "1.5.0",
            "_view_name": "HTMLView",
            "description": "",
            "description_tooltip": null,
            "layout": "IPY_MODEL_b727d042a0a1427e9524fbf2f2e681f5",
            "placeholder": "​",
            "style": "IPY_MODEL_119b877747be496cb60dcbbc784aa75a",
            "value": "Processing: 100%"
          }
        },
        "e73ac163d62a40928ba0a9852d5292f5": {
          "model_module": "@jupyter-widgets/controls",
          "model_name": "FloatProgressModel",
          "model_module_version": "1.5.0",
          "state": {
            "_dom_classes": [],
            "_model_module": "@jupyter-widgets/controls",
            "_model_module_version": "1.5.0",
            "_model_name": "FloatProgressModel",
            "_view_count": null,
            "_view_module": "@jupyter-widgets/controls",
            "_view_module_version": "1.5.0",
            "_view_name": "ProgressView",
            "bar_style": "",
            "description": "",
            "description_tooltip": null,
            "layout": "IPY_MODEL_7b16de2440a94029b662f57f706915f9",
            "max": 65,
            "min": 0,
            "orientation": "horizontal",
            "style": "IPY_MODEL_6d14b14881634c0e98457a584ca8440d",
            "value": 65
          }
        },
        "ec942cd762cc4735aa5db7af9f9d1fc0": {
          "model_module": "@jupyter-widgets/controls",
          "model_name": "HTMLModel",
          "model_module_version": "1.5.0",
          "state": {
            "_dom_classes": [],
            "_model_module": "@jupyter-widgets/controls",
            "_model_module_version": "1.5.0",
            "_model_name": "HTMLModel",
            "_view_count": null,
            "_view_module": "@jupyter-widgets/controls",
            "_view_module_version": "1.5.0",
            "_view_name": "HTMLView",
            "description": "",
            "description_tooltip": null,
            "layout": "IPY_MODEL_d69076f8a0c742aaaf0a9b3212bd7d4e",
            "placeholder": "​",
            "style": "IPY_MODEL_42473e4845384a149c44d2fccbb36af2",
            "value": " 65/65 [00:25&lt;00:00,  3.58it/s]"
          }
        },
        "5a8049b0b69740ca93acf1933d894144": {
          "model_module": "@jupyter-widgets/base",
          "model_name": "LayoutModel",
          "model_module_version": "1.2.0",
          "state": {
            "_model_module": "@jupyter-widgets/base",
            "_model_module_version": "1.2.0",
            "_model_name": "LayoutModel",
            "_view_count": null,
            "_view_module": "@jupyter-widgets/base",
            "_view_module_version": "1.2.0",
            "_view_name": "LayoutView",
            "align_content": null,
            "align_items": null,
            "align_self": null,
            "border": null,
            "bottom": null,
            "display": null,
            "flex": null,
            "flex_flow": null,
            "grid_area": null,
            "grid_auto_columns": null,
            "grid_auto_flow": null,
            "grid_auto_rows": null,
            "grid_column": null,
            "grid_gap": null,
            "grid_row": null,
            "grid_template_areas": null,
            "grid_template_columns": null,
            "grid_template_rows": null,
            "height": null,
            "justify_content": null,
            "justify_items": null,
            "left": null,
            "margin": null,
            "max_height": null,
            "max_width": null,
            "min_height": null,
            "min_width": null,
            "object_fit": null,
            "object_position": null,
            "order": null,
            "overflow": null,
            "overflow_x": null,
            "overflow_y": null,
            "padding": null,
            "right": null,
            "top": null,
            "visibility": "hidden",
            "width": null
          }
        },
        "b727d042a0a1427e9524fbf2f2e681f5": {
          "model_module": "@jupyter-widgets/base",
          "model_name": "LayoutModel",
          "model_module_version": "1.2.0",
          "state": {
            "_model_module": "@jupyter-widgets/base",
            "_model_module_version": "1.2.0",
            "_model_name": "LayoutModel",
            "_view_count": null,
            "_view_module": "@jupyter-widgets/base",
            "_view_module_version": "1.2.0",
            "_view_name": "LayoutView",
            "align_content": null,
            "align_items": null,
            "align_self": null,
            "border": null,
            "bottom": null,
            "display": null,
            "flex": null,
            "flex_flow": null,
            "grid_area": null,
            "grid_auto_columns": null,
            "grid_auto_flow": null,
            "grid_auto_rows": null,
            "grid_column": null,
            "grid_gap": null,
            "grid_row": null,
            "grid_template_areas": null,
            "grid_template_columns": null,
            "grid_template_rows": null,
            "height": null,
            "justify_content": null,
            "justify_items": null,
            "left": null,
            "margin": null,
            "max_height": null,
            "max_width": null,
            "min_height": null,
            "min_width": null,
            "object_fit": null,
            "object_position": null,
            "order": null,
            "overflow": null,
            "overflow_x": null,
            "overflow_y": null,
            "padding": null,
            "right": null,
            "top": null,
            "visibility": null,
            "width": null
          }
        },
        "119b877747be496cb60dcbbc784aa75a": {
          "model_module": "@jupyter-widgets/controls",
          "model_name": "DescriptionStyleModel",
          "model_module_version": "1.5.0",
          "state": {
            "_model_module": "@jupyter-widgets/controls",
            "_model_module_version": "1.5.0",
            "_model_name": "DescriptionStyleModel",
            "_view_count": null,
            "_view_module": "@jupyter-widgets/base",
            "_view_module_version": "1.2.0",
            "_view_name": "StyleView",
            "description_width": ""
          }
        },
        "7b16de2440a94029b662f57f706915f9": {
          "model_module": "@jupyter-widgets/base",
          "model_name": "LayoutModel",
          "model_module_version": "1.2.0",
          "state": {
            "_model_module": "@jupyter-widgets/base",
            "_model_module_version": "1.2.0",
            "_model_name": "LayoutModel",
            "_view_count": null,
            "_view_module": "@jupyter-widgets/base",
            "_view_module_version": "1.2.0",
            "_view_name": "LayoutView",
            "align_content": null,
            "align_items": null,
            "align_self": null,
            "border": null,
            "bottom": null,
            "display": null,
            "flex": null,
            "flex_flow": null,
            "grid_area": null,
            "grid_auto_columns": null,
            "grid_auto_flow": null,
            "grid_auto_rows": null,
            "grid_column": null,
            "grid_gap": null,
            "grid_row": null,
            "grid_template_areas": null,
            "grid_template_columns": null,
            "grid_template_rows": null,
            "height": null,
            "justify_content": null,
            "justify_items": null,
            "left": null,
            "margin": null,
            "max_height": null,
            "max_width": null,
            "min_height": null,
            "min_width": null,
            "object_fit": null,
            "object_position": null,
            "order": null,
            "overflow": null,
            "overflow_x": null,
            "overflow_y": null,
            "padding": null,
            "right": null,
            "top": null,
            "visibility": null,
            "width": null
          }
        },
        "6d14b14881634c0e98457a584ca8440d": {
          "model_module": "@jupyter-widgets/controls",
          "model_name": "ProgressStyleModel",
          "model_module_version": "1.5.0",
          "state": {
            "_model_module": "@jupyter-widgets/controls",
            "_model_module_version": "1.5.0",
            "_model_name": "ProgressStyleModel",
            "_view_count": null,
            "_view_module": "@jupyter-widgets/base",
            "_view_module_version": "1.2.0",
            "_view_name": "StyleView",
            "bar_color": null,
            "description_width": ""
          }
        },
        "d69076f8a0c742aaaf0a9b3212bd7d4e": {
          "model_module": "@jupyter-widgets/base",
          "model_name": "LayoutModel",
          "model_module_version": "1.2.0",
          "state": {
            "_model_module": "@jupyter-widgets/base",
            "_model_module_version": "1.2.0",
            "_model_name": "LayoutModel",
            "_view_count": null,
            "_view_module": "@jupyter-widgets/base",
            "_view_module_version": "1.2.0",
            "_view_name": "LayoutView",
            "align_content": null,
            "align_items": null,
            "align_self": null,
            "border": null,
            "bottom": null,
            "display": null,
            "flex": null,
            "flex_flow": null,
            "grid_area": null,
            "grid_auto_columns": null,
            "grid_auto_flow": null,
            "grid_auto_rows": null,
            "grid_column": null,
            "grid_gap": null,
            "grid_row": null,
            "grid_template_areas": null,
            "grid_template_columns": null,
            "grid_template_rows": null,
            "height": null,
            "justify_content": null,
            "justify_items": null,
            "left": null,
            "margin": null,
            "max_height": null,
            "max_width": null,
            "min_height": null,
            "min_width": null,
            "object_fit": null,
            "object_position": null,
            "order": null,
            "overflow": null,
            "overflow_x": null,
            "overflow_y": null,
            "padding": null,
            "right": null,
            "top": null,
            "visibility": null,
            "width": null
          }
        },
        "42473e4845384a149c44d2fccbb36af2": {
          "model_module": "@jupyter-widgets/controls",
          "model_name": "DescriptionStyleModel",
          "model_module_version": "1.5.0",
          "state": {
            "_model_module": "@jupyter-widgets/controls",
            "_model_module_version": "1.5.0",
            "_model_name": "DescriptionStyleModel",
            "_view_count": null,
            "_view_module": "@jupyter-widgets/base",
            "_view_module_version": "1.2.0",
            "_view_name": "StyleView",
            "description_width": ""
          }
        },
        "90889b129b9745b9935d1efd727e768b": {
          "model_module": "@jupyter-widgets/controls",
          "model_name": "HBoxModel",
          "model_module_version": "1.5.0",
          "state": {
            "_dom_classes": [],
            "_model_module": "@jupyter-widgets/controls",
            "_model_module_version": "1.5.0",
            "_model_name": "HBoxModel",
            "_view_count": null,
            "_view_module": "@jupyter-widgets/controls",
            "_view_module_version": "1.5.0",
            "_view_name": "HBoxView",
            "box_style": "",
            "children": [
              "IPY_MODEL_e00630ee42a54814bac57b1c3ead0653",
              "IPY_MODEL_58cc2c85ba7d48659091fe285ba4723a",
              "IPY_MODEL_3e656ff61abe47419b0e7e1a045c540f"
            ],
            "layout": "IPY_MODEL_1228299b1dd94b1688bad682af6dcd09"
          }
        },
        "e00630ee42a54814bac57b1c3ead0653": {
          "model_module": "@jupyter-widgets/controls",
          "model_name": "HTMLModel",
          "model_module_version": "1.5.0",
          "state": {
            "_dom_classes": [],
            "_model_module": "@jupyter-widgets/controls",
            "_model_module_version": "1.5.0",
            "_model_name": "HTMLModel",
            "_view_count": null,
            "_view_module": "@jupyter-widgets/controls",
            "_view_module_version": "1.5.0",
            "_view_name": "HTMLView",
            "description": "",
            "description_tooltip": null,
            "layout": "IPY_MODEL_4b592d37e8b341e8af9c3d23173ec126",
            "placeholder": "​",
            "style": "IPY_MODEL_16b67ee0e6824565880d1ec25310031b",
            "value": "Processing: 100%"
          }
        },
        "58cc2c85ba7d48659091fe285ba4723a": {
          "model_module": "@jupyter-widgets/controls",
          "model_name": "FloatProgressModel",
          "model_module_version": "1.5.0",
          "state": {
            "_dom_classes": [],
            "_model_module": "@jupyter-widgets/controls",
            "_model_module_version": "1.5.0",
            "_model_name": "FloatProgressModel",
            "_view_count": null,
            "_view_module": "@jupyter-widgets/controls",
            "_view_module_version": "1.5.0",
            "_view_name": "ProgressView",
            "bar_style": "",
            "description": "",
            "description_tooltip": null,
            "layout": "IPY_MODEL_32edbe666bcb4c6cb725a74391b69edb",
            "max": 65,
            "min": 0,
            "orientation": "horizontal",
            "style": "IPY_MODEL_13d7c68f06c743449a921184b5f9c579",
            "value": 65
          }
        },
        "3e656ff61abe47419b0e7e1a045c540f": {
          "model_module": "@jupyter-widgets/controls",
          "model_name": "HTMLModel",
          "model_module_version": "1.5.0",
          "state": {
            "_dom_classes": [],
            "_model_module": "@jupyter-widgets/controls",
            "_model_module_version": "1.5.0",
            "_model_name": "HTMLModel",
            "_view_count": null,
            "_view_module": "@jupyter-widgets/controls",
            "_view_module_version": "1.5.0",
            "_view_name": "HTMLView",
            "description": "",
            "description_tooltip": null,
            "layout": "IPY_MODEL_2c241fe7170148c08eda4269ac9da689",
            "placeholder": "​",
            "style": "IPY_MODEL_268696de1d4740a4b15201ce369610ee",
            "value": " 65/65 [00:28&lt;00:00,  2.49it/s]"
          }
        },
        "1228299b1dd94b1688bad682af6dcd09": {
          "model_module": "@jupyter-widgets/base",
          "model_name": "LayoutModel",
          "model_module_version": "1.2.0",
          "state": {
            "_model_module": "@jupyter-widgets/base",
            "_model_module_version": "1.2.0",
            "_model_name": "LayoutModel",
            "_view_count": null,
            "_view_module": "@jupyter-widgets/base",
            "_view_module_version": "1.2.0",
            "_view_name": "LayoutView",
            "align_content": null,
            "align_items": null,
            "align_self": null,
            "border": null,
            "bottom": null,
            "display": null,
            "flex": null,
            "flex_flow": null,
            "grid_area": null,
            "grid_auto_columns": null,
            "grid_auto_flow": null,
            "grid_auto_rows": null,
            "grid_column": null,
            "grid_gap": null,
            "grid_row": null,
            "grid_template_areas": null,
            "grid_template_columns": null,
            "grid_template_rows": null,
            "height": null,
            "justify_content": null,
            "justify_items": null,
            "left": null,
            "margin": null,
            "max_height": null,
            "max_width": null,
            "min_height": null,
            "min_width": null,
            "object_fit": null,
            "object_position": null,
            "order": null,
            "overflow": null,
            "overflow_x": null,
            "overflow_y": null,
            "padding": null,
            "right": null,
            "top": null,
            "visibility": "hidden",
            "width": null
          }
        },
        "4b592d37e8b341e8af9c3d23173ec126": {
          "model_module": "@jupyter-widgets/base",
          "model_name": "LayoutModel",
          "model_module_version": "1.2.0",
          "state": {
            "_model_module": "@jupyter-widgets/base",
            "_model_module_version": "1.2.0",
            "_model_name": "LayoutModel",
            "_view_count": null,
            "_view_module": "@jupyter-widgets/base",
            "_view_module_version": "1.2.0",
            "_view_name": "LayoutView",
            "align_content": null,
            "align_items": null,
            "align_self": null,
            "border": null,
            "bottom": null,
            "display": null,
            "flex": null,
            "flex_flow": null,
            "grid_area": null,
            "grid_auto_columns": null,
            "grid_auto_flow": null,
            "grid_auto_rows": null,
            "grid_column": null,
            "grid_gap": null,
            "grid_row": null,
            "grid_template_areas": null,
            "grid_template_columns": null,
            "grid_template_rows": null,
            "height": null,
            "justify_content": null,
            "justify_items": null,
            "left": null,
            "margin": null,
            "max_height": null,
            "max_width": null,
            "min_height": null,
            "min_width": null,
            "object_fit": null,
            "object_position": null,
            "order": null,
            "overflow": null,
            "overflow_x": null,
            "overflow_y": null,
            "padding": null,
            "right": null,
            "top": null,
            "visibility": null,
            "width": null
          }
        },
        "16b67ee0e6824565880d1ec25310031b": {
          "model_module": "@jupyter-widgets/controls",
          "model_name": "DescriptionStyleModel",
          "model_module_version": "1.5.0",
          "state": {
            "_model_module": "@jupyter-widgets/controls",
            "_model_module_version": "1.5.0",
            "_model_name": "DescriptionStyleModel",
            "_view_count": null,
            "_view_module": "@jupyter-widgets/base",
            "_view_module_version": "1.2.0",
            "_view_name": "StyleView",
            "description_width": ""
          }
        },
        "32edbe666bcb4c6cb725a74391b69edb": {
          "model_module": "@jupyter-widgets/base",
          "model_name": "LayoutModel",
          "model_module_version": "1.2.0",
          "state": {
            "_model_module": "@jupyter-widgets/base",
            "_model_module_version": "1.2.0",
            "_model_name": "LayoutModel",
            "_view_count": null,
            "_view_module": "@jupyter-widgets/base",
            "_view_module_version": "1.2.0",
            "_view_name": "LayoutView",
            "align_content": null,
            "align_items": null,
            "align_self": null,
            "border": null,
            "bottom": null,
            "display": null,
            "flex": null,
            "flex_flow": null,
            "grid_area": null,
            "grid_auto_columns": null,
            "grid_auto_flow": null,
            "grid_auto_rows": null,
            "grid_column": null,
            "grid_gap": null,
            "grid_row": null,
            "grid_template_areas": null,
            "grid_template_columns": null,
            "grid_template_rows": null,
            "height": null,
            "justify_content": null,
            "justify_items": null,
            "left": null,
            "margin": null,
            "max_height": null,
            "max_width": null,
            "min_height": null,
            "min_width": null,
            "object_fit": null,
            "object_position": null,
            "order": null,
            "overflow": null,
            "overflow_x": null,
            "overflow_y": null,
            "padding": null,
            "right": null,
            "top": null,
            "visibility": null,
            "width": null
          }
        },
        "13d7c68f06c743449a921184b5f9c579": {
          "model_module": "@jupyter-widgets/controls",
          "model_name": "ProgressStyleModel",
          "model_module_version": "1.5.0",
          "state": {
            "_model_module": "@jupyter-widgets/controls",
            "_model_module_version": "1.5.0",
            "_model_name": "ProgressStyleModel",
            "_view_count": null,
            "_view_module": "@jupyter-widgets/base",
            "_view_module_version": "1.2.0",
            "_view_name": "StyleView",
            "bar_color": null,
            "description_width": ""
          }
        },
        "2c241fe7170148c08eda4269ac9da689": {
          "model_module": "@jupyter-widgets/base",
          "model_name": "LayoutModel",
          "model_module_version": "1.2.0",
          "state": {
            "_model_module": "@jupyter-widgets/base",
            "_model_module_version": "1.2.0",
            "_model_name": "LayoutModel",
            "_view_count": null,
            "_view_module": "@jupyter-widgets/base",
            "_view_module_version": "1.2.0",
            "_view_name": "LayoutView",
            "align_content": null,
            "align_items": null,
            "align_self": null,
            "border": null,
            "bottom": null,
            "display": null,
            "flex": null,
            "flex_flow": null,
            "grid_area": null,
            "grid_auto_columns": null,
            "grid_auto_flow": null,
            "grid_auto_rows": null,
            "grid_column": null,
            "grid_gap": null,
            "grid_row": null,
            "grid_template_areas": null,
            "grid_template_columns": null,
            "grid_template_rows": null,
            "height": null,
            "justify_content": null,
            "justify_items": null,
            "left": null,
            "margin": null,
            "max_height": null,
            "max_width": null,
            "min_height": null,
            "min_width": null,
            "object_fit": null,
            "object_position": null,
            "order": null,
            "overflow": null,
            "overflow_x": null,
            "overflow_y": null,
            "padding": null,
            "right": null,
            "top": null,
            "visibility": null,
            "width": null
          }
        },
        "268696de1d4740a4b15201ce369610ee": {
          "model_module": "@jupyter-widgets/controls",
          "model_name": "DescriptionStyleModel",
          "model_module_version": "1.5.0",
          "state": {
            "_model_module": "@jupyter-widgets/controls",
            "_model_module_version": "1.5.0",
            "_model_name": "DescriptionStyleModel",
            "_view_count": null,
            "_view_module": "@jupyter-widgets/base",
            "_view_module_version": "1.2.0",
            "_view_name": "StyleView",
            "description_width": ""
          }
        },
        "8e651fcf04cc4b0bad445bac032dd3eb": {
          "model_module": "@jupyter-widgets/controls",
          "model_name": "VBoxModel",
          "model_module_version": "1.5.0",
          "state": {
            "_dom_classes": [
              "widget-interact"
            ],
            "_model_module": "@jupyter-widgets/controls",
            "_model_module_version": "1.5.0",
            "_model_name": "VBoxModel",
            "_view_count": null,
            "_view_module": "@jupyter-widgets/controls",
            "_view_module_version": "1.5.0",
            "_view_name": "VBoxView",
            "box_style": "",
            "children": [
              "IPY_MODEL_f1806947f72c4e48b48167df22e65a6c",
              "IPY_MODEL_606c5e6464c045df86797077a4b872f9"
            ],
            "layout": "IPY_MODEL_d0046550e2e0441b8451a646be323fc9"
          }
        },
        "f1806947f72c4e48b48167df22e65a6c": {
          "model_module": "@jupyter-widgets/controls",
          "model_name": "ToggleButtonsModel",
          "model_module_version": "1.5.0",
          "state": {
            "_dom_classes": [],
            "_model_module": "@jupyter-widgets/controls",
            "_model_module_version": "1.5.0",
            "_model_name": "ToggleButtonsModel",
            "_options_labels": [
              "Pipeline Plot",
              "Hyperparameters",
              "AUC",
              "Confusion Matrix",
              "Threshold",
              "Precision Recall",
              "Prediction Error",
              "Class Report",
              "Feature Selection",
              "Learning Curve",
              "Manifold Learning",
              "Calibration Curve",
              "Validation Curve",
              "Dimensions",
              "Feature Importance",
              "Feature Importance (All)",
              "Decision Boundary",
              "Lift Chart",
              "Gain Chart",
              "Decision Tree",
              "KS Statistic Plot"
            ],
            "_view_count": null,
            "_view_module": "@jupyter-widgets/controls",
            "_view_module_version": "1.5.0",
            "_view_name": "ToggleButtonsView",
            "button_style": "",
            "description": "Plot Type:",
            "description_tooltip": null,
            "disabled": false,
            "icons": [
              ""
            ],
            "index": 0,
            "layout": "IPY_MODEL_efa69edb68004f93854042bf66e4bb80",
            "style": "IPY_MODEL_ce78d9362f13484f9c51ff55ffc8b0bc",
            "tooltips": []
          }
        },
        "606c5e6464c045df86797077a4b872f9": {
          "model_module": "@jupyter-widgets/output",
          "model_name": "OutputModel",
          "model_module_version": "1.0.0",
          "state": {
            "_dom_classes": [],
            "_model_module": "@jupyter-widgets/output",
            "_model_module_version": "1.0.0",
            "_model_name": "OutputModel",
            "_view_count": null,
            "_view_module": "@jupyter-widgets/output",
            "_view_module_version": "1.0.0",
            "_view_name": "OutputView",
            "layout": "IPY_MODEL_cac280412bb0486eb1159b0c247ca1ef",
            "msg_id": "",
            "outputs": [
              {
                "output_type": "display_data",
                "data": {
                  "text/plain": "<Figure size 1200x600 with 1 Axes>",
                  "image/png": "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\n"
                },
                "metadata": {}
              }
            ]
          }
        },
        "d0046550e2e0441b8451a646be323fc9": {
          "model_module": "@jupyter-widgets/base",
          "model_name": "LayoutModel",
          "model_module_version": "1.2.0",
          "state": {
            "_model_module": "@jupyter-widgets/base",
            "_model_module_version": "1.2.0",
            "_model_name": "LayoutModel",
            "_view_count": null,
            "_view_module": "@jupyter-widgets/base",
            "_view_module_version": "1.2.0",
            "_view_name": "LayoutView",
            "align_content": null,
            "align_items": null,
            "align_self": null,
            "border": null,
            "bottom": null,
            "display": null,
            "flex": null,
            "flex_flow": null,
            "grid_area": null,
            "grid_auto_columns": null,
            "grid_auto_flow": null,
            "grid_auto_rows": null,
            "grid_column": null,
            "grid_gap": null,
            "grid_row": null,
            "grid_template_areas": null,
            "grid_template_columns": null,
            "grid_template_rows": null,
            "height": null,
            "justify_content": null,
            "justify_items": null,
            "left": null,
            "margin": null,
            "max_height": null,
            "max_width": null,
            "min_height": null,
            "min_width": null,
            "object_fit": null,
            "object_position": null,
            "order": null,
            "overflow": null,
            "overflow_x": null,
            "overflow_y": null,
            "padding": null,
            "right": null,
            "top": null,
            "visibility": null,
            "width": null
          }
        },
        "efa69edb68004f93854042bf66e4bb80": {
          "model_module": "@jupyter-widgets/base",
          "model_name": "LayoutModel",
          "model_module_version": "1.2.0",
          "state": {
            "_model_module": "@jupyter-widgets/base",
            "_model_module_version": "1.2.0",
            "_model_name": "LayoutModel",
            "_view_count": null,
            "_view_module": "@jupyter-widgets/base",
            "_view_module_version": "1.2.0",
            "_view_name": "LayoutView",
            "align_content": null,
            "align_items": null,
            "align_self": null,
            "border": null,
            "bottom": null,
            "display": null,
            "flex": null,
            "flex_flow": null,
            "grid_area": null,
            "grid_auto_columns": null,
            "grid_auto_flow": null,
            "grid_auto_rows": null,
            "grid_column": null,
            "grid_gap": null,
            "grid_row": null,
            "grid_template_areas": null,
            "grid_template_columns": null,
            "grid_template_rows": null,
            "height": null,
            "justify_content": null,
            "justify_items": null,
            "left": null,
            "margin": null,
            "max_height": null,
            "max_width": null,
            "min_height": null,
            "min_width": null,
            "object_fit": null,
            "object_position": null,
            "order": null,
            "overflow": null,
            "overflow_x": null,
            "overflow_y": null,
            "padding": null,
            "right": null,
            "top": null,
            "visibility": null,
            "width": null
          }
        },
        "ce78d9362f13484f9c51ff55ffc8b0bc": {
          "model_module": "@jupyter-widgets/controls",
          "model_name": "ToggleButtonsStyleModel",
          "model_module_version": "1.5.0",
          "state": {
            "_model_module": "@jupyter-widgets/controls",
            "_model_module_version": "1.5.0",
            "_model_name": "ToggleButtonsStyleModel",
            "_view_count": null,
            "_view_module": "@jupyter-widgets/base",
            "_view_module_version": "1.2.0",
            "_view_name": "StyleView",
            "button_width": "",
            "description_width": "",
            "font_weight": ""
          }
        },
        "cac280412bb0486eb1159b0c247ca1ef": {
          "model_module": "@jupyter-widgets/base",
          "model_name": "LayoutModel",
          "model_module_version": "1.2.0",
          "state": {
            "_model_module": "@jupyter-widgets/base",
            "_model_module_version": "1.2.0",
            "_model_name": "LayoutModel",
            "_view_count": null,
            "_view_module": "@jupyter-widgets/base",
            "_view_module_version": "1.2.0",
            "_view_name": "LayoutView",
            "align_content": null,
            "align_items": null,
            "align_self": null,
            "border": null,
            "bottom": null,
            "display": null,
            "flex": null,
            "flex_flow": null,
            "grid_area": null,
            "grid_auto_columns": null,
            "grid_auto_flow": null,
            "grid_auto_rows": null,
            "grid_column": null,
            "grid_gap": null,
            "grid_row": null,
            "grid_template_areas": null,
            "grid_template_columns": null,
            "grid_template_rows": null,
            "height": null,
            "justify_content": null,
            "justify_items": null,
            "left": null,
            "margin": null,
            "max_height": null,
            "max_width": null,
            "min_height": null,
            "min_width": null,
            "object_fit": null,
            "object_position": null,
            "order": null,
            "overflow": null,
            "overflow_x": null,
            "overflow_y": null,
            "padding": null,
            "right": null,
            "top": null,
            "visibility": null,
            "width": null
          }
        }
      }
    }
  },
  "cells": [
    {
      "cell_type": "markdown",
      "source": [
        "# Librerías"
      ],
      "metadata": {
        "id": "NrmnY-wORKB6"
      }
    },
    {
      "cell_type": "code",
      "execution_count": null,
      "metadata": {
        "id": "oWCs5RvtFt_r"
      },
      "outputs": [],
      "source": [
        "!pip install pycaret"
      ]
    },
    {
      "cell_type": "code",
      "source": [
        "import pandas as pd\n",
        "import numpy as np\n",
        "import warnings\n",
        "warnings.filterwarnings(\"ignore\")\n",
        "\n",
        "# Modelos\n",
        "from lightgbm import LGBMClassifier\n",
        "import pycaret\n",
        "from pycaret.regression import *\n",
        "from pycaret.clustering import *\n",
        "from pycaret.classification import *\n",
        "\n",
        "# Evaluación\n",
        "from sklearn.metrics import accuracy_score\n",
        "from sklearn.metrics import precision_score\n",
        "from sklearn.metrics import recall_score\n",
        "from sklearn.metrics import f1_score\n",
        "\n",
        "# Gráficas\n",
        "import matplotlib.pyplot as plt\n",
        "from sklearn.metrics import confusion_matrix, ConfusionMatrixDisplay"
      ],
      "metadata": {
        "id": "YJ_qI3MVF1xa"
      },
      "execution_count": null,
      "outputs": []
    },
    {
      "cell_type": "markdown",
      "source": [
        "# Bases de datos"
      ],
      "metadata": {
        "id": "8ANWro84S9Ng"
      }
    },
    {
      "cell_type": "code",
      "source": [
        "# Base de datos de entrenamiento\n",
        "df = pd.read_csv('Train_limpia.csv')\n",
        "df.drop('Unnamed: 0', axis = 1, inplace = True)\n",
        "\n",
        "# Sest de entrenamiento\n",
        "x_train = df.drop(\"Survived\", axis = 1)\n",
        "y_train = df[\"Survived\"]"
      ],
      "metadata": {
        "id": "1NTEonZkF6eq"
      },
      "execution_count": null,
      "outputs": []
    },
    {
      "cell_type": "code",
      "source": [
        "# Base de datos para prueba sin clasificaciones\n",
        "test = pd.read_csv('Test_limpia.csv')\n",
        "\n",
        "# Instancia con valor nulo de edad\n",
        "r, _ = np.where(test.isna())\n",
        "test = test.dropna(axis=0,how = \"any\")"
      ],
      "metadata": {
        "id": "44lClhdLR5pt"
      },
      "execution_count": null,
      "outputs": []
    },
    {
      "cell_type": "code",
      "source": [
        "# Clasificaciones de la base de datos de prueba\n",
        "y_test = pd.read_csv('submission_test.csv')\n",
        "y_test = y_test.drop(r[0]) # valor nulo de edad\n",
        "y_test.info()\n",
        "y_test = np.array(y_test.Survived)"
      ],
      "metadata": {
        "colab": {
          "base_uri": "https://localhost:8080/"
        },
        "id": "1zXDyMC0bNNb",
        "outputId": "63c87ef4-0f72-43a7-8009-82509108f9c1"
      },
      "execution_count": null,
      "outputs": [
        {
          "output_type": "stream",
          "name": "stdout",
          "text": [
            "<class 'pandas.core.frame.DataFrame'>\n",
            "Int64Index: 417 entries, 0 to 417\n",
            "Data columns (total 2 columns):\n",
            " #   Column       Non-Null Count  Dtype\n",
            "---  ------       --------------  -----\n",
            " 0   PassengerId  417 non-null    int64\n",
            " 1   Survived     417 non-null    int64\n",
            "dtypes: int64(2)\n",
            "memory usage: 9.8 KB\n"
          ]
        }
      ]
    },
    {
      "cell_type": "markdown",
      "source": [
        "# Pycaret"
      ],
      "metadata": {
        "id": "kUkANXEARTO9"
      }
    },
    {
      "cell_type": "markdown",
      "source": [
        "En esta sección se hará uso de la librería de Pycaret para tener una visualización general de los resultados dependiendo de los diferentes modelos de clasificación. A partir de estos resultados, se hará la selección de modelos y experimentación para la mejora de las métricas. Cabe recalcar que estos modelos son entrenados y evaluados con el dataset de entrenamiento, por lo que se tienen menos datos para esto y los hiperparámetros encontrados puedan tener valores muy elevados que pueden llevar a un overfitting."
      ],
      "metadata": {
        "id": "nQ_GnWa9pW0X"
      }
    },
    {
      "cell_type": "markdown",
      "source": [
        "## Pycaret todas variables"
      ],
      "metadata": {
        "id": "LsSdtgglRMlq"
      }
    },
    {
      "cell_type": "markdown",
      "source": [
        "Nuestra variable objetivo es Survived y es binaria, en total se tienen 9 características y 889 instancias, donde el 70% se destinó al  training set y 30% para el set de prueba."
      ],
      "metadata": {
        "id": "ZkpfgOm_p6MU"
      }
    },
    {
      "cell_type": "code",
      "source": [
        "# Iniciar setup, se ingresa la base de datos de entrenamiento\n",
        "s = setup(df, target = 'Survived', session_id = 123)"
      ],
      "metadata": {
        "colab": {
          "base_uri": "https://localhost:8080/",
          "height": 645
        },
        "id": "AtdDU1uhGdQg",
        "outputId": "2bd17877-93f8-4ec3-ea13-c7099467b103"
      },
      "execution_count": null,
      "outputs": [
        {
          "output_type": "display_data",
          "data": {
            "text/plain": [
              "<pandas.io.formats.style.Styler at 0x78291067b610>"
            ],
            "text/html": [
              "<style type=\"text/css\">\n",
              "#T_070c4_row8_col1 {\n",
              "  background-color: lightgreen;\n",
              "}\n",
              "</style>\n",
              "<table id=\"T_070c4\" class=\"dataframe\">\n",
              "  <thead>\n",
              "    <tr>\n",
              "      <th class=\"blank level0\" >&nbsp;</th>\n",
              "      <th id=\"T_070c4_level0_col0\" class=\"col_heading level0 col0\" >Description</th>\n",
              "      <th id=\"T_070c4_level0_col1\" class=\"col_heading level0 col1\" >Value</th>\n",
              "    </tr>\n",
              "  </thead>\n",
              "  <tbody>\n",
              "    <tr>\n",
              "      <th id=\"T_070c4_level0_row0\" class=\"row_heading level0 row0\" >0</th>\n",
              "      <td id=\"T_070c4_row0_col0\" class=\"data row0 col0\" >Session id</td>\n",
              "      <td id=\"T_070c4_row0_col1\" class=\"data row0 col1\" >123</td>\n",
              "    </tr>\n",
              "    <tr>\n",
              "      <th id=\"T_070c4_level0_row1\" class=\"row_heading level0 row1\" >1</th>\n",
              "      <td id=\"T_070c4_row1_col0\" class=\"data row1 col0\" >Target</td>\n",
              "      <td id=\"T_070c4_row1_col1\" class=\"data row1 col1\" >Survived</td>\n",
              "    </tr>\n",
              "    <tr>\n",
              "      <th id=\"T_070c4_level0_row2\" class=\"row_heading level0 row2\" >2</th>\n",
              "      <td id=\"T_070c4_row2_col0\" class=\"data row2 col0\" >Target type</td>\n",
              "      <td id=\"T_070c4_row2_col1\" class=\"data row2 col1\" >Binary</td>\n",
              "    </tr>\n",
              "    <tr>\n",
              "      <th id=\"T_070c4_level0_row3\" class=\"row_heading level0 row3\" >3</th>\n",
              "      <td id=\"T_070c4_row3_col0\" class=\"data row3 col0\" >Original data shape</td>\n",
              "      <td id=\"T_070c4_row3_col1\" class=\"data row3 col1\" >(889, 9)</td>\n",
              "    </tr>\n",
              "    <tr>\n",
              "      <th id=\"T_070c4_level0_row4\" class=\"row_heading level0 row4\" >4</th>\n",
              "      <td id=\"T_070c4_row4_col0\" class=\"data row4 col0\" >Transformed data shape</td>\n",
              "      <td id=\"T_070c4_row4_col1\" class=\"data row4 col1\" >(889, 9)</td>\n",
              "    </tr>\n",
              "    <tr>\n",
              "      <th id=\"T_070c4_level0_row5\" class=\"row_heading level0 row5\" >5</th>\n",
              "      <td id=\"T_070c4_row5_col0\" class=\"data row5 col0\" >Transformed train set shape</td>\n",
              "      <td id=\"T_070c4_row5_col1\" class=\"data row5 col1\" >(622, 9)</td>\n",
              "    </tr>\n",
              "    <tr>\n",
              "      <th id=\"T_070c4_level0_row6\" class=\"row_heading level0 row6\" >6</th>\n",
              "      <td id=\"T_070c4_row6_col0\" class=\"data row6 col0\" >Transformed test set shape</td>\n",
              "      <td id=\"T_070c4_row6_col1\" class=\"data row6 col1\" >(267, 9)</td>\n",
              "    </tr>\n",
              "    <tr>\n",
              "      <th id=\"T_070c4_level0_row7\" class=\"row_heading level0 row7\" >7</th>\n",
              "      <td id=\"T_070c4_row7_col0\" class=\"data row7 col0\" >Numeric features</td>\n",
              "      <td id=\"T_070c4_row7_col1\" class=\"data row7 col1\" >8</td>\n",
              "    </tr>\n",
              "    <tr>\n",
              "      <th id=\"T_070c4_level0_row8\" class=\"row_heading level0 row8\" >8</th>\n",
              "      <td id=\"T_070c4_row8_col0\" class=\"data row8 col0\" >Preprocess</td>\n",
              "      <td id=\"T_070c4_row8_col1\" class=\"data row8 col1\" >True</td>\n",
              "    </tr>\n",
              "    <tr>\n",
              "      <th id=\"T_070c4_level0_row9\" class=\"row_heading level0 row9\" >9</th>\n",
              "      <td id=\"T_070c4_row9_col0\" class=\"data row9 col0\" >Imputation type</td>\n",
              "      <td id=\"T_070c4_row9_col1\" class=\"data row9 col1\" >simple</td>\n",
              "    </tr>\n",
              "    <tr>\n",
              "      <th id=\"T_070c4_level0_row10\" class=\"row_heading level0 row10\" >10</th>\n",
              "      <td id=\"T_070c4_row10_col0\" class=\"data row10 col0\" >Numeric imputation</td>\n",
              "      <td id=\"T_070c4_row10_col1\" class=\"data row10 col1\" >mean</td>\n",
              "    </tr>\n",
              "    <tr>\n",
              "      <th id=\"T_070c4_level0_row11\" class=\"row_heading level0 row11\" >11</th>\n",
              "      <td id=\"T_070c4_row11_col0\" class=\"data row11 col0\" >Categorical imputation</td>\n",
              "      <td id=\"T_070c4_row11_col1\" class=\"data row11 col1\" >mode</td>\n",
              "    </tr>\n",
              "    <tr>\n",
              "      <th id=\"T_070c4_level0_row12\" class=\"row_heading level0 row12\" >12</th>\n",
              "      <td id=\"T_070c4_row12_col0\" class=\"data row12 col0\" >Fold Generator</td>\n",
              "      <td id=\"T_070c4_row12_col1\" class=\"data row12 col1\" >StratifiedKFold</td>\n",
              "    </tr>\n",
              "    <tr>\n",
              "      <th id=\"T_070c4_level0_row13\" class=\"row_heading level0 row13\" >13</th>\n",
              "      <td id=\"T_070c4_row13_col0\" class=\"data row13 col0\" >Fold Number</td>\n",
              "      <td id=\"T_070c4_row13_col1\" class=\"data row13 col1\" >10</td>\n",
              "    </tr>\n",
              "    <tr>\n",
              "      <th id=\"T_070c4_level0_row14\" class=\"row_heading level0 row14\" >14</th>\n",
              "      <td id=\"T_070c4_row14_col0\" class=\"data row14 col0\" >CPU Jobs</td>\n",
              "      <td id=\"T_070c4_row14_col1\" class=\"data row14 col1\" >-1</td>\n",
              "    </tr>\n",
              "    <tr>\n",
              "      <th id=\"T_070c4_level0_row15\" class=\"row_heading level0 row15\" >15</th>\n",
              "      <td id=\"T_070c4_row15_col0\" class=\"data row15 col0\" >Use GPU</td>\n",
              "      <td id=\"T_070c4_row15_col1\" class=\"data row15 col1\" >False</td>\n",
              "    </tr>\n",
              "    <tr>\n",
              "      <th id=\"T_070c4_level0_row16\" class=\"row_heading level0 row16\" >16</th>\n",
              "      <td id=\"T_070c4_row16_col0\" class=\"data row16 col0\" >Log Experiment</td>\n",
              "      <td id=\"T_070c4_row16_col1\" class=\"data row16 col1\" >False</td>\n",
              "    </tr>\n",
              "    <tr>\n",
              "      <th id=\"T_070c4_level0_row17\" class=\"row_heading level0 row17\" >17</th>\n",
              "      <td id=\"T_070c4_row17_col0\" class=\"data row17 col0\" >Experiment Name</td>\n",
              "      <td id=\"T_070c4_row17_col1\" class=\"data row17 col1\" >clf-default-name</td>\n",
              "    </tr>\n",
              "    <tr>\n",
              "      <th id=\"T_070c4_level0_row18\" class=\"row_heading level0 row18\" >18</th>\n",
              "      <td id=\"T_070c4_row18_col0\" class=\"data row18 col0\" >USI</td>\n",
              "      <td id=\"T_070c4_row18_col1\" class=\"data row18 col1\" >c6a1</td>\n",
              "    </tr>\n",
              "  </tbody>\n",
              "</table>\n"
            ]
          },
          "metadata": {}
        }
      ]
    },
    {
      "cell_type": "markdown",
      "source": [
        "En la siguiente tabla se observan los modelos de clasificación con mejor rendimiento en distintas métricas. Los primeros 3 pertenecen al grupo de modelos *Gradient Boosting* y el 4to es el *random forest*, estos modelos están basados en *decision trees*, sin embargo, la forma de integración es diferente en cada uno."
      ],
      "metadata": {
        "id": "VIJyYNhHqgmZ"
      }
    },
    {
      "cell_type": "code",
      "source": [
        "# Training y selección de modelos\n",
        "best = compare_models()"
      ],
      "metadata": {
        "colab": {
          "base_uri": "https://localhost:8080/",
          "height": 520,
          "referenced_widgets": [
            "81154704ccc24e0ab487da5d2cb3d2df",
            "086dfd6ce37845e1ad0431f52826c4f8",
            "58821fffce1c4e98998368845922659e",
            "7e2184df5b0840aca7cdb28300bc4ada",
            "1f798ed1c3dd45ad85263e25c01547d5",
            "79dd563b1e364c1cbdc6f4f19f9d9b17",
            "faf946d6d48d49a8ad9ddd7dc4c57fd3",
            "39f374e4edae40f5ab83014ab0e8062f",
            "0fb408d87fd543a79ede8f2d9b29b72c",
            "c7d4d265b8f04fd186a3f4b08fbeaaae",
            "a3212836d648498ca931db3aefe11e48"
          ]
        },
        "id": "S1nOOR0SHAVf",
        "outputId": "f803f7f8-3a54-4656-f641-5e77148a751f"
      },
      "execution_count": null,
      "outputs": [
        {
          "output_type": "display_data",
          "data": {
            "text/plain": [
              "<IPython.core.display.HTML object>"
            ],
            "text/html": []
          },
          "metadata": {}
        },
        {
          "output_type": "display_data",
          "data": {
            "text/plain": [
              "<pandas.io.formats.style.Styler at 0x782912074550>"
            ],
            "text/html": [
              "<style type=\"text/css\">\n",
              "#T_54250 th {\n",
              "  text-align: left;\n",
              "}\n",
              "#T_54250_row0_col0, #T_54250_row0_col2, #T_54250_row0_col3, #T_54250_row1_col0, #T_54250_row1_col1, #T_54250_row1_col2, #T_54250_row1_col3, #T_54250_row1_col4, #T_54250_row1_col5, #T_54250_row1_col6, #T_54250_row1_col7, #T_54250_row2_col0, #T_54250_row2_col1, #T_54250_row2_col3, #T_54250_row2_col4, #T_54250_row2_col5, #T_54250_row2_col6, #T_54250_row2_col7, #T_54250_row3_col0, #T_54250_row3_col1, #T_54250_row3_col2, #T_54250_row3_col3, #T_54250_row3_col4, #T_54250_row3_col5, #T_54250_row3_col6, #T_54250_row3_col7, #T_54250_row4_col0, #T_54250_row4_col1, #T_54250_row4_col2, #T_54250_row4_col3, #T_54250_row4_col4, #T_54250_row4_col5, #T_54250_row4_col6, #T_54250_row4_col7, #T_54250_row5_col0, #T_54250_row5_col1, #T_54250_row5_col2, #T_54250_row5_col3, #T_54250_row5_col4, #T_54250_row5_col5, #T_54250_row5_col6, #T_54250_row5_col7, #T_54250_row6_col0, #T_54250_row6_col1, #T_54250_row6_col2, #T_54250_row6_col3, #T_54250_row6_col4, #T_54250_row6_col5, #T_54250_row6_col6, #T_54250_row6_col7, #T_54250_row7_col0, #T_54250_row7_col1, #T_54250_row7_col2, #T_54250_row7_col3, #T_54250_row7_col4, #T_54250_row7_col5, #T_54250_row7_col6, #T_54250_row7_col7, #T_54250_row8_col0, #T_54250_row8_col1, #T_54250_row8_col2, #T_54250_row8_col3, #T_54250_row8_col4, #T_54250_row8_col5, #T_54250_row8_col6, #T_54250_row8_col7, #T_54250_row9_col0, #T_54250_row9_col1, #T_54250_row9_col2, #T_54250_row9_col3, #T_54250_row9_col4, #T_54250_row9_col5, #T_54250_row9_col6, #T_54250_row9_col7, #T_54250_row10_col0, #T_54250_row10_col1, #T_54250_row10_col2, #T_54250_row10_col3, #T_54250_row10_col4, #T_54250_row10_col5, #T_54250_row10_col6, #T_54250_row10_col7, #T_54250_row11_col0, #T_54250_row11_col1, #T_54250_row11_col2, #T_54250_row11_col3, #T_54250_row11_col4, #T_54250_row11_col5, #T_54250_row11_col6, #T_54250_row11_col7, #T_54250_row12_col0, #T_54250_row12_col1, #T_54250_row12_col2, #T_54250_row12_col3, #T_54250_row12_col4, #T_54250_row12_col5, #T_54250_row12_col6, #T_54250_row12_col7, #T_54250_row13_col0, #T_54250_row13_col1, #T_54250_row13_col2, #T_54250_row13_col4, #T_54250_row13_col5, #T_54250_row13_col6, #T_54250_row13_col7, #T_54250_row14_col0, #T_54250_row14_col1, #T_54250_row14_col2, #T_54250_row14_col3, #T_54250_row14_col4, #T_54250_row14_col5, #T_54250_row14_col6, #T_54250_row14_col7 {\n",
              "  text-align: left;\n",
              "}\n",
              "#T_54250_row0_col1, #T_54250_row0_col4, #T_54250_row0_col5, #T_54250_row0_col6, #T_54250_row0_col7, #T_54250_row2_col2, #T_54250_row13_col3 {\n",
              "  text-align: left;\n",
              "  background-color: yellow;\n",
              "}\n",
              "#T_54250_row0_col8, #T_54250_row1_col8, #T_54250_row2_col8, #T_54250_row3_col8, #T_54250_row4_col8, #T_54250_row5_col8, #T_54250_row6_col8, #T_54250_row7_col8, #T_54250_row8_col8, #T_54250_row9_col8, #T_54250_row10_col8, #T_54250_row11_col8, #T_54250_row12_col8, #T_54250_row13_col8 {\n",
              "  text-align: left;\n",
              "  background-color: lightgrey;\n",
              "}\n",
              "#T_54250_row14_col8 {\n",
              "  text-align: left;\n",
              "  background-color: yellow;\n",
              "  background-color: lightgrey;\n",
              "}\n",
              "</style>\n",
              "<table id=\"T_54250\" class=\"dataframe\">\n",
              "  <thead>\n",
              "    <tr>\n",
              "      <th class=\"blank level0\" >&nbsp;</th>\n",
              "      <th id=\"T_54250_level0_col0\" class=\"col_heading level0 col0\" >Model</th>\n",
              "      <th id=\"T_54250_level0_col1\" class=\"col_heading level0 col1\" >Accuracy</th>\n",
              "      <th id=\"T_54250_level0_col2\" class=\"col_heading level0 col2\" >AUC</th>\n",
              "      <th id=\"T_54250_level0_col3\" class=\"col_heading level0 col3\" >Recall</th>\n",
              "      <th id=\"T_54250_level0_col4\" class=\"col_heading level0 col4\" >Prec.</th>\n",
              "      <th id=\"T_54250_level0_col5\" class=\"col_heading level0 col5\" >F1</th>\n",
              "      <th id=\"T_54250_level0_col6\" class=\"col_heading level0 col6\" >Kappa</th>\n",
              "      <th id=\"T_54250_level0_col7\" class=\"col_heading level0 col7\" >MCC</th>\n",
              "      <th id=\"T_54250_level0_col8\" class=\"col_heading level0 col8\" >TT (Sec)</th>\n",
              "    </tr>\n",
              "  </thead>\n",
              "  <tbody>\n",
              "    <tr>\n",
              "      <th id=\"T_54250_level0_row0\" class=\"row_heading level0 row0\" >lightgbm</th>\n",
              "      <td id=\"T_54250_row0_col0\" class=\"data row0 col0\" >Light Gradient Boosting Machine</td>\n",
              "      <td id=\"T_54250_row0_col1\" class=\"data row0 col1\" >0.8296</td>\n",
              "      <td id=\"T_54250_row0_col2\" class=\"data row0 col2\" >0.8514</td>\n",
              "      <td id=\"T_54250_row0_col3\" class=\"data row0 col3\" >0.7361</td>\n",
              "      <td id=\"T_54250_row0_col4\" class=\"data row0 col4\" >0.8087</td>\n",
              "      <td id=\"T_54250_row0_col5\" class=\"data row0 col5\" >0.7641</td>\n",
              "      <td id=\"T_54250_row0_col6\" class=\"data row0 col6\" >0.6321</td>\n",
              "      <td id=\"T_54250_row0_col7\" class=\"data row0 col7\" >0.6395</td>\n",
              "      <td id=\"T_54250_row0_col8\" class=\"data row0 col8\" >0.2690</td>\n",
              "    </tr>\n",
              "    <tr>\n",
              "      <th id=\"T_54250_level0_row1\" class=\"row_heading level0 row1\" >xgboost</th>\n",
              "      <td id=\"T_54250_row1_col0\" class=\"data row1 col0\" >Extreme Gradient Boosting</td>\n",
              "      <td id=\"T_54250_row1_col1\" class=\"data row1 col1\" >0.8248</td>\n",
              "      <td id=\"T_54250_row1_col2\" class=\"data row1 col2\" >0.8403</td>\n",
              "      <td id=\"T_54250_row1_col3\" class=\"data row1 col3\" >0.7404</td>\n",
              "      <td id=\"T_54250_row1_col4\" class=\"data row1 col4\" >0.7915</td>\n",
              "      <td id=\"T_54250_row1_col5\" class=\"data row1 col5\" >0.7611</td>\n",
              "      <td id=\"T_54250_row1_col6\" class=\"data row1 col6\" >0.6237</td>\n",
              "      <td id=\"T_54250_row1_col7\" class=\"data row1 col7\" >0.6283</td>\n",
              "      <td id=\"T_54250_row1_col8\" class=\"data row1 col8\" >0.0900</td>\n",
              "    </tr>\n",
              "    <tr>\n",
              "      <th id=\"T_54250_level0_row2\" class=\"row_heading level0 row2\" >gbc</th>\n",
              "      <td id=\"T_54250_row2_col0\" class=\"data row2 col0\" >Gradient Boosting Classifier</td>\n",
              "      <td id=\"T_54250_row2_col1\" class=\"data row2 col1\" >0.8102</td>\n",
              "      <td id=\"T_54250_row2_col2\" class=\"data row2 col2\" >0.8606</td>\n",
              "      <td id=\"T_54250_row2_col3\" class=\"data row2 col3\" >0.6938</td>\n",
              "      <td id=\"T_54250_row2_col4\" class=\"data row2 col4\" >0.7911</td>\n",
              "      <td id=\"T_54250_row2_col5\" class=\"data row2 col5\" >0.7345</td>\n",
              "      <td id=\"T_54250_row2_col6\" class=\"data row2 col6\" >0.5887</td>\n",
              "      <td id=\"T_54250_row2_col7\" class=\"data row2 col7\" >0.5955</td>\n",
              "      <td id=\"T_54250_row2_col8\" class=\"data row2 col8\" >0.3880</td>\n",
              "    </tr>\n",
              "    <tr>\n",
              "      <th id=\"T_54250_level0_row3\" class=\"row_heading level0 row3\" >rf</th>\n",
              "      <td id=\"T_54250_row3_col0\" class=\"data row3 col0\" >Random Forest Classifier</td>\n",
              "      <td id=\"T_54250_row3_col1\" class=\"data row3 col1\" >0.8007</td>\n",
              "      <td id=\"T_54250_row3_col2\" class=\"data row3 col2\" >0.8340</td>\n",
              "      <td id=\"T_54250_row3_col3\" class=\"data row3 col3\" >0.7277</td>\n",
              "      <td id=\"T_54250_row3_col4\" class=\"data row3 col4\" >0.7492</td>\n",
              "      <td id=\"T_54250_row3_col5\" class=\"data row3 col5\" >0.7357</td>\n",
              "      <td id=\"T_54250_row3_col6\" class=\"data row3 col6\" >0.5761</td>\n",
              "      <td id=\"T_54250_row3_col7\" class=\"data row3 col7\" >0.5787</td>\n",
              "      <td id=\"T_54250_row3_col8\" class=\"data row3 col8\" >0.8270</td>\n",
              "    </tr>\n",
              "    <tr>\n",
              "      <th id=\"T_54250_level0_row4\" class=\"row_heading level0 row4\" >ada</th>\n",
              "      <td id=\"T_54250_row4_col0\" class=\"data row4 col0\" >Ada Boost Classifier</td>\n",
              "      <td id=\"T_54250_row4_col1\" class=\"data row4 col1\" >0.7894</td>\n",
              "      <td id=\"T_54250_row4_col2\" class=\"data row4 col2\" >0.8421</td>\n",
              "      <td id=\"T_54250_row4_col3\" class=\"data row4 col3\" >0.7190</td>\n",
              "      <td id=\"T_54250_row4_col4\" class=\"data row4 col4\" >0.7293</td>\n",
              "      <td id=\"T_54250_row4_col5\" class=\"data row4 col5\" >0.7194</td>\n",
              "      <td id=\"T_54250_row4_col6\" class=\"data row4 col6\" >0.5515</td>\n",
              "      <td id=\"T_54250_row4_col7\" class=\"data row4 col7\" >0.5566</td>\n",
              "      <td id=\"T_54250_row4_col8\" class=\"data row4 col8\" >0.3820</td>\n",
              "    </tr>\n",
              "    <tr>\n",
              "      <th id=\"T_54250_level0_row5\" class=\"row_heading level0 row5\" >lr</th>\n",
              "      <td id=\"T_54250_row5_col0\" class=\"data row5 col0\" >Logistic Regression</td>\n",
              "      <td id=\"T_54250_row5_col1\" class=\"data row5 col1\" >0.7878</td>\n",
              "      <td id=\"T_54250_row5_col2\" class=\"data row5 col2\" >0.8422</td>\n",
              "      <td id=\"T_54250_row5_col3\" class=\"data row5 col3\" >0.6766</td>\n",
              "      <td id=\"T_54250_row5_col4\" class=\"data row5 col4\" >0.7484</td>\n",
              "      <td id=\"T_54250_row5_col5\" class=\"data row5 col5\" >0.7051</td>\n",
              "      <td id=\"T_54250_row5_col6\" class=\"data row5 col6\" >0.5413</td>\n",
              "      <td id=\"T_54250_row5_col7\" class=\"data row5 col7\" >0.5476</td>\n",
              "      <td id=\"T_54250_row5_col8\" class=\"data row5 col8\" >0.8260</td>\n",
              "    </tr>\n",
              "    <tr>\n",
              "      <th id=\"T_54250_level0_row6\" class=\"row_heading level0 row6\" >dt</th>\n",
              "      <td id=\"T_54250_row6_col0\" class=\"data row6 col0\" >Decision Tree Classifier</td>\n",
              "      <td id=\"T_54250_row6_col1\" class=\"data row6 col1\" >0.7878</td>\n",
              "      <td id=\"T_54250_row6_col2\" class=\"data row6 col2\" >0.7722</td>\n",
              "      <td id=\"T_54250_row6_col3\" class=\"data row6 col3\" >0.7150</td>\n",
              "      <td id=\"T_54250_row6_col4\" class=\"data row6 col4\" >0.7315</td>\n",
              "      <td id=\"T_54250_row6_col5\" class=\"data row6 col5\" >0.7187</td>\n",
              "      <td id=\"T_54250_row6_col6\" class=\"data row6 col6\" >0.5491</td>\n",
              "      <td id=\"T_54250_row6_col7\" class=\"data row6 col7\" >0.5532</td>\n",
              "      <td id=\"T_54250_row6_col8\" class=\"data row6 col8\" >0.0900</td>\n",
              "    </tr>\n",
              "    <tr>\n",
              "      <th id=\"T_54250_level0_row7\" class=\"row_heading level0 row7\" >et</th>\n",
              "      <td id=\"T_54250_row7_col0\" class=\"data row7 col0\" >Extra Trees Classifier</td>\n",
              "      <td id=\"T_54250_row7_col1\" class=\"data row7 col1\" >0.7878</td>\n",
              "      <td id=\"T_54250_row7_col2\" class=\"data row7 col2\" >0.8252</td>\n",
              "      <td id=\"T_54250_row7_col3\" class=\"data row7 col3\" >0.6984</td>\n",
              "      <td id=\"T_54250_row7_col4\" class=\"data row7 col4\" >0.7338</td>\n",
              "      <td id=\"T_54250_row7_col5\" class=\"data row7 col5\" >0.7129</td>\n",
              "      <td id=\"T_54250_row7_col6\" class=\"data row7 col6\" >0.5454</td>\n",
              "      <td id=\"T_54250_row7_col7\" class=\"data row7 col7\" >0.5481</td>\n",
              "      <td id=\"T_54250_row7_col8\" class=\"data row7 col8\" >0.3670</td>\n",
              "    </tr>\n",
              "    <tr>\n",
              "      <th id=\"T_54250_level0_row8\" class=\"row_heading level0 row8\" >ridge</th>\n",
              "      <td id=\"T_54250_row8_col0\" class=\"data row8 col0\" >Ridge Classifier</td>\n",
              "      <td id=\"T_54250_row8_col1\" class=\"data row8 col1\" >0.7829</td>\n",
              "      <td id=\"T_54250_row8_col2\" class=\"data row8 col2\" >0.0000</td>\n",
              "      <td id=\"T_54250_row8_col3\" class=\"data row8 col3\" >0.6685</td>\n",
              "      <td id=\"T_54250_row8_col4\" class=\"data row8 col4\" >0.7398</td>\n",
              "      <td id=\"T_54250_row8_col5\" class=\"data row8 col5\" >0.6983</td>\n",
              "      <td id=\"T_54250_row8_col6\" class=\"data row8 col6\" >0.5305</td>\n",
              "      <td id=\"T_54250_row8_col7\" class=\"data row8 col7\" >0.5353</td>\n",
              "      <td id=\"T_54250_row8_col8\" class=\"data row8 col8\" >0.0520</td>\n",
              "    </tr>\n",
              "    <tr>\n",
              "      <th id=\"T_54250_level0_row9\" class=\"row_heading level0 row9\" >lda</th>\n",
              "      <td id=\"T_54250_row9_col0\" class=\"data row9 col0\" >Linear Discriminant Analysis</td>\n",
              "      <td id=\"T_54250_row9_col1\" class=\"data row9 col1\" >0.7829</td>\n",
              "      <td id=\"T_54250_row9_col2\" class=\"data row9 col2\" >0.8436</td>\n",
              "      <td id=\"T_54250_row9_col3\" class=\"data row9 col3\" >0.6726</td>\n",
              "      <td id=\"T_54250_row9_col4\" class=\"data row9 col4\" >0.7377</td>\n",
              "      <td id=\"T_54250_row9_col5\" class=\"data row9 col5\" >0.7004</td>\n",
              "      <td id=\"T_54250_row9_col6\" class=\"data row9 col6\" >0.5316</td>\n",
              "      <td id=\"T_54250_row9_col7\" class=\"data row9 col7\" >0.5356</td>\n",
              "      <td id=\"T_54250_row9_col8\" class=\"data row9 col8\" >0.1490</td>\n",
              "    </tr>\n",
              "    <tr>\n",
              "      <th id=\"T_54250_level0_row10\" class=\"row_heading level0 row10\" >knn</th>\n",
              "      <td id=\"T_54250_row10_col0\" class=\"data row10 col0\" >K Neighbors Classifier</td>\n",
              "      <td id=\"T_54250_row10_col1\" class=\"data row10 col1\" >0.7812</td>\n",
              "      <td id=\"T_54250_row10_col2\" class=\"data row10 col2\" >0.8156</td>\n",
              "      <td id=\"T_54250_row10_col3\" class=\"data row10 col3\" >0.6855</td>\n",
              "      <td id=\"T_54250_row10_col4\" class=\"data row10 col4\" >0.7348</td>\n",
              "      <td id=\"T_54250_row10_col5\" class=\"data row10 col5\" >0.7049</td>\n",
              "      <td id=\"T_54250_row10_col6\" class=\"data row10 col6\" >0.5318</td>\n",
              "      <td id=\"T_54250_row10_col7\" class=\"data row10 col7\" >0.5368</td>\n",
              "      <td id=\"T_54250_row10_col8\" class=\"data row10 col8\" >0.1400</td>\n",
              "    </tr>\n",
              "    <tr>\n",
              "      <th id=\"T_54250_level0_row11\" class=\"row_heading level0 row11\" >qda</th>\n",
              "      <td id=\"T_54250_row11_col0\" class=\"data row11 col0\" >Quadratic Discriminant Analysis</td>\n",
              "      <td id=\"T_54250_row11_col1\" class=\"data row11 col1\" >0.7573</td>\n",
              "      <td id=\"T_54250_row11_col2\" class=\"data row11 col2\" >0.7870</td>\n",
              "      <td id=\"T_54250_row11_col3\" class=\"data row11 col3\" >0.7147</td>\n",
              "      <td id=\"T_54250_row11_col4\" class=\"data row11 col4\" >0.6827</td>\n",
              "      <td id=\"T_54250_row11_col5\" class=\"data row11 col5\" >0.6908</td>\n",
              "      <td id=\"T_54250_row11_col6\" class=\"data row11 col6\" >0.4928</td>\n",
              "      <td id=\"T_54250_row11_col7\" class=\"data row11 col7\" >0.5010</td>\n",
              "      <td id=\"T_54250_row11_col8\" class=\"data row11 col8\" >0.0800</td>\n",
              "    </tr>\n",
              "    <tr>\n",
              "      <th id=\"T_54250_level0_row12\" class=\"row_heading level0 row12\" >nb</th>\n",
              "      <td id=\"T_54250_row12_col0\" class=\"data row12 col0\" >Naive Bayes</td>\n",
              "      <td id=\"T_54250_row12_col1\" class=\"data row12 col1\" >0.7540</td>\n",
              "      <td id=\"T_54250_row12_col2\" class=\"data row12 col2\" >0.8225</td>\n",
              "      <td id=\"T_54250_row12_col3\" class=\"data row12 col3\" >0.7270</td>\n",
              "      <td id=\"T_54250_row12_col4\" class=\"data row12 col4\" >0.6665</td>\n",
              "      <td id=\"T_54250_row12_col5\" class=\"data row12 col5\" >0.6909</td>\n",
              "      <td id=\"T_54250_row12_col6\" class=\"data row12 col6\" >0.4883</td>\n",
              "      <td id=\"T_54250_row12_col7\" class=\"data row12 col7\" >0.4942</td>\n",
              "      <td id=\"T_54250_row12_col8\" class=\"data row12 col8\" >0.0750</td>\n",
              "    </tr>\n",
              "    <tr>\n",
              "      <th id=\"T_54250_level0_row13\" class=\"row_heading level0 row13\" >svm</th>\n",
              "      <td id=\"T_54250_row13_col0\" class=\"data row13 col0\" >SVM - Linear Kernel</td>\n",
              "      <td id=\"T_54250_row13_col1\" class=\"data row13 col1\" >0.6668</td>\n",
              "      <td id=\"T_54250_row13_col2\" class=\"data row13 col2\" >0.0000</td>\n",
              "      <td id=\"T_54250_row13_col3\" class=\"data row13 col3\" >0.7502</td>\n",
              "      <td id=\"T_54250_row13_col4\" class=\"data row13 col4\" >0.6254</td>\n",
              "      <td id=\"T_54250_row13_col5\" class=\"data row13 col5\" >0.6187</td>\n",
              "      <td id=\"T_54250_row13_col6\" class=\"data row13 col6\" >0.3478</td>\n",
              "      <td id=\"T_54250_row13_col7\" class=\"data row13 col7\" >0.3934</td>\n",
              "      <td id=\"T_54250_row13_col8\" class=\"data row13 col8\" >0.0450</td>\n",
              "    </tr>\n",
              "    <tr>\n",
              "      <th id=\"T_54250_level0_row14\" class=\"row_heading level0 row14\" >dummy</th>\n",
              "      <td id=\"T_54250_row14_col0\" class=\"data row14 col0\" >Dummy Classifier</td>\n",
              "      <td id=\"T_54250_row14_col1\" class=\"data row14 col1\" >0.6174</td>\n",
              "      <td id=\"T_54250_row14_col2\" class=\"data row14 col2\" >0.5000</td>\n",
              "      <td id=\"T_54250_row14_col3\" class=\"data row14 col3\" >0.0000</td>\n",
              "      <td id=\"T_54250_row14_col4\" class=\"data row14 col4\" >0.0000</td>\n",
              "      <td id=\"T_54250_row14_col5\" class=\"data row14 col5\" >0.0000</td>\n",
              "      <td id=\"T_54250_row14_col6\" class=\"data row14 col6\" >0.0000</td>\n",
              "      <td id=\"T_54250_row14_col7\" class=\"data row14 col7\" >0.0000</td>\n",
              "      <td id=\"T_54250_row14_col8\" class=\"data row14 col8\" >0.0430</td>\n",
              "    </tr>\n",
              "  </tbody>\n",
              "</table>\n"
            ]
          },
          "metadata": {}
        },
        {
          "output_type": "display_data",
          "data": {
            "text/plain": [
              "Processing:   0%|          | 0/65 [00:00<?, ?it/s]"
            ],
            "application/vnd.jupyter.widget-view+json": {
              "version_major": 2,
              "version_minor": 0,
              "model_id": "81154704ccc24e0ab487da5d2cb3d2df"
            }
          },
          "metadata": {
            "application/vnd.jupyter.widget-view+json": {
              "colab": {
                "custom_widget_manager": {
                  "url": "https://ssl.gstatic.com/colaboratory-static/widgets/colab-cdn-widget-manager/b3e629b1971e1542/manager.min.js"
                }
              }
            }
          }
        },
        {
          "output_type": "display_data",
          "data": {
            "text/plain": [
              "<IPython.core.display.HTML object>"
            ],
            "text/html": []
          },
          "metadata": {}
        }
      ]
    },
    {
      "cell_type": "markdown",
      "source": [
        "En este apartado se muestran distintas gráficas e información del mejor modelo, en este caso *Light Gradient Boosting Machine*."
      ],
      "metadata": {
        "id": "tDsf3LZcuegT"
      }
    },
    {
      "cell_type": "code",
      "source": [
        "evaluate_model(best)"
      ],
      "metadata": {
        "colab": {
          "base_uri": "https://localhost:8080/",
          "height": 251,
          "referenced_widgets": [
            "9597ff16f8224ea8965e8fa20c0bcfda",
            "6f9d4e1e4ab545329e5ced4314f3926e",
            "9ecef1f9cfde48d98ffb116b4651e763",
            "8ed22e7929174c908e6ef50a64725bfc",
            "9bde21945269459e8cdd4c4d89c355e9",
            "e196d6a2512845d482539390db437f29",
            "306f54f3a3424e85a2437b48c83834f6"
          ]
        },
        "id": "CMnbr8VyHfCs",
        "outputId": "66d746c0-4196-49d8-cd5b-4b03138b248d"
      },
      "execution_count": null,
      "outputs": [
        {
          "output_type": "display_data",
          "data": {
            "text/plain": [
              "interactive(children=(ToggleButtons(description='Plot Type:', icons=('',), options=(('Pipeline Plot', 'pipelin…"
            ],
            "application/vnd.jupyter.widget-view+json": {
              "version_major": 2,
              "version_minor": 0,
              "model_id": "9597ff16f8224ea8965e8fa20c0bcfda"
            }
          },
          "metadata": {
            "application/vnd.jupyter.widget-view+json": {
              "colab": {
                "custom_widget_manager": {
                  "url": "https://ssl.gstatic.com/colaboratory-static/widgets/colab-cdn-widget-manager/b3e629b1971e1542/manager.min.js"
                }
              }
            }
          }
        }
      ]
    },
    {
      "cell_type": "markdown",
      "source": [
        "## Pycaret sin SibSp y Parch"
      ],
      "metadata": {
        "id": "rduKq_KrH6DG"
      }
    },
    {
      "cell_type": "markdown",
      "source": [
        "Debido al análisis de la importancia de las variables en la sección anterior, se decidió hacer un análisis sin las variables de SibSP y Parch, ya que son las que tienen valores menores.\n",
        "\n",
        "Pudimos observar que los modelos sobresalientes son los mismos y que sus métricas no se alteran significativamente. Por lo que se decidió no eliminar estas características y considerar su eliminación en cada modelo individualmente en caso de ser necesario."
      ],
      "metadata": {
        "id": "UEe4u0zqWJR9"
      }
    },
    {
      "cell_type": "code",
      "source": [
        "s = setup(df.drop(['SibSp', 'Parch'], axis = 1), target = 'Survived', session_id = 123)"
      ],
      "metadata": {
        "id": "hRyydep6H6N2",
        "colab": {
          "base_uri": "https://localhost:8080/",
          "height": 645
        },
        "outputId": "54057504-2076-442a-9aba-314f336f79fb"
      },
      "execution_count": null,
      "outputs": [
        {
          "output_type": "display_data",
          "data": {
            "text/plain": [
              "<pandas.io.formats.style.Styler at 0x7829102ca7a0>"
            ],
            "text/html": [
              "<style type=\"text/css\">\n",
              "#T_8bfaa_row8_col1 {\n",
              "  background-color: lightgreen;\n",
              "}\n",
              "</style>\n",
              "<table id=\"T_8bfaa\" class=\"dataframe\">\n",
              "  <thead>\n",
              "    <tr>\n",
              "      <th class=\"blank level0\" >&nbsp;</th>\n",
              "      <th id=\"T_8bfaa_level0_col0\" class=\"col_heading level0 col0\" >Description</th>\n",
              "      <th id=\"T_8bfaa_level0_col1\" class=\"col_heading level0 col1\" >Value</th>\n",
              "    </tr>\n",
              "  </thead>\n",
              "  <tbody>\n",
              "    <tr>\n",
              "      <th id=\"T_8bfaa_level0_row0\" class=\"row_heading level0 row0\" >0</th>\n",
              "      <td id=\"T_8bfaa_row0_col0\" class=\"data row0 col0\" >Session id</td>\n",
              "      <td id=\"T_8bfaa_row0_col1\" class=\"data row0 col1\" >123</td>\n",
              "    </tr>\n",
              "    <tr>\n",
              "      <th id=\"T_8bfaa_level0_row1\" class=\"row_heading level0 row1\" >1</th>\n",
              "      <td id=\"T_8bfaa_row1_col0\" class=\"data row1 col0\" >Target</td>\n",
              "      <td id=\"T_8bfaa_row1_col1\" class=\"data row1 col1\" >Survived</td>\n",
              "    </tr>\n",
              "    <tr>\n",
              "      <th id=\"T_8bfaa_level0_row2\" class=\"row_heading level0 row2\" >2</th>\n",
              "      <td id=\"T_8bfaa_row2_col0\" class=\"data row2 col0\" >Target type</td>\n",
              "      <td id=\"T_8bfaa_row2_col1\" class=\"data row2 col1\" >Binary</td>\n",
              "    </tr>\n",
              "    <tr>\n",
              "      <th id=\"T_8bfaa_level0_row3\" class=\"row_heading level0 row3\" >3</th>\n",
              "      <td id=\"T_8bfaa_row3_col0\" class=\"data row3 col0\" >Original data shape</td>\n",
              "      <td id=\"T_8bfaa_row3_col1\" class=\"data row3 col1\" >(889, 7)</td>\n",
              "    </tr>\n",
              "    <tr>\n",
              "      <th id=\"T_8bfaa_level0_row4\" class=\"row_heading level0 row4\" >4</th>\n",
              "      <td id=\"T_8bfaa_row4_col0\" class=\"data row4 col0\" >Transformed data shape</td>\n",
              "      <td id=\"T_8bfaa_row4_col1\" class=\"data row4 col1\" >(889, 7)</td>\n",
              "    </tr>\n",
              "    <tr>\n",
              "      <th id=\"T_8bfaa_level0_row5\" class=\"row_heading level0 row5\" >5</th>\n",
              "      <td id=\"T_8bfaa_row5_col0\" class=\"data row5 col0\" >Transformed train set shape</td>\n",
              "      <td id=\"T_8bfaa_row5_col1\" class=\"data row5 col1\" >(622, 7)</td>\n",
              "    </tr>\n",
              "    <tr>\n",
              "      <th id=\"T_8bfaa_level0_row6\" class=\"row_heading level0 row6\" >6</th>\n",
              "      <td id=\"T_8bfaa_row6_col0\" class=\"data row6 col0\" >Transformed test set shape</td>\n",
              "      <td id=\"T_8bfaa_row6_col1\" class=\"data row6 col1\" >(267, 7)</td>\n",
              "    </tr>\n",
              "    <tr>\n",
              "      <th id=\"T_8bfaa_level0_row7\" class=\"row_heading level0 row7\" >7</th>\n",
              "      <td id=\"T_8bfaa_row7_col0\" class=\"data row7 col0\" >Numeric features</td>\n",
              "      <td id=\"T_8bfaa_row7_col1\" class=\"data row7 col1\" >6</td>\n",
              "    </tr>\n",
              "    <tr>\n",
              "      <th id=\"T_8bfaa_level0_row8\" class=\"row_heading level0 row8\" >8</th>\n",
              "      <td id=\"T_8bfaa_row8_col0\" class=\"data row8 col0\" >Preprocess</td>\n",
              "      <td id=\"T_8bfaa_row8_col1\" class=\"data row8 col1\" >True</td>\n",
              "    </tr>\n",
              "    <tr>\n",
              "      <th id=\"T_8bfaa_level0_row9\" class=\"row_heading level0 row9\" >9</th>\n",
              "      <td id=\"T_8bfaa_row9_col0\" class=\"data row9 col0\" >Imputation type</td>\n",
              "      <td id=\"T_8bfaa_row9_col1\" class=\"data row9 col1\" >simple</td>\n",
              "    </tr>\n",
              "    <tr>\n",
              "      <th id=\"T_8bfaa_level0_row10\" class=\"row_heading level0 row10\" >10</th>\n",
              "      <td id=\"T_8bfaa_row10_col0\" class=\"data row10 col0\" >Numeric imputation</td>\n",
              "      <td id=\"T_8bfaa_row10_col1\" class=\"data row10 col1\" >mean</td>\n",
              "    </tr>\n",
              "    <tr>\n",
              "      <th id=\"T_8bfaa_level0_row11\" class=\"row_heading level0 row11\" >11</th>\n",
              "      <td id=\"T_8bfaa_row11_col0\" class=\"data row11 col0\" >Categorical imputation</td>\n",
              "      <td id=\"T_8bfaa_row11_col1\" class=\"data row11 col1\" >mode</td>\n",
              "    </tr>\n",
              "    <tr>\n",
              "      <th id=\"T_8bfaa_level0_row12\" class=\"row_heading level0 row12\" >12</th>\n",
              "      <td id=\"T_8bfaa_row12_col0\" class=\"data row12 col0\" >Fold Generator</td>\n",
              "      <td id=\"T_8bfaa_row12_col1\" class=\"data row12 col1\" >StratifiedKFold</td>\n",
              "    </tr>\n",
              "    <tr>\n",
              "      <th id=\"T_8bfaa_level0_row13\" class=\"row_heading level0 row13\" >13</th>\n",
              "      <td id=\"T_8bfaa_row13_col0\" class=\"data row13 col0\" >Fold Number</td>\n",
              "      <td id=\"T_8bfaa_row13_col1\" class=\"data row13 col1\" >10</td>\n",
              "    </tr>\n",
              "    <tr>\n",
              "      <th id=\"T_8bfaa_level0_row14\" class=\"row_heading level0 row14\" >14</th>\n",
              "      <td id=\"T_8bfaa_row14_col0\" class=\"data row14 col0\" >CPU Jobs</td>\n",
              "      <td id=\"T_8bfaa_row14_col1\" class=\"data row14 col1\" >-1</td>\n",
              "    </tr>\n",
              "    <tr>\n",
              "      <th id=\"T_8bfaa_level0_row15\" class=\"row_heading level0 row15\" >15</th>\n",
              "      <td id=\"T_8bfaa_row15_col0\" class=\"data row15 col0\" >Use GPU</td>\n",
              "      <td id=\"T_8bfaa_row15_col1\" class=\"data row15 col1\" >False</td>\n",
              "    </tr>\n",
              "    <tr>\n",
              "      <th id=\"T_8bfaa_level0_row16\" class=\"row_heading level0 row16\" >16</th>\n",
              "      <td id=\"T_8bfaa_row16_col0\" class=\"data row16 col0\" >Log Experiment</td>\n",
              "      <td id=\"T_8bfaa_row16_col1\" class=\"data row16 col1\" >False</td>\n",
              "    </tr>\n",
              "    <tr>\n",
              "      <th id=\"T_8bfaa_level0_row17\" class=\"row_heading level0 row17\" >17</th>\n",
              "      <td id=\"T_8bfaa_row17_col0\" class=\"data row17 col0\" >Experiment Name</td>\n",
              "      <td id=\"T_8bfaa_row17_col1\" class=\"data row17 col1\" >clf-default-name</td>\n",
              "    </tr>\n",
              "    <tr>\n",
              "      <th id=\"T_8bfaa_level0_row18\" class=\"row_heading level0 row18\" >18</th>\n",
              "      <td id=\"T_8bfaa_row18_col0\" class=\"data row18 col0\" >USI</td>\n",
              "      <td id=\"T_8bfaa_row18_col1\" class=\"data row18 col1\" >c428</td>\n",
              "    </tr>\n",
              "  </tbody>\n",
              "</table>\n"
            ]
          },
          "metadata": {}
        }
      ]
    },
    {
      "cell_type": "code",
      "source": [
        "best = compare_models()"
      ],
      "metadata": {
        "id": "IJgmOlUbH-GI",
        "colab": {
          "base_uri": "https://localhost:8080/",
          "height": 520,
          "referenced_widgets": [
            "74c71dee122f4882807b0099d51739d8",
            "9b16fcc482bc4c86a9a05e7f1301d042",
            "e73ac163d62a40928ba0a9852d5292f5",
            "ec942cd762cc4735aa5db7af9f9d1fc0",
            "5a8049b0b69740ca93acf1933d894144",
            "b727d042a0a1427e9524fbf2f2e681f5",
            "119b877747be496cb60dcbbc784aa75a",
            "7b16de2440a94029b662f57f706915f9",
            "6d14b14881634c0e98457a584ca8440d",
            "d69076f8a0c742aaaf0a9b3212bd7d4e",
            "42473e4845384a149c44d2fccbb36af2"
          ]
        },
        "outputId": "2cd63dd3-03b8-4f2c-b5d8-6715b2829648"
      },
      "execution_count": null,
      "outputs": [
        {
          "output_type": "display_data",
          "data": {
            "text/plain": [
              "<IPython.core.display.HTML object>"
            ],
            "text/html": []
          },
          "metadata": {}
        },
        {
          "output_type": "display_data",
          "data": {
            "text/plain": [
              "<pandas.io.formats.style.Styler at 0x782910af5690>"
            ],
            "text/html": [
              "<style type=\"text/css\">\n",
              "#T_575db th {\n",
              "  text-align: left;\n",
              "}\n",
              "#T_575db_row0_col0, #T_575db_row0_col2, #T_575db_row0_col3, #T_575db_row1_col0, #T_575db_row1_col1, #T_575db_row1_col2, #T_575db_row1_col4, #T_575db_row1_col5, #T_575db_row1_col6, #T_575db_row1_col7, #T_575db_row2_col0, #T_575db_row2_col1, #T_575db_row2_col2, #T_575db_row2_col3, #T_575db_row2_col4, #T_575db_row2_col5, #T_575db_row2_col6, #T_575db_row2_col7, #T_575db_row3_col0, #T_575db_row3_col1, #T_575db_row3_col3, #T_575db_row3_col4, #T_575db_row3_col5, #T_575db_row3_col6, #T_575db_row3_col7, #T_575db_row4_col0, #T_575db_row4_col1, #T_575db_row4_col2, #T_575db_row4_col3, #T_575db_row4_col4, #T_575db_row4_col5, #T_575db_row4_col6, #T_575db_row4_col7, #T_575db_row5_col0, #T_575db_row5_col1, #T_575db_row5_col2, #T_575db_row5_col3, #T_575db_row5_col4, #T_575db_row5_col5, #T_575db_row5_col6, #T_575db_row5_col7, #T_575db_row6_col0, #T_575db_row6_col1, #T_575db_row6_col2, #T_575db_row6_col3, #T_575db_row6_col4, #T_575db_row6_col5, #T_575db_row6_col6, #T_575db_row6_col7, #T_575db_row7_col0, #T_575db_row7_col1, #T_575db_row7_col2, #T_575db_row7_col3, #T_575db_row7_col4, #T_575db_row7_col5, #T_575db_row7_col6, #T_575db_row7_col7, #T_575db_row8_col0, #T_575db_row8_col1, #T_575db_row8_col2, #T_575db_row8_col3, #T_575db_row8_col4, #T_575db_row8_col5, #T_575db_row8_col6, #T_575db_row8_col7, #T_575db_row9_col0, #T_575db_row9_col1, #T_575db_row9_col2, #T_575db_row9_col3, #T_575db_row9_col4, #T_575db_row9_col5, #T_575db_row9_col6, #T_575db_row9_col7, #T_575db_row10_col0, #T_575db_row10_col1, #T_575db_row10_col2, #T_575db_row10_col3, #T_575db_row10_col4, #T_575db_row10_col5, #T_575db_row10_col6, #T_575db_row10_col7, #T_575db_row11_col0, #T_575db_row11_col1, #T_575db_row11_col2, #T_575db_row11_col3, #T_575db_row11_col4, #T_575db_row11_col5, #T_575db_row11_col6, #T_575db_row11_col7, #T_575db_row12_col0, #T_575db_row12_col1, #T_575db_row12_col2, #T_575db_row12_col3, #T_575db_row12_col4, #T_575db_row12_col5, #T_575db_row12_col6, #T_575db_row12_col7, #T_575db_row13_col0, #T_575db_row13_col1, #T_575db_row13_col2, #T_575db_row13_col3, #T_575db_row13_col4, #T_575db_row13_col5, #T_575db_row13_col6, #T_575db_row13_col7, #T_575db_row14_col0, #T_575db_row14_col1, #T_575db_row14_col2, #T_575db_row14_col3, #T_575db_row14_col4, #T_575db_row14_col5, #T_575db_row14_col6, #T_575db_row14_col7 {\n",
              "  text-align: left;\n",
              "}\n",
              "#T_575db_row0_col1, #T_575db_row0_col4, #T_575db_row0_col5, #T_575db_row0_col6, #T_575db_row0_col7, #T_575db_row1_col3, #T_575db_row3_col2 {\n",
              "  text-align: left;\n",
              "  background-color: yellow;\n",
              "}\n",
              "#T_575db_row0_col8, #T_575db_row1_col8, #T_575db_row2_col8, #T_575db_row3_col8, #T_575db_row4_col8, #T_575db_row5_col8, #T_575db_row6_col8, #T_575db_row7_col8, #T_575db_row9_col8, #T_575db_row10_col8, #T_575db_row11_col8, #T_575db_row12_col8, #T_575db_row13_col8, #T_575db_row14_col8 {\n",
              "  text-align: left;\n",
              "  background-color: lightgrey;\n",
              "}\n",
              "#T_575db_row8_col8 {\n",
              "  text-align: left;\n",
              "  background-color: yellow;\n",
              "  background-color: lightgrey;\n",
              "}\n",
              "</style>\n",
              "<table id=\"T_575db\" class=\"dataframe\">\n",
              "  <thead>\n",
              "    <tr>\n",
              "      <th class=\"blank level0\" >&nbsp;</th>\n",
              "      <th id=\"T_575db_level0_col0\" class=\"col_heading level0 col0\" >Model</th>\n",
              "      <th id=\"T_575db_level0_col1\" class=\"col_heading level0 col1\" >Accuracy</th>\n",
              "      <th id=\"T_575db_level0_col2\" class=\"col_heading level0 col2\" >AUC</th>\n",
              "      <th id=\"T_575db_level0_col3\" class=\"col_heading level0 col3\" >Recall</th>\n",
              "      <th id=\"T_575db_level0_col4\" class=\"col_heading level0 col4\" >Prec.</th>\n",
              "      <th id=\"T_575db_level0_col5\" class=\"col_heading level0 col5\" >F1</th>\n",
              "      <th id=\"T_575db_level0_col6\" class=\"col_heading level0 col6\" >Kappa</th>\n",
              "      <th id=\"T_575db_level0_col7\" class=\"col_heading level0 col7\" >MCC</th>\n",
              "      <th id=\"T_575db_level0_col8\" class=\"col_heading level0 col8\" >TT (Sec)</th>\n",
              "    </tr>\n",
              "  </thead>\n",
              "  <tbody>\n",
              "    <tr>\n",
              "      <th id=\"T_575db_level0_row0\" class=\"row_heading level0 row0\" >lightgbm</th>\n",
              "      <td id=\"T_575db_row0_col0\" class=\"data row0 col0\" >Light Gradient Boosting Machine</td>\n",
              "      <td id=\"T_575db_row0_col1\" class=\"data row0 col1\" >0.8344</td>\n",
              "      <td id=\"T_575db_row0_col2\" class=\"data row0 col2\" >0.8554</td>\n",
              "      <td id=\"T_575db_row0_col3\" class=\"data row0 col3\" >0.7444</td>\n",
              "      <td id=\"T_575db_row0_col4\" class=\"data row0 col4\" >0.8131</td>\n",
              "      <td id=\"T_575db_row0_col5\" class=\"data row0 col5\" >0.7728</td>\n",
              "      <td id=\"T_575db_row0_col6\" class=\"data row0 col6\" >0.6435</td>\n",
              "      <td id=\"T_575db_row0_col7\" class=\"data row0 col7\" >0.6491</td>\n",
              "      <td id=\"T_575db_row0_col8\" class=\"data row0 col8\" >0.3060</td>\n",
              "    </tr>\n",
              "    <tr>\n",
              "      <th id=\"T_575db_level0_row1\" class=\"row_heading level0 row1\" >xgboost</th>\n",
              "      <td id=\"T_575db_row1_col0\" class=\"data row1 col0\" >Extreme Gradient Boosting</td>\n",
              "      <td id=\"T_575db_row1_col1\" class=\"data row1 col1\" >0.8264</td>\n",
              "      <td id=\"T_575db_row1_col2\" class=\"data row1 col2\" >0.8416</td>\n",
              "      <td id=\"T_575db_row1_col3\" class=\"data row1 col3\" >0.7447</td>\n",
              "      <td id=\"T_575db_row1_col4\" class=\"data row1 col4\" >0.7932</td>\n",
              "      <td id=\"T_575db_row1_col5\" class=\"data row1 col5\" >0.7634</td>\n",
              "      <td id=\"T_575db_row1_col6\" class=\"data row1 col6\" >0.6273</td>\n",
              "      <td id=\"T_575db_row1_col7\" class=\"data row1 col7\" >0.6326</td>\n",
              "      <td id=\"T_575db_row1_col8\" class=\"data row1 col8\" >0.0860</td>\n",
              "    </tr>\n",
              "    <tr>\n",
              "      <th id=\"T_575db_level0_row2\" class=\"row_heading level0 row2\" >rf</th>\n",
              "      <td id=\"T_575db_row2_col0\" class=\"data row2 col0\" >Random Forest Classifier</td>\n",
              "      <td id=\"T_575db_row2_col1\" class=\"data row2 col1\" >0.8135</td>\n",
              "      <td id=\"T_575db_row2_col2\" class=\"data row2 col2\" >0.8394</td>\n",
              "      <td id=\"T_575db_row2_col3\" class=\"data row2 col3\" >0.7406</td>\n",
              "      <td id=\"T_575db_row2_col4\" class=\"data row2 col4\" >0.7672</td>\n",
              "      <td id=\"T_575db_row2_col5\" class=\"data row2 col5\" >0.7507</td>\n",
              "      <td id=\"T_575db_row2_col6\" class=\"data row2 col6\" >0.6024</td>\n",
              "      <td id=\"T_575db_row2_col7\" class=\"data row2 col7\" >0.6055</td>\n",
              "      <td id=\"T_575db_row2_col8\" class=\"data row2 col8\" >0.3410</td>\n",
              "    </tr>\n",
              "    <tr>\n",
              "      <th id=\"T_575db_level0_row3\" class=\"row_heading level0 row3\" >gbc</th>\n",
              "      <td id=\"T_575db_row3_col0\" class=\"data row3 col0\" >Gradient Boosting Classifier</td>\n",
              "      <td id=\"T_575db_row3_col1\" class=\"data row3 col1\" >0.8103</td>\n",
              "      <td id=\"T_575db_row3_col2\" class=\"data row3 col2\" >0.8634</td>\n",
              "      <td id=\"T_575db_row3_col3\" class=\"data row3 col3\" >0.6899</td>\n",
              "      <td id=\"T_575db_row3_col4\" class=\"data row3 col4\" >0.7923</td>\n",
              "      <td id=\"T_575db_row3_col5\" class=\"data row3 col5\" >0.7327</td>\n",
              "      <td id=\"T_575db_row3_col6\" class=\"data row3 col6\" >0.5878</td>\n",
              "      <td id=\"T_575db_row3_col7\" class=\"data row3 col7\" >0.5950</td>\n",
              "      <td id=\"T_575db_row3_col8\" class=\"data row3 col8\" >0.2090</td>\n",
              "    </tr>\n",
              "    <tr>\n",
              "      <th id=\"T_575db_level0_row4\" class=\"row_heading level0 row4\" >qda</th>\n",
              "      <td id=\"T_575db_row4_col0\" class=\"data row4 col0\" >Quadratic Discriminant Analysis</td>\n",
              "      <td id=\"T_575db_row4_col1\" class=\"data row4 col1\" >0.7957</td>\n",
              "      <td id=\"T_575db_row4_col2\" class=\"data row4 col2\" >0.8318</td>\n",
              "      <td id=\"T_575db_row4_col3\" class=\"data row4 col3\" >0.7058</td>\n",
              "      <td id=\"T_575db_row4_col4\" class=\"data row4 col4\" >0.7489</td>\n",
              "      <td id=\"T_575db_row4_col5\" class=\"data row4 col5\" >0.7231</td>\n",
              "      <td id=\"T_575db_row4_col6\" class=\"data row4 col6\" >0.5620</td>\n",
              "      <td id=\"T_575db_row4_col7\" class=\"data row4 col7\" >0.5662</td>\n",
              "      <td id=\"T_575db_row4_col8\" class=\"data row4 col8\" >0.0470</td>\n",
              "    </tr>\n",
              "    <tr>\n",
              "      <th id=\"T_575db_level0_row5\" class=\"row_heading level0 row5\" >et</th>\n",
              "      <td id=\"T_575db_row5_col0\" class=\"data row5 col0\" >Extra Trees Classifier</td>\n",
              "      <td id=\"T_575db_row5_col1\" class=\"data row5 col1\" >0.7942</td>\n",
              "      <td id=\"T_575db_row5_col2\" class=\"data row5 col2\" >0.8309</td>\n",
              "      <td id=\"T_575db_row5_col3\" class=\"data row5 col3\" >0.7150</td>\n",
              "      <td id=\"T_575db_row5_col4\" class=\"data row5 col4\" >0.7373</td>\n",
              "      <td id=\"T_575db_row5_col5\" class=\"data row5 col5\" >0.7244</td>\n",
              "      <td id=\"T_575db_row5_col6\" class=\"data row5 col6\" >0.5606</td>\n",
              "      <td id=\"T_575db_row5_col7\" class=\"data row5 col7\" >0.5622</td>\n",
              "      <td id=\"T_575db_row5_col8\" class=\"data row5 col8\" >0.4480</td>\n",
              "    </tr>\n",
              "    <tr>\n",
              "      <th id=\"T_575db_level0_row6\" class=\"row_heading level0 row6\" >ada</th>\n",
              "      <td id=\"T_575db_row6_col0\" class=\"data row6 col0\" >Ada Boost Classifier</td>\n",
              "      <td id=\"T_575db_row6_col1\" class=\"data row6 col1\" >0.7910</td>\n",
              "      <td id=\"T_575db_row6_col2\" class=\"data row6 col2\" >0.8470</td>\n",
              "      <td id=\"T_575db_row6_col3\" class=\"data row6 col3\" >0.7188</td>\n",
              "      <td id=\"T_575db_row6_col4\" class=\"data row6 col4\" >0.7327</td>\n",
              "      <td id=\"T_575db_row6_col5\" class=\"data row6 col5\" >0.7212</td>\n",
              "      <td id=\"T_575db_row6_col6\" class=\"data row6 col6\" >0.5547</td>\n",
              "      <td id=\"T_575db_row6_col7\" class=\"data row6 col7\" >0.5594</td>\n",
              "      <td id=\"T_575db_row6_col8\" class=\"data row6 col8\" >0.1820</td>\n",
              "    </tr>\n",
              "    <tr>\n",
              "      <th id=\"T_575db_level0_row7\" class=\"row_heading level0 row7\" >lda</th>\n",
              "      <td id=\"T_575db_row7_col0\" class=\"data row7 col0\" >Linear Discriminant Analysis</td>\n",
              "      <td id=\"T_575db_row7_col1\" class=\"data row7 col1\" >0.7910</td>\n",
              "      <td id=\"T_575db_row7_col2\" class=\"data row7 col2\" >0.8427</td>\n",
              "      <td id=\"T_575db_row7_col3\" class=\"data row7 col3\" >0.6726</td>\n",
              "      <td id=\"T_575db_row7_col4\" class=\"data row7 col4\" >0.7550</td>\n",
              "      <td id=\"T_575db_row7_col5\" class=\"data row7 col5\" >0.7077</td>\n",
              "      <td id=\"T_575db_row7_col6\" class=\"data row7 col6\" >0.5468</td>\n",
              "      <td id=\"T_575db_row7_col7\" class=\"data row7 col7\" >0.5519</td>\n",
              "      <td id=\"T_575db_row7_col8\" class=\"data row7 col8\" >0.0630</td>\n",
              "    </tr>\n",
              "    <tr>\n",
              "      <th id=\"T_575db_level0_row8\" class=\"row_heading level0 row8\" >ridge</th>\n",
              "      <td id=\"T_575db_row8_col0\" class=\"data row8 col0\" >Ridge Classifier</td>\n",
              "      <td id=\"T_575db_row8_col1\" class=\"data row8 col1\" >0.7893</td>\n",
              "      <td id=\"T_575db_row8_col2\" class=\"data row8 col2\" >0.0000</td>\n",
              "      <td id=\"T_575db_row8_col3\" class=\"data row8 col3\" >0.6641</td>\n",
              "      <td id=\"T_575db_row8_col4\" class=\"data row8 col4\" >0.7560</td>\n",
              "      <td id=\"T_575db_row8_col5\" class=\"data row8 col5\" >0.7030</td>\n",
              "      <td id=\"T_575db_row8_col6\" class=\"data row8 col6\" >0.5420</td>\n",
              "      <td id=\"T_575db_row8_col7\" class=\"data row8 col7\" >0.5477</td>\n",
              "      <td id=\"T_575db_row8_col8\" class=\"data row8 col8\" >0.0420</td>\n",
              "    </tr>\n",
              "    <tr>\n",
              "      <th id=\"T_575db_level0_row9\" class=\"row_heading level0 row9\" >dt</th>\n",
              "      <td id=\"T_575db_row9_col0\" class=\"data row9 col0\" >Decision Tree Classifier</td>\n",
              "      <td id=\"T_575db_row9_col1\" class=\"data row9 col1\" >0.7878</td>\n",
              "      <td id=\"T_575db_row9_col2\" class=\"data row9 col2\" >0.7754</td>\n",
              "      <td id=\"T_575db_row9_col3\" class=\"data row9 col3\" >0.7275</td>\n",
              "      <td id=\"T_575db_row9_col4\" class=\"data row9 col4\" >0.7249</td>\n",
              "      <td id=\"T_575db_row9_col5\" class=\"data row9 col5\" >0.7231</td>\n",
              "      <td id=\"T_575db_row9_col6\" class=\"data row9 col6\" >0.5515</td>\n",
              "      <td id=\"T_575db_row9_col7\" class=\"data row9 col7\" >0.5546</td>\n",
              "      <td id=\"T_575db_row9_col8\" class=\"data row9 col8\" >0.1050</td>\n",
              "    </tr>\n",
              "    <tr>\n",
              "      <th id=\"T_575db_level0_row10\" class=\"row_heading level0 row10\" >lr</th>\n",
              "      <td id=\"T_575db_row10_col0\" class=\"data row10 col0\" >Logistic Regression</td>\n",
              "      <td id=\"T_575db_row10_col1\" class=\"data row10 col1\" >0.7829</td>\n",
              "      <td id=\"T_575db_row10_col2\" class=\"data row10 col2\" >0.8422</td>\n",
              "      <td id=\"T_575db_row10_col3\" class=\"data row10 col3\" >0.6639</td>\n",
              "      <td id=\"T_575db_row10_col4\" class=\"data row10 col4\" >0.7442</td>\n",
              "      <td id=\"T_575db_row10_col5\" class=\"data row10 col5\" >0.6962</td>\n",
              "      <td id=\"T_575db_row10_col6\" class=\"data row10 col6\" >0.5294</td>\n",
              "      <td id=\"T_575db_row10_col7\" class=\"data row10 col7\" >0.5359</td>\n",
              "      <td id=\"T_575db_row10_col8\" class=\"data row10 col8\" >0.0610</td>\n",
              "    </tr>\n",
              "    <tr>\n",
              "      <th id=\"T_575db_level0_row11\" class=\"row_heading level0 row11\" >knn</th>\n",
              "      <td id=\"T_575db_row11_col0\" class=\"data row11 col0\" >K Neighbors Classifier</td>\n",
              "      <td id=\"T_575db_row11_col1\" class=\"data row11 col1\" >0.7796</td>\n",
              "      <td id=\"T_575db_row11_col2\" class=\"data row11 col2\" >0.8141</td>\n",
              "      <td id=\"T_575db_row11_col3\" class=\"data row11 col3\" >0.6857</td>\n",
              "      <td id=\"T_575db_row11_col4\" class=\"data row11 col4\" >0.7312</td>\n",
              "      <td id=\"T_575db_row11_col5\" class=\"data row11 col5\" >0.7029</td>\n",
              "      <td id=\"T_575db_row11_col6\" class=\"data row11 col6\" >0.5286</td>\n",
              "      <td id=\"T_575db_row11_col7\" class=\"data row11 col7\" >0.5338</td>\n",
              "      <td id=\"T_575db_row11_col8\" class=\"data row11 col8\" >0.0950</td>\n",
              "    </tr>\n",
              "    <tr>\n",
              "      <th id=\"T_575db_level0_row12\" class=\"row_heading level0 row12\" >nb</th>\n",
              "      <td id=\"T_575db_row12_col0\" class=\"data row12 col0\" >Naive Bayes</td>\n",
              "      <td id=\"T_575db_row12_col1\" class=\"data row12 col1\" >0.7700</td>\n",
              "      <td id=\"T_575db_row12_col2\" class=\"data row12 col2\" >0.8352</td>\n",
              "      <td id=\"T_575db_row12_col3\" class=\"data row12 col3\" >0.6851</td>\n",
              "      <td id=\"T_575db_row12_col4\" class=\"data row12 col4\" >0.7044</td>\n",
              "      <td id=\"T_575db_row12_col5\" class=\"data row12 col5\" >0.6901</td>\n",
              "      <td id=\"T_575db_row12_col6\" class=\"data row12 col6\" >0.5085</td>\n",
              "      <td id=\"T_575db_row12_col7\" class=\"data row12 col7\" >0.5124</td>\n",
              "      <td id=\"T_575db_row12_col8\" class=\"data row12 col8\" >0.0720</td>\n",
              "    </tr>\n",
              "    <tr>\n",
              "      <th id=\"T_575db_level0_row13\" class=\"row_heading level0 row13\" >svm</th>\n",
              "      <td id=\"T_575db_row13_col0\" class=\"data row13 col0\" >SVM - Linear Kernel</td>\n",
              "      <td id=\"T_575db_row13_col1\" class=\"data row13 col1\" >0.7348</td>\n",
              "      <td id=\"T_575db_row13_col2\" class=\"data row13 col2\" >0.0000</td>\n",
              "      <td id=\"T_575db_row13_col3\" class=\"data row13 col3\" >0.4991</td>\n",
              "      <td id=\"T_575db_row13_col4\" class=\"data row13 col4\" >0.7969</td>\n",
              "      <td id=\"T_575db_row13_col5\" class=\"data row13 col5\" >0.5486</td>\n",
              "      <td id=\"T_575db_row13_col6\" class=\"data row13 col6\" >0.3931</td>\n",
              "      <td id=\"T_575db_row13_col7\" class=\"data row13 col7\" >0.4400</td>\n",
              "      <td id=\"T_575db_row13_col8\" class=\"data row13 col8\" >0.0490</td>\n",
              "    </tr>\n",
              "    <tr>\n",
              "      <th id=\"T_575db_level0_row14\" class=\"row_heading level0 row14\" >dummy</th>\n",
              "      <td id=\"T_575db_row14_col0\" class=\"data row14 col0\" >Dummy Classifier</td>\n",
              "      <td id=\"T_575db_row14_col1\" class=\"data row14 col1\" >0.6174</td>\n",
              "      <td id=\"T_575db_row14_col2\" class=\"data row14 col2\" >0.5000</td>\n",
              "      <td id=\"T_575db_row14_col3\" class=\"data row14 col3\" >0.0000</td>\n",
              "      <td id=\"T_575db_row14_col4\" class=\"data row14 col4\" >0.0000</td>\n",
              "      <td id=\"T_575db_row14_col5\" class=\"data row14 col5\" >0.0000</td>\n",
              "      <td id=\"T_575db_row14_col6\" class=\"data row14 col6\" >0.0000</td>\n",
              "      <td id=\"T_575db_row14_col7\" class=\"data row14 col7\" >0.0000</td>\n",
              "      <td id=\"T_575db_row14_col8\" class=\"data row14 col8\" >0.0480</td>\n",
              "    </tr>\n",
              "  </tbody>\n",
              "</table>\n"
            ]
          },
          "metadata": {}
        },
        {
          "output_type": "display_data",
          "data": {
            "text/plain": [
              "Processing:   0%|          | 0/65 [00:00<?, ?it/s]"
            ],
            "application/vnd.jupyter.widget-view+json": {
              "version_major": 2,
              "version_minor": 0,
              "model_id": "74c71dee122f4882807b0099d51739d8"
            }
          },
          "metadata": {
            "application/vnd.jupyter.widget-view+json": {
              "colab": {
                "custom_widget_manager": {
                  "url": "https://ssl.gstatic.com/colaboratory-static/widgets/colab-cdn-widget-manager/b3e629b1971e1542/manager.min.js"
                }
              }
            }
          }
        },
        {
          "output_type": "display_data",
          "data": {
            "text/plain": [
              "<IPython.core.display.HTML object>"
            ],
            "text/html": []
          },
          "metadata": {}
        }
      ]
    },
    {
      "cell_type": "markdown",
      "source": [
        "# Balance de las variables objetivo\n"
      ],
      "metadata": {
        "id": "yhxq94A87_MC"
      }
    },
    {
      "cell_type": "markdown",
      "source": [
        "La proporción de los datos de entrenamiento es aproximadamente de 60% de no sobrevivientes, y 40% de sobrevivientes. Se procede con el balanceo de los datos con el fin de determinar si existe cierta \"preferencia\" por el modelo para los no sobrevivientes; en el caso de que se revise que las métricas de los modelos de ML son similares a la base de datos original, se dejará esta última para mantener la distribución de los datos a como sucedió en realidad."
      ],
      "metadata": {
        "id": "AOJ6yk1QB2Xi"
      }
    },
    {
      "cell_type": "code",
      "source": [
        "df[\"Survived\"].value_counts()/len(df[\"Survived\"])*100"
      ],
      "metadata": {
        "colab": {
          "base_uri": "https://localhost:8080/"
        },
        "id": "1eyUWzcj7-lX",
        "outputId": "8f74fafe-b342-41d0-ac66-749a0d28500d"
      },
      "execution_count": null,
      "outputs": [
        {
          "output_type": "execute_result",
          "data": {
            "text/plain": [
              "0    61.754781\n",
              "1    38.245219\n",
              "Name: Survived, dtype: float64"
            ]
          },
          "metadata": {},
          "execution_count": 11
        }
      ]
    },
    {
      "cell_type": "markdown",
      "source": [
        "Con esta funcion de oversampling, se puede conseguir que la proporcion entre sobrevivientes y no sobrevivientes sea la misma."
      ],
      "metadata": {
        "id": "4jrXpiZO8p9l"
      }
    },
    {
      "cell_type": "code",
      "source": [
        "from imblearn.over_sampling import RandomOverSampler\n",
        "over_sampler = RandomOverSampler(random_state=42)\n",
        "x_res, y_res = over_sampler.fit_resample(x_train, y_train)\n",
        "print(f\"Training target statistics: \\n{y_res.value_counts()}\")\n",
        "#print(f\"Testing target statistics: {Counter(y_test)}\")"
      ],
      "metadata": {
        "colab": {
          "base_uri": "https://localhost:8080/"
        },
        "id": "lXxfb5QK8Dbp",
        "outputId": "0abf01ea-e988-4a4f-f722-cd362e669d10"
      },
      "execution_count": null,
      "outputs": [
        {
          "output_type": "stream",
          "name": "stdout",
          "text": [
            "Training target statistics: \n",
            "0    549\n",
            "1    549\n",
            "Name: Survived, dtype: int64\n"
          ]
        }
      ]
    },
    {
      "cell_type": "markdown",
      "source": [
        "## Comparación de modelos con los datos balanceados"
      ],
      "metadata": {
        "id": "dGlWrk-DN6Jn"
      }
    },
    {
      "cell_type": "code",
      "source": [
        "# Iniciar setup\n",
        "s = setup(x_res, target = y_res, session_id = 123)"
      ],
      "metadata": {
        "colab": {
          "base_uri": "https://localhost:8080/"
        },
        "outputId": "116f6971-d0ad-4772-98f8-e9b398221e10",
        "id": "hRIeJDEbOCTe"
      },
      "execution_count": null,
      "outputs": [
        {
          "output_type": "display_data",
          "data": {
            "text/plain": [
              "<pandas.io.formats.style.Styler at 0x7829107cb880>"
            ],
            "text/html": [
              "<style type=\"text/css\">\n",
              "#T_713b3_row8_col1 {\n",
              "  background-color: lightgreen;\n",
              "}\n",
              "</style>\n",
              "<table id=\"T_713b3\" class=\"dataframe\">\n",
              "  <thead>\n",
              "    <tr>\n",
              "      <th class=\"blank level0\" >&nbsp;</th>\n",
              "      <th id=\"T_713b3_level0_col0\" class=\"col_heading level0 col0\" >Description</th>\n",
              "      <th id=\"T_713b3_level0_col1\" class=\"col_heading level0 col1\" >Value</th>\n",
              "    </tr>\n",
              "  </thead>\n",
              "  <tbody>\n",
              "    <tr>\n",
              "      <th id=\"T_713b3_level0_row0\" class=\"row_heading level0 row0\" >0</th>\n",
              "      <td id=\"T_713b3_row0_col0\" class=\"data row0 col0\" >Session id</td>\n",
              "      <td id=\"T_713b3_row0_col1\" class=\"data row0 col1\" >123</td>\n",
              "    </tr>\n",
              "    <tr>\n",
              "      <th id=\"T_713b3_level0_row1\" class=\"row_heading level0 row1\" >1</th>\n",
              "      <td id=\"T_713b3_row1_col0\" class=\"data row1 col0\" >Target</td>\n",
              "      <td id=\"T_713b3_row1_col1\" class=\"data row1 col1\" >Survived</td>\n",
              "    </tr>\n",
              "    <tr>\n",
              "      <th id=\"T_713b3_level0_row2\" class=\"row_heading level0 row2\" >2</th>\n",
              "      <td id=\"T_713b3_row2_col0\" class=\"data row2 col0\" >Target type</td>\n",
              "      <td id=\"T_713b3_row2_col1\" class=\"data row2 col1\" >Binary</td>\n",
              "    </tr>\n",
              "    <tr>\n",
              "      <th id=\"T_713b3_level0_row3\" class=\"row_heading level0 row3\" >3</th>\n",
              "      <td id=\"T_713b3_row3_col0\" class=\"data row3 col0\" >Original data shape</td>\n",
              "      <td id=\"T_713b3_row3_col1\" class=\"data row3 col1\" >(1098, 9)</td>\n",
              "    </tr>\n",
              "    <tr>\n",
              "      <th id=\"T_713b3_level0_row4\" class=\"row_heading level0 row4\" >4</th>\n",
              "      <td id=\"T_713b3_row4_col0\" class=\"data row4 col0\" >Transformed data shape</td>\n",
              "      <td id=\"T_713b3_row4_col1\" class=\"data row4 col1\" >(1098, 9)</td>\n",
              "    </tr>\n",
              "    <tr>\n",
              "      <th id=\"T_713b3_level0_row5\" class=\"row_heading level0 row5\" >5</th>\n",
              "      <td id=\"T_713b3_row5_col0\" class=\"data row5 col0\" >Transformed train set shape</td>\n",
              "      <td id=\"T_713b3_row5_col1\" class=\"data row5 col1\" >(768, 9)</td>\n",
              "    </tr>\n",
              "    <tr>\n",
              "      <th id=\"T_713b3_level0_row6\" class=\"row_heading level0 row6\" >6</th>\n",
              "      <td id=\"T_713b3_row6_col0\" class=\"data row6 col0\" >Transformed test set shape</td>\n",
              "      <td id=\"T_713b3_row6_col1\" class=\"data row6 col1\" >(330, 9)</td>\n",
              "    </tr>\n",
              "    <tr>\n",
              "      <th id=\"T_713b3_level0_row7\" class=\"row_heading level0 row7\" >7</th>\n",
              "      <td id=\"T_713b3_row7_col0\" class=\"data row7 col0\" >Numeric features</td>\n",
              "      <td id=\"T_713b3_row7_col1\" class=\"data row7 col1\" >8</td>\n",
              "    </tr>\n",
              "    <tr>\n",
              "      <th id=\"T_713b3_level0_row8\" class=\"row_heading level0 row8\" >8</th>\n",
              "      <td id=\"T_713b3_row8_col0\" class=\"data row8 col0\" >Preprocess</td>\n",
              "      <td id=\"T_713b3_row8_col1\" class=\"data row8 col1\" >True</td>\n",
              "    </tr>\n",
              "    <tr>\n",
              "      <th id=\"T_713b3_level0_row9\" class=\"row_heading level0 row9\" >9</th>\n",
              "      <td id=\"T_713b3_row9_col0\" class=\"data row9 col0\" >Imputation type</td>\n",
              "      <td id=\"T_713b3_row9_col1\" class=\"data row9 col1\" >simple</td>\n",
              "    </tr>\n",
              "    <tr>\n",
              "      <th id=\"T_713b3_level0_row10\" class=\"row_heading level0 row10\" >10</th>\n",
              "      <td id=\"T_713b3_row10_col0\" class=\"data row10 col0\" >Numeric imputation</td>\n",
              "      <td id=\"T_713b3_row10_col1\" class=\"data row10 col1\" >mean</td>\n",
              "    </tr>\n",
              "    <tr>\n",
              "      <th id=\"T_713b3_level0_row11\" class=\"row_heading level0 row11\" >11</th>\n",
              "      <td id=\"T_713b3_row11_col0\" class=\"data row11 col0\" >Categorical imputation</td>\n",
              "      <td id=\"T_713b3_row11_col1\" class=\"data row11 col1\" >mode</td>\n",
              "    </tr>\n",
              "    <tr>\n",
              "      <th id=\"T_713b3_level0_row12\" class=\"row_heading level0 row12\" >12</th>\n",
              "      <td id=\"T_713b3_row12_col0\" class=\"data row12 col0\" >Fold Generator</td>\n",
              "      <td id=\"T_713b3_row12_col1\" class=\"data row12 col1\" >StratifiedKFold</td>\n",
              "    </tr>\n",
              "    <tr>\n",
              "      <th id=\"T_713b3_level0_row13\" class=\"row_heading level0 row13\" >13</th>\n",
              "      <td id=\"T_713b3_row13_col0\" class=\"data row13 col0\" >Fold Number</td>\n",
              "      <td id=\"T_713b3_row13_col1\" class=\"data row13 col1\" >10</td>\n",
              "    </tr>\n",
              "    <tr>\n",
              "      <th id=\"T_713b3_level0_row14\" class=\"row_heading level0 row14\" >14</th>\n",
              "      <td id=\"T_713b3_row14_col0\" class=\"data row14 col0\" >CPU Jobs</td>\n",
              "      <td id=\"T_713b3_row14_col1\" class=\"data row14 col1\" >-1</td>\n",
              "    </tr>\n",
              "    <tr>\n",
              "      <th id=\"T_713b3_level0_row15\" class=\"row_heading level0 row15\" >15</th>\n",
              "      <td id=\"T_713b3_row15_col0\" class=\"data row15 col0\" >Use GPU</td>\n",
              "      <td id=\"T_713b3_row15_col1\" class=\"data row15 col1\" >False</td>\n",
              "    </tr>\n",
              "    <tr>\n",
              "      <th id=\"T_713b3_level0_row16\" class=\"row_heading level0 row16\" >16</th>\n",
              "      <td id=\"T_713b3_row16_col0\" class=\"data row16 col0\" >Log Experiment</td>\n",
              "      <td id=\"T_713b3_row16_col1\" class=\"data row16 col1\" >False</td>\n",
              "    </tr>\n",
              "    <tr>\n",
              "      <th id=\"T_713b3_level0_row17\" class=\"row_heading level0 row17\" >17</th>\n",
              "      <td id=\"T_713b3_row17_col0\" class=\"data row17 col0\" >Experiment Name</td>\n",
              "      <td id=\"T_713b3_row17_col1\" class=\"data row17 col1\" >clf-default-name</td>\n",
              "    </tr>\n",
              "    <tr>\n",
              "      <th id=\"T_713b3_level0_row18\" class=\"row_heading level0 row18\" >18</th>\n",
              "      <td id=\"T_713b3_row18_col0\" class=\"data row18 col0\" >USI</td>\n",
              "      <td id=\"T_713b3_row18_col1\" class=\"data row18 col1\" >f5d1</td>\n",
              "    </tr>\n",
              "  </tbody>\n",
              "</table>\n"
            ]
          },
          "metadata": {}
        }
      ]
    },
    {
      "cell_type": "code",
      "source": [
        "# Training y selección de modelos\n",
        "best = compare_models()"
      ],
      "metadata": {
        "colab": {
          "base_uri": "https://localhost:8080/",
          "referenced_widgets": [
            "90889b129b9745b9935d1efd727e768b",
            "e00630ee42a54814bac57b1c3ead0653",
            "58cc2c85ba7d48659091fe285ba4723a",
            "3e656ff61abe47419b0e7e1a045c540f",
            "1228299b1dd94b1688bad682af6dcd09",
            "4b592d37e8b341e8af9c3d23173ec126",
            "16b67ee0e6824565880d1ec25310031b",
            "32edbe666bcb4c6cb725a74391b69edb",
            "13d7c68f06c743449a921184b5f9c579",
            "2c241fe7170148c08eda4269ac9da689",
            "268696de1d4740a4b15201ce369610ee"
          ]
        },
        "outputId": "0f093b94-f257-4c37-8980-247d0fa12717",
        "id": "8a1xuTJiOCTf"
      },
      "execution_count": null,
      "outputs": [
        {
          "output_type": "display_data",
          "data": {
            "text/plain": [
              "<IPython.core.display.HTML object>"
            ],
            "text/html": []
          },
          "metadata": {}
        },
        {
          "output_type": "display_data",
          "data": {
            "text/plain": [
              "<pandas.io.formats.style.Styler at 0x782916cb7f10>"
            ],
            "text/html": [
              "<style type=\"text/css\">\n",
              "#T_28831 th {\n",
              "  text-align: left;\n",
              "}\n",
              "#T_28831_row0_col0, #T_28831_row0_col2, #T_28831_row0_col4, #T_28831_row1_col0, #T_28831_row1_col1, #T_28831_row1_col2, #T_28831_row1_col3, #T_28831_row1_col5, #T_28831_row1_col6, #T_28831_row1_col7, #T_28831_row2_col0, #T_28831_row2_col1, #T_28831_row2_col2, #T_28831_row2_col3, #T_28831_row2_col4, #T_28831_row2_col5, #T_28831_row2_col6, #T_28831_row2_col7, #T_28831_row3_col0, #T_28831_row3_col1, #T_28831_row3_col2, #T_28831_row3_col3, #T_28831_row3_col4, #T_28831_row3_col5, #T_28831_row3_col6, #T_28831_row3_col7, #T_28831_row4_col0, #T_28831_row4_col1, #T_28831_row4_col3, #T_28831_row4_col4, #T_28831_row4_col5, #T_28831_row4_col6, #T_28831_row4_col7, #T_28831_row5_col0, #T_28831_row5_col1, #T_28831_row5_col2, #T_28831_row5_col3, #T_28831_row5_col4, #T_28831_row5_col5, #T_28831_row5_col6, #T_28831_row5_col7, #T_28831_row6_col0, #T_28831_row6_col1, #T_28831_row6_col2, #T_28831_row6_col3, #T_28831_row6_col4, #T_28831_row6_col5, #T_28831_row6_col6, #T_28831_row6_col7, #T_28831_row7_col0, #T_28831_row7_col1, #T_28831_row7_col2, #T_28831_row7_col3, #T_28831_row7_col4, #T_28831_row7_col5, #T_28831_row7_col6, #T_28831_row7_col7, #T_28831_row8_col0, #T_28831_row8_col1, #T_28831_row8_col2, #T_28831_row8_col3, #T_28831_row8_col4, #T_28831_row8_col5, #T_28831_row8_col6, #T_28831_row8_col7, #T_28831_row9_col0, #T_28831_row9_col1, #T_28831_row9_col2, #T_28831_row9_col3, #T_28831_row9_col4, #T_28831_row9_col5, #T_28831_row9_col6, #T_28831_row9_col7, #T_28831_row10_col0, #T_28831_row10_col1, #T_28831_row10_col2, #T_28831_row10_col3, #T_28831_row10_col4, #T_28831_row10_col5, #T_28831_row10_col6, #T_28831_row10_col7, #T_28831_row11_col0, #T_28831_row11_col1, #T_28831_row11_col2, #T_28831_row11_col3, #T_28831_row11_col4, #T_28831_row11_col5, #T_28831_row11_col6, #T_28831_row11_col7, #T_28831_row12_col0, #T_28831_row12_col1, #T_28831_row12_col2, #T_28831_row12_col3, #T_28831_row12_col4, #T_28831_row12_col5, #T_28831_row12_col6, #T_28831_row12_col7, #T_28831_row13_col0, #T_28831_row13_col1, #T_28831_row13_col2, #T_28831_row13_col3, #T_28831_row13_col4, #T_28831_row13_col5, #T_28831_row13_col6, #T_28831_row13_col7, #T_28831_row14_col0, #T_28831_row14_col1, #T_28831_row14_col2, #T_28831_row14_col3, #T_28831_row14_col4, #T_28831_row14_col5, #T_28831_row14_col6, #T_28831_row14_col7 {\n",
              "  text-align: left;\n",
              "}\n",
              "#T_28831_row0_col1, #T_28831_row0_col3, #T_28831_row0_col5, #T_28831_row0_col6, #T_28831_row0_col7, #T_28831_row1_col4, #T_28831_row4_col2 {\n",
              "  text-align: left;\n",
              "  background-color: yellow;\n",
              "}\n",
              "#T_28831_row0_col8, #T_28831_row1_col8, #T_28831_row2_col8, #T_28831_row3_col8, #T_28831_row4_col8, #T_28831_row5_col8, #T_28831_row6_col8, #T_28831_row7_col8, #T_28831_row8_col8, #T_28831_row9_col8, #T_28831_row10_col8, #T_28831_row12_col8, #T_28831_row13_col8, #T_28831_row14_col8 {\n",
              "  text-align: left;\n",
              "  background-color: lightgrey;\n",
              "}\n",
              "#T_28831_row11_col8 {\n",
              "  text-align: left;\n",
              "  background-color: yellow;\n",
              "  background-color: lightgrey;\n",
              "}\n",
              "</style>\n",
              "<table id=\"T_28831\" class=\"dataframe\">\n",
              "  <thead>\n",
              "    <tr>\n",
              "      <th class=\"blank level0\" >&nbsp;</th>\n",
              "      <th id=\"T_28831_level0_col0\" class=\"col_heading level0 col0\" >Model</th>\n",
              "      <th id=\"T_28831_level0_col1\" class=\"col_heading level0 col1\" >Accuracy</th>\n",
              "      <th id=\"T_28831_level0_col2\" class=\"col_heading level0 col2\" >AUC</th>\n",
              "      <th id=\"T_28831_level0_col3\" class=\"col_heading level0 col3\" >Recall</th>\n",
              "      <th id=\"T_28831_level0_col4\" class=\"col_heading level0 col4\" >Prec.</th>\n",
              "      <th id=\"T_28831_level0_col5\" class=\"col_heading level0 col5\" >F1</th>\n",
              "      <th id=\"T_28831_level0_col6\" class=\"col_heading level0 col6\" >Kappa</th>\n",
              "      <th id=\"T_28831_level0_col7\" class=\"col_heading level0 col7\" >MCC</th>\n",
              "      <th id=\"T_28831_level0_col8\" class=\"col_heading level0 col8\" >TT (Sec)</th>\n",
              "    </tr>\n",
              "  </thead>\n",
              "  <tbody>\n",
              "    <tr>\n",
              "      <th id=\"T_28831_level0_row0\" class=\"row_heading level0 row0\" >rf</th>\n",
              "      <td id=\"T_28831_row0_col0\" class=\"data row0 col0\" >Random Forest Classifier</td>\n",
              "      <td id=\"T_28831_row0_col1\" class=\"data row0 col1\" >0.8319</td>\n",
              "      <td id=\"T_28831_row0_col2\" class=\"data row0 col2\" >0.8755</td>\n",
              "      <td id=\"T_28831_row0_col3\" class=\"data row0 col3\" >0.8410</td>\n",
              "      <td id=\"T_28831_row0_col4\" class=\"data row0 col4\" >0.8287</td>\n",
              "      <td id=\"T_28831_row0_col5\" class=\"data row0 col5\" >0.8328</td>\n",
              "      <td id=\"T_28831_row0_col6\" class=\"data row0 col6\" >0.6638</td>\n",
              "      <td id=\"T_28831_row0_col7\" class=\"data row0 col7\" >0.6671</td>\n",
              "      <td id=\"T_28831_row0_col8\" class=\"data row0 col8\" >0.3670</td>\n",
              "    </tr>\n",
              "    <tr>\n",
              "      <th id=\"T_28831_level0_row1\" class=\"row_heading level0 row1\" >gbc</th>\n",
              "      <td id=\"T_28831_row1_col0\" class=\"data row1 col0\" >Gradient Boosting Classifier</td>\n",
              "      <td id=\"T_28831_row1_col1\" class=\"data row1 col1\" >0.8189</td>\n",
              "      <td id=\"T_28831_row1_col2\" class=\"data row1 col2\" >0.8859</td>\n",
              "      <td id=\"T_28831_row1_col3\" class=\"data row1 col3\" >0.8042</td>\n",
              "      <td id=\"T_28831_row1_col4\" class=\"data row1 col4\" >0.8294</td>\n",
              "      <td id=\"T_28831_row1_col5\" class=\"data row1 col5\" >0.8150</td>\n",
              "      <td id=\"T_28831_row1_col6\" class=\"data row1 col6\" >0.6376</td>\n",
              "      <td id=\"T_28831_row1_col7\" class=\"data row1 col7\" >0.6403</td>\n",
              "      <td id=\"T_28831_row1_col8\" class=\"data row1 col8\" >0.2110</td>\n",
              "    </tr>\n",
              "    <tr>\n",
              "      <th id=\"T_28831_level0_row2\" class=\"row_heading level0 row2\" >xgboost</th>\n",
              "      <td id=\"T_28831_row2_col0\" class=\"data row2 col0\" >Extreme Gradient Boosting</td>\n",
              "      <td id=\"T_28831_row2_col1\" class=\"data row2 col1\" >0.8189</td>\n",
              "      <td id=\"T_28831_row2_col2\" class=\"data row2 col2\" >0.8852</td>\n",
              "      <td id=\"T_28831_row2_col3\" class=\"data row2 col3\" >0.8146</td>\n",
              "      <td id=\"T_28831_row2_col4\" class=\"data row2 col4\" >0.8215</td>\n",
              "      <td id=\"T_28831_row2_col5\" class=\"data row2 col5\" >0.8165</td>\n",
              "      <td id=\"T_28831_row2_col6\" class=\"data row2 col6\" >0.6377</td>\n",
              "      <td id=\"T_28831_row2_col7\" class=\"data row2 col7\" >0.6401</td>\n",
              "      <td id=\"T_28831_row2_col8\" class=\"data row2 col8\" >0.0980</td>\n",
              "    </tr>\n",
              "    <tr>\n",
              "      <th id=\"T_28831_level0_row3\" class=\"row_heading level0 row3\" >et</th>\n",
              "      <td id=\"T_28831_row3_col0\" class=\"data row3 col0\" >Extra Trees Classifier</td>\n",
              "      <td id=\"T_28831_row3_col1\" class=\"data row3 col1\" >0.8150</td>\n",
              "      <td id=\"T_28831_row3_col2\" class=\"data row3 col2\" >0.8739</td>\n",
              "      <td id=\"T_28831_row3_col3\" class=\"data row3 col3\" >0.8122</td>\n",
              "      <td id=\"T_28831_row3_col4\" class=\"data row3 col4\" >0.8181</td>\n",
              "      <td id=\"T_28831_row3_col5\" class=\"data row3 col5\" >0.8140</td>\n",
              "      <td id=\"T_28831_row3_col6\" class=\"data row3 col6\" >0.6299</td>\n",
              "      <td id=\"T_28831_row3_col7\" class=\"data row3 col7\" >0.6317</td>\n",
              "      <td id=\"T_28831_row3_col8\" class=\"data row3 col8\" >0.4990</td>\n",
              "    </tr>\n",
              "    <tr>\n",
              "      <th id=\"T_28831_level0_row4\" class=\"row_heading level0 row4\" >lightgbm</th>\n",
              "      <td id=\"T_28831_row4_col0\" class=\"data row4 col0\" >Light Gradient Boosting Machine</td>\n",
              "      <td id=\"T_28831_row4_col1\" class=\"data row4 col1\" >0.8137</td>\n",
              "      <td id=\"T_28831_row4_col2\" class=\"data row4 col2\" >0.8864</td>\n",
              "      <td id=\"T_28831_row4_col3\" class=\"data row4 col3\" >0.8018</td>\n",
              "      <td id=\"T_28831_row4_col4\" class=\"data row4 col4\" >0.8212</td>\n",
              "      <td id=\"T_28831_row4_col5\" class=\"data row4 col5\" >0.8105</td>\n",
              "      <td id=\"T_28831_row4_col6\" class=\"data row4 col6\" >0.6274</td>\n",
              "      <td id=\"T_28831_row4_col7\" class=\"data row4 col7\" >0.6288</td>\n",
              "      <td id=\"T_28831_row4_col8\" class=\"data row4 col8\" >0.4230</td>\n",
              "    </tr>\n",
              "    <tr>\n",
              "      <th id=\"T_28831_level0_row5\" class=\"row_heading level0 row5\" >dt</th>\n",
              "      <td id=\"T_28831_row5_col0\" class=\"data row5 col0\" >Decision Tree Classifier</td>\n",
              "      <td id=\"T_28831_row5_col1\" class=\"data row5 col1\" >0.8098</td>\n",
              "      <td id=\"T_28831_row5_col2\" class=\"data row5 col2\" >0.8369</td>\n",
              "      <td id=\"T_28831_row5_col3\" class=\"data row5 col3\" >0.8148</td>\n",
              "      <td id=\"T_28831_row5_col4\" class=\"data row5 col4\" >0.8073</td>\n",
              "      <td id=\"T_28831_row5_col5\" class=\"data row5 col5\" >0.8101</td>\n",
              "      <td id=\"T_28831_row5_col6\" class=\"data row5 col6\" >0.6195</td>\n",
              "      <td id=\"T_28831_row5_col7\" class=\"data row5 col7\" >0.6210</td>\n",
              "      <td id=\"T_28831_row5_col8\" class=\"data row5 col8\" >0.0930</td>\n",
              "    </tr>\n",
              "    <tr>\n",
              "      <th id=\"T_28831_level0_row6\" class=\"row_heading level0 row6\" >ada</th>\n",
              "      <td id=\"T_28831_row6_col0\" class=\"data row6 col0\" >Ada Boost Classifier</td>\n",
              "      <td id=\"T_28831_row6_col1\" class=\"data row6 col1\" >0.8046</td>\n",
              "      <td id=\"T_28831_row6_col2\" class=\"data row6 col2\" >0.8546</td>\n",
              "      <td id=\"T_28831_row6_col3\" class=\"data row6 col3\" >0.8148</td>\n",
              "      <td id=\"T_28831_row6_col4\" class=\"data row6 col4\" >0.8006</td>\n",
              "      <td id=\"T_28831_row6_col5\" class=\"data row6 col5\" >0.8058</td>\n",
              "      <td id=\"T_28831_row6_col6\" class=\"data row6 col6\" >0.6091</td>\n",
              "      <td id=\"T_28831_row6_col7\" class=\"data row6 col7\" >0.6123</td>\n",
              "      <td id=\"T_28831_row6_col8\" class=\"data row6 col8\" >0.2040</td>\n",
              "    </tr>\n",
              "    <tr>\n",
              "      <th id=\"T_28831_level0_row7\" class=\"row_heading level0 row7\" >lr</th>\n",
              "      <td id=\"T_28831_row7_col0\" class=\"data row7 col0\" >Logistic Regression</td>\n",
              "      <td id=\"T_28831_row7_col1\" class=\"data row7 col1\" >0.7850</td>\n",
              "      <td id=\"T_28831_row7_col2\" class=\"data row7 col2\" >0.8519</td>\n",
              "      <td id=\"T_28831_row7_col3\" class=\"data row7 col3\" >0.7705</td>\n",
              "      <td id=\"T_28831_row7_col4\" class=\"data row7 col4\" >0.7930</td>\n",
              "      <td id=\"T_28831_row7_col5\" class=\"data row7 col5\" >0.7797</td>\n",
              "      <td id=\"T_28831_row7_col6\" class=\"data row7 col6\" >0.5700</td>\n",
              "      <td id=\"T_28831_row7_col7\" class=\"data row7 col7\" >0.5728</td>\n",
              "      <td id=\"T_28831_row7_col8\" class=\"data row7 col8\" >0.0610</td>\n",
              "    </tr>\n",
              "    <tr>\n",
              "      <th id=\"T_28831_level0_row8\" class=\"row_heading level0 row8\" >ridge</th>\n",
              "      <td id=\"T_28831_row8_col0\" class=\"data row8 col0\" >Ridge Classifier</td>\n",
              "      <td id=\"T_28831_row8_col1\" class=\"data row8 col1\" >0.7798</td>\n",
              "      <td id=\"T_28831_row8_col2\" class=\"data row8 col2\" >0.0000</td>\n",
              "      <td id=\"T_28831_row8_col3\" class=\"data row8 col3\" >0.7316</td>\n",
              "      <td id=\"T_28831_row8_col4\" class=\"data row8 col4\" >0.8100</td>\n",
              "      <td id=\"T_28831_row8_col5\" class=\"data row8 col5\" >0.7669</td>\n",
              "      <td id=\"T_28831_row8_col6\" class=\"data row8 col6\" >0.5596</td>\n",
              "      <td id=\"T_28831_row8_col7\" class=\"data row8 col7\" >0.5642</td>\n",
              "      <td id=\"T_28831_row8_col8\" class=\"data row8 col8\" >0.0820</td>\n",
              "    </tr>\n",
              "    <tr>\n",
              "      <th id=\"T_28831_level0_row9\" class=\"row_heading level0 row9\" >lda</th>\n",
              "      <td id=\"T_28831_row9_col0\" class=\"data row9 col0\" >Linear Discriminant Analysis</td>\n",
              "      <td id=\"T_28831_row9_col1\" class=\"data row9 col1\" >0.7798</td>\n",
              "      <td id=\"T_28831_row9_col2\" class=\"data row9 col2\" >0.8517</td>\n",
              "      <td id=\"T_28831_row9_col3\" class=\"data row9 col3\" >0.7316</td>\n",
              "      <td id=\"T_28831_row9_col4\" class=\"data row9 col4\" >0.8100</td>\n",
              "      <td id=\"T_28831_row9_col5\" class=\"data row9 col5\" >0.7669</td>\n",
              "      <td id=\"T_28831_row9_col6\" class=\"data row9 col6\" >0.5596</td>\n",
              "      <td id=\"T_28831_row9_col7\" class=\"data row9 col7\" >0.5642</td>\n",
              "      <td id=\"T_28831_row9_col8\" class=\"data row9 col8\" >0.0560</td>\n",
              "    </tr>\n",
              "    <tr>\n",
              "      <th id=\"T_28831_level0_row10\" class=\"row_heading level0 row10\" >knn</th>\n",
              "      <td id=\"T_28831_row10_col0\" class=\"data row10 col0\" >K Neighbors Classifier</td>\n",
              "      <td id=\"T_28831_row10_col1\" class=\"data row10 col1\" >0.7720</td>\n",
              "      <td id=\"T_28831_row10_col2\" class=\"data row10 col2\" >0.8317</td>\n",
              "      <td id=\"T_28831_row10_col3\" class=\"data row10 col3\" >0.7783</td>\n",
              "      <td id=\"T_28831_row10_col4\" class=\"data row10 col4\" >0.7725</td>\n",
              "      <td id=\"T_28831_row10_col5\" class=\"data row10 col5\" >0.7738</td>\n",
              "      <td id=\"T_28831_row10_col6\" class=\"data row10 col6\" >0.5440</td>\n",
              "      <td id=\"T_28831_row10_col7\" class=\"data row10 col7\" >0.5464</td>\n",
              "      <td id=\"T_28831_row10_col8\" class=\"data row10 col8\" >0.0710</td>\n",
              "    </tr>\n",
              "    <tr>\n",
              "      <th id=\"T_28831_level0_row11\" class=\"row_heading level0 row11\" >nb</th>\n",
              "      <td id=\"T_28831_row11_col0\" class=\"data row11 col0\" >Naive Bayes</td>\n",
              "      <td id=\"T_28831_row11_col1\" class=\"data row11 col1\" >0.7642</td>\n",
              "      <td id=\"T_28831_row11_col2\" class=\"data row11 col2\" >0.8249</td>\n",
              "      <td id=\"T_28831_row11_col3\" class=\"data row11 col3\" >0.7810</td>\n",
              "      <td id=\"T_28831_row11_col4\" class=\"data row11 col4\" >0.7562</td>\n",
              "      <td id=\"T_28831_row11_col5\" class=\"data row11 col5\" >0.7664</td>\n",
              "      <td id=\"T_28831_row11_col6\" class=\"data row11 col6\" >0.5284</td>\n",
              "      <td id=\"T_28831_row11_col7\" class=\"data row11 col7\" >0.5316</td>\n",
              "      <td id=\"T_28831_row11_col8\" class=\"data row11 col8\" >0.0500</td>\n",
              "    </tr>\n",
              "    <tr>\n",
              "      <th id=\"T_28831_level0_row12\" class=\"row_heading level0 row12\" >qda</th>\n",
              "      <td id=\"T_28831_row12_col0\" class=\"data row12 col0\" >Quadratic Discriminant Analysis</td>\n",
              "      <td id=\"T_28831_row12_col1\" class=\"data row12 col1\" >0.7330</td>\n",
              "      <td id=\"T_28831_row12_col2\" class=\"data row12 col2\" >0.7901</td>\n",
              "      <td id=\"T_28831_row12_col3\" class=\"data row12 col3\" >0.7500</td>\n",
              "      <td id=\"T_28831_row12_col4\" class=\"data row12 col4\" >0.7386</td>\n",
              "      <td id=\"T_28831_row12_col5\" class=\"data row12 col5\" >0.7358</td>\n",
              "      <td id=\"T_28831_row12_col6\" class=\"data row12 col6\" >0.4668</td>\n",
              "      <td id=\"T_28831_row12_col7\" class=\"data row12 col7\" >0.4828</td>\n",
              "      <td id=\"T_28831_row12_col8\" class=\"data row12 col8\" >0.0520</td>\n",
              "    </tr>\n",
              "    <tr>\n",
              "      <th id=\"T_28831_level0_row13\" class=\"row_heading level0 row13\" >svm</th>\n",
              "      <td id=\"T_28831_row13_col0\" class=\"data row13 col0\" >SVM - Linear Kernel</td>\n",
              "      <td id=\"T_28831_row13_col1\" class=\"data row13 col1\" >0.7275</td>\n",
              "      <td id=\"T_28831_row13_col2\" class=\"data row13 col2\" >0.0000</td>\n",
              "      <td id=\"T_28831_row13_col3\" class=\"data row13 col3\" >0.6946</td>\n",
              "      <td id=\"T_28831_row13_col4\" class=\"data row13 col4\" >0.7874</td>\n",
              "      <td id=\"T_28831_row13_col5\" class=\"data row13 col5\" >0.6882</td>\n",
              "      <td id=\"T_28831_row13_col6\" class=\"data row13 col6\" >0.4557</td>\n",
              "      <td id=\"T_28831_row13_col7\" class=\"data row13 col7\" >0.4941</td>\n",
              "      <td id=\"T_28831_row13_col8\" class=\"data row13 col8\" >0.0760</td>\n",
              "    </tr>\n",
              "    <tr>\n",
              "      <th id=\"T_28831_level0_row14\" class=\"row_heading level0 row14\" >dummy</th>\n",
              "      <td id=\"T_28831_row14_col0\" class=\"data row14 col0\" >Dummy Classifier</td>\n",
              "      <td id=\"T_28831_row14_col1\" class=\"data row14 col1\" >0.4948</td>\n",
              "      <td id=\"T_28831_row14_col2\" class=\"data row14 col2\" >0.5000</td>\n",
              "      <td id=\"T_28831_row14_col3\" class=\"data row14 col3\" >0.4000</td>\n",
              "      <td id=\"T_28831_row14_col4\" class=\"data row14 col4\" >0.1974</td>\n",
              "      <td id=\"T_28831_row14_col5\" class=\"data row14 col5\" >0.2643</td>\n",
              "      <td id=\"T_28831_row14_col6\" class=\"data row14 col6\" >0.0000</td>\n",
              "      <td id=\"T_28831_row14_col7\" class=\"data row14 col7\" >0.0000</td>\n",
              "      <td id=\"T_28831_row14_col8\" class=\"data row14 col8\" >0.0580</td>\n",
              "    </tr>\n",
              "  </tbody>\n",
              "</table>\n"
            ]
          },
          "metadata": {}
        },
        {
          "output_type": "display_data",
          "data": {
            "text/plain": [
              "Processing:   0%|          | 0/65 [00:00<?, ?it/s]"
            ],
            "application/vnd.jupyter.widget-view+json": {
              "version_major": 2,
              "version_minor": 0,
              "model_id": "90889b129b9745b9935d1efd727e768b"
            }
          },
          "metadata": {
            "application/vnd.jupyter.widget-view+json": {
              "colab": {
                "custom_widget_manager": {
                  "url": "https://ssl.gstatic.com/colaboratory-static/widgets/colab-cdn-widget-manager/b3e629b1971e1542/manager.min.js"
                }
              }
            }
          }
        },
        {
          "output_type": "display_data",
          "data": {
            "text/plain": [
              "<IPython.core.display.HTML object>"
            ],
            "text/html": []
          },
          "metadata": {}
        }
      ]
    },
    {
      "cell_type": "code",
      "source": [
        "evaluate_model(best)"
      ],
      "metadata": {
        "colab": {
          "base_uri": "https://localhost:8080/",
          "referenced_widgets": [
            "8e651fcf04cc4b0bad445bac032dd3eb",
            "f1806947f72c4e48b48167df22e65a6c",
            "606c5e6464c045df86797077a4b872f9",
            "d0046550e2e0441b8451a646be323fc9",
            "efa69edb68004f93854042bf66e4bb80",
            "ce78d9362f13484f9c51ff55ffc8b0bc",
            "cac280412bb0486eb1159b0c247ca1ef"
          ]
        },
        "outputId": "829c5824-01b6-4fdd-a484-e5f51241fedc",
        "id": "TEbMabwROCTf"
      },
      "execution_count": null,
      "outputs": [
        {
          "output_type": "display_data",
          "data": {
            "text/plain": [
              "interactive(children=(ToggleButtons(description='Plot Type:', icons=('',), options=(('Pipeline Plot', 'pipelin…"
            ],
            "application/vnd.jupyter.widget-view+json": {
              "version_major": 2,
              "version_minor": 0,
              "model_id": "8e651fcf04cc4b0bad445bac032dd3eb"
            }
          },
          "metadata": {
            "application/vnd.jupyter.widget-view+json": {
              "colab": {
                "custom_widget_manager": {
                  "url": "https://ssl.gstatic.com/colaboratory-static/widgets/colab-cdn-widget-manager/b3e629b1971e1542/manager.min.js"
                }
              }
            }
          }
        }
      ]
    },
    {
      "cell_type": "markdown",
      "source": [
        "Debido a que las métricas de los modelos no mejoran de manera significativa, se decide continuar con la base de datos no balanceada."
      ],
      "metadata": {
        "id": "TA5veinQPgDx"
      }
    },
    {
      "cell_type": "markdown",
      "source": [
        "# Modelos escogidos"
      ],
      "metadata": {
        "id": "0Xbtl3xDQ-Xb"
      }
    },
    {
      "cell_type": "markdown",
      "source": [
        "## Light Gradient Boosting"
      ],
      "metadata": {
        "id": "Lmt8HP1HRW2H"
      }
    },
    {
      "cell_type": "markdown",
      "source": [
        "Este modelo se basa en *decision trees* donde nuevos modelos se integran para corregir los errores de predicción de los anteriores.\n",
        "Para la selección de los hiperparámetros, en un ciclo se entrenarán distintos modelos cambiando su valor, se obtendrán las métricas para cada modelo y se escogerán los valores donde se obtuvieron mejores resultados."
      ],
      "metadata": {
        "id": "9H7HB7QBv1Db"
      }
    },
    {
      "cell_type": "markdown",
      "source": [
        "### Funciones para probar distintos hiperparámetros\n"
      ],
      "metadata": {
        "id": "nEiJGeZcBDmz"
      }
    },
    {
      "cell_type": "markdown",
      "source": [
        "Para el número de hojas, en teoría se recomienda una cantidad de 2^profundidad, sin embargo, en práctica esta cantidad no es sugerida ya que puede causar overfitting, por lo que se recomienda usar el 60% de la cantidad recomendada en teoría.\n"
      ],
      "metadata": {
        "id": "PcX4tS5yBoRb"
      }
    },
    {
      "cell_type": "code",
      "source": [
        "# Número de árboles de decisión\n",
        "def get_models_est(trees):\n",
        "\tmodels = dict()\n",
        "\tfor n in trees:\n",
        "\t\tmodels[str(n)] = LGBMClassifier(n_estimators=n, force_row_wise=True, verbose = -1)\n",
        "\treturn models\n",
        "\n",
        "# Profundidad máxima del modelo y número de hojas\n",
        "def get_models_depth(d):\n",
        "\tmodels = dict()\n",
        "\tfor i in range(1,d+1):\n",
        "\t\tmodels[str(i)] = LGBMClassifier(n_estimators=20, max_depth=i, num_leaves=int(np.ceil(2**i*0.6)), force_row_wise=True, verbose = -1)\n",
        "\treturn models\n",
        "\n",
        "# Tipos de boost\n",
        "def get_models_boost():\n",
        "  models = dict()\n",
        "  types = ['gbdt', 'dart', 'goss']\n",
        "  for t in types:\n",
        "    models[t] = LGBMClassifier(n_estimators=20, max_depth=2, num_leaves=int(np.ceil(2**2*0.6)),\n",
        "                               boosting_type=t, force_row_wise=True, verbose = -1)\n",
        "  return models\n",
        "\n",
        "# Distintos valores de learning rate (muy pequeño a muy grande)\n",
        "def get_models_lr(rates):\n",
        "  models = dict()\n",
        "  for r in rates:\n",
        "    key = '%.4f' % r\n",
        "    models[key] = LGBMClassifier(n_estimators=20, max_depth=2, num_leaves=int(np.ceil(2**2*0.6)),\n",
        "                               boosting_type='goss', learning_rate=r, force_row_wise=True, verbose = -1)\n",
        "  return models\n",
        "\n",
        "\n",
        "# Fit y test de los modelos\n",
        "def fit_model(models):\n",
        "  results, names = list(), list()\n",
        "  for name,model in models.items(): # selección de cada modelo\n",
        "    model.fit(x_train, y_train) # entrenamiento\n",
        "    y_pred = model.predict(test) # predicciones\n",
        "    # medidas de aprendizaje\n",
        "    results.append([accuracy_score(y_test, y_pred), precision_score(y_test, y_pred),\n",
        "                    recall_score(y_test, y_pred), f1_score(y_test, y_pred)])\n",
        "    names.append(name)\n",
        "\n",
        "  results = pd.DataFrame(results) # tabla con resultados de todos los modelos\n",
        "  results.columns = ['Accuracy', 'Precision','Recall','f-1']\n",
        "  return results, names"
      ],
      "metadata": {
        "id": "j-OSwzH6xfVV"
      },
      "execution_count": null,
      "outputs": []
    },
    {
      "cell_type": "markdown",
      "source": [
        "### Variación de hiperparámetros"
      ],
      "metadata": {
        "id": "Xtx788LgC7bA"
      }
    },
    {
      "cell_type": "markdown",
      "source": [
        "En este apartado se implementarán modelos para distintos valores de los hiperparámetros, en la primera gráfica se observa el comportamiento de las métricas de aprendizaje y en la segunda un heatmap que se lee por columnas para encontrar el mejor valor de esa métrica dependiendo del valor del hiperparámetro.\n",
        "\n",
        "La técnica utilizada para establecer los hiperparámetros es empezar analizando el número de estimadores, se establece el número que mejora las métricas y este es usado para el análisis del siguiente hiperparámetro, con los nuevos resultados de las métricas, se observa el comportamiento y se decide si se implementa este nuevo hiperparámetro o se deja con su valor por default."
      ],
      "metadata": {
        "id": "otPwEb_9DWr6"
      }
    },
    {
      "cell_type": "markdown",
      "source": [
        "#### **Número de estimadores**"
      ],
      "metadata": {
        "id": "2Y2A45ZTC-wY"
      }
    },
    {
      "cell_type": "markdown",
      "source": [
        "En las primeras gráficas se observa que el mejor número de estimadores, en la mayoría de las métricas, es 10. Después, se realizó un análisis en el rango de 10 a 25, para observar si en este rango se encontraba un número que mejorara los valores de las métricas."
      ],
      "metadata": {
        "id": "A_yvu8IZE8y6"
      }
    },
    {
      "cell_type": "code",
      "source": [
        "# Creación de modelos\n",
        "models = get_models_est([10, 50, 100, 500, 1000, 5000])\n",
        "\n",
        "# Entrenamiento de modelos\n",
        "results_est, names = fit_model(models)\n",
        "\n",
        "# Gráficas de métricas de aprendizaje\n",
        "plt.plot(names, results_est)\n",
        "plt.legend(results_est.columns)\n",
        "plt.show()\n",
        "\n",
        "results_est.style.background_gradient(cmap ='viridis')\\\n",
        "        .set_properties(**{'font-size': '20px'})"
      ],
      "metadata": {
        "colab": {
          "base_uri": "https://localhost:8080/",
          "height": 785
        },
        "id": "HI3IEtPn8hiK",
        "outputId": "b5608ab2-03c7-473d-dffa-cf489579e934"
      },
      "execution_count": null,
      "outputs": [
        {
          "output_type": "display_data",
          "data": {
            "text/plain": [
              "<Figure size 800x550 with 1 Axes>"
            ],
            "image/png": "[encoded data removed]"
          },
          "metadata": {}
        },
        {
          "output_type": "execute_result",
          "data": {
            "text/plain": [
              "<pandas.io.formats.style.Styler at 0x7829107045e0>"
            ],
            "text/html": [
              "<style type=\"text/css\">\n",
              "#T_44c13_row0_col0, #T_44c13_row0_col1, #T_44c13_row0_col3, #T_44c13_row1_col2, #T_44c13_row5_col2 {\n",
              "  background-color: #fde725;\n",
              "  color: #000000;\n",
              "  font-size: 20px;\n",
              "}\n",
              "#T_44c13_row0_col2, #T_44c13_row2_col3, #T_44c13_row5_col0, #T_44c13_row5_col1 {\n",
              "  background-color: #440154;\n",
              "  color: #f1f1f1;\n",
              "  font-size: 20px;\n",
              "}\n",
              "#T_44c13_row1_col0, #T_44c13_row2_col0, #T_44c13_row4_col1 {\n",
              "  background-color: #481b6d;\n",
              "  color: #f1f1f1;\n",
              "  font-size: 20px;\n",
              "}\n",
              "#T_44c13_row1_col1 {\n",
              "  background-color: #471063;\n",
              "  color: #f1f1f1;\n",
              "  font-size: 20px;\n",
              "}\n",
              "#T_44c13_row1_col3 {\n",
              "  background-color: #365c8d;\n",
              "  color: #f1f1f1;\n",
              "  font-size: 20px;\n",
              "}\n",
              "#T_44c13_row2_col1 {\n",
              "  background-color: #481d6f;\n",
              "  color: #f1f1f1;\n",
              "  font-size: 20px;\n",
              "}\n",
              "#T_44c13_row2_col2 {\n",
              "  background-color: #40bd72;\n",
              "  color: #f1f1f1;\n",
              "  font-size: 20px;\n",
              "}\n",
              "#T_44c13_row3_col0 {\n",
              "  background-color: #470e61;\n",
              "  color: #f1f1f1;\n",
              "  font-size: 20px;\n",
              "}\n",
              "#T_44c13_row3_col1 {\n",
              "  background-color: #471365;\n",
              "  color: #f1f1f1;\n",
              "  font-size: 20px;\n",
              "}\n",
              "#T_44c13_row3_col2 {\n",
              "  background-color: #67cc5c;\n",
              "  color: #000000;\n",
              "  font-size: 20px;\n",
              "}\n",
              "#T_44c13_row3_col3 {\n",
              "  background-color: #450559;\n",
              "  color: #f1f1f1;\n",
              "  font-size: 20px;\n",
              "}\n",
              "#T_44c13_row4_col0 {\n",
              "  background-color: #482878;\n",
              "  color: #f1f1f1;\n",
              "  font-size: 20px;\n",
              "}\n",
              "#T_44c13_row4_col2 {\n",
              "  background-color: #cde11d;\n",
              "  color: #000000;\n",
              "  font-size: 20px;\n",
              "}\n",
              "#T_44c13_row4_col3 {\n",
              "  background-color: #38598c;\n",
              "  color: #f1f1f1;\n",
              "  font-size: 20px;\n",
              "}\n",
              "#T_44c13_row5_col3 {\n",
              "  background-color: #443983;\n",
              "  color: #f1f1f1;\n",
              "  font-size: 20px;\n",
              "}\n",
              "</style>\n",
              "<table id=\"T_44c13\" class=\"dataframe\">\n",
              "  <thead>\n",
              "    <tr>\n",
              "      <th class=\"blank level0\" >&nbsp;</th>\n",
              "      <th id=\"T_44c13_level0_col0\" class=\"col_heading level0 col0\" >Accuracy</th>\n",
              "      <th id=\"T_44c13_level0_col1\" class=\"col_heading level0 col1\" >Precision</th>\n",
              "      <th id=\"T_44c13_level0_col2\" class=\"col_heading level0 col2\" >Recall</th>\n",
              "      <th id=\"T_44c13_level0_col3\" class=\"col_heading level0 col3\" >f-1</th>\n",
              "    </tr>\n",
              "  </thead>\n",
              "  <tbody>\n",
              "    <tr>\n",
              "      <th id=\"T_44c13_level0_row0\" class=\"row_heading level0 row0\" >0</th>\n",
              "      <td id=\"T_44c13_row0_col0\" class=\"data row0 col0\" >0.779376</td>\n",
              "      <td id=\"T_44c13_row0_col1\" class=\"data row0 col1\" >0.800000</td>\n",
              "      <td id=\"T_44c13_row0_col2\" class=\"data row0 col2\" >0.556962</td>\n",
              "      <td id=\"T_44c13_row0_col3\" class=\"data row0 col3\" >0.656716</td>\n",
              "    </tr>\n",
              "    <tr>\n",
              "      <th id=\"T_44c13_level0_row1\" class=\"row_heading level0 row1\" >1</th>\n",
              "      <td id=\"T_44c13_row1_col0\" class=\"data row1 col0\" >0.719424</td>\n",
              "      <td id=\"T_44c13_row1_col1\" class=\"data row1 col1\" >0.627329</td>\n",
              "      <td id=\"T_44c13_row1_col2\" class=\"data row1 col2\" >0.639241</td>\n",
              "      <td id=\"T_44c13_row1_col3\" class=\"data row1 col3\" >0.633229</td>\n",
              "    </tr>\n",
              "    <tr>\n",
              "      <th id=\"T_44c13_level0_row2\" class=\"row_heading level0 row2\" >2</th>\n",
              "      <td id=\"T_44c13_row2_col0\" class=\"data row2 col0\" >0.719424</td>\n",
              "      <td id=\"T_44c13_row2_col1\" class=\"data row2 col1\" >0.633987</td>\n",
              "      <td id=\"T_44c13_row2_col2\" class=\"data row2 col2\" >0.613924</td>\n",
              "      <td id=\"T_44c13_row2_col3\" class=\"data row2 col3\" >0.623794</td>\n",
              "    </tr>\n",
              "    <tr>\n",
              "      <th id=\"T_44c13_level0_row3\" class=\"row_heading level0 row3\" >3</th>\n",
              "      <td id=\"T_44c13_row3_col0\" class=\"data row3 col0\" >0.717026</td>\n",
              "      <td id=\"T_44c13_row3_col1\" class=\"data row3 col1\" >0.628205</td>\n",
              "      <td id=\"T_44c13_row3_col2\" class=\"data row3 col2\" >0.620253</td>\n",
              "      <td id=\"T_44c13_row3_col3\" class=\"data row3 col3\" >0.624204</td>\n",
              "    </tr>\n",
              "    <tr>\n",
              "      <th id=\"T_44c13_level0_row4\" class=\"row_heading level0 row4\" >4</th>\n",
              "      <td id=\"T_44c13_row4_col0\" class=\"data row4 col0\" >0.721823</td>\n",
              "      <td id=\"T_44c13_row4_col1\" class=\"data row4 col1\" >0.632911</td>\n",
              "      <td id=\"T_44c13_row4_col2\" class=\"data row4 col2\" >0.632911</td>\n",
              "      <td id=\"T_44c13_row4_col3\" class=\"data row4 col3\" >0.632911</td>\n",
              "    </tr>\n",
              "    <tr>\n",
              "      <th id=\"T_44c13_level0_row5\" class=\"row_heading level0 row5\" >5</th>\n",
              "      <td id=\"T_44c13_row5_col0\" class=\"data row5 col0\" >0.714628</td>\n",
              "      <td id=\"T_44c13_row5_col1\" class=\"data row5 col1\" >0.619632</td>\n",
              "      <td id=\"T_44c13_row5_col2\" class=\"data row5 col2\" >0.639241</td>\n",
              "      <td id=\"T_44c13_row5_col3\" class=\"data row5 col3\" >0.629283</td>\n",
              "    </tr>\n",
              "  </tbody>\n",
              "</table>\n"
            ]
          },
          "metadata": {},
          "execution_count": 17
        }
      ]
    },
    {
      "cell_type": "markdown",
      "source": [
        "En este nuevo análisis, podemos observar que aunque con 10 estimadores se obtiene mejor *accuracy* y *precision*, con 20 se obtienen mejores valores para el *recall* y *f1 score*. Ya que los valores de *accuracy* son muy parecidos entre ambos valores (diferencia de 0.007) y el *f1 score* es una métrica que combina *precision* y *recall*, se decidió un valor final de 20 debido a su mayor valor en esta última métrica."
      ],
      "metadata": {
        "id": "SyQubvJ7GZEW"
      }
    },
    {
      "cell_type": "code",
      "source": [
        "# Creación de modelos\n",
        "models = get_models_est([10, 15, 20, 25])\n",
        "\n",
        "# Entrenamiento de modelos\n",
        "results_est, names = fit_model(models)\n",
        "\n",
        "# Gráficas de métricas de aprendizaje\n",
        "plt.plot(names, results_est)\n",
        "plt.legend(results_est.columns)\n",
        "plt.show()\n",
        "\n",
        "results_est.style.background_gradient(cmap ='viridis')\\\n",
        "        .set_properties(**{'font-size': '20px'})"
      ],
      "metadata": {
        "colab": {
          "base_uri": "https://localhost:8080/",
          "height": 696
        },
        "id": "ta5vcjumFOKU",
        "outputId": "5e486387-5e60-44c9-d1f5-16cd6c0a6500"
      },
      "execution_count": null,
      "outputs": [
        {
          "output_type": "display_data",
          "data": {
            "text/plain": [
              "<Figure size 800x550 with 1 Axes>"
            ],
            "image/png": "[encoded data removed]"
          },
          "metadata": {}
        },
        {
          "output_type": "execute_result",
          "data": {
            "text/plain": [
              "<pandas.io.formats.style.Styler at 0x78291010fa60>"
            ],
            "text/html": [
              "<style type=\"text/css\">\n",
              "#T_00a14_row0_col0, #T_00a14_row0_col1, #T_00a14_row2_col2, #T_00a14_row2_col3 {\n",
              "  background-color: #fde725;\n",
              "  color: #000000;\n",
              "  font-size: 20px;\n",
              "}\n",
              "#T_00a14_row0_col2, #T_00a14_row0_col3, #T_00a14_row3_col0, #T_00a14_row3_col1 {\n",
              "  background-color: #440154;\n",
              "  color: #f1f1f1;\n",
              "  font-size: 20px;\n",
              "}\n",
              "#T_00a14_row1_col0 {\n",
              "  background-color: #5cc863;\n",
              "  color: #000000;\n",
              "  font-size: 20px;\n",
              "}\n",
              "#T_00a14_row1_col1 {\n",
              "  background-color: #2a788e;\n",
              "  color: #f1f1f1;\n",
              "  font-size: 20px;\n",
              "}\n",
              "#T_00a14_row1_col2 {\n",
              "  background-color: #22a884;\n",
              "  color: #f1f1f1;\n",
              "  font-size: 20px;\n",
              "}\n",
              "#T_00a14_row1_col3 {\n",
              "  background-color: #25ab82;\n",
              "  color: #f1f1f1;\n",
              "  font-size: 20px;\n",
              "}\n",
              "#T_00a14_row2_col0 {\n",
              "  background-color: #27ad81;\n",
              "  color: #f1f1f1;\n",
              "  font-size: 20px;\n",
              "}\n",
              "#T_00a14_row2_col1 {\n",
              "  background-color: #482878;\n",
              "  color: #f1f1f1;\n",
              "  font-size: 20px;\n",
              "}\n",
              "#T_00a14_row3_col2 {\n",
              "  background-color: #35b779;\n",
              "  color: #f1f1f1;\n",
              "  font-size: 20px;\n",
              "}\n",
              "#T_00a14_row3_col3 {\n",
              "  background-color: #414287;\n",
              "  color: #f1f1f1;\n",
              "  font-size: 20px;\n",
              "}\n",
              "</style>\n",
              "<table id=\"T_00a14\" class=\"dataframe\">\n",
              "  <thead>\n",
              "    <tr>\n",
              "      <th class=\"blank level0\" >&nbsp;</th>\n",
              "      <th id=\"T_00a14_level0_col0\" class=\"col_heading level0 col0\" >Accuracy</th>\n",
              "      <th id=\"T_00a14_level0_col1\" class=\"col_heading level0 col1\" >Precision</th>\n",
              "      <th id=\"T_00a14_level0_col2\" class=\"col_heading level0 col2\" >Recall</th>\n",
              "      <th id=\"T_00a14_level0_col3\" class=\"col_heading level0 col3\" >f-1</th>\n",
              "    </tr>\n",
              "  </thead>\n",
              "  <tbody>\n",
              "    <tr>\n",
              "      <th id=\"T_00a14_level0_row0\" class=\"row_heading level0 row0\" >0</th>\n",
              "      <td id=\"T_00a14_row0_col0\" class=\"data row0 col0\" >0.779376</td>\n",
              "      <td id=\"T_00a14_row0_col1\" class=\"data row0 col1\" >0.800000</td>\n",
              "      <td id=\"T_00a14_row0_col2\" class=\"data row0 col2\" >0.556962</td>\n",
              "      <td id=\"T_00a14_row0_col3\" class=\"data row0 col3\" >0.656716</td>\n",
              "    </tr>\n",
              "    <tr>\n",
              "      <th id=\"T_00a14_level0_row1\" class=\"row_heading level0 row1\" >1</th>\n",
              "      <td id=\"T_00a14_row1_col0\" class=\"data row1 col0\" >0.774580</td>\n",
              "      <td id=\"T_00a14_row1_col1\" class=\"data row1 col1\" >0.746154</td>\n",
              "      <td id=\"T_00a14_row1_col2\" class=\"data row1 col2\" >0.613924</td>\n",
              "      <td id=\"T_00a14_row1_col3\" class=\"data row1 col3\" >0.673611</td>\n",
              "    </tr>\n",
              "    <tr>\n",
              "      <th id=\"T_00a14_level0_row2\" class=\"row_heading level0 row2\" >2</th>\n",
              "      <td id=\"T_00a14_row2_col0\" class=\"data row2 col0\" >0.772182</td>\n",
              "      <td id=\"T_00a14_row2_col1\" class=\"data row2 col1\" >0.720280</td>\n",
              "      <td id=\"T_00a14_row2_col2\" class=\"data row2 col2\" >0.651899</td>\n",
              "      <td id=\"T_00a14_row2_col3\" class=\"data row2 col3\" >0.684385</td>\n",
              "    </tr>\n",
              "    <tr>\n",
              "      <th id=\"T_00a14_level0_row3\" class=\"row_heading level0 row3\" >3</th>\n",
              "      <td id=\"T_00a14_row3_col0\" class=\"data row3 col0\" >0.760192</td>\n",
              "      <td id=\"T_00a14_row3_col1\" class=\"data row3 col1\" >0.710145</td>\n",
              "      <td id=\"T_00a14_row3_col2\" class=\"data row3 col2\" >0.620253</td>\n",
              "      <td id=\"T_00a14_row3_col3\" class=\"data row3 col3\" >0.662162</td>\n",
              "    </tr>\n",
              "  </tbody>\n",
              "</table>\n"
            ]
          },
          "metadata": {},
          "execution_count": 18
        }
      ]
    },
    {
      "cell_type": "markdown",
      "source": [
        "#### **Profundidad máxima y número de hojas**"
      ],
      "metadata": {
        "id": "9JoY3PwDDA0h"
      }
    },
    {
      "cell_type": "markdown",
      "source": [
        "Estableciendo en las funciones un número de estimador de 20, se prueban distintas profundidades y se obtiene que el modelo es mejor cuando esta es igual a 2 y tiene un número de hojas de 3. Al comparar estas métricas con las anteriores, podemos observar que tanto el *accuracy* como *f1 score* aumentaron.\n",
        "\n",
        "Además, podemos observar que nuestras métricas se estabilizan a partir de una profundidad de 7."
      ],
      "metadata": {
        "id": "vVUqUwhhHQUG"
      }
    },
    {
      "cell_type": "code",
      "source": [
        "# Creación de modelos\n",
        "models = get_models_depth(17)\n",
        "\n",
        "# Entrenamiento de modelos\n",
        "results_depth, names = fit_model(models)\n",
        "\n",
        "# Gráficas de métricas de aprendizaje\n",
        "plt.plot(names, results_depth)\n",
        "plt.legend(results_depth.columns)\n",
        "plt.show()\n",
        "\n",
        "results_depth.style.background_gradient(cmap ='viridis')\\\n",
        "        .set_properties(**{'font-size': '20px'})"
      ],
      "metadata": {
        "colab": {
          "base_uri": "https://localhost:8080/",
          "height": 1000
        },
        "id": "99Lqg_5790r7",
        "outputId": "c3e7039a-aaef-4e6d-c3cc-5e5bddf03cc5"
      },
      "execution_count": null,
      "outputs": [
        {
          "output_type": "display_data",
          "data": {
            "text/plain": [
              "<Figure size 800x550 with 1 Axes>"
            ],
            "image/png": "[encoded data removed]"
          },
          "metadata": {}
        },
        {
          "output_type": "execute_result",
          "data": {
            "text/plain": [
              "<pandas.io.formats.style.Styler at 0x78291014fcd0>"
            ],
            "text/html": [
              "<style type=\"text/css\">\n",
              "#T_2d638_row0_col0 {\n",
              "  background-color: #4ac16d;\n",
              "  color: #000000;\n",
              "  font-size: 20px;\n",
              "}\n",
              "#T_2d638_row0_col1 {\n",
              "  background-color: #1f968b;\n",
              "  color: #f1f1f1;\n",
              "  font-size: 20px;\n",
              "}\n",
              "#T_2d638_row0_col2 {\n",
              "  background-color: #d2e21b;\n",
              "  color: #000000;\n",
              "  font-size: 20px;\n",
              "}\n",
              "#T_2d638_row0_col3 {\n",
              "  background-color: #d5e21a;\n",
              "  color: #000000;\n",
              "  font-size: 20px;\n",
              "}\n",
              "#T_2d638_row1_col0, #T_2d638_row1_col3, #T_2d638_row2_col2, #T_2d638_row3_col1 {\n",
              "  background-color: #fde725;\n",
              "  color: #000000;\n",
              "  font-size: 20px;\n",
              "}\n",
              "#T_2d638_row1_col1 {\n",
              "  background-color: #70cf57;\n",
              "  color: #000000;\n",
              "  font-size: 20px;\n",
              "}\n",
              "#T_2d638_row1_col2 {\n",
              "  background-color: #a5db36;\n",
              "  color: #000000;\n",
              "  font-size: 20px;\n",
              "}\n",
              "#T_2d638_row2_col0, #T_2d638_row2_col1, #T_2d638_row3_col2, #T_2d638_row3_col3 {\n",
              "  background-color: #440154;\n",
              "  color: #f1f1f1;\n",
              "  font-size: 20px;\n",
              "}\n",
              "#T_2d638_row2_col3 {\n",
              "  background-color: #48c16e;\n",
              "  color: #f1f1f1;\n",
              "  font-size: 20px;\n",
              "}\n",
              "#T_2d638_row3_col0, #T_2d638_row4_col0 {\n",
              "  background-color: #46327e;\n",
              "  color: #f1f1f1;\n",
              "  font-size: 20px;\n",
              "}\n",
              "#T_2d638_row4_col1 {\n",
              "  background-color: #73d056;\n",
              "  color: #000000;\n",
              "  font-size: 20px;\n",
              "}\n",
              "#T_2d638_row4_col2 {\n",
              "  background-color: #414487;\n",
              "  color: #f1f1f1;\n",
              "  font-size: 20px;\n",
              "}\n",
              "#T_2d638_row4_col3, #T_2d638_row5_col3 {\n",
              "  background-color: #443983;\n",
              "  color: #f1f1f1;\n",
              "  font-size: 20px;\n",
              "}\n",
              "#T_2d638_row5_col0 {\n",
              "  background-color: #365c8d;\n",
              "  color: #f1f1f1;\n",
              "  font-size: 20px;\n",
              "}\n",
              "#T_2d638_row5_col1 {\n",
              "  background-color: #ece51b;\n",
              "  color: #000000;\n",
              "  font-size: 20px;\n",
              "}\n",
              "#T_2d638_row5_col2 {\n",
              "  background-color: #472f7d;\n",
              "  color: #f1f1f1;\n",
              "  font-size: 20px;\n",
              "}\n",
              "#T_2d638_row6_col0, #T_2d638_row7_col0, #T_2d638_row8_col0, #T_2d638_row9_col0, #T_2d638_row10_col0, #T_2d638_row11_col0, #T_2d638_row12_col0, #T_2d638_row13_col0, #T_2d638_row14_col0, #T_2d638_row15_col0, #T_2d638_row16_col0 {\n",
              "  background-color: #277f8e;\n",
              "  color: #f1f1f1;\n",
              "  font-size: 20px;\n",
              "}\n",
              "#T_2d638_row6_col1, #T_2d638_row7_col1, #T_2d638_row8_col1, #T_2d638_row9_col1, #T_2d638_row10_col1, #T_2d638_row11_col1, #T_2d638_row12_col1, #T_2d638_row13_col1, #T_2d638_row14_col1, #T_2d638_row15_col1, #T_2d638_row16_col1 {\n",
              "  background-color: #addc30;\n",
              "  color: #000000;\n",
              "  font-size: 20px;\n",
              "}\n",
              "#T_2d638_row6_col2, #T_2d638_row7_col2, #T_2d638_row8_col2, #T_2d638_row9_col2, #T_2d638_row10_col2, #T_2d638_row11_col2, #T_2d638_row12_col2, #T_2d638_row13_col2, #T_2d638_row14_col2, #T_2d638_row15_col2, #T_2d638_row16_col2 {\n",
              "  background-color: #31688e;\n",
              "  color: #f1f1f1;\n",
              "  font-size: 20px;\n",
              "}\n",
              "#T_2d638_row6_col3, #T_2d638_row7_col3, #T_2d638_row8_col3, #T_2d638_row9_col3, #T_2d638_row10_col3, #T_2d638_row11_col3, #T_2d638_row12_col3, #T_2d638_row13_col3, #T_2d638_row14_col3, #T_2d638_row15_col3, #T_2d638_row16_col3 {\n",
              "  background-color: #2b748e;\n",
              "  color: #f1f1f1;\n",
              "  font-size: 20px;\n",
              "}\n",
              "</style>\n",
              "<table id=\"T_2d638\" class=\"dataframe\">\n",
              "  <thead>\n",
              "    <tr>\n",
              "      <th class=\"blank level0\" >&nbsp;</th>\n",
              "      <th id=\"T_2d638_level0_col0\" class=\"col_heading level0 col0\" >Accuracy</th>\n",
              "      <th id=\"T_2d638_level0_col1\" class=\"col_heading level0 col1\" >Precision</th>\n",
              "      <th id=\"T_2d638_level0_col2\" class=\"col_heading level0 col2\" >Recall</th>\n",
              "      <th id=\"T_2d638_level0_col3\" class=\"col_heading level0 col3\" >f-1</th>\n",
              "    </tr>\n",
              "  </thead>\n",
              "  <tbody>\n",
              "    <tr>\n",
              "      <th id=\"T_2d638_level0_row0\" class=\"row_heading level0 row0\" >0</th>\n",
              "      <td id=\"T_2d638_row0_col0\" class=\"data row0 col0\" >0.776978</td>\n",
              "      <td id=\"T_2d638_row0_col1\" class=\"data row0 col1\" >0.704403</td>\n",
              "      <td id=\"T_2d638_row0_col2\" class=\"data row0 col2\" >0.708861</td>\n",
              "      <td id=\"T_2d638_row0_col3\" class=\"data row0 col3\" >0.706625</td>\n",
              "    </tr>\n",
              "    <tr>\n",
              "      <th id=\"T_2d638_level0_row1\" class=\"row_heading level0 row1\" >1</th>\n",
              "      <td id=\"T_2d638_row1_col0\" class=\"data row1 col0\" >0.781775</td>\n",
              "      <td id=\"T_2d638_row1_col1\" class=\"data row1 col1\" >0.716129</td>\n",
              "      <td id=\"T_2d638_row1_col2\" class=\"data row1 col2\" >0.702532</td>\n",
              "      <td id=\"T_2d638_row1_col3\" class=\"data row1 col3\" >0.709265</td>\n",
              "    </tr>\n",
              "    <tr>\n",
              "      <th id=\"T_2d638_level0_row2\" class=\"row_heading level0 row2\" >2</th>\n",
              "      <td id=\"T_2d638_row2_col0\" class=\"data row2 col0\" >0.764988</td>\n",
              "      <td id=\"T_2d638_row2_col1\" class=\"data row2 col1\" >0.680723</td>\n",
              "      <td id=\"T_2d638_row2_col2\" class=\"data row2 col2\" >0.715190</td>\n",
              "      <td id=\"T_2d638_row2_col3\" class=\"data row2 col3\" >0.697531</td>\n",
              "    </tr>\n",
              "    <tr>\n",
              "      <th id=\"T_2d638_level0_row3\" class=\"row_heading level0 row3\" >3</th>\n",
              "      <td id=\"T_2d638_row3_col0\" class=\"data row3 col0\" >0.767386</td>\n",
              "      <td id=\"T_2d638_row3_col1\" class=\"data row3 col1\" >0.725926</td>\n",
              "      <td id=\"T_2d638_row3_col2\" class=\"data row3 col2\" >0.620253</td>\n",
              "      <td id=\"T_2d638_row3_col3\" class=\"data row3 col3\" >0.668942</td>\n",
              "    </tr>\n",
              "    <tr>\n",
              "      <th id=\"T_2d638_level0_row4\" class=\"row_heading level0 row4\" >4</th>\n",
              "      <td id=\"T_2d638_row4_col0\" class=\"data row4 col0\" >0.767386</td>\n",
              "      <td id=\"T_2d638_row4_col1\" class=\"data row4 col1\" >0.716312</td>\n",
              "      <td id=\"T_2d638_row4_col2\" class=\"data row4 col2\" >0.639241</td>\n",
              "      <td id=\"T_2d638_row4_col3\" class=\"data row4 col3\" >0.675585</td>\n",
              "    </tr>\n",
              "    <tr>\n",
              "      <th id=\"T_2d638_level0_row5\" class=\"row_heading level0 row5\" >5</th>\n",
              "      <td id=\"T_2d638_row5_col0\" class=\"data row5 col0\" >0.769784</td>\n",
              "      <td id=\"T_2d638_row5_col1\" class=\"data row5 col1\" >0.724638</td>\n",
              "      <td id=\"T_2d638_row5_col2\" class=\"data row5 col2\" >0.632911</td>\n",
              "      <td id=\"T_2d638_row5_col3\" class=\"data row5 col3\" >0.675676</td>\n",
              "    </tr>\n",
              "    <tr>\n",
              "      <th id=\"T_2d638_level0_row6\" class=\"row_heading level0 row6\" >6</th>\n",
              "      <td id=\"T_2d638_row6_col0\" class=\"data row6 col0\" >0.772182</td>\n",
              "      <td id=\"T_2d638_row6_col1\" class=\"data row6 col1\" >0.720280</td>\n",
              "      <td id=\"T_2d638_row6_col2\" class=\"data row6 col2\" >0.651899</td>\n",
              "      <td id=\"T_2d638_row6_col3\" class=\"data row6 col3\" >0.684385</td>\n",
              "    </tr>\n",
              "    <tr>\n",
              "      <th id=\"T_2d638_level0_row7\" class=\"row_heading level0 row7\" >7</th>\n",
              "      <td id=\"T_2d638_row7_col0\" class=\"data row7 col0\" >0.772182</td>\n",
              "      <td id=\"T_2d638_row7_col1\" class=\"data row7 col1\" >0.720280</td>\n",
              "      <td id=\"T_2d638_row7_col2\" class=\"data row7 col2\" >0.651899</td>\n",
              "      <td id=\"T_2d638_row7_col3\" class=\"data row7 col3\" >0.684385</td>\n",
              "    </tr>\n",
              "    <tr>\n",
              "      <th id=\"T_2d638_level0_row8\" class=\"row_heading level0 row8\" >8</th>\n",
              "      <td id=\"T_2d638_row8_col0\" class=\"data row8 col0\" >0.772182</td>\n",
              "      <td id=\"T_2d638_row8_col1\" class=\"data row8 col1\" >0.720280</td>\n",
              "      <td id=\"T_2d638_row8_col2\" class=\"data row8 col2\" >0.651899</td>\n",
              "      <td id=\"T_2d638_row8_col3\" class=\"data row8 col3\" >0.684385</td>\n",
              "    </tr>\n",
              "    <tr>\n",
              "      <th id=\"T_2d638_level0_row9\" class=\"row_heading level0 row9\" >9</th>\n",
              "      <td id=\"T_2d638_row9_col0\" class=\"data row9 col0\" >0.772182</td>\n",
              "      <td id=\"T_2d638_row9_col1\" class=\"data row9 col1\" >0.720280</td>\n",
              "      <td id=\"T_2d638_row9_col2\" class=\"data row9 col2\" >0.651899</td>\n",
              "      <td id=\"T_2d638_row9_col3\" class=\"data row9 col3\" >0.684385</td>\n",
              "    </tr>\n",
              "    <tr>\n",
              "      <th id=\"T_2d638_level0_row10\" class=\"row_heading level0 row10\" >10</th>\n",
              "      <td id=\"T_2d638_row10_col0\" class=\"data row10 col0\" >0.772182</td>\n",
              "      <td id=\"T_2d638_row10_col1\" class=\"data row10 col1\" >0.720280</td>\n",
              "      <td id=\"T_2d638_row10_col2\" class=\"data row10 col2\" >0.651899</td>\n",
              "      <td id=\"T_2d638_row10_col3\" class=\"data row10 col3\" >0.684385</td>\n",
              "    </tr>\n",
              "    <tr>\n",
              "      <th id=\"T_2d638_level0_row11\" class=\"row_heading level0 row11\" >11</th>\n",
              "      <td id=\"T_2d638_row11_col0\" class=\"data row11 col0\" >0.772182</td>\n",
              "      <td id=\"T_2d638_row11_col1\" class=\"data row11 col1\" >0.720280</td>\n",
              "      <td id=\"T_2d638_row11_col2\" class=\"data row11 col2\" >0.651899</td>\n",
              "      <td id=\"T_2d638_row11_col3\" class=\"data row11 col3\" >0.684385</td>\n",
              "    </tr>\n",
              "    <tr>\n",
              "      <th id=\"T_2d638_level0_row12\" class=\"row_heading level0 row12\" >12</th>\n",
              "      <td id=\"T_2d638_row12_col0\" class=\"data row12 col0\" >0.772182</td>\n",
              "      <td id=\"T_2d638_row12_col1\" class=\"data row12 col1\" >0.720280</td>\n",
              "      <td id=\"T_2d638_row12_col2\" class=\"data row12 col2\" >0.651899</td>\n",
              "      <td id=\"T_2d638_row12_col3\" class=\"data row12 col3\" >0.684385</td>\n",
              "    </tr>\n",
              "    <tr>\n",
              "      <th id=\"T_2d638_level0_row13\" class=\"row_heading level0 row13\" >13</th>\n",
              "      <td id=\"T_2d638_row13_col0\" class=\"data row13 col0\" >0.772182</td>\n",
              "      <td id=\"T_2d638_row13_col1\" class=\"data row13 col1\" >0.720280</td>\n",
              "      <td id=\"T_2d638_row13_col2\" class=\"data row13 col2\" >0.651899</td>\n",
              "      <td id=\"T_2d638_row13_col3\" class=\"data row13 col3\" >0.684385</td>\n",
              "    </tr>\n",
              "    <tr>\n",
              "      <th id=\"T_2d638_level0_row14\" class=\"row_heading level0 row14\" >14</th>\n",
              "      <td id=\"T_2d638_row14_col0\" class=\"data row14 col0\" >0.772182</td>\n",
              "      <td id=\"T_2d638_row14_col1\" class=\"data row14 col1\" >0.720280</td>\n",
              "      <td id=\"T_2d638_row14_col2\" class=\"data row14 col2\" >0.651899</td>\n",
              "      <td id=\"T_2d638_row14_col3\" class=\"data row14 col3\" >0.684385</td>\n",
              "    </tr>\n",
              "    <tr>\n",
              "      <th id=\"T_2d638_level0_row15\" class=\"row_heading level0 row15\" >15</th>\n",
              "      <td id=\"T_2d638_row15_col0\" class=\"data row15 col0\" >0.772182</td>\n",
              "      <td id=\"T_2d638_row15_col1\" class=\"data row15 col1\" >0.720280</td>\n",
              "      <td id=\"T_2d638_row15_col2\" class=\"data row15 col2\" >0.651899</td>\n",
              "      <td id=\"T_2d638_row15_col3\" class=\"data row15 col3\" >0.684385</td>\n",
              "    </tr>\n",
              "    <tr>\n",
              "      <th id=\"T_2d638_level0_row16\" class=\"row_heading level0 row16\" >16</th>\n",
              "      <td id=\"T_2d638_row16_col0\" class=\"data row16 col0\" >0.772182</td>\n",
              "      <td id=\"T_2d638_row16_col1\" class=\"data row16 col1\" >0.720280</td>\n",
              "      <td id=\"T_2d638_row16_col2\" class=\"data row16 col2\" >0.651899</td>\n",
              "      <td id=\"T_2d638_row16_col3\" class=\"data row16 col3\" >0.684385</td>\n",
              "    </tr>\n",
              "  </tbody>\n",
              "</table>\n"
            ]
          },
          "metadata": {},
          "execution_count": 19
        }
      ]
    },
    {
      "cell_type": "markdown",
      "source": [
        "#### **Tipos de boost**"
      ],
      "metadata": {
        "id": "ht_f4cmWDEzg"
      }
    },
    {
      "cell_type": "markdown",
      "source": [
        "Estableciendo los hiperparámetros anteriores, se obtiene que el mejor tipo de boost es el 'goss'. Obteniendo un aumento muy pequeño en *accuracy*,uno un pooco mayor en *F1 score* y unos más significativos en *precision* y *recall*"
      ],
      "metadata": {
        "id": "OiLlJ2bKKPA6"
      }
    },
    {
      "cell_type": "code",
      "source": [
        "# Creación de modelos\n",
        "models = get_models_boost()\n",
        "\n",
        "# Entrenamiento de modelos\n",
        "results_boost, names = fit_model(models)\n",
        "\n",
        "# Gráficas de métricas de aprendizaje\n",
        "plt.plot(names, results_boost)\n",
        "plt.legend(results_boost.columns)\n",
        "plt.show()\n",
        "\n",
        "results_boost.style.background_gradient(cmap ='viridis')\\\n",
        "        .set_properties(**{'font-size': '20px'})"
      ],
      "metadata": {
        "colab": {
          "base_uri": "https://localhost:8080/",
          "height": 651
        },
        "id": "zkbqOvdU92ie",
        "outputId": "18748bee-ea4f-4c12-f477-7841111f9361"
      },
      "execution_count": null,
      "outputs": [
        {
          "output_type": "display_data",
          "data": {
            "text/plain": [
              "<Figure size 800x550 with 1 Axes>"
            ],
            "image/png": "[encoded data removed]"
          },
          "metadata": {}
        },
        {
          "output_type": "execute_result",
          "data": {
            "text/plain": [
              "<pandas.io.formats.style.Styler at 0x78291019d780>"
            ],
            "text/html": [
              "<style type=\"text/css\">\n",
              "#T_b40f5_row0_col0, #T_b40f5_row0_col1, #T_b40f5_row0_col2, #T_b40f5_row0_col3, #T_b40f5_row1_col0, #T_b40f5_row1_col1, #T_b40f5_row1_col2, #T_b40f5_row1_col3, #T_b40f5_row2_col2 {\n",
              "  background-color: #440154;\n",
              "  color: #f1f1f1;\n",
              "  font-size: 20px;\n",
              "}\n",
              "#T_b40f5_row2_col0, #T_b40f5_row2_col1, #T_b40f5_row2_col3 {\n",
              "  background-color: #fde725;\n",
              "  color: #000000;\n",
              "  font-size: 20px;\n",
              "}\n",
              "</style>\n",
              "<table id=\"T_b40f5\" class=\"dataframe\">\n",
              "  <thead>\n",
              "    <tr>\n",
              "      <th class=\"blank level0\" >&nbsp;</th>\n",
              "      <th id=\"T_b40f5_level0_col0\" class=\"col_heading level0 col0\" >Accuracy</th>\n",
              "      <th id=\"T_b40f5_level0_col1\" class=\"col_heading level0 col1\" >Precision</th>\n",
              "      <th id=\"T_b40f5_level0_col2\" class=\"col_heading level0 col2\" >Recall</th>\n",
              "      <th id=\"T_b40f5_level0_col3\" class=\"col_heading level0 col3\" >f-1</th>\n",
              "    </tr>\n",
              "  </thead>\n",
              "  <tbody>\n",
              "    <tr>\n",
              "      <th id=\"T_b40f5_level0_row0\" class=\"row_heading level0 row0\" >0</th>\n",
              "      <td id=\"T_b40f5_row0_col0\" class=\"data row0 col0\" >0.781775</td>\n",
              "      <td id=\"T_b40f5_row0_col1\" class=\"data row0 col1\" >0.716129</td>\n",
              "      <td id=\"T_b40f5_row0_col2\" class=\"data row0 col2\" >0.702532</td>\n",
              "      <td id=\"T_b40f5_row0_col3\" class=\"data row0 col3\" >0.709265</td>\n",
              "    </tr>\n",
              "    <tr>\n",
              "      <th id=\"T_b40f5_level0_row1\" class=\"row_heading level0 row1\" >1</th>\n",
              "      <td id=\"T_b40f5_row1_col0\" class=\"data row1 col0\" >0.781775</td>\n",
              "      <td id=\"T_b40f5_row1_col1\" class=\"data row1 col1\" >0.716129</td>\n",
              "      <td id=\"T_b40f5_row1_col2\" class=\"data row1 col2\" >0.702532</td>\n",
              "      <td id=\"T_b40f5_row1_col3\" class=\"data row1 col3\" >0.709265</td>\n",
              "    </tr>\n",
              "    <tr>\n",
              "      <th id=\"T_b40f5_level0_row2\" class=\"row_heading level0 row2\" >2</th>\n",
              "      <td id=\"T_b40f5_row2_col0\" class=\"data row2 col0\" >0.788969</td>\n",
              "      <td id=\"T_b40f5_row2_col1\" class=\"data row2 col1\" >0.730263</td>\n",
              "      <td id=\"T_b40f5_row2_col2\" class=\"data row2 col2\" >0.702532</td>\n",
              "      <td id=\"T_b40f5_row2_col3\" class=\"data row2 col3\" >0.716129</td>\n",
              "    </tr>\n",
              "  </tbody>\n",
              "</table>\n"
            ]
          },
          "metadata": {},
          "execution_count": 20
        }
      ]
    },
    {
      "cell_type": "markdown",
      "source": [
        "#### **Learning rate**"
      ],
      "metadata": {
        "id": "xTU0vYRzDKvz"
      }
    },
    {
      "cell_type": "markdown",
      "source": [
        "Por último, el hiperparámetro de learning rate produce un mejor cuando este es igual a 0.1 (su valor default), como el rango de 0.1 y 1 es grande, se decidió hacer un análisis secundario para observar el comportamiento dentro de este."
      ],
      "metadata": {
        "id": "cbDHdXigKkja"
      }
    },
    {
      "cell_type": "code",
      "source": [
        "# Creación de modelos\n",
        "models = get_models_lr([0.0001, 0.001, 0.01, 0.1, 1.0])\n",
        "\n",
        "# Entrenamiento de modelos\n",
        "results_lr, names = fit_model(models)\n",
        "\n",
        "# Gráficas de métricas de aprendizaje\n",
        "plt.plot(names, results_lr)\n",
        "plt.legend(results_lr.columns)\n",
        "plt.show()\n",
        "\n",
        "results_lr.style.background_gradient(cmap ='viridis')\\\n",
        "        .set_properties(**{'font-size': '20px'})"
      ],
      "metadata": {
        "colab": {
          "base_uri": "https://localhost:8080/",
          "height": 740
        },
        "id": "16slVwtU934-",
        "outputId": "6cf9223d-101a-410e-a18e-8f72ad1ca2d7"
      },
      "execution_count": null,
      "outputs": [
        {
          "output_type": "display_data",
          "data": {
            "text/plain": [
              "<Figure size 800x550 with 1 Axes>"
            ],
            "image/png": "[encoded data removed]"
          },
          "metadata": {}
        },
        {
          "output_type": "execute_result",
          "data": {
            "text/plain": [
              "<pandas.io.formats.style.Styler at 0x78291077f4c0>"
            ],
            "text/html": [
              "<style type=\"text/css\">\n",
              "#T_b8eea_row0_col0, #T_b8eea_row0_col1, #T_b8eea_row0_col2, #T_b8eea_row0_col3, #T_b8eea_row1_col0, #T_b8eea_row1_col1, #T_b8eea_row1_col2, #T_b8eea_row1_col3, #T_b8eea_row2_col0, #T_b8eea_row2_col1, #T_b8eea_row2_col2, #T_b8eea_row2_col3 {\n",
              "  background-color: #440154;\n",
              "  color: #f1f1f1;\n",
              "  font-size: 20px;\n",
              "}\n",
              "#T_b8eea_row3_col0, #T_b8eea_row3_col1, #T_b8eea_row3_col2, #T_b8eea_row3_col3 {\n",
              "  background-color: #fde725;\n",
              "  color: #000000;\n",
              "  font-size: 20px;\n",
              "}\n",
              "#T_b8eea_row4_col0 {\n",
              "  background-color: #2db27d;\n",
              "  color: #f1f1f1;\n",
              "  font-size: 20px;\n",
              "}\n",
              "#T_b8eea_row4_col1 {\n",
              "  background-color: #aadc32;\n",
              "  color: #000000;\n",
              "  font-size: 20px;\n",
              "}\n",
              "#T_b8eea_row4_col2 {\n",
              "  background-color: #d5e21a;\n",
              "  color: #000000;\n",
              "  font-size: 20px;\n",
              "}\n",
              "#T_b8eea_row4_col3 {\n",
              "  background-color: #c0df25;\n",
              "  color: #000000;\n",
              "  font-size: 20px;\n",
              "}\n",
              "</style>\n",
              "<table id=\"T_b8eea\" class=\"dataframe\">\n",
              "  <thead>\n",
              "    <tr>\n",
              "      <th class=\"blank level0\" >&nbsp;</th>\n",
              "      <th id=\"T_b8eea_level0_col0\" class=\"col_heading level0 col0\" >Accuracy</th>\n",
              "      <th id=\"T_b8eea_level0_col1\" class=\"col_heading level0 col1\" >Precision</th>\n",
              "      <th id=\"T_b8eea_level0_col2\" class=\"col_heading level0 col2\" >Recall</th>\n",
              "      <th id=\"T_b8eea_level0_col3\" class=\"col_heading level0 col3\" >f-1</th>\n",
              "    </tr>\n",
              "  </thead>\n",
              "  <tbody>\n",
              "    <tr>\n",
              "      <th id=\"T_b8eea_level0_row0\" class=\"row_heading level0 row0\" >0</th>\n",
              "      <td id=\"T_b8eea_row0_col0\" class=\"data row0 col0\" >0.621103</td>\n",
              "      <td id=\"T_b8eea_row0_col1\" class=\"data row0 col1\" >0.000000</td>\n",
              "      <td id=\"T_b8eea_row0_col2\" class=\"data row0 col2\" >0.000000</td>\n",
              "      <td id=\"T_b8eea_row0_col3\" class=\"data row0 col3\" >0.000000</td>\n",
              "    </tr>\n",
              "    <tr>\n",
              "      <th id=\"T_b8eea_level0_row1\" class=\"row_heading level0 row1\" >1</th>\n",
              "      <td id=\"T_b8eea_row1_col0\" class=\"data row1 col0\" >0.621103</td>\n",
              "      <td id=\"T_b8eea_row1_col1\" class=\"data row1 col1\" >0.000000</td>\n",
              "      <td id=\"T_b8eea_row1_col2\" class=\"data row1 col2\" >0.000000</td>\n",
              "      <td id=\"T_b8eea_row1_col3\" class=\"data row1 col3\" >0.000000</td>\n",
              "    </tr>\n",
              "    <tr>\n",
              "      <th id=\"T_b8eea_level0_row2\" class=\"row_heading level0 row2\" >2</th>\n",
              "      <td id=\"T_b8eea_row2_col0\" class=\"data row2 col0\" >0.621103</td>\n",
              "      <td id=\"T_b8eea_row2_col1\" class=\"data row2 col1\" >0.000000</td>\n",
              "      <td id=\"T_b8eea_row2_col2\" class=\"data row2 col2\" >0.000000</td>\n",
              "      <td id=\"T_b8eea_row2_col3\" class=\"data row2 col3\" >0.000000</td>\n",
              "    </tr>\n",
              "    <tr>\n",
              "      <th id=\"T_b8eea_level0_row3\" class=\"row_heading level0 row3\" >3</th>\n",
              "      <td id=\"T_b8eea_row3_col0\" class=\"data row3 col0\" >0.788969</td>\n",
              "      <td id=\"T_b8eea_row3_col1\" class=\"data row3 col1\" >0.730263</td>\n",
              "      <td id=\"T_b8eea_row3_col2\" class=\"data row3 col2\" >0.702532</td>\n",
              "      <td id=\"T_b8eea_row3_col3\" class=\"data row3 col3\" >0.716129</td>\n",
              "    </tr>\n",
              "    <tr>\n",
              "      <th id=\"T_b8eea_level0_row4\" class=\"row_heading level0 row4\" >4</th>\n",
              "      <td id=\"T_b8eea_row4_col0\" class=\"data row4 col0\" >0.729017</td>\n",
              "      <td id=\"T_b8eea_row4_col1\" class=\"data row4 col1\" >0.638037</td>\n",
              "      <td id=\"T_b8eea_row4_col2\" class=\"data row4 col2\" >0.658228</td>\n",
              "      <td id=\"T_b8eea_row4_col3\" class=\"data row4 col3\" >0.647975</td>\n",
              "    </tr>\n",
              "  </tbody>\n",
              "</table>\n"
            ]
          },
          "metadata": {},
          "execution_count": 21
        }
      ]
    },
    {
      "cell_type": "markdown",
      "source": [
        "Se puede observar que efectivamente un valor de 0.1 es el que produce mejores resultados. Por lo que se decide escoger este valor para el learning rate."
      ],
      "metadata": {
        "id": "K2UMQSmhLwgz"
      }
    },
    {
      "cell_type": "code",
      "source": [
        "# Creación de modelos\n",
        "models = get_models_lr([0.1, 0.2, 0.3, 0.4, 0.5, 0.6, 0.7, 0.8, 0.9, 1])\n",
        "\n",
        "# Entrenamiento de modelos\n",
        "results_lr, names = fit_model(models)\n",
        "\n",
        "# Gráficas de métricas de aprendizaje\n",
        "plt.plot(names, results_lr)\n",
        "plt.legend(results_lr.columns)\n",
        "plt.show()\n",
        "\n",
        "results_lr.style.background_gradient(cmap ='viridis')\\\n",
        "        .set_properties(**{'font-size': '20px'})"
      ],
      "metadata": {
        "colab": {
          "base_uri": "https://localhost:8080/",
          "height": 964
        },
        "id": "s4yp-PVoLE_z",
        "outputId": "bc01b462-20af-4138-e6ff-0dfee7f618f7"
      },
      "execution_count": null,
      "outputs": [
        {
          "output_type": "display_data",
          "data": {
            "text/plain": [
              "<Figure size 800x550 with 1 Axes>"
            ],
            "image/png": "[encoded data removed]"
          },
          "metadata": {}
        },
        {
          "output_type": "execute_result",
          "data": {
            "text/plain": [
              "<pandas.io.formats.style.Styler at 0x78291080d240>"
            ],
            "text/html": [
              "<style type=\"text/css\">\n",
              "#T_70036_row0_col0, #T_70036_row0_col2, #T_70036_row0_col3, #T_70036_row2_col1 {\n",
              "  background-color: #fde725;\n",
              "  color: #000000;\n",
              "  font-size: 20px;\n",
              "}\n",
              "#T_70036_row0_col1 {\n",
              "  background-color: #f8e621;\n",
              "  color: #000000;\n",
              "  font-size: 20px;\n",
              "}\n",
              "#T_70036_row1_col0, #T_70036_row7_col0 {\n",
              "  background-color: #2cb17e;\n",
              "  color: #f1f1f1;\n",
              "  font-size: 20px;\n",
              "}\n",
              "#T_70036_row1_col1 {\n",
              "  background-color: #23a983;\n",
              "  color: #f1f1f1;\n",
              "  font-size: 20px;\n",
              "}\n",
              "#T_70036_row1_col2 {\n",
              "  background-color: #a0da39;\n",
              "  color: #000000;\n",
              "  font-size: 20px;\n",
              "}\n",
              "#T_70036_row1_col3 {\n",
              "  background-color: #4ac16d;\n",
              "  color: #000000;\n",
              "  font-size: 20px;\n",
              "}\n",
              "#T_70036_row2_col0, #T_70036_row4_col0 {\n",
              "  background-color: #3bbb75;\n",
              "  color: #f1f1f1;\n",
              "  font-size: 20px;\n",
              "}\n",
              "#T_70036_row2_col2 {\n",
              "  background-color: #481b6d;\n",
              "  color: #f1f1f1;\n",
              "  font-size: 20px;\n",
              "}\n",
              "#T_70036_row2_col3 {\n",
              "  background-color: #23888e;\n",
              "  color: #f1f1f1;\n",
              "  font-size: 20px;\n",
              "}\n",
              "#T_70036_row3_col0, #T_70036_row5_col0 {\n",
              "  background-color: #2a788e;\n",
              "  color: #f1f1f1;\n",
              "  font-size: 20px;\n",
              "}\n",
              "#T_70036_row3_col1, #T_70036_row9_col2 {\n",
              "  background-color: #21908d;\n",
              "  color: #f1f1f1;\n",
              "  font-size: 20px;\n",
              "}\n",
              "#T_70036_row3_col2 {\n",
              "  background-color: #2e6e8e;\n",
              "  color: #f1f1f1;\n",
              "  font-size: 20px;\n",
              "}\n",
              "#T_70036_row3_col3 {\n",
              "  background-color: #2b758e;\n",
              "  color: #f1f1f1;\n",
              "  font-size: 20px;\n",
              "}\n",
              "#T_70036_row4_col1 {\n",
              "  background-color: #56c667;\n",
              "  color: #000000;\n",
              "  font-size: 20px;\n",
              "}\n",
              "#T_70036_row4_col2, #T_70036_row5_col1 {\n",
              "  background-color: #2db27d;\n",
              "  color: #f1f1f1;\n",
              "  font-size: 20px;\n",
              "}\n",
              "#T_70036_row4_col3 {\n",
              "  background-color: #37b878;\n",
              "  color: #f1f1f1;\n",
              "  font-size: 20px;\n",
              "}\n",
              "#T_70036_row5_col2, #T_70036_row7_col2, #T_70036_row8_col0, #T_70036_row8_col2, #T_70036_row8_col3, #T_70036_row9_col0, #T_70036_row9_col1 {\n",
              "  background-color: #440154;\n",
              "  color: #f1f1f1;\n",
              "  font-size: 20px;\n",
              "}\n",
              "#T_70036_row5_col3 {\n",
              "  background-color: #3b528b;\n",
              "  color: #f1f1f1;\n",
              "  font-size: 20px;\n",
              "}\n",
              "#T_70036_row6_col0 {\n",
              "  background-color: #228b8d;\n",
              "  color: #f1f1f1;\n",
              "  font-size: 20px;\n",
              "}\n",
              "#T_70036_row6_col1 {\n",
              "  background-color: #32b67a;\n",
              "  color: #f1f1f1;\n",
              "  font-size: 20px;\n",
              "}\n",
              "#T_70036_row6_col2 {\n",
              "  background-color: #3f4788;\n",
              "  color: #f1f1f1;\n",
              "  font-size: 20px;\n",
              "}\n",
              "#T_70036_row6_col3 {\n",
              "  background-color: #2b748e;\n",
              "  color: #f1f1f1;\n",
              "  font-size: 20px;\n",
              "}\n",
              "#T_70036_row7_col1 {\n",
              "  background-color: #f1e51d;\n",
              "  color: #000000;\n",
              "  font-size: 20px;\n",
              "}\n",
              "#T_70036_row7_col3 {\n",
              "  background-color: #297b8e;\n",
              "  color: #f1f1f1;\n",
              "  font-size: 20px;\n",
              "}\n",
              "#T_70036_row8_col1 {\n",
              "  background-color: #46307e;\n",
              "  color: #f1f1f1;\n",
              "  font-size: 20px;\n",
              "}\n",
              "#T_70036_row9_col3 {\n",
              "  background-color: #424086;\n",
              "  color: #f1f1f1;\n",
              "  font-size: 20px;\n",
              "}\n",
              "</style>\n",
              "<table id=\"T_70036\" class=\"dataframe\">\n",
              "  <thead>\n",
              "    <tr>\n",
              "      <th class=\"blank level0\" >&nbsp;</th>\n",
              "      <th id=\"T_70036_level0_col0\" class=\"col_heading level0 col0\" >Accuracy</th>\n",
              "      <th id=\"T_70036_level0_col1\" class=\"col_heading level0 col1\" >Precision</th>\n",
              "      <th id=\"T_70036_level0_col2\" class=\"col_heading level0 col2\" >Recall</th>\n",
              "      <th id=\"T_70036_level0_col3\" class=\"col_heading level0 col3\" >f-1</th>\n",
              "    </tr>\n",
              "  </thead>\n",
              "  <tbody>\n",
              "    <tr>\n",
              "      <th id=\"T_70036_level0_row0\" class=\"row_heading level0 row0\" >0</th>\n",
              "      <td id=\"T_70036_row0_col0\" class=\"data row0 col0\" >0.788969</td>\n",
              "      <td id=\"T_70036_row0_col1\" class=\"data row0 col1\" >0.730263</td>\n",
              "      <td id=\"T_70036_row0_col2\" class=\"data row0 col2\" >0.702532</td>\n",
              "      <td id=\"T_70036_row0_col3\" class=\"data row0 col3\" >0.716129</td>\n",
              "    </tr>\n",
              "    <tr>\n",
              "      <th id=\"T_70036_level0_row1\" class=\"row_heading level0 row1\" >1</th>\n",
              "      <td id=\"T_70036_row1_col0\" class=\"data row1 col0\" >0.767386</td>\n",
              "      <td id=\"T_70036_row1_col1\" class=\"data row1 col1\" >0.694268</td>\n",
              "      <td id=\"T_70036_row1_col2\" class=\"data row1 col2\" >0.689873</td>\n",
              "      <td id=\"T_70036_row1_col3\" class=\"data row1 col3\" >0.692063</td>\n",
              "    </tr>\n",
              "    <tr>\n",
              "      <th id=\"T_70036_level0_row2\" class=\"row_heading level0 row2\" >2</th>\n",
              "      <td id=\"T_70036_row2_col0\" class=\"data row2 col0\" >0.769784</td>\n",
              "      <td id=\"T_70036_row2_col1\" class=\"data row2 col1\" >0.731343</td>\n",
              "      <td id=\"T_70036_row2_col2\" class=\"data row2 col2\" >0.620253</td>\n",
              "      <td id=\"T_70036_row2_col3\" class=\"data row2 col3\" >0.671233</td>\n",
              "    </tr>\n",
              "    <tr>\n",
              "      <th id=\"T_70036_level0_row3\" class=\"row_heading level0 row3\" >3</th>\n",
              "      <td id=\"T_70036_row3_col0\" class=\"data row3 col0\" >0.752998</td>\n",
              "      <td id=\"T_70036_row3_col1\" class=\"data row3 col1\" >0.684564</td>\n",
              "      <td id=\"T_70036_row3_col2\" class=\"data row3 col2\" >0.645570</td>\n",
              "      <td id=\"T_70036_row3_col3\" class=\"data row3 col3\" >0.664495</td>\n",
              "    </tr>\n",
              "    <tr>\n",
              "      <th id=\"T_70036_level0_row4\" class=\"row_heading level0 row4\" >4</th>\n",
              "      <td id=\"T_70036_row4_col0\" class=\"data row4 col0\" >0.769784</td>\n",
              "      <td id=\"T_70036_row4_col1\" class=\"data row4 col1\" >0.706667</td>\n",
              "      <td id=\"T_70036_row4_col2\" class=\"data row4 col2\" >0.670886</td>\n",
              "      <td id=\"T_70036_row4_col3\" class=\"data row4 col3\" >0.688312</td>\n",
              "    </tr>\n",
              "    <tr>\n",
              "      <th id=\"T_70036_level0_row5\" class=\"row_heading level0 row5\" >5</th>\n",
              "      <td id=\"T_70036_row5_col0\" class=\"data row5 col0\" >0.752998</td>\n",
              "      <td id=\"T_70036_row5_col1\" class=\"data row5 col1\" >0.697842</td>\n",
              "      <td id=\"T_70036_row5_col2\" class=\"data row5 col2\" >0.613924</td>\n",
              "      <td id=\"T_70036_row5_col3\" class=\"data row5 col3\" >0.653199</td>\n",
              "    </tr>\n",
              "    <tr>\n",
              "      <th id=\"T_70036_level0_row6\" class=\"row_heading level0 row6\" >6</th>\n",
              "      <td id=\"T_70036_row6_col0\" class=\"data row6 col0\" >0.757794</td>\n",
              "      <td id=\"T_70036_row6_col1\" class=\"data row6 col1\" >0.699301</td>\n",
              "      <td id=\"T_70036_row6_col2\" class=\"data row6 col2\" >0.632911</td>\n",
              "      <td id=\"T_70036_row6_col3\" class=\"data row6 col3\" >0.664452</td>\n",
              "    </tr>\n",
              "    <tr>\n",
              "      <th id=\"T_70036_level0_row7\" class=\"row_heading level0 row7\" >7</th>\n",
              "      <td id=\"T_70036_row7_col0\" class=\"data row7 col0\" >0.767386</td>\n",
              "      <td id=\"T_70036_row7_col1\" class=\"data row7 col1\" >0.729323</td>\n",
              "      <td id=\"T_70036_row7_col2\" class=\"data row7 col2\" >0.613924</td>\n",
              "      <td id=\"T_70036_row7_col3\" class=\"data row7 col3\" >0.666667</td>\n",
              "    </tr>\n",
              "    <tr>\n",
              "      <th id=\"T_70036_level0_row8\" class=\"row_heading level0 row8\" >8</th>\n",
              "      <td id=\"T_70036_row8_col0\" class=\"data row8 col0\" >0.729017</td>\n",
              "      <td id=\"T_70036_row8_col1\" class=\"data row8 col1\" >0.651007</td>\n",
              "      <td id=\"T_70036_row8_col2\" class=\"data row8 col2\" >0.613924</td>\n",
              "      <td id=\"T_70036_row8_col3\" class=\"data row8 col3\" >0.631922</td>\n",
              "    </tr>\n",
              "    <tr>\n",
              "      <th id=\"T_70036_level0_row9\" class=\"row_heading level0 row9\" >9</th>\n",
              "      <td id=\"T_70036_row9_col0\" class=\"data row9 col0\" >0.729017</td>\n",
              "      <td id=\"T_70036_row9_col1\" class=\"data row9 col1\" >0.638037</td>\n",
              "      <td id=\"T_70036_row9_col2\" class=\"data row9 col2\" >0.658228</td>\n",
              "      <td id=\"T_70036_row9_col3\" class=\"data row9 col3\" >0.647975</td>\n",
              "    </tr>\n",
              "  </tbody>\n",
              "</table>\n"
            ]
          },
          "metadata": {},
          "execution_count": 22
        }
      ]
    },
    {
      "cell_type": "markdown",
      "source": [
        "### Modelo final"
      ],
      "metadata": {
        "id": "rVwQslGfMG71"
      }
    },
    {
      "cell_type": "markdown",
      "source": [
        "Concluyendo, el mejor modelo fue con los siguientes hiperparámetros:\n",
        "- N_estimators: 20\n",
        "- Max_depth: 2\n",
        "- Num_leaves: 3\n",
        "- Boosting_type: 'goss'\n",
        "- Learning rate: 0.1"
      ],
      "metadata": {
        "id": "sgH4KuXLRodd"
      }
    },
    {
      "cell_type": "code",
      "source": [
        "# Creación modelo fianl\n",
        "modelo = LGBMClassifier(n_estimators = 20, max_depth = 2, num_leaves = 3,\n",
        "                        boosting_type = 'goss', learning_rate = 0.1,\n",
        "                        force_row_wise = True, verbose = -1)\n",
        "\n",
        "# Entrenamiento\n",
        "modelo.fit(x_train, y_train)\n",
        "\n",
        "# Predicciones\n",
        "y_pred = modelo.predict(test)\n",
        "\n",
        "# Métricas de aprendizaje\n",
        "results = pd.DataFrame([[accuracy_score(y_test, y_pred), precision_score(y_test, y_pred),\n",
        "                    recall_score(y_test, y_pred), f1_score(y_test, y_pred)]])\n",
        "results.columns = ['Accuracy', 'Precision','Recall','f-1']\n",
        "results"
      ],
      "metadata": {
        "colab": {
          "base_uri": "https://localhost:8080/",
          "height": 81
        },
        "id": "dpWYcwNqMYXb",
        "outputId": "fafaefbb-b5eb-4c6a-c09c-5ef70a3b1a04"
      },
      "execution_count": null,
      "outputs": [
        {
          "output_type": "execute_result",
          "data": {
            "text/plain": [
              "   Accuracy  Precision    Recall       f-1\n",
              "0  0.788969   0.730263  0.702532  0.716129"
            ],
            "text/html": [
              "\n",
              "  <div id=\"df-3b2870e5-c5c9-4bd4-b1f1-43423b6ecdf9\" class=\"colab-df-container\">\n",
              "    <div>\n",
              "<style scoped>\n",
              "    .dataframe tbody tr th:only-of-type {\n",
              "        vertical-align: middle;\n",
              "    }\n",
              "\n",
              "    .dataframe tbody tr th {\n",
              "        vertical-align: top;\n",
              "    }\n",
              "\n",
              "    .dataframe thead th {\n",
              "        text-align: right;\n",
              "    }\n",
              "</style>\n",
              "<table border=\"1\" class=\"dataframe\">\n",
              "  <thead>\n",
              "    <tr style=\"text-align: right;\">\n",
              "      <th></th>\n",
              "      <th>Accuracy</th>\n",
              "      <th>Precision</th>\n",
              "      <th>Recall</th>\n",
              "      <th>f-1</th>\n",
              "    </tr>\n",
              "  </thead>\n",
              "  <tbody>\n",
              "    <tr>\n",
              "      <th>0</th>\n",
              "      <td>0.788969</td>\n",
              "      <td>0.730263</td>\n",
              "      <td>0.702532</td>\n",
              "      <td>0.716129</td>\n",
              "    </tr>\n",
              "  </tbody>\n",
              "</table>\n",
              "</div>\n",
              "    <div class=\"colab-df-buttons\">\n",
              "\n",
              "  <div class=\"colab-df-container\">\n",
              "    <button class=\"colab-df-convert\" onclick=\"convertToInteractive('df-3b2870e5-c5c9-4bd4-b1f1-43423b6ecdf9')\"\n",
              "            title=\"Convert this dataframe to an interactive table.\"\n",
              "            style=\"display:none;\">\n",
              "\n",
              "  <svg xmlns=\"http://www.w3.org/2000/svg\" height=\"24px\" viewBox=\"0 -960 960 960\">\n",
              "    <path d=\"M120-120v-720h720v720H120Zm60-500h600v-160H180v160Zm220 220h160v-160H400v160Zm0 220h160v-160H400v160ZM180-400h160v-160H180v160Zm440 0h160v-160H620v160ZM180-180h160v-160H180v160Zm440 0h160v-160H620v160Z\"/>\n",
              "  </svg>\n",
              "    </button>\n",
              "\n",
              "  <style>\n",
              "    .colab-df-container {\n",
              "      display:flex;\n",
              "      gap: 12px;\n",
              "    }\n",
              "\n",
              "    .colab-df-convert {\n",
              "      background-color: #E8F0FE;\n",
              "      border: none;\n",
              "      border-radius: 50%;\n",
              "      cursor: pointer;\n",
              "      display: none;\n",
              "      fill: #1967D2;\n",
              "      height: 32px;\n",
              "      padding: 0 0 0 0;\n",
              "      width: 32px;\n",
              "    }\n",
              "\n",
              "    .colab-df-convert:hover {\n",
              "      background-color: #E2EBFA;\n",
              "      box-shadow: 0px 1px 2px rgba(60, 64, 67, 0.3), 0px 1px 3px 1px rgba(60, 64, 67, 0.15);\n",
              "      fill: #174EA6;\n",
              "    }\n",
              "\n",
              "    .colab-df-buttons div {\n",
              "      margin-bottom: 4px;\n",
              "    }\n",
              "\n",
              "    [theme=dark] .colab-df-convert {\n",
              "      background-color: #3B4455;\n",
              "      fill: #D2E3FC;\n",
              "    }\n",
              "\n",
              "    [theme=dark] .colab-df-convert:hover {\n",
              "      background-color: #434B5C;\n",
              "      box-shadow: 0px 1px 3px 1px rgba(0, 0, 0, 0.15);\n",
              "      filter: drop-shadow(0px 1px 2px rgba(0, 0, 0, 0.3));\n",
              "      fill: #FFFFFF;\n",
              "    }\n",
              "  </style>\n",
              "\n",
              "    <script>\n",
              "      const buttonEl =\n",
              "        document.querySelector('#df-3b2870e5-c5c9-4bd4-b1f1-43423b6ecdf9 button.colab-df-convert');\n",
              "      buttonEl.style.display =\n",
              "        google.colab.kernel.accessAllowed ? 'block' : 'none';\n",
              "\n",
              "      async function convertToInteractive(key) {\n",
              "        const element = document.querySelector('#df-3b2870e5-c5c9-4bd4-b1f1-43423b6ecdf9');\n",
              "        const dataTable =\n",
              "          await google.colab.kernel.invokeFunction('convertToInteractive',\n",
              "                                                    [key], {});\n",
              "        if (!dataTable) return;\n",
              "\n",
              "        const docLinkHtml = 'Like what you see? Visit the ' +\n",
              "          '<a target=\"_blank\" href=https://colab.research.google.com/notebooks/data_table.ipynb>data table notebook</a>'\n",
              "          + ' to learn more about interactive tables.';\n",
              "        element.innerHTML = '';\n",
              "        dataTable['output_type'] = 'display_data';\n",
              "        await google.colab.output.renderOutput(dataTable, element);\n",
              "        const docLink = document.createElement('div');\n",
              "        docLink.innerHTML = docLinkHtml;\n",
              "        element.appendChild(docLink);\n",
              "      }\n",
              "    </script>\n",
              "  </div>\n",
              "\n",
              "    </div>\n",
              "  </div>\n"
            ]
          },
          "metadata": {},
          "execution_count": 23
        }
      ]
    },
    {
      "cell_type": "markdown",
      "source": [
        "**Matriz de confusión**\n",
        "\n",
        "Podemos observar que la cantidad de instancias mal predichas son similares para ambas clases.\n",
        "\n",
        "Se tienen un total de 218 predicciones correctas de no supervivencia, 111 de supervivencia, por otro lado, se tienen 41 casos de no supervivencia predichos incorrectamente y 47 de supervivencia predichos como no supervivencia."
      ],
      "metadata": {
        "id": "uAm3n9TlTXRA"
      }
    },
    {
      "cell_type": "code",
      "source": [
        "# Matriz de confusión\n",
        "cm = confusion_matrix(y_test, y_pred, labels = modelo.classes_)\n",
        "disp = ConfusionMatrixDisplay(confusion_matrix=cm, display_labels=modelo.classes_)\n",
        "disp.plot()\n",
        "plt.show()"
      ],
      "metadata": {
        "colab": {
          "base_uri": "https://localhost:8080/",
          "height": 503
        },
        "id": "0nCWOIwOSnqR",
        "outputId": "45ebc086-76c4-479a-c963-892b1b4e1527"
      },
      "execution_count": null,
      "outputs": [
        {
          "output_type": "display_data",
          "data": {
            "text/plain": [
              "<Figure size 800x550 with 2 Axes>"
            ],
            "image/png": "[encoded data removed]"
          },
          "metadata": {}
        }
      ]
    },
    {
      "cell_type": "markdown",
      "source": [
        "## Gradient Boosting Classifier"
      ],
      "metadata": {
        "id": "l1ujf9cOHioc"
      }
    },
    {
      "cell_type": "code",
      "source": [
        "from sklearn.ensemble import GradientBoostingClassifier\n",
        "gb_clf = GradientBoostingClassifier(n_estimators=100, learning_rate=0.01, max_features=2, max_depth=2, random_state=0)\n",
        "gb_clf.fit(x_train, y_train)"
      ],
      "metadata": {
        "id": "Is_hRypueh1f",
        "colab": {
          "base_uri": "https://localhost:8080/",
          "height": 214
        },
        "outputId": "ade7a858-d4b2-448c-ae7e-2eb7092d4993"
      },
      "execution_count": null,
      "outputs": [
        {
          "output_type": "execute_result",
          "data": {
            "text/plain": [
              "GradientBoostingClassifier(ccp_alpha=0.0, criterion='friedman_mse', init=None,\n",
              "                           learning_rate=0.01, loss='log_loss', max_depth=2,\n",
              "                           max_features=2, max_leaf_nodes=None,\n",
              "                           min_impurity_decrease=0.0, min_samples_leaf=1,\n",
              "                           min_samples_split=2, min_weight_fraction_leaf=0.0,\n",
              "                           n_estimators=100, n_iter_no_change=None,\n",
              "                           random_state=0, subsample=1.0, tol=0.0001,\n",
              "                           validation_fraction=0.1, verbose=0,\n",
              "                           warm_start=False)"
            ],
            "text/html": [
              "<style>#sk-container-id-1 {color: black;background-color: white;}#sk-container-id-1 pre{padding: 0;}#sk-container-id-1 div.sk-toggleable {background-color: white;}#sk-container-id-1 label.sk-toggleable__label {cursor: pointer;display: block;width: 100%;margin-bottom: 0;padding: 0.3em;box-sizing: border-box;text-align: center;}#sk-container-id-1 label.sk-toggleable__label-arrow:before {content: \"▸\";float: left;margin-right: 0.25em;color: #696969;}#sk-container-id-1 label.sk-toggleable__label-arrow:hover:before {color: black;}#sk-container-id-1 div.sk-estimator:hover label.sk-toggleable__label-arrow:before {color: black;}#sk-container-id-1 div.sk-toggleable__content {max-height: 0;max-width: 0;overflow: hidden;text-align: left;background-color: #f0f8ff;}#sk-container-id-1 div.sk-toggleable__content pre {margin: 0.2em;color: black;border-radius: 0.25em;background-color: #f0f8ff;}#sk-container-id-1 input.sk-toggleable__control:checked~div.sk-toggleable__content {max-height: 200px;max-width: 100%;overflow: auto;}#sk-container-id-1 input.sk-toggleable__control:checked~label.sk-toggleable__label-arrow:before {content: \"▾\";}#sk-container-id-1 div.sk-estimator input.sk-toggleable__control:checked~label.sk-toggleable__label {background-color: #d4ebff;}#sk-container-id-1 div.sk-label input.sk-toggleable__control:checked~label.sk-toggleable__label {background-color: #d4ebff;}#sk-container-id-1 input.sk-hidden--visually {border: 0;clip: rect(1px 1px 1px 1px);clip: rect(1px, 1px, 1px, 1px);height: 1px;margin: -1px;overflow: hidden;padding: 0;position: absolute;width: 1px;}#sk-container-id-1 div.sk-estimator {font-family: monospace;background-color: #f0f8ff;border: 1px dotted black;border-radius: 0.25em;box-sizing: border-box;margin-bottom: 0.5em;}#sk-container-id-1 div.sk-estimator:hover {background-color: #d4ebff;}#sk-container-id-1 div.sk-parallel-item::after {content: \"\";width: 100%;border-bottom: 1px solid gray;flex-grow: 1;}#sk-container-id-1 div.sk-label:hover label.sk-toggleable__label {background-color: #d4ebff;}#sk-container-id-1 div.sk-serial::before {content: \"\";position: absolute;border-left: 1px solid gray;box-sizing: border-box;top: 0;bottom: 0;left: 50%;z-index: 0;}#sk-container-id-1 div.sk-serial {display: flex;flex-direction: column;align-items: center;background-color: white;padding-right: 0.2em;padding-left: 0.2em;position: relative;}#sk-container-id-1 div.sk-item {position: relative;z-index: 1;}#sk-container-id-1 div.sk-parallel {display: flex;align-items: stretch;justify-content: center;background-color: white;position: relative;}#sk-container-id-1 div.sk-item::before, #sk-container-id-1 div.sk-parallel-item::before {content: \"\";position: absolute;border-left: 1px solid gray;box-sizing: border-box;top: 0;bottom: 0;left: 50%;z-index: -1;}#sk-container-id-1 div.sk-parallel-item {display: flex;flex-direction: column;z-index: 1;position: relative;background-color: white;}#sk-container-id-1 div.sk-parallel-item:first-child::after {align-self: flex-end;width: 50%;}#sk-container-id-1 div.sk-parallel-item:last-child::after {align-self: flex-start;width: 50%;}#sk-container-id-1 div.sk-parallel-item:only-child::after {width: 0;}#sk-container-id-1 div.sk-dashed-wrapped {border: 1px dashed gray;margin: 0 0.4em 0.5em 0.4em;box-sizing: border-box;padding-bottom: 0.4em;background-color: white;}#sk-container-id-1 div.sk-label label {font-family: monospace;font-weight: bold;display: inline-block;line-height: 1.2em;}#sk-container-id-1 div.sk-label-container {text-align: center;}#sk-container-id-1 div.sk-container {/* jupyter's `normalize.less` sets `[hidden] { display: none; }` but bootstrap.min.css set `[hidden] { display: none !important; }` so we also need the `!important` here to be able to override the default hidden behavior on the sphinx rendered scikit-learn.org. See: https://github.com/scikit-learn/scikit-learn/issues/21755 */display: inline-block !important;position: relative;}#sk-container-id-1 div.sk-text-repr-fallback {display: none;}</style><div id=\"sk-container-id-1\" class=\"sk-top-container\"><div class=\"sk-text-repr-fallback\"><pre>GradientBoostingClassifier(ccp_alpha=0.0, criterion=&#x27;friedman_mse&#x27;, init=None,\n",
              "                           learning_rate=0.01, loss=&#x27;log_loss&#x27;, max_depth=2,\n",
              "                           max_features=2, max_leaf_nodes=None,\n",
              "                           min_impurity_decrease=0.0, min_samples_leaf=1,\n",
              "                           min_samples_split=2, min_weight_fraction_leaf=0.0,\n",
              "                           n_estimators=100, n_iter_no_change=None,\n",
              "                           random_state=0, subsample=1.0, tol=0.0001,\n",
              "                           validation_fraction=0.1, verbose=0,\n",
              "                           warm_start=False)</pre><b>In a Jupyter environment, please rerun this cell to show the HTML representation or trust the notebook. <br />On GitHub, the HTML representation is unable to render, please try loading this page with nbviewer.org.</b></div><div class=\"sk-container\" hidden><div class=\"sk-item\"><div class=\"sk-estimator sk-toggleable\"><input class=\"sk-toggleable__control sk-hidden--visually\" id=\"sk-estimator-id-1\" type=\"checkbox\" checked><label for=\"sk-estimator-id-1\" class=\"sk-toggleable__label sk-toggleable__label-arrow\">GradientBoostingClassifier</label><div class=\"sk-toggleable__content\"><pre>GradientBoostingClassifier(ccp_alpha=0.0, criterion=&#x27;friedman_mse&#x27;, init=None,\n",
              "                           learning_rate=0.01, loss=&#x27;log_loss&#x27;, max_depth=2,\n",
              "                           max_features=2, max_leaf_nodes=None,\n",
              "                           min_impurity_decrease=0.0, min_samples_leaf=1,\n",
              "                           min_samples_split=2, min_weight_fraction_leaf=0.0,\n",
              "                           n_estimators=100, n_iter_no_change=None,\n",
              "                           random_state=0, subsample=1.0, tol=0.0001,\n",
              "                           validation_fraction=0.1, verbose=0,\n",
              "                           warm_start=False)</pre></div></div></div></div></div>"
            ]
          },
          "metadata": {},
          "execution_count": 26
        }
      ]
    },
    {
      "cell_type": "code",
      "source": [
        "y_pred = gb_clf.predict(test)\n",
        "\n",
        "accuracy = accuracy_score(y_test, y_pred)\n",
        "precision = precision_score(y_test, y_pred)\n",
        "recall = recall_score(y_test, y_pred)\n",
        "f1 = f1_score(y_test, y_pred)\n",
        "\n",
        "print(f'Accuracy: {accuracy}')\n",
        "print(f'Precisión (Precision): {precision}')\n",
        "print(f'Recall: {recall}')\n",
        "print(f'F1-Score: {f1}')"
      ],
      "metadata": {
        "id": "GxtpGQBNejYP",
        "colab": {
          "base_uri": "https://localhost:8080/"
        },
        "outputId": "a4f567dc-1ddf-4e1f-dfd1-b314bde9240e"
      },
      "execution_count": null,
      "outputs": [
        {
          "output_type": "stream",
          "name": "stdout",
          "text": [
            "Accuracy: 0.7961630695443646\n",
            "Precisión (Precision): 0.7967479674796748\n",
            "Recall: 0.620253164556962\n",
            "F1-Score: 0.697508896797153\n"
          ]
        }
      ]
    },
    {
      "cell_type": "markdown",
      "source": [
        "## Random Forest Classifier"
      ],
      "metadata": {
        "id": "GVRFHUN2sv06"
      }
    },
    {
      "cell_type": "markdown",
      "source": [
        "### Liberias"
      ],
      "metadata": {
        "id": "bdl48XdWu1E9"
      }
    },
    {
      "cell_type": "code",
      "source": [
        "# Modelling\n",
        "from sklearn.ensemble import RandomForestClassifier\n",
        "from sklearn.metrics import accuracy_score, confusion_matrix, precision_score, recall_score, ConfusionMatrixDisplay\n",
        "from sklearn.model_selection import RandomizedSearchCV, train_test_split\n",
        "from scipy.stats import randint\n",
        "\n",
        "# Tree Visualisation\n",
        "from sklearn.tree import export_graphviz\n",
        "from IPython.display import Image\n",
        "import graphviz"
      ],
      "metadata": {
        "id": "mYAQLo_bHqZe"
      },
      "execution_count": null,
      "outputs": []
    },
    {
      "cell_type": "markdown",
      "source": [
        "### Adaptación y evaluación"
      ],
      "metadata": {
        "id": "F8z8hlVuu968"
      }
    },
    {
      "cell_type": "code",
      "source": [
        "rf = RandomForestClassifier()\n",
        "rf.fit(x_train, y_train)"
      ],
      "metadata": {
        "colab": {
          "base_uri": "https://localhost:8080/",
          "height": 179
        },
        "id": "HDj237Euu-Nl",
        "outputId": "bbf79115-492f-47ae-f702-9d26e1a920c4"
      },
      "execution_count": null,
      "outputs": [
        {
          "output_type": "execute_result",
          "data": {
            "text/plain": [
              "RandomForestClassifier(bootstrap=True, ccp_alpha=0.0, class_weight=None,\n",
              "                       criterion='gini', max_depth=None, max_features='sqrt',\n",
              "                       max_leaf_nodes=None, max_samples=None,\n",
              "                       min_impurity_decrease=0.0, min_samples_leaf=1,\n",
              "                       min_samples_split=2, min_weight_fraction_leaf=0.0,\n",
              "                       n_estimators=100, n_jobs=None, oob_score=False,\n",
              "                       random_state=None, verbose=0, warm_start=False)"
            ],
            "text/html": [
              "<style>#sk-container-id-2 {color: black;background-color: white;}#sk-container-id-2 pre{padding: 0;}#sk-container-id-2 div.sk-toggleable {background-color: white;}#sk-container-id-2 label.sk-toggleable__label {cursor: pointer;display: block;width: 100%;margin-bottom: 0;padding: 0.3em;box-sizing: border-box;text-align: center;}#sk-container-id-2 label.sk-toggleable__label-arrow:before {content: \"▸\";float: left;margin-right: 0.25em;color: #696969;}#sk-container-id-2 label.sk-toggleable__label-arrow:hover:before {color: black;}#sk-container-id-2 div.sk-estimator:hover label.sk-toggleable__label-arrow:before {color: black;}#sk-container-id-2 div.sk-toggleable__content {max-height: 0;max-width: 0;overflow: hidden;text-align: left;background-color: #f0f8ff;}#sk-container-id-2 div.sk-toggleable__content pre {margin: 0.2em;color: black;border-radius: 0.25em;background-color: #f0f8ff;}#sk-container-id-2 input.sk-toggleable__control:checked~div.sk-toggleable__content {max-height: 200px;max-width: 100%;overflow: auto;}#sk-container-id-2 input.sk-toggleable__control:checked~label.sk-toggleable__label-arrow:before {content: \"▾\";}#sk-container-id-2 div.sk-estimator input.sk-toggleable__control:checked~label.sk-toggleable__label {background-color: #d4ebff;}#sk-container-id-2 div.sk-label input.sk-toggleable__control:checked~label.sk-toggleable__label {background-color: #d4ebff;}#sk-container-id-2 input.sk-hidden--visually {border: 0;clip: rect(1px 1px 1px 1px);clip: rect(1px, 1px, 1px, 1px);height: 1px;margin: -1px;overflow: hidden;padding: 0;position: absolute;width: 1px;}#sk-container-id-2 div.sk-estimator {font-family: monospace;background-color: #f0f8ff;border: 1px dotted black;border-radius: 0.25em;box-sizing: border-box;margin-bottom: 0.5em;}#sk-container-id-2 div.sk-estimator:hover {background-color: #d4ebff;}#sk-container-id-2 div.sk-parallel-item::after {content: \"\";width: 100%;border-bottom: 1px solid gray;flex-grow: 1;}#sk-container-id-2 div.sk-label:hover label.sk-toggleable__label {background-color: #d4ebff;}#sk-container-id-2 div.sk-serial::before {content: \"\";position: absolute;border-left: 1px solid gray;box-sizing: border-box;top: 0;bottom: 0;left: 50%;z-index: 0;}#sk-container-id-2 div.sk-serial {display: flex;flex-direction: column;align-items: center;background-color: white;padding-right: 0.2em;padding-left: 0.2em;position: relative;}#sk-container-id-2 div.sk-item {position: relative;z-index: 1;}#sk-container-id-2 div.sk-parallel {display: flex;align-items: stretch;justify-content: center;background-color: white;position: relative;}#sk-container-id-2 div.sk-item::before, #sk-container-id-2 div.sk-parallel-item::before {content: \"\";position: absolute;border-left: 1px solid gray;box-sizing: border-box;top: 0;bottom: 0;left: 50%;z-index: -1;}#sk-container-id-2 div.sk-parallel-item {display: flex;flex-direction: column;z-index: 1;position: relative;background-color: white;}#sk-container-id-2 div.sk-parallel-item:first-child::after {align-self: flex-end;width: 50%;}#sk-container-id-2 div.sk-parallel-item:last-child::after {align-self: flex-start;width: 50%;}#sk-container-id-2 div.sk-parallel-item:only-child::after {width: 0;}#sk-container-id-2 div.sk-dashed-wrapped {border: 1px dashed gray;margin: 0 0.4em 0.5em 0.4em;box-sizing: border-box;padding-bottom: 0.4em;background-color: white;}#sk-container-id-2 div.sk-label label {font-family: monospace;font-weight: bold;display: inline-block;line-height: 1.2em;}#sk-container-id-2 div.sk-label-container {text-align: center;}#sk-container-id-2 div.sk-container {/* jupyter's `normalize.less` sets `[hidden] { display: none; }` but bootstrap.min.css set `[hidden] { display: none !important; }` so we also need the `!important` here to be able to override the default hidden behavior on the sphinx rendered scikit-learn.org. See: https://github.com/scikit-learn/scikit-learn/issues/21755 */display: inline-block !important;position: relative;}#sk-container-id-2 div.sk-text-repr-fallback {display: none;}</style><div id=\"sk-container-id-2\" class=\"sk-top-container\"><div class=\"sk-text-repr-fallback\"><pre>RandomForestClassifier(bootstrap=True, ccp_alpha=0.0, class_weight=None,\n",
              "                       criterion=&#x27;gini&#x27;, max_depth=None, max_features=&#x27;sqrt&#x27;,\n",
              "                       max_leaf_nodes=None, max_samples=None,\n",
              "                       min_impurity_decrease=0.0, min_samples_leaf=1,\n",
              "                       min_samples_split=2, min_weight_fraction_leaf=0.0,\n",
              "                       n_estimators=100, n_jobs=None, oob_score=False,\n",
              "                       random_state=None, verbose=0, warm_start=False)</pre><b>In a Jupyter environment, please rerun this cell to show the HTML representation or trust the notebook. <br />On GitHub, the HTML representation is unable to render, please try loading this page with nbviewer.org.</b></div><div class=\"sk-container\" hidden><div class=\"sk-item\"><div class=\"sk-estimator sk-toggleable\"><input class=\"sk-toggleable__control sk-hidden--visually\" id=\"sk-estimator-id-2\" type=\"checkbox\" checked><label for=\"sk-estimator-id-2\" class=\"sk-toggleable__label sk-toggleable__label-arrow\">RandomForestClassifier</label><div class=\"sk-toggleable__content\"><pre>RandomForestClassifier(bootstrap=True, ccp_alpha=0.0, class_weight=None,\n",
              "                       criterion=&#x27;gini&#x27;, max_depth=None, max_features=&#x27;sqrt&#x27;,\n",
              "                       max_leaf_nodes=None, max_samples=None,\n",
              "                       min_impurity_decrease=0.0, min_samples_leaf=1,\n",
              "                       min_samples_split=2, min_weight_fraction_leaf=0.0,\n",
              "                       n_estimators=100, n_jobs=None, oob_score=False,\n",
              "                       random_state=None, verbose=0, warm_start=False)</pre></div></div></div></div></div>"
            ]
          },
          "metadata": {},
          "execution_count": 30
        }
      ]
    },
    {
      "cell_type": "code",
      "source": [
        "y_pred = rf.predict(test)\n",
        "accuracy = accuracy_score(y_test, y_pred)\n",
        "print(\"Accuracy inicial:\", accuracy)"
      ],
      "metadata": {
        "colab": {
          "base_uri": "https://localhost:8080/"
        },
        "id": "5t16BC5mwq-u",
        "outputId": "a2be5fbd-3a1f-49c4-c29d-9f6a8c0ed851"
      },
      "execution_count": null,
      "outputs": [
        {
          "output_type": "stream",
          "name": "stdout",
          "text": [
            "Accuracy inicial: 0.7386091127098321\n"
          ]
        }
      ]
    },
    {
      "cell_type": "markdown",
      "source": [
        "#### _Visualizacion de 3 árboles de decisión del random forest_"
      ],
      "metadata": {
        "id": "EkQh34Ec8O3s"
      }
    },
    {
      "cell_type": "code",
      "source": [
        "for i in range(3):\n",
        "    tree = rf.estimators_[i]\n",
        "    dot_data = export_graphviz(tree,\n",
        "                               feature_names=x_train.columns,\n",
        "                               filled=True,\n",
        "                               max_depth=2,\n",
        "                               impurity=False,\n",
        "                               proportion=True)\n",
        "    graph = graphviz.Source(dot_data)\n",
        "    display(graph)"
      ],
      "metadata": {
        "colab": {
          "base_uri": "https://localhost:8080/",
          "height": 1000
        },
        "id": "av5u1E728W4x",
        "outputId": "0efd5606-28f5-41f9-8ead-d35d1bfe9349"
      },
      "execution_count": null,
      "outputs": [
        {
          "output_type": "display_data",
          "data": {
            "image/svg+xml": "<?xml version=\"1.0\" encoding=\"UTF-8\" standalone=\"no\"?>\n<!DOCTYPE svg PUBLIC \"-//W3C//DTD SVG 1.1//EN\"\n \"http://www.w3.org/Graphics/SVG/1.1/DTD/svg11.dtd\">\n<!-- Generated by graphviz version 2.43.0 (0)\n -->\n<!-- Title: Tree Pages: 1 -->\n<svg width=\"642pt\" height=\"311pt\"\n viewBox=\"0.00 0.00 642.00 311.00\" xmlns=\"http://www.w3.org/2000/svg\" xmlns:xlink=\"http://www.w3.org/1999/xlink\">\n<g id=\"graph0\" class=\"graph\" transform=\"scale(1 1) rotate(0) translate(4 307)\">\n<title>Tree</title>\n<polygon fill=\"white\" stroke=\"transparent\" points=\"-4,4 -4,-307 638,-307 638,4 -4,4\"/>\n<!-- 0 -->\n<g id=\"node1\" class=\"node\">\n<title>0</title>\n<polygon fill=\"#f4cbad\" stroke=\"black\" points=\"379.5,-303 232.5,-303 232.5,-250 379.5,-250 379.5,-303\"/>\n<text text-anchor=\"middle\" x=\"306\" y=\"-287.8\" font-family=\"Helvetica,sans-Serif\" font-size=\"14.00\">Age &lt;= 17.5</text>\n<text text-anchor=\"middle\" x=\"306\" y=\"-272.8\" font-family=\"Helvetica,sans-Serif\" font-size=\"14.00\">samples = 100.0%</text>\n<text text-anchor=\"middle\" x=\"306\" y=\"-257.8\" font-family=\"Helvetica,sans-Serif\" font-size=\"14.00\">value = [0.631, 0.369]</text>\n</g>\n<!-- 1 -->\n<g id=\"node2\" class=\"node\">\n<title>1</title>\n<polygon fill=\"#cce6f8\" stroke=\"black\" points=\"297.5,-214 150.5,-214 150.5,-161 297.5,-161 297.5,-214\"/>\n<text text-anchor=\"middle\" x=\"224\" y=\"-198.8\" font-family=\"Helvetica,sans-Serif\" font-size=\"14.00\">Comp &lt;= 3.5</text>\n<text text-anchor=\"middle\" x=\"224\" y=\"-183.8\" font-family=\"Helvetica,sans-Serif\" font-size=\"14.00\">samples = 16.0%</text>\n<text text-anchor=\"middle\" x=\"224\" y=\"-168.8\" font-family=\"Helvetica,sans-Serif\" font-size=\"14.00\">value = [0.426, 0.574]</text>\n</g>\n<!-- 0&#45;&gt;1 -->\n<g id=\"edge1\" class=\"edge\">\n<title>0&#45;&gt;1</title>\n<path fill=\"none\" stroke=\"black\" d=\"M281.84,-249.87C273.49,-241.01 264.01,-230.95 255.18,-221.58\"/>\n<polygon fill=\"black\" stroke=\"black\" points=\"257.68,-219.13 248.27,-214.25 252.58,-223.93 257.68,-219.13\"/>\n<text text-anchor=\"middle\" x=\"247.53\" y=\"-235.54\" font-family=\"Helvetica,sans-Serif\" font-size=\"14.00\">True</text>\n</g>\n<!-- 52 -->\n<g id=\"node9\" class=\"node\">\n<title>52</title>\n<polygon fill=\"#f2bf9b\" stroke=\"black\" points=\"455,-214 323,-214 323,-161 455,-161 455,-214\"/>\n<text text-anchor=\"middle\" x=\"389\" y=\"-198.8\" font-family=\"Helvetica,sans-Serif\" font-size=\"14.00\">Comp &lt;= 0.5</text>\n<text text-anchor=\"middle\" x=\"389\" y=\"-183.8\" font-family=\"Helvetica,sans-Serif\" font-size=\"14.00\">samples = 84.0%</text>\n<text text-anchor=\"middle\" x=\"389\" y=\"-168.8\" font-family=\"Helvetica,sans-Serif\" font-size=\"14.00\">value = [0.67, 0.33]</text>\n</g>\n<!-- 0&#45;&gt;52 -->\n<g id=\"edge8\" class=\"edge\">\n<title>0&#45;&gt;52</title>\n<path fill=\"none\" stroke=\"black\" d=\"M330.45,-249.87C338.91,-241.01 348.5,-230.95 357.44,-221.58\"/>\n<polygon fill=\"black\" stroke=\"black\" points=\"360.06,-223.9 364.43,-214.25 355,-219.07 360.06,-223.9\"/>\n<text text-anchor=\"middle\" x=\"365.02\" y=\"-235.54\" font-family=\"Helvetica,sans-Serif\" font-size=\"14.00\">False</text>\n</g>\n<!-- 2 -->\n<g id=\"node3\" class=\"node\">\n<title>2</title>\n<polygon fill=\"#71b9ec\" stroke=\"black\" points=\"132,-125 0,-125 0,-72 132,-72 132,-125\"/>\n<text text-anchor=\"middle\" x=\"66\" y=\"-109.8\" font-family=\"Helvetica,sans-Serif\" font-size=\"14.00\">Title &lt;= 0.5</text>\n<text text-anchor=\"middle\" x=\"66\" y=\"-94.8\" font-family=\"Helvetica,sans-Serif\" font-size=\"14.00\">samples = 11.5%</text>\n<text text-anchor=\"middle\" x=\"66\" y=\"-79.8\" font-family=\"Helvetica,sans-Serif\" font-size=\"14.00\">value = [0.22, 0.78]</text>\n</g>\n<!-- 1&#45;&gt;2 -->\n<g id=\"edge2\" class=\"edge\">\n<title>1&#45;&gt;2</title>\n<path fill=\"none\" stroke=\"black\" d=\"M177.45,-160.87C159.85,-151.18 139.65,-140.05 121.32,-129.96\"/>\n<polygon fill=\"black\" stroke=\"black\" points=\"122.94,-126.86 112.49,-125.1 119.56,-132.99 122.94,-126.86\"/>\n</g>\n<!-- 39 -->\n<g id=\"node6\" class=\"node\">\n<title>39</title>\n<polygon fill=\"#e78b49\" stroke=\"black\" points=\"297.5,-125 150.5,-125 150.5,-72 297.5,-72 297.5,-125\"/>\n<text text-anchor=\"middle\" x=\"224\" y=\"-109.8\" font-family=\"Helvetica,sans-Serif\" font-size=\"14.00\">Parch &lt;= 1.5</text>\n<text text-anchor=\"middle\" x=\"224\" y=\"-94.8\" font-family=\"Helvetica,sans-Serif\" font-size=\"14.00\">samples = 4.5%</text>\n<text text-anchor=\"middle\" x=\"224\" y=\"-79.8\" font-family=\"Helvetica,sans-Serif\" font-size=\"14.00\">value = [0.927, 0.073]</text>\n</g>\n<!-- 1&#45;&gt;39 -->\n<g id=\"edge5\" class=\"edge\">\n<title>1&#45;&gt;39</title>\n<path fill=\"none\" stroke=\"black\" d=\"M224,-160.87C224,-152.89 224,-143.93 224,-135.38\"/>\n<polygon fill=\"black\" stroke=\"black\" points=\"227.5,-135.25 224,-125.25 220.5,-135.25 227.5,-135.25\"/>\n</g>\n<!-- 3 -->\n<g id=\"node4\" class=\"node\">\n<title>3</title>\n<polygon fill=\"#c0c0c0\" stroke=\"black\" points=\"85,-36 31,-36 31,0 85,0 85,-36\"/>\n<text text-anchor=\"middle\" x=\"58\" y=\"-14.3\" font-family=\"Helvetica,sans-Serif\" font-size=\"14.00\">(...)</text>\n</g>\n<!-- 2&#45;&gt;3 -->\n<g id=\"edge3\" class=\"edge\">\n<title>2&#45;&gt;3</title>\n<path fill=\"none\" stroke=\"black\" d=\"M63.38,-71.8C62.56,-63.71 61.64,-54.76 60.81,-46.55\"/>\n<polygon fill=\"black\" stroke=\"black\" points=\"64.26,-45.92 59.77,-36.33 57.3,-46.63 64.26,-45.92\"/>\n</g>\n<!-- 6 -->\n<g id=\"node5\" class=\"node\">\n<title>6</title>\n<polygon fill=\"#c0c0c0\" stroke=\"black\" points=\"157,-36 103,-36 103,0 157,0 157,-36\"/>\n<text text-anchor=\"middle\" x=\"130\" y=\"-14.3\" font-family=\"Helvetica,sans-Serif\" font-size=\"14.00\">(...)</text>\n</g>\n<!-- 2&#45;&gt;6 -->\n<g id=\"edge4\" class=\"edge\">\n<title>2&#45;&gt;6</title>\n<path fill=\"none\" stroke=\"black\" d=\"M86.96,-71.8C94.21,-62.9 102.33,-52.93 109.55,-44.08\"/>\n<polygon fill=\"black\" stroke=\"black\" points=\"112.26,-46.29 115.87,-36.33 106.84,-41.87 112.26,-46.29\"/>\n</g>\n<!-- 40 -->\n<g id=\"node7\" class=\"node\">\n<title>40</title>\n<polygon fill=\"#c0c0c0\" stroke=\"black\" points=\"240,-36 186,-36 186,0 240,0 240,-36\"/>\n<text text-anchor=\"middle\" x=\"213\" y=\"-14.3\" font-family=\"Helvetica,sans-Serif\" font-size=\"14.00\">(...)</text>\n</g>\n<!-- 39&#45;&gt;40 -->\n<g id=\"edge6\" class=\"edge\">\n<title>39&#45;&gt;40</title>\n<path fill=\"none\" stroke=\"black\" d=\"M220.4,-71.8C219.25,-63.62 217.98,-54.55 216.82,-46.27\"/>\n<polygon fill=\"black\" stroke=\"black\" points=\"220.28,-45.75 215.43,-36.33 213.35,-46.72 220.28,-45.75\"/>\n</g>\n<!-- 41 -->\n<g id=\"node8\" class=\"node\">\n<title>41</title>\n<polygon fill=\"#c0c0c0\" stroke=\"black\" points=\"312,-36 258,-36 258,0 312,0 312,-36\"/>\n<text text-anchor=\"middle\" x=\"285\" y=\"-14.3\" font-family=\"Helvetica,sans-Serif\" font-size=\"14.00\">(...)</text>\n</g>\n<!-- 39&#45;&gt;41 -->\n<g id=\"edge7\" class=\"edge\">\n<title>39&#45;&gt;41</title>\n<path fill=\"none\" stroke=\"black\" d=\"M243.97,-71.8C250.82,-62.99 258.47,-53.14 265.3,-44.36\"/>\n<polygon fill=\"black\" stroke=\"black\" points=\"268.16,-46.37 271.53,-36.33 262.63,-42.08 268.16,-46.37\"/>\n</g>\n<!-- 53 -->\n<g id=\"node10\" class=\"node\">\n<title>53</title>\n<polygon fill=\"#eeac7d\" stroke=\"black\" points=\"462.5,-125 315.5,-125 315.5,-72 462.5,-72 462.5,-125\"/>\n<text text-anchor=\"middle\" x=\"389\" y=\"-109.8\" font-family=\"Helvetica,sans-Serif\" font-size=\"14.00\">Pclass &lt;= 1.5</text>\n<text text-anchor=\"middle\" x=\"389\" y=\"-94.8\" font-family=\"Helvetica,sans-Serif\" font-size=\"14.00\">samples = 55.8%</text>\n<text text-anchor=\"middle\" x=\"389\" y=\"-79.8\" font-family=\"Helvetica,sans-Serif\" font-size=\"14.00\">value = [0.745, 0.255]</text>\n</g>\n<!-- 52&#45;&gt;53 -->\n<g id=\"edge9\" class=\"edge\">\n<title>52&#45;&gt;53</title>\n<path fill=\"none\" stroke=\"black\" d=\"M389,-160.87C389,-152.89 389,-143.93 389,-135.38\"/>\n<polygon fill=\"black\" stroke=\"black\" points=\"392.5,-135.25 389,-125.25 385.5,-135.25 392.5,-135.25\"/>\n</g>\n<!-- 204 -->\n<g id=\"node13\" class=\"node\">\n<title>204</title>\n<polygon fill=\"#fdf6f1\" stroke=\"black\" points=\"627.5,-125 480.5,-125 480.5,-72 627.5,-72 627.5,-125\"/>\n<text text-anchor=\"middle\" x=\"554\" y=\"-109.8\" font-family=\"Helvetica,sans-Serif\" font-size=\"14.00\">Pclass &lt;= 1.5</text>\n<text text-anchor=\"middle\" x=\"554\" y=\"-94.8\" font-family=\"Helvetica,sans-Serif\" font-size=\"14.00\">samples = 28.2%</text>\n<text text-anchor=\"middle\" x=\"554\" y=\"-79.8\" font-family=\"Helvetica,sans-Serif\" font-size=\"14.00\">value = [0.518, 0.482]</text>\n</g>\n<!-- 52&#45;&gt;204 -->\n<g id=\"edge12\" class=\"edge\">\n<title>52&#45;&gt;204</title>\n<path fill=\"none\" stroke=\"black\" d=\"M437.61,-160.87C456.08,-151.13 477.28,-139.95 496.49,-129.82\"/>\n<polygon fill=\"black\" stroke=\"black\" points=\"498.24,-132.86 505.45,-125.1 494.97,-126.67 498.24,-132.86\"/>\n</g>\n<!-- 54 -->\n<g id=\"node11\" class=\"node\">\n<title>54</title>\n<polygon fill=\"#c0c0c0\" stroke=\"black\" points=\"400,-36 346,-36 346,0 400,0 400,-36\"/>\n<text text-anchor=\"middle\" x=\"373\" y=\"-14.3\" font-family=\"Helvetica,sans-Serif\" font-size=\"14.00\">(...)</text>\n</g>\n<!-- 53&#45;&gt;54 -->\n<g id=\"edge10\" class=\"edge\">\n<title>53&#45;&gt;54</title>\n<path fill=\"none\" stroke=\"black\" d=\"M383.76,-71.8C382.09,-63.62 380.25,-54.55 378.56,-46.27\"/>\n<polygon fill=\"black\" stroke=\"black\" points=\"381.96,-45.43 376.53,-36.33 375.1,-46.83 381.96,-45.43\"/>\n</g>\n<!-- 101 -->\n<g id=\"node12\" class=\"node\">\n<title>101</title>\n<polygon fill=\"#c0c0c0\" stroke=\"black\" points=\"472,-36 418,-36 418,0 472,0 472,-36\"/>\n<text text-anchor=\"middle\" x=\"445\" y=\"-14.3\" font-family=\"Helvetica,sans-Serif\" font-size=\"14.00\">(...)</text>\n</g>\n<!-- 53&#45;&gt;101 -->\n<g id=\"edge11\" class=\"edge\">\n<title>53&#45;&gt;101</title>\n<path fill=\"none\" stroke=\"black\" d=\"M407.34,-71.8C413.56,-63.08 420.5,-53.34 426.72,-44.63\"/>\n<polygon fill=\"black\" stroke=\"black\" points=\"429.68,-46.5 432.64,-36.33 423.98,-42.44 429.68,-46.5\"/>\n</g>\n<!-- 205 -->\n<g id=\"node14\" class=\"node\">\n<title>205</title>\n<polygon fill=\"#c0c0c0\" stroke=\"black\" points=\"562,-36 508,-36 508,0 562,0 562,-36\"/>\n<text text-anchor=\"middle\" x=\"535\" y=\"-14.3\" font-family=\"Helvetica,sans-Serif\" font-size=\"14.00\">(...)</text>\n</g>\n<!-- 204&#45;&gt;205 -->\n<g id=\"edge13\" class=\"edge\">\n<title>204&#45;&gt;205</title>\n<path fill=\"none\" stroke=\"black\" d=\"M547.78,-71.8C545.8,-63.62 543.61,-54.55 541.6,-46.27\"/>\n<polygon fill=\"black\" stroke=\"black\" points=\"544.95,-45.23 539.19,-36.33 538.15,-46.87 544.95,-45.23\"/>\n</g>\n<!-- 254 -->\n<g id=\"node15\" class=\"node\">\n<title>254</title>\n<polygon fill=\"#c0c0c0\" stroke=\"black\" points=\"634,-36 580,-36 580,0 634,0 634,-36\"/>\n<text text-anchor=\"middle\" x=\"607\" y=\"-14.3\" font-family=\"Helvetica,sans-Serif\" font-size=\"14.00\">(...)</text>\n</g>\n<!-- 204&#45;&gt;254 -->\n<g id=\"edge14\" class=\"edge\">\n<title>204&#45;&gt;254</title>\n<path fill=\"none\" stroke=\"black\" d=\"M571.35,-71.8C577.24,-63.08 583.81,-53.34 589.7,-44.63\"/>\n<polygon fill=\"black\" stroke=\"black\" points=\"592.6,-46.58 595.3,-36.33 586.8,-42.66 592.6,-46.58\"/>\n</g>\n</g>\n</svg>\n",
            "text/plain": [
              "<graphviz.sources.Source at 0x7828f25870a0>"
            ]
          },
          "metadata": {}
        },
        {
          "output_type": "display_data",
          "data": {
            "image/svg+xml": "<?xml version=\"1.0\" encoding=\"UTF-8\" standalone=\"no\"?>\n<!DOCTYPE svg PUBLIC \"-//W3C//DTD SVG 1.1//EN\"\n \"http://www.w3.org/Graphics/SVG/1.1/DTD/svg11.dtd\">\n<!-- Generated by graphviz version 2.43.0 (0)\n -->\n<!-- Title: Tree Pages: 1 -->\n<svg width=\"657pt\" height=\"311pt\"\n viewBox=\"0.00 0.00 656.50 311.00\" xmlns=\"http://www.w3.org/2000/svg\" xmlns:xlink=\"http://www.w3.org/1999/xlink\">\n<g id=\"graph0\" class=\"graph\" transform=\"scale(1 1) rotate(0) translate(4 307)\">\n<title>Tree</title>\n<polygon fill=\"white\" stroke=\"transparent\" points=\"-4,4 -4,-307 652.5,-307 652.5,4 -4,4\"/>\n<!-- 0 -->\n<g id=\"node1\" class=\"node\">\n<title>0</title>\n<polygon fill=\"#f5d0b5\" stroke=\"black\" points=\"394,-303 247,-303 247,-250 394,-250 394,-303\"/>\n<text text-anchor=\"middle\" x=\"320.5\" y=\"-287.8\" font-family=\"Helvetica,sans-Serif\" font-size=\"14.00\">Embarked &lt;= 0.5</text>\n<text text-anchor=\"middle\" x=\"320.5\" y=\"-272.8\" font-family=\"Helvetica,sans-Serif\" font-size=\"14.00\">samples = 100.0%</text>\n<text text-anchor=\"middle\" x=\"320.5\" y=\"-257.8\" font-family=\"Helvetica,sans-Serif\" font-size=\"14.00\">value = [0.615, 0.385]</text>\n</g>\n<!-- 1 -->\n<g id=\"node2\" class=\"node\">\n<title>1</title>\n<polygon fill=\"#f2c19e\" stroke=\"black\" points=\"312,-214 165,-214 165,-161 312,-161 312,-214\"/>\n<text text-anchor=\"middle\" x=\"238.5\" y=\"-198.8\" font-family=\"Helvetica,sans-Serif\" font-size=\"14.00\">Title &lt;= 0.5</text>\n<text text-anchor=\"middle\" x=\"238.5\" y=\"-183.8\" font-family=\"Helvetica,sans-Serif\" font-size=\"14.00\">samples = 72.3%</text>\n<text text-anchor=\"middle\" x=\"238.5\" y=\"-168.8\" font-family=\"Helvetica,sans-Serif\" font-size=\"14.00\">value = [0.662, 0.338]</text>\n</g>\n<!-- 0&#45;&gt;1 -->\n<g id=\"edge1\" class=\"edge\">\n<title>0&#45;&gt;1</title>\n<path fill=\"none\" stroke=\"black\" d=\"M296.34,-249.87C287.99,-241.01 278.51,-230.95 269.68,-221.58\"/>\n<polygon fill=\"black\" stroke=\"black\" points=\"272.18,-219.13 262.77,-214.25 267.08,-223.93 272.18,-219.13\"/>\n<text text-anchor=\"middle\" x=\"262.03\" y=\"-235.54\" font-family=\"Helvetica,sans-Serif\" font-size=\"14.00\">True</text>\n</g>\n<!-- 236 -->\n<g id=\"node9\" class=\"node\">\n<title>236</title>\n<polygon fill=\"#f5fafe\" stroke=\"black\" points=\"477,-214 330,-214 330,-161 477,-161 477,-214\"/>\n<text text-anchor=\"middle\" x=\"403.5\" y=\"-198.8\" font-family=\"Helvetica,sans-Serif\" font-size=\"14.00\">Title &lt;= 0.5</text>\n<text text-anchor=\"middle\" x=\"403.5\" y=\"-183.8\" font-family=\"Helvetica,sans-Serif\" font-size=\"14.00\">samples = 27.7%</text>\n<text text-anchor=\"middle\" x=\"403.5\" y=\"-168.8\" font-family=\"Helvetica,sans-Serif\" font-size=\"14.00\">value = [0.487, 0.513]</text>\n</g>\n<!-- 0&#45;&gt;236 -->\n<g id=\"edge8\" class=\"edge\">\n<title>0&#45;&gt;236</title>\n<path fill=\"none\" stroke=\"black\" d=\"M344.95,-249.87C353.41,-241.01 363,-230.95 371.94,-221.58\"/>\n<polygon fill=\"black\" stroke=\"black\" points=\"374.56,-223.9 378.93,-214.25 369.5,-219.07 374.56,-223.9\"/>\n<text text-anchor=\"middle\" x=\"379.52\" y=\"-235.54\" font-family=\"Helvetica,sans-Serif\" font-size=\"14.00\">False</text>\n</g>\n<!-- 2 -->\n<g id=\"node3\" class=\"node\">\n<title>2</title>\n<polygon fill=\"#e99558\" stroke=\"black\" points=\"147,-125 0,-125 0,-72 147,-72 147,-125\"/>\n<text text-anchor=\"middle\" x=\"73.5\" y=\"-109.8\" font-family=\"Helvetica,sans-Serif\" font-size=\"14.00\">Comp &lt;= 4.0</text>\n<text text-anchor=\"middle\" x=\"73.5\" y=\"-94.8\" font-family=\"Helvetica,sans-Serif\" font-size=\"14.00\">samples = 44.3%</text>\n<text text-anchor=\"middle\" x=\"73.5\" y=\"-79.8\" font-family=\"Helvetica,sans-Serif\" font-size=\"14.00\">value = [0.865, 0.135]</text>\n</g>\n<!-- 1&#45;&gt;2 -->\n<g id=\"edge2\" class=\"edge\">\n<title>1&#45;&gt;2</title>\n<path fill=\"none\" stroke=\"black\" d=\"M189.89,-160.87C171.42,-151.13 150.22,-139.95 131.01,-129.82\"/>\n<polygon fill=\"black\" stroke=\"black\" points=\"132.53,-126.67 122.05,-125.1 129.26,-132.86 132.53,-126.67\"/>\n</g>\n<!-- 117 -->\n<g id=\"node6\" class=\"node\">\n<title>117</title>\n<polygon fill=\"#acd6f4\" stroke=\"black\" points=\"312,-125 165,-125 165,-72 312,-72 312,-125\"/>\n<text text-anchor=\"middle\" x=\"238.5\" y=\"-109.8\" font-family=\"Helvetica,sans-Serif\" font-size=\"14.00\">Parch &lt;= 1.5</text>\n<text text-anchor=\"middle\" x=\"238.5\" y=\"-94.8\" font-family=\"Helvetica,sans-Serif\" font-size=\"14.00\">samples = 28.0%</text>\n<text text-anchor=\"middle\" x=\"238.5\" y=\"-79.8\" font-family=\"Helvetica,sans-Serif\" font-size=\"14.00\">value = [0.367, 0.633]</text>\n</g>\n<!-- 1&#45;&gt;117 -->\n<g id=\"edge5\" class=\"edge\">\n<title>1&#45;&gt;117</title>\n<path fill=\"none\" stroke=\"black\" d=\"M238.5,-160.87C238.5,-152.89 238.5,-143.93 238.5,-135.38\"/>\n<polygon fill=\"black\" stroke=\"black\" points=\"242,-135.25 238.5,-125.25 235,-135.25 242,-135.25\"/>\n</g>\n<!-- 3 -->\n<g id=\"node4\" class=\"node\">\n<title>3</title>\n<polygon fill=\"#c0c0c0\" stroke=\"black\" points=\"96.5,-36 42.5,-36 42.5,0 96.5,0 96.5,-36\"/>\n<text text-anchor=\"middle\" x=\"69.5\" y=\"-14.3\" font-family=\"Helvetica,sans-Serif\" font-size=\"14.00\">(...)</text>\n</g>\n<!-- 2&#45;&gt;3 -->\n<g id=\"edge3\" class=\"edge\">\n<title>2&#45;&gt;3</title>\n<path fill=\"none\" stroke=\"black\" d=\"M72.19,-71.8C71.78,-63.71 71.32,-54.76 70.9,-46.55\"/>\n<polygon fill=\"black\" stroke=\"black\" points=\"74.39,-46.14 70.38,-36.33 67.4,-46.5 74.39,-46.14\"/>\n</g>\n<!-- 116 -->\n<g id=\"node5\" class=\"node\">\n<title>116</title>\n<polygon fill=\"#c0c0c0\" stroke=\"black\" points=\"168.5,-36 114.5,-36 114.5,0 168.5,0 168.5,-36\"/>\n<text text-anchor=\"middle\" x=\"141.5\" y=\"-14.3\" font-family=\"Helvetica,sans-Serif\" font-size=\"14.00\">(...)</text>\n</g>\n<!-- 2&#45;&gt;116 -->\n<g id=\"edge4\" class=\"edge\">\n<title>2&#45;&gt;116</title>\n<path fill=\"none\" stroke=\"black\" d=\"M95.77,-71.8C103.48,-62.9 112.1,-52.93 119.77,-44.08\"/>\n<polygon fill=\"black\" stroke=\"black\" points=\"122.59,-46.18 126.49,-36.33 117.29,-41.6 122.59,-46.18\"/>\n</g>\n<!-- 118 -->\n<g id=\"node7\" class=\"node\">\n<title>118</title>\n<polygon fill=\"#c0c0c0\" stroke=\"black\" points=\"252.5,-36 198.5,-36 198.5,0 252.5,0 252.5,-36\"/>\n<text text-anchor=\"middle\" x=\"225.5\" y=\"-14.3\" font-family=\"Helvetica,sans-Serif\" font-size=\"14.00\">(...)</text>\n</g>\n<!-- 117&#45;&gt;118 -->\n<g id=\"edge6\" class=\"edge\">\n<title>117&#45;&gt;118</title>\n<path fill=\"none\" stroke=\"black\" d=\"M234.24,-71.8C232.89,-63.62 231.39,-54.55 230.02,-46.27\"/>\n<polygon fill=\"black\" stroke=\"black\" points=\"233.46,-45.62 228.37,-36.33 226.55,-46.77 233.46,-45.62\"/>\n</g>\n<!-- 195 -->\n<g id=\"node8\" class=\"node\">\n<title>195</title>\n<polygon fill=\"#c0c0c0\" stroke=\"black\" points=\"324.5,-36 270.5,-36 270.5,0 324.5,0 324.5,-36\"/>\n<text text-anchor=\"middle\" x=\"297.5\" y=\"-14.3\" font-family=\"Helvetica,sans-Serif\" font-size=\"14.00\">(...)</text>\n</g>\n<!-- 117&#45;&gt;195 -->\n<g id=\"edge7\" class=\"edge\">\n<title>117&#45;&gt;195</title>\n<path fill=\"none\" stroke=\"black\" d=\"M257.82,-71.8C264.44,-62.99 271.84,-53.14 278.44,-44.36\"/>\n<polygon fill=\"black\" stroke=\"black\" points=\"281.26,-46.43 284.47,-36.33 275.67,-42.22 281.26,-46.43\"/>\n</g>\n<!-- 237 -->\n<g id=\"node10\" class=\"node\">\n<title>237</title>\n<polygon fill=\"#ea9c63\" stroke=\"black\" points=\"477,-125 330,-125 330,-72 477,-72 477,-125\"/>\n<text text-anchor=\"middle\" x=\"403.5\" y=\"-109.8\" font-family=\"Helvetica,sans-Serif\" font-size=\"14.00\">Pclass &lt;= 1.5</text>\n<text text-anchor=\"middle\" x=\"403.5\" y=\"-94.8\" font-family=\"Helvetica,sans-Serif\" font-size=\"14.00\">samples = 13.2%</text>\n<text text-anchor=\"middle\" x=\"403.5\" y=\"-79.8\" font-family=\"Helvetica,sans-Serif\" font-size=\"14.00\">value = [0.826, 0.174]</text>\n</g>\n<!-- 236&#45;&gt;237 -->\n<g id=\"edge9\" class=\"edge\">\n<title>236&#45;&gt;237</title>\n<path fill=\"none\" stroke=\"black\" d=\"M403.5,-160.87C403.5,-152.89 403.5,-143.93 403.5,-135.38\"/>\n<polygon fill=\"black\" stroke=\"black\" points=\"407,-135.25 403.5,-125.25 400,-135.25 407,-135.25\"/>\n</g>\n<!-- 282 -->\n<g id=\"node13\" class=\"node\">\n<title>282</title>\n<polygon fill=\"#60b0ea\" stroke=\"black\" points=\"642,-125 495,-125 495,-72 642,-72 642,-125\"/>\n<text text-anchor=\"middle\" x=\"568.5\" y=\"-109.8\" font-family=\"Helvetica,sans-Serif\" font-size=\"14.00\">Parch &lt;= 4.0</text>\n<text text-anchor=\"middle\" x=\"568.5\" y=\"-94.8\" font-family=\"Helvetica,sans-Serif\" font-size=\"14.00\">samples = 14.5%</text>\n<text text-anchor=\"middle\" x=\"568.5\" y=\"-79.8\" font-family=\"Helvetica,sans-Serif\" font-size=\"14.00\">value = [0.165, 0.835]</text>\n</g>\n<!-- 236&#45;&gt;282 -->\n<g id=\"edge12\" class=\"edge\">\n<title>236&#45;&gt;282</title>\n<path fill=\"none\" stroke=\"black\" d=\"M452.11,-160.87C470.58,-151.13 491.78,-139.95 510.99,-129.82\"/>\n<polygon fill=\"black\" stroke=\"black\" points=\"512.74,-132.86 519.95,-125.1 509.47,-126.67 512.74,-132.86\"/>\n</g>\n<!-- 238 -->\n<g id=\"node11\" class=\"node\">\n<title>238</title>\n<polygon fill=\"#c0c0c0\" stroke=\"black\" points=\"413.5,-36 359.5,-36 359.5,0 413.5,0 413.5,-36\"/>\n<text text-anchor=\"middle\" x=\"386.5\" y=\"-14.3\" font-family=\"Helvetica,sans-Serif\" font-size=\"14.00\">(...)</text>\n</g>\n<!-- 237&#45;&gt;238 -->\n<g id=\"edge10\" class=\"edge\">\n<title>237&#45;&gt;238</title>\n<path fill=\"none\" stroke=\"black\" d=\"M397.93,-71.8C396.16,-63.62 394.2,-54.55 392.41,-46.27\"/>\n<polygon fill=\"black\" stroke=\"black\" points=\"395.79,-45.36 390.25,-36.33 388.95,-46.84 395.79,-45.36\"/>\n</g>\n<!-- 263 -->\n<g id=\"node12\" class=\"node\">\n<title>263</title>\n<polygon fill=\"#c0c0c0\" stroke=\"black\" points=\"485.5,-36 431.5,-36 431.5,0 485.5,0 485.5,-36\"/>\n<text text-anchor=\"middle\" x=\"458.5\" y=\"-14.3\" font-family=\"Helvetica,sans-Serif\" font-size=\"14.00\">(...)</text>\n</g>\n<!-- 237&#45;&gt;263 -->\n<g id=\"edge11\" class=\"edge\">\n<title>237&#45;&gt;263</title>\n<path fill=\"none\" stroke=\"black\" d=\"M421.51,-71.8C427.62,-63.08 434.44,-53.34 440.54,-44.63\"/>\n<polygon fill=\"black\" stroke=\"black\" points=\"443.49,-46.53 446.36,-36.33 437.75,-42.51 443.49,-46.53\"/>\n</g>\n<!-- 283 -->\n<g id=\"node14\" class=\"node\">\n<title>283</title>\n<polygon fill=\"#c0c0c0\" stroke=\"black\" points=\"576.5,-36 522.5,-36 522.5,0 576.5,0 576.5,-36\"/>\n<text text-anchor=\"middle\" x=\"549.5\" y=\"-14.3\" font-family=\"Helvetica,sans-Serif\" font-size=\"14.00\">(...)</text>\n</g>\n<!-- 282&#45;&gt;283 -->\n<g id=\"edge13\" class=\"edge\">\n<title>282&#45;&gt;283</title>\n<path fill=\"none\" stroke=\"black\" d=\"M562.28,-71.8C560.3,-63.62 558.11,-54.55 556.1,-46.27\"/>\n<polygon fill=\"black\" stroke=\"black\" points=\"559.45,-45.23 553.69,-36.33 552.65,-46.87 559.45,-45.23\"/>\n</g>\n<!-- 340 -->\n<g id=\"node15\" class=\"node\">\n<title>340</title>\n<polygon fill=\"#c0c0c0\" stroke=\"black\" points=\"648.5,-36 594.5,-36 594.5,0 648.5,0 648.5,-36\"/>\n<text text-anchor=\"middle\" x=\"621.5\" y=\"-14.3\" font-family=\"Helvetica,sans-Serif\" font-size=\"14.00\">(...)</text>\n</g>\n<!-- 282&#45;&gt;340 -->\n<g id=\"edge14\" class=\"edge\">\n<title>282&#45;&gt;340</title>\n<path fill=\"none\" stroke=\"black\" d=\"M585.85,-71.8C591.74,-63.08 598.31,-53.34 604.2,-44.63\"/>\n<polygon fill=\"black\" stroke=\"black\" points=\"607.1,-46.58 609.8,-36.33 601.3,-42.66 607.1,-46.58\"/>\n</g>\n</g>\n</svg>\n",
            "text/plain": [
              "<graphviz.sources.Source at 0x782916ce0040>"
            ]
          },
          "metadata": {}
        },
        {
          "output_type": "display_data",
          "data": {
            "image/svg+xml": "<?xml version=\"1.0\" encoding=\"UTF-8\" standalone=\"no\"?>\n<!DOCTYPE svg PUBLIC \"-//W3C//DTD SVG 1.1//EN\"\n \"http://www.w3.org/Graphics/SVG/1.1/DTD/svg11.dtd\">\n<!-- Generated by graphviz version 2.43.0 (0)\n -->\n<!-- Title: Tree Pages: 1 -->\n<svg width=\"657pt\" height=\"311pt\"\n viewBox=\"0.00 0.00 656.50 311.00\" xmlns=\"http://www.w3.org/2000/svg\" xmlns:xlink=\"http://www.w3.org/1999/xlink\">\n<g id=\"graph0\" class=\"graph\" transform=\"scale(1 1) rotate(0) translate(4 307)\">\n<title>Tree</title>\n<polygon fill=\"white\" stroke=\"transparent\" points=\"-4,4 -4,-307 652.5,-307 652.5,4 -4,4\"/>\n<!-- 0 -->\n<g id=\"node1\" class=\"node\">\n<title>0</title>\n<polygon fill=\"#f4cbae\" stroke=\"black\" points=\"394,-303 247,-303 247,-250 394,-250 394,-303\"/>\n<text text-anchor=\"middle\" x=\"320.5\" y=\"-287.8\" font-family=\"Helvetica,sans-Serif\" font-size=\"14.00\">Pclass &lt;= 2.5</text>\n<text text-anchor=\"middle\" x=\"320.5\" y=\"-272.8\" font-family=\"Helvetica,sans-Serif\" font-size=\"14.00\">samples = 100.0%</text>\n<text text-anchor=\"middle\" x=\"320.5\" y=\"-257.8\" font-family=\"Helvetica,sans-Serif\" font-size=\"14.00\">value = [0.629, 0.371]</text>\n</g>\n<!-- 1 -->\n<g id=\"node2\" class=\"node\">\n<title>1</title>\n<polygon fill=\"#dbedfa\" stroke=\"black\" points=\"304.5,-214 172.5,-214 172.5,-161 304.5,-161 304.5,-214\"/>\n<text text-anchor=\"middle\" x=\"238.5\" y=\"-198.8\" font-family=\"Helvetica,sans-Serif\" font-size=\"14.00\">Parch &lt;= 0.5</text>\n<text text-anchor=\"middle\" x=\"238.5\" y=\"-183.8\" font-family=\"Helvetica,sans-Serif\" font-size=\"14.00\">samples = 42.1%</text>\n<text text-anchor=\"middle\" x=\"238.5\" y=\"-168.8\" font-family=\"Helvetica,sans-Serif\" font-size=\"14.00\">value = [0.45, 0.55]</text>\n</g>\n<!-- 0&#45;&gt;1 -->\n<g id=\"edge1\" class=\"edge\">\n<title>0&#45;&gt;1</title>\n<path fill=\"none\" stroke=\"black\" d=\"M296.34,-249.87C287.99,-241.01 278.51,-230.95 269.68,-221.58\"/>\n<polygon fill=\"black\" stroke=\"black\" points=\"272.18,-219.13 262.77,-214.25 267.08,-223.93 272.18,-219.13\"/>\n<text text-anchor=\"middle\" x=\"262.03\" y=\"-235.54\" font-family=\"Helvetica,sans-Serif\" font-size=\"14.00\">True</text>\n</g>\n<!-- 158 -->\n<g id=\"node9\" class=\"node\">\n<title>158</title>\n<polygon fill=\"#edaa79\" stroke=\"black\" points=\"477,-214 330,-214 330,-161 477,-161 477,-214\"/>\n<text text-anchor=\"middle\" x=\"403.5\" y=\"-198.8\" font-family=\"Helvetica,sans-Serif\" font-size=\"14.00\">Sex &lt;= 0.5</text>\n<text text-anchor=\"middle\" x=\"403.5\" y=\"-183.8\" font-family=\"Helvetica,sans-Serif\" font-size=\"14.00\">samples = 57.9%</text>\n<text text-anchor=\"middle\" x=\"403.5\" y=\"-168.8\" font-family=\"Helvetica,sans-Serif\" font-size=\"14.00\">value = [0.757, 0.243]</text>\n</g>\n<!-- 0&#45;&gt;158 -->\n<g id=\"edge8\" class=\"edge\">\n<title>0&#45;&gt;158</title>\n<path fill=\"none\" stroke=\"black\" d=\"M344.95,-249.87C353.41,-241.01 363,-230.95 371.94,-221.58\"/>\n<polygon fill=\"black\" stroke=\"black\" points=\"374.56,-223.9 378.93,-214.25 369.5,-219.07 374.56,-223.9\"/>\n<text text-anchor=\"middle\" x=\"379.52\" y=\"-235.54\" font-family=\"Helvetica,sans-Serif\" font-size=\"14.00\">False</text>\n</g>\n<!-- 2 -->\n<g id=\"node3\" class=\"node\">\n<title>2</title>\n<polygon fill=\"#fbece1\" stroke=\"black\" points=\"147,-125 0,-125 0,-72 147,-72 147,-125\"/>\n<text text-anchor=\"middle\" x=\"73.5\" y=\"-109.8\" font-family=\"Helvetica,sans-Serif\" font-size=\"14.00\">Sex &lt;= 0.5</text>\n<text text-anchor=\"middle\" x=\"73.5\" y=\"-94.8\" font-family=\"Helvetica,sans-Serif\" font-size=\"14.00\">samples = 29.6%</text>\n<text text-anchor=\"middle\" x=\"73.5\" y=\"-79.8\" font-family=\"Helvetica,sans-Serif\" font-size=\"14.00\">value = [0.541, 0.459]</text>\n</g>\n<!-- 1&#45;&gt;2 -->\n<g id=\"edge2\" class=\"edge\">\n<title>1&#45;&gt;2</title>\n<path fill=\"none\" stroke=\"black\" d=\"M189.89,-160.87C171.42,-151.13 150.22,-139.95 131.01,-129.82\"/>\n<polygon fill=\"black\" stroke=\"black\" points=\"132.53,-126.67 122.05,-125.1 129.26,-132.86 132.53,-126.67\"/>\n</g>\n<!-- 105 -->\n<g id=\"node6\" class=\"node\">\n<title>105</title>\n<polygon fill=\"#79bded\" stroke=\"black\" points=\"312,-125 165,-125 165,-72 312,-72 312,-125\"/>\n<text text-anchor=\"middle\" x=\"238.5\" y=\"-109.8\" font-family=\"Helvetica,sans-Serif\" font-size=\"14.00\">SibSp &lt;= 0.5</text>\n<text text-anchor=\"middle\" x=\"238.5\" y=\"-94.8\" font-family=\"Helvetica,sans-Serif\" font-size=\"14.00\">samples = 12.5%</text>\n<text text-anchor=\"middle\" x=\"238.5\" y=\"-79.8\" font-family=\"Helvetica,sans-Serif\" font-size=\"14.00\">value = [0.246, 0.754]</text>\n</g>\n<!-- 1&#45;&gt;105 -->\n<g id=\"edge5\" class=\"edge\">\n<title>1&#45;&gt;105</title>\n<path fill=\"none\" stroke=\"black\" d=\"M238.5,-160.87C238.5,-152.89 238.5,-143.93 238.5,-135.38\"/>\n<polygon fill=\"black\" stroke=\"black\" points=\"242,-135.25 238.5,-125.25 235,-135.25 242,-135.25\"/>\n</g>\n<!-- 3 -->\n<g id=\"node4\" class=\"node\">\n<title>3</title>\n<polygon fill=\"#c0c0c0\" stroke=\"black\" points=\"96.5,-36 42.5,-36 42.5,0 96.5,0 96.5,-36\"/>\n<text text-anchor=\"middle\" x=\"69.5\" y=\"-14.3\" font-family=\"Helvetica,sans-Serif\" font-size=\"14.00\">(...)</text>\n</g>\n<!-- 2&#45;&gt;3 -->\n<g id=\"edge3\" class=\"edge\">\n<title>2&#45;&gt;3</title>\n<path fill=\"none\" stroke=\"black\" d=\"M72.19,-71.8C71.78,-63.71 71.32,-54.76 70.9,-46.55\"/>\n<polygon fill=\"black\" stroke=\"black\" points=\"74.39,-46.14 70.38,-36.33 67.4,-46.5 74.39,-46.14\"/>\n</g>\n<!-- 84 -->\n<g id=\"node5\" class=\"node\">\n<title>84</title>\n<polygon fill=\"#c0c0c0\" stroke=\"black\" points=\"168.5,-36 114.5,-36 114.5,0 168.5,0 168.5,-36\"/>\n<text text-anchor=\"middle\" x=\"141.5\" y=\"-14.3\" font-family=\"Helvetica,sans-Serif\" font-size=\"14.00\">(...)</text>\n</g>\n<!-- 2&#45;&gt;84 -->\n<g id=\"edge4\" class=\"edge\">\n<title>2&#45;&gt;84</title>\n<path fill=\"none\" stroke=\"black\" d=\"M95.77,-71.8C103.48,-62.9 112.1,-52.93 119.77,-44.08\"/>\n<polygon fill=\"black\" stroke=\"black\" points=\"122.59,-46.18 126.49,-36.33 117.29,-41.6 122.59,-46.18\"/>\n</g>\n<!-- 106 -->\n<g id=\"node7\" class=\"node\">\n<title>106</title>\n<polygon fill=\"#c0c0c0\" stroke=\"black\" points=\"252.5,-36 198.5,-36 198.5,0 252.5,0 252.5,-36\"/>\n<text text-anchor=\"middle\" x=\"225.5\" y=\"-14.3\" font-family=\"Helvetica,sans-Serif\" font-size=\"14.00\">(...)</text>\n</g>\n<!-- 105&#45;&gt;106 -->\n<g id=\"edge6\" class=\"edge\">\n<title>105&#45;&gt;106</title>\n<path fill=\"none\" stroke=\"black\" d=\"M234.24,-71.8C232.89,-63.62 231.39,-54.55 230.02,-46.27\"/>\n<polygon fill=\"black\" stroke=\"black\" points=\"233.46,-45.62 228.37,-36.33 226.55,-46.77 233.46,-45.62\"/>\n</g>\n<!-- 129 -->\n<g id=\"node8\" class=\"node\">\n<title>129</title>\n<polygon fill=\"#c0c0c0\" stroke=\"black\" points=\"324.5,-36 270.5,-36 270.5,0 324.5,0 324.5,-36\"/>\n<text text-anchor=\"middle\" x=\"297.5\" y=\"-14.3\" font-family=\"Helvetica,sans-Serif\" font-size=\"14.00\">(...)</text>\n</g>\n<!-- 105&#45;&gt;129 -->\n<g id=\"edge7\" class=\"edge\">\n<title>105&#45;&gt;129</title>\n<path fill=\"none\" stroke=\"black\" d=\"M257.82,-71.8C264.44,-62.99 271.84,-53.14 278.44,-44.36\"/>\n<polygon fill=\"black\" stroke=\"black\" points=\"281.26,-46.43 284.47,-36.33 275.67,-42.22 281.26,-46.43\"/>\n</g>\n<!-- 159 -->\n<g id=\"node10\" class=\"node\">\n<title>159</title>\n<polygon fill=\"#e9965b\" stroke=\"black\" points=\"477,-125 330,-125 330,-72 477,-72 477,-125\"/>\n<text text-anchor=\"middle\" x=\"403.5\" y=\"-109.8\" font-family=\"Helvetica,sans-Serif\" font-size=\"14.00\">Title &lt;= 1.5</text>\n<text text-anchor=\"middle\" x=\"403.5\" y=\"-94.8\" font-family=\"Helvetica,sans-Serif\" font-size=\"14.00\">samples = 42.1%</text>\n<text text-anchor=\"middle\" x=\"403.5\" y=\"-79.8\" font-family=\"Helvetica,sans-Serif\" font-size=\"14.00\">value = [0.855, 0.145]</text>\n</g>\n<!-- 158&#45;&gt;159 -->\n<g id=\"edge9\" class=\"edge\">\n<title>158&#45;&gt;159</title>\n<path fill=\"none\" stroke=\"black\" d=\"M403.5,-160.87C403.5,-152.89 403.5,-143.93 403.5,-135.38\"/>\n<polygon fill=\"black\" stroke=\"black\" points=\"407,-135.25 403.5,-125.25 400,-135.25 407,-135.25\"/>\n</g>\n<!-- 246 -->\n<g id=\"node13\" class=\"node\">\n<title>246</title>\n<polygon fill=\"#fefcfa\" stroke=\"black\" points=\"642,-125 495,-125 495,-72 642,-72 642,-125\"/>\n<text text-anchor=\"middle\" x=\"568.5\" y=\"-109.8\" font-family=\"Helvetica,sans-Serif\" font-size=\"14.00\">Title &lt;= 1.5</text>\n<text text-anchor=\"middle\" x=\"568.5\" y=\"-94.8\" font-family=\"Helvetica,sans-Serif\" font-size=\"14.00\">samples = 15.7%</text>\n<text text-anchor=\"middle\" x=\"568.5\" y=\"-79.8\" font-family=\"Helvetica,sans-Serif\" font-size=\"14.00\">value = [0.507, 0.493]</text>\n</g>\n<!-- 158&#45;&gt;246 -->\n<g id=\"edge12\" class=\"edge\">\n<title>158&#45;&gt;246</title>\n<path fill=\"none\" stroke=\"black\" d=\"M452.11,-160.87C470.58,-151.13 491.78,-139.95 510.99,-129.82\"/>\n<polygon fill=\"black\" stroke=\"black\" points=\"512.74,-132.86 519.95,-125.1 509.47,-126.67 512.74,-132.86\"/>\n</g>\n<!-- 160 -->\n<g id=\"node11\" class=\"node\">\n<title>160</title>\n<polygon fill=\"#c0c0c0\" stroke=\"black\" points=\"413.5,-36 359.5,-36 359.5,0 413.5,0 413.5,-36\"/>\n<text text-anchor=\"middle\" x=\"386.5\" y=\"-14.3\" font-family=\"Helvetica,sans-Serif\" font-size=\"14.00\">(...)</text>\n</g>\n<!-- 159&#45;&gt;160 -->\n<g id=\"edge10\" class=\"edge\">\n<title>159&#45;&gt;160</title>\n<path fill=\"none\" stroke=\"black\" d=\"M397.93,-71.8C396.16,-63.62 394.2,-54.55 392.41,-46.27\"/>\n<polygon fill=\"black\" stroke=\"black\" points=\"395.79,-45.36 390.25,-36.33 388.95,-46.84 395.79,-45.36\"/>\n</g>\n<!-- 235 -->\n<g id=\"node12\" class=\"node\">\n<title>235</title>\n<polygon fill=\"#c0c0c0\" stroke=\"black\" points=\"485.5,-36 431.5,-36 431.5,0 485.5,0 485.5,-36\"/>\n<text text-anchor=\"middle\" x=\"458.5\" y=\"-14.3\" font-family=\"Helvetica,sans-Serif\" font-size=\"14.00\">(...)</text>\n</g>\n<!-- 159&#45;&gt;235 -->\n<g id=\"edge11\" class=\"edge\">\n<title>159&#45;&gt;235</title>\n<path fill=\"none\" stroke=\"black\" d=\"M421.51,-71.8C427.62,-63.08 434.44,-53.34 440.54,-44.63\"/>\n<polygon fill=\"black\" stroke=\"black\" points=\"443.49,-46.53 446.36,-36.33 437.75,-42.51 443.49,-46.53\"/>\n</g>\n<!-- 247 -->\n<g id=\"node14\" class=\"node\">\n<title>247</title>\n<polygon fill=\"#c0c0c0\" stroke=\"black\" points=\"576.5,-36 522.5,-36 522.5,0 576.5,0 576.5,-36\"/>\n<text text-anchor=\"middle\" x=\"549.5\" y=\"-14.3\" font-family=\"Helvetica,sans-Serif\" font-size=\"14.00\">(...)</text>\n</g>\n<!-- 246&#45;&gt;247 -->\n<g id=\"edge13\" class=\"edge\">\n<title>246&#45;&gt;247</title>\n<path fill=\"none\" stroke=\"black\" d=\"M562.28,-71.8C560.3,-63.62 558.11,-54.55 556.1,-46.27\"/>\n<polygon fill=\"black\" stroke=\"black\" points=\"559.45,-45.23 553.69,-36.33 552.65,-46.87 559.45,-45.23\"/>\n</g>\n<!-- 284 -->\n<g id=\"node15\" class=\"node\">\n<title>284</title>\n<polygon fill=\"#c0c0c0\" stroke=\"black\" points=\"648.5,-36 594.5,-36 594.5,0 648.5,0 648.5,-36\"/>\n<text text-anchor=\"middle\" x=\"621.5\" y=\"-14.3\" font-family=\"Helvetica,sans-Serif\" font-size=\"14.00\">(...)</text>\n</g>\n<!-- 246&#45;&gt;284 -->\n<g id=\"edge14\" class=\"edge\">\n<title>246&#45;&gt;284</title>\n<path fill=\"none\" stroke=\"black\" d=\"M585.85,-71.8C591.74,-63.08 598.31,-53.34 604.2,-44.63\"/>\n<polygon fill=\"black\" stroke=\"black\" points=\"607.1,-46.58 609.8,-36.33 601.3,-42.66 607.1,-46.58\"/>\n</g>\n</g>\n</svg>\n",
            "text/plain": [
              "<graphviz.sources.Source at 0x7828f25870a0>"
            ]
          },
          "metadata": {}
        }
      ]
    },
    {
      "cell_type": "markdown",
      "source": [
        "### Ajuste de hiperparámetros"
      ],
      "metadata": {
        "id": "AmKe-nYh9KZu"
      }
    },
    {
      "cell_type": "markdown",
      "source": [
        "A continuación se utiliza la función RandomizedSearchCV para encontrar los mejores hiperparámetros entre un rango especificado."
      ],
      "metadata": {
        "id": "UdNCDdd5-YRJ"
      }
    },
    {
      "cell_type": "code",
      "source": [
        "param_dist = {'n_estimators': randint(40,600),\n",
        "              'max_depth': randint(1,20)}\n",
        "\n",
        "rand_search = RandomizedSearchCV(rf,\n",
        "                                 param_distributions = param_dist,\n",
        "                                 n_iter=5,\n",
        "                                 cv=5)\n",
        "\n",
        "rand_search.fit(x_train, y_train)\n",
        "\n",
        "best_rf = rand_search.best_estimator_\n",
        "\n",
        "print('Mejores hiperparámetros:',  rand_search.best_params_)"
      ],
      "metadata": {
        "colab": {
          "base_uri": "https://localhost:8080/"
        },
        "id": "VkvQyHEj-ALO",
        "outputId": "01c48edd-edc5-48f7-b075-98851e9a1b31"
      },
      "execution_count": null,
      "outputs": [
        {
          "output_type": "stream",
          "name": "stdout",
          "text": [
            "Mejores hiperparámetros: {'max_depth': 4, 'n_estimators': 107}\n"
          ]
        }
      ]
    },
    {
      "cell_type": "code",
      "source": [
        "y_pred = best_rf.predict(test)\n",
        "\n",
        "accuracy = accuracy_score(y_test, y_pred)\n",
        "precision = precision_score(y_test, y_pred)\n",
        "recall = recall_score(y_test, y_pred)\n",
        "f1 = f1_score(y_test, y_pred)\n",
        "\n",
        "print(\"Accuracy:\", accuracy)\n",
        "print(\"Precision:\", precision)\n",
        "print(\"Recall:\", recall)\n",
        "print (\"F1: \" , f1)"
      ],
      "metadata": {
        "colab": {
          "base_uri": "https://localhost:8080/"
        },
        "id": "NJl4i3lqAFvk",
        "outputId": "c4ea170d-3e86-4375-f174-f0b365e17e80"
      },
      "execution_count": null,
      "outputs": [
        {
          "output_type": "stream",
          "name": "stdout",
          "text": [
            "Accuracy: 0.7793764988009593\n",
            "Precision: 0.70625\n",
            "Recall: 0.7151898734177216\n",
            "F1:  0.7106918238993711\n"
          ]
        }
      ]
    },
    {
      "cell_type": "markdown",
      "source": [
        "Matriz de confusión"
      ],
      "metadata": {
        "id": "oEPPqpamAnOQ"
      }
    },
    {
      "cell_type": "code",
      "source": [
        "cm = confusion_matrix(y_test, y_pred)\n",
        "\n",
        "ConfusionMatrixDisplay(confusion_matrix=cm).plot();"
      ],
      "metadata": {
        "colab": {
          "base_uri": "https://localhost:8080/",
          "height": 503
        },
        "id": "jNoyObh9Amky",
        "outputId": "aa499bd5-e858-4cde-cd3f-b8d0e286cdfe"
      },
      "execution_count": null,
      "outputs": [
        {
          "output_type": "display_data",
          "data": {
            "text/plain": [
              "<Figure size 800x550 with 2 Axes>"
            ],
            "image/png": "[encoded data removed]"
          },
          "metadata": {}
        }
      ]
    },
    {
      "cell_type": "markdown",
      "source": [
        "Importancia de las variables"
      ],
      "metadata": {
        "id": "JS-qdQuSMiM1"
      }
    },
    {
      "cell_type": "code",
      "source": [
        "feature_importances = pd.Series(best_rf.feature_importances_, index=x_train.columns).sort_values(ascending=False)\n",
        "\n",
        "# Plot a simple bar chart\n",
        "feature_importances.plot.bar();"
      ],
      "metadata": {
        "colab": {
          "base_uri": "https://localhost:8080/",
          "height": 533
        },
        "id": "Co2gv5bsMj2b",
        "outputId": "3695570c-b2ba-4e55-dcca-a01bb72dc153"
      },
      "execution_count": null,
      "outputs": [
        {
          "output_type": "display_data",
          "data": {
            "text/plain": [
              "<Figure size 800x550 with 1 Axes>"
            ],
            "image/png": "[encoded data removed]"
          },
          "metadata": {}
        }
      ]
    },
    {
      "cell_type": "markdown",
      "source": [
        "## Extreme Gradient Boost"
      ],
      "metadata": {
        "id": "ZGFWHnqbg8dh"
      }
    },
    {
      "cell_type": "markdown",
      "source": [
        "### Librerías"
      ],
      "metadata": {
        "id": "YqcJKluYhJQS"
      }
    },
    {
      "cell_type": "code",
      "source": [
        "import pandas as pd\n",
        "import numpy as np\n",
        "import matplotlib.pyplot as plt\n",
        "from sklearn import metrics\n",
        "from numpy import loadtxt\n",
        "from xgboost import XGBClassifier\n",
        "from sklearn.model_selection import train_test_split\n",
        "from sklearn.metrics import accuracy_score"
      ],
      "metadata": {
        "id": "YPA_5bjUhCDb"
      },
      "execution_count": null,
      "outputs": []
    },
    {
      "cell_type": "markdown",
      "source": [
        "### Adaptación y evaluación"
      ],
      "metadata": {
        "id": "p0WTsF3ihhzT"
      }
    },
    {
      "cell_type": "code",
      "source": [
        "model = XGBClassifier()\n",
        "model.fit(x_train, y_train)"
      ],
      "metadata": {
        "colab": {
          "base_uri": "https://localhost:8080/",
          "height": 248
        },
        "id": "Q41oD7qKhPKZ",
        "outputId": "4e4a8653-5f50-4f8c-bf19-74f71804b4a0"
      },
      "execution_count": null,
      "outputs": [
        {
          "output_type": "execute_result",
          "data": {
            "text/plain": [
              "XGBClassifier(base_score=None, booster=None, callbacks=None,\n",
              "              colsample_bylevel=None, colsample_bynode=None,\n",
              "              colsample_bytree=None, early_stopping_rounds=None,\n",
              "              enable_categorical=False, eval_metric=None, feature_types=None,\n",
              "              gamma=None, gpu_id=None, grow_policy=None, importance_type=None,\n",
              "              interaction_constraints=None, learning_rate=None, max_bin=None,\n",
              "              max_cat_threshold=None, max_cat_to_onehot=None,\n",
              "              max_delta_step=None, max_depth=None, max_leaves=None,\n",
              "              min_child_weight=None, missing=nan, monotone_constraints=None,\n",
              "              n_estimators=100, n_jobs=None, num_parallel_tree=None,\n",
              "              objective='binary:logistic', predictor=None, ...)"
            ],
            "text/html": [
              "<style>#sk-container-id-5 {color: black;background-color: white;}#sk-container-id-5 pre{padding: 0;}#sk-container-id-5 div.sk-toggleable {background-color: white;}#sk-container-id-5 label.sk-toggleable__label {cursor: pointer;display: block;width: 100%;margin-bottom: 0;padding: 0.3em;box-sizing: border-box;text-align: center;}#sk-container-id-5 label.sk-toggleable__label-arrow:before {content: \"▸\";float: left;margin-right: 0.25em;color: #696969;}#sk-container-id-5 label.sk-toggleable__label-arrow:hover:before {color: black;}#sk-container-id-5 div.sk-estimator:hover label.sk-toggleable__label-arrow:before {color: black;}#sk-container-id-5 div.sk-toggleable__content {max-height: 0;max-width: 0;overflow: hidden;text-align: left;background-color: #f0f8ff;}#sk-container-id-5 div.sk-toggleable__content pre {margin: 0.2em;color: black;border-radius: 0.25em;background-color: #f0f8ff;}#sk-container-id-5 input.sk-toggleable__control:checked~div.sk-toggleable__content {max-height: 200px;max-width: 100%;overflow: auto;}#sk-container-id-5 input.sk-toggleable__control:checked~label.sk-toggleable__label-arrow:before {content: \"▾\";}#sk-container-id-5 div.sk-estimator input.sk-toggleable__control:checked~label.sk-toggleable__label {background-color: #d4ebff;}#sk-container-id-5 div.sk-label input.sk-toggleable__control:checked~label.sk-toggleable__label {background-color: #d4ebff;}#sk-container-id-5 input.sk-hidden--visually {border: 0;clip: rect(1px 1px 1px 1px);clip: rect(1px, 1px, 1px, 1px);height: 1px;margin: -1px;overflow: hidden;padding: 0;position: absolute;width: 1px;}#sk-container-id-5 div.sk-estimator {font-family: monospace;background-color: #f0f8ff;border: 1px dotted black;border-radius: 0.25em;box-sizing: border-box;margin-bottom: 0.5em;}#sk-container-id-5 div.sk-estimator:hover {background-color: #d4ebff;}#sk-container-id-5 div.sk-parallel-item::after {content: \"\";width: 100%;border-bottom: 1px solid gray;flex-grow: 1;}#sk-container-id-5 div.sk-label:hover label.sk-toggleable__label {background-color: #d4ebff;}#sk-container-id-5 div.sk-serial::before {content: \"\";position: absolute;border-left: 1px solid gray;box-sizing: border-box;top: 0;bottom: 0;left: 50%;z-index: 0;}#sk-container-id-5 div.sk-serial {display: flex;flex-direction: column;align-items: center;background-color: white;padding-right: 0.2em;padding-left: 0.2em;position: relative;}#sk-container-id-5 div.sk-item {position: relative;z-index: 1;}#sk-container-id-5 div.sk-parallel {display: flex;align-items: stretch;justify-content: center;background-color: white;position: relative;}#sk-container-id-5 div.sk-item::before, #sk-container-id-5 div.sk-parallel-item::before {content: \"\";position: absolute;border-left: 1px solid gray;box-sizing: border-box;top: 0;bottom: 0;left: 50%;z-index: -1;}#sk-container-id-5 div.sk-parallel-item {display: flex;flex-direction: column;z-index: 1;position: relative;background-color: white;}#sk-container-id-5 div.sk-parallel-item:first-child::after {align-self: flex-end;width: 50%;}#sk-container-id-5 div.sk-parallel-item:last-child::after {align-self: flex-start;width: 50%;}#sk-container-id-5 div.sk-parallel-item:only-child::after {width: 0;}#sk-container-id-5 div.sk-dashed-wrapped {border: 1px dashed gray;margin: 0 0.4em 0.5em 0.4em;box-sizing: border-box;padding-bottom: 0.4em;background-color: white;}#sk-container-id-5 div.sk-label label {font-family: monospace;font-weight: bold;display: inline-block;line-height: 1.2em;}#sk-container-id-5 div.sk-label-container {text-align: center;}#sk-container-id-5 div.sk-container {/* jupyter's `normalize.less` sets `[hidden] { display: none; }` but bootstrap.min.css set `[hidden] { display: none !important; }` so we also need the `!important` here to be able to override the default hidden behavior on the sphinx rendered scikit-learn.org. See: https://github.com/scikit-learn/scikit-learn/issues/21755 */display: inline-block !important;position: relative;}#sk-container-id-5 div.sk-text-repr-fallback {display: none;}</style><div id=\"sk-container-id-5\" class=\"sk-top-container\"><div class=\"sk-text-repr-fallback\"><pre>XGBClassifier(base_score=None, booster=None, callbacks=None,\n",
              "              colsample_bylevel=None, colsample_bynode=None,\n",
              "              colsample_bytree=None, early_stopping_rounds=None,\n",
              "              enable_categorical=False, eval_metric=None, feature_types=None,\n",
              "              gamma=None, gpu_id=None, grow_policy=None, importance_type=None,\n",
              "              interaction_constraints=None, learning_rate=None, max_bin=None,\n",
              "              max_cat_threshold=None, max_cat_to_onehot=None,\n",
              "              max_delta_step=None, max_depth=None, max_leaves=None,\n",
              "              min_child_weight=None, missing=nan, monotone_constraints=None,\n",
              "              n_estimators=100, n_jobs=None, num_parallel_tree=None,\n",
              "              objective=&#x27;binary:logistic&#x27;, predictor=None, ...)</pre><b>In a Jupyter environment, please rerun this cell to show the HTML representation or trust the notebook. <br />On GitHub, the HTML representation is unable to render, please try loading this page with nbviewer.org.</b></div><div class=\"sk-container\" hidden><div class=\"sk-item\"><div class=\"sk-estimator sk-toggleable\"><input class=\"sk-toggleable__control sk-hidden--visually\" id=\"sk-estimator-id-5\" type=\"checkbox\" checked><label for=\"sk-estimator-id-5\" class=\"sk-toggleable__label sk-toggleable__label-arrow\">XGBClassifier</label><div class=\"sk-toggleable__content\"><pre>XGBClassifier(base_score=None, booster=None, callbacks=None,\n",
              "              colsample_bylevel=None, colsample_bynode=None,\n",
              "              colsample_bytree=None, early_stopping_rounds=None,\n",
              "              enable_categorical=False, eval_metric=None, feature_types=None,\n",
              "              gamma=None, gpu_id=None, grow_policy=None, importance_type=None,\n",
              "              interaction_constraints=None, learning_rate=None, max_bin=None,\n",
              "              max_cat_threshold=None, max_cat_to_onehot=None,\n",
              "              max_delta_step=None, max_depth=None, max_leaves=None,\n",
              "              min_child_weight=None, missing=nan, monotone_constraints=None,\n",
              "              n_estimators=100, n_jobs=None, num_parallel_tree=None,\n",
              "              objective=&#x27;binary:logistic&#x27;, predictor=None, ...)</pre></div></div></div></div></div>"
            ]
          },
          "metadata": {},
          "execution_count": 51
        }
      ]
    },
    {
      "cell_type": "code",
      "source": [
        "y_pred = model.predict(test)\n",
        "predictions = [round(value) for value in y_pred]"
      ],
      "metadata": {
        "id": "5V2b1byrhxDE"
      },
      "execution_count": null,
      "outputs": []
    },
    {
      "cell_type": "code",
      "source": [
        "accuracy = accuracy_score(y_test, y_pred)\n",
        "precision = precision_score(y_test, y_pred)\n",
        "recall = recall_score(y_test, y_pred)\n",
        "f1 = f1_score(y_test, y_pred)\n",
        "\n",
        "print(\"Accuracy:\", accuracy)\n",
        "print(\"Precision:\", precision)\n",
        "print(\"Recall:\", recall)\n",
        "print (\"F1: \" , f1)"
      ],
      "metadata": {
        "id": "mUclHCxPiBsI",
        "colab": {
          "base_uri": "https://localhost:8080/"
        },
        "outputId": "6ca6d68a-4ce8-4065-aae5-5b22e9e4ceb9"
      },
      "execution_count": null,
      "outputs": [
        {
          "output_type": "stream",
          "name": "stdout",
          "text": [
            "Accuracy: 0.7146282973621103\n",
            "Precision: 0.6258064516129033\n",
            "Recall: 0.6139240506329114\n",
            "F1:  0.6198083067092652\n"
          ]
        }
      ]
    },
    {
      "cell_type": "markdown",
      "source": [
        "#### Matriz de Confusión"
      ],
      "metadata": {
        "id": "PUpfH6bciNRM"
      }
    },
    {
      "cell_type": "code",
      "source": [
        "cm = confusion_matrix(y_test, y_pred)\n",
        "\n",
        "ConfusionMatrixDisplay(confusion_matrix=cm).plot();"
      ],
      "metadata": {
        "colab": {
          "base_uri": "https://localhost:8080/",
          "height": 506
        },
        "id": "V993UY8WiQme",
        "outputId": "8221f42d-6527-44f4-b034-e6147e7e95c3"
      },
      "execution_count": null,
      "outputs": [
        {
          "output_type": "display_data",
          "data": {
            "text/plain": [
              "<Figure size 800x550 with 2 Axes>"
            ],
            "image/png": "[encoded data removed]"
          },
          "metadata": {}
        }
      ]
    },
    {
      "cell_type": "markdown",
      "source": [
        "# Selección de modelo\n",
        "\n",
        "Después de experimentar y analizar los 4 mejores modelos de clasificación presentados por Pycaret, se  realizó la siguiente tabla de métricas de aprendizaje. Como se puede observar, el modelo de Gradient Boosting, tiene el mejor accuracy; no obstante, su Recall y F1-Score disminuyen notablemente, por lo que no se seleccionará como el mejor modelo. Por otra parte, el Light Gradient Boosting cuenta con un mejor Recall y F1-Score, y la disminución del Accuracy con respecto al otro modelo, no es significativa. Por lo mismo, se selecciona este último algoritmo para cumplir el objetivo de este proyecto."
      ],
      "metadata": {
        "id": "xIsoujUiabJv"
      }
    },
    {
      "cell_type": "code",
      "source": [
        "metricas = pd.DataFrame({\"Accuracy\": [78.89, 79.61, 77.93, 71.46 ],\"Precission\": [73.02, 79.67, 70.62, 62.25],\n",
        "                         \"Recall\": [70.25,62.02 , 71.51,61.39 ], \"F1-Score\": [71.61, 69.75, 71.06,61.98]},\n",
        "                         index = [\"Light Gradient Boosting\", \"Gradient Boosting Machine\", \"Random Forest\", \"Extreme Gradient Machine\"] )\n",
        "metricas"
      ],
      "metadata": {
        "colab": {
          "base_uri": "https://localhost:8080/",
          "height": 175
        },
        "id": "XfNNmjHXbl84",
        "outputId": "0a8d37b8-3743-4810-92e4-c83fee8d830b"
      },
      "execution_count": null,
      "outputs": [
        {
          "output_type": "execute_result",
          "data": {
            "text/plain": [
              "                           Accuracy  Precission  Recall  F1-Score\n",
              "Light Gradient Boosting       78.89       73.02   70.25     71.61\n",
              "Gradient Boosting Machine     79.61       79.67   62.02     69.75\n",
              "Random Forest                 77.93       70.62   71.51     71.06\n",
              "Extreme Gradient Machine      71.46       62.25   61.39     61.98"
            ],
            "text/html": [
              "\n",
              "  <div id=\"df-d139c227-7dfe-464b-a253-0ba38277b14d\" class=\"colab-df-container\">\n",
              "    <div>\n",
              "<style scoped>\n",
              "    .dataframe tbody tr th:only-of-type {\n",
              "        vertical-align: middle;\n",
              "    }\n",
              "\n",
              "    .dataframe tbody tr th {\n",
              "        vertical-align: top;\n",
              "    }\n",
              "\n",
              "    .dataframe thead th {\n",
              "        text-align: right;\n",
              "    }\n",
              "</style>\n",
              "<table border=\"1\" class=\"dataframe\">\n",
              "  <thead>\n",
              "    <tr style=\"text-align: right;\">\n",
              "      <th></th>\n",
              "      <th>Accuracy</th>\n",
              "      <th>Precission</th>\n",
              "      <th>Recall</th>\n",
              "      <th>F1-Score</th>\n",
              "    </tr>\n",
              "  </thead>\n",
              "  <tbody>\n",
              "    <tr>\n",
              "      <th>Light Gradient Boosting</th>\n",
              "      <td>78.89</td>\n",
              "      <td>73.02</td>\n",
              "      <td>70.25</td>\n",
              "      <td>71.61</td>\n",
              "    </tr>\n",
              "    <tr>\n",
              "      <th>Gradient Boosting Machine</th>\n",
              "      <td>79.61</td>\n",
              "      <td>79.67</td>\n",
              "      <td>62.02</td>\n",
              "      <td>69.75</td>\n",
              "    </tr>\n",
              "    <tr>\n",
              "      <th>Random Forest</th>\n",
              "      <td>77.93</td>\n",
              "      <td>70.62</td>\n",
              "      <td>71.51</td>\n",
              "      <td>71.06</td>\n",
              "    </tr>\n",
              "    <tr>\n",
              "      <th>Extreme Gradient Machine</th>\n",
              "      <td>71.46</td>\n",
              "      <td>62.25</td>\n",
              "      <td>61.39</td>\n",
              "      <td>61.98</td>\n",
              "    </tr>\n",
              "  </tbody>\n",
              "</table>\n",
              "</div>\n",
              "    <div class=\"colab-df-buttons\">\n",
              "\n",
              "  <div class=\"colab-df-container\">\n",
              "    <button class=\"colab-df-convert\" onclick=\"convertToInteractive('df-d139c227-7dfe-464b-a253-0ba38277b14d')\"\n",
              "            title=\"Convert this dataframe to an interactive table.\"\n",
              "            style=\"display:none;\">\n",
              "\n",
              "  <svg xmlns=\"http://www.w3.org/2000/svg\" height=\"24px\" viewBox=\"0 -960 960 960\">\n",
              "    <path d=\"M120-120v-720h720v720H120Zm60-500h600v-160H180v160Zm220 220h160v-160H400v160Zm0 220h160v-160H400v160ZM180-400h160v-160H180v160Zm440 0h160v-160H620v160ZM180-180h160v-160H180v160Zm440 0h160v-160H620v160Z\"/>\n",
              "  </svg>\n",
              "    </button>\n",
              "\n",
              "  <style>\n",
              "    .colab-df-container {\n",
              "      display:flex;\n",
              "      gap: 12px;\n",
              "    }\n",
              "\n",
              "    .colab-df-convert {\n",
              "      background-color: #E8F0FE;\n",
              "      border: none;\n",
              "      border-radius: 50%;\n",
              "      cursor: pointer;\n",
              "      display: none;\n",
              "      fill: #1967D2;\n",
              "      height: 32px;\n",
              "      padding: 0 0 0 0;\n",
              "      width: 32px;\n",
              "    }\n",
              "\n",
              "    .colab-df-convert:hover {\n",
              "      background-color: #E2EBFA;\n",
              "      box-shadow: 0px 1px 2px rgba(60, 64, 67, 0.3), 0px 1px 3px 1px rgba(60, 64, 67, 0.15);\n",
              "      fill: #174EA6;\n",
              "    }\n",
              "\n",
              "    .colab-df-buttons div {\n",
              "      margin-bottom: 4px;\n",
              "    }\n",
              "\n",
              "    [theme=dark] .colab-df-convert {\n",
              "      background-color: #3B4455;\n",
              "      fill: #D2E3FC;\n",
              "    }\n",
              "\n",
              "    [theme=dark] .colab-df-convert:hover {\n",
              "      background-color: #434B5C;\n",
              "      box-shadow: 0px 1px 3px 1px rgba(0, 0, 0, 0.15);\n",
              "      filter: drop-shadow(0px 1px 2px rgba(0, 0, 0, 0.3));\n",
              "      fill: #FFFFFF;\n",
              "    }\n",
              "  </style>\n",
              "\n",
              "    <script>\n",
              "      const buttonEl =\n",
              "        document.querySelector('#df-d139c227-7dfe-464b-a253-0ba38277b14d button.colab-df-convert');\n",
              "      buttonEl.style.display =\n",
              "        google.colab.kernel.accessAllowed ? 'block' : 'none';\n",
              "\n",
              "      async function convertToInteractive(key) {\n",
              "        const element = document.querySelector('#df-d139c227-7dfe-464b-a253-0ba38277b14d');\n",
              "        const dataTable =\n",
              "          await google.colab.kernel.invokeFunction('convertToInteractive',\n",
              "                                                    [key], {});\n",
              "        if (!dataTable) return;\n",
              "\n",
              "        const docLinkHtml = 'Like what you see? Visit the ' +\n",
              "          '<a target=\"_blank\" href=https://colab.research.google.com/notebooks/data_table.ipynb>data table notebook</a>'\n",
              "          + ' to learn more about interactive tables.';\n",
              "        element.innerHTML = '';\n",
              "        dataTable['output_type'] = 'display_data';\n",
              "        await google.colab.output.renderOutput(dataTable, element);\n",
              "        const docLink = document.createElement('div');\n",
              "        docLink.innerHTML = docLinkHtml;\n",
              "        element.appendChild(docLink);\n",
              "      }\n",
              "    </script>\n",
              "  </div>\n",
              "\n",
              "    </div>\n",
              "  </div>\n"
            ]
          },
          "metadata": {},
          "execution_count": 60
        }
      ]
    }
  ]
}